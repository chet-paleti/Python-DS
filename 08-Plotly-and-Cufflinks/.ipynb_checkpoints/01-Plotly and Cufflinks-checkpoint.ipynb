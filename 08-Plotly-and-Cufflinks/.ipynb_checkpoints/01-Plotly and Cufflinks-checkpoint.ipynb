{
 "cells": [
  {
   "cell_type": "markdown",
   "metadata": {},
   "source": [
    "___\n",
    "\n",
    "<a href='http://www.pieriandata.com'> <img src='../Pierian_Data_Logo.png' /></a>\n",
    "___\n",
    "# Plotly and Cufflinks"
   ]
  },
  {
   "cell_type": "markdown",
   "metadata": {},
   "source": [
    "Plotly is a library that allows you to create interactive plots that you can use in dashboards or websites (you can save them as html files or static images).\n",
    "\n",
    "## Installation\n",
    "\n",
    "In order for this all to work, you'll need to install plotly and cufflinks to call plots directly off of a pandas dataframe. These libraries are not currently available through **conda** but are available through **pip**. Install the libraries at your command line/terminal using:\n",
    "\n",
    "    pip install plotly\n",
    "    pip install cufflinks\n",
    "\n",
    "** NOTE: Make sure you only have one installation of Python on your computer when you do this, otherwise the installation may not work. **\n",
    "\n",
    "## Imports and Set-up"
   ]
  },
  {
   "cell_type": "code",
   "execution_count": 1,
   "metadata": {},
   "outputs": [],
   "source": [
    "import pandas as pd\n",
    "import numpy as np\n",
    "%matplotlib inline"
   ]
  },
  {
   "cell_type": "code",
   "execution_count": 2,
   "metadata": {},
   "outputs": [
    {
     "name": "stdout",
     "output_type": "stream",
     "text": [
      "4.8.1\n"
     ]
    }
   ],
   "source": [
    "from plotly import __version__\n",
    "from plotly.offline import download_plotlyjs, init_notebook_mode, plot, iplot\n",
    "\n",
    "print(__version__) # requires version >= 1.9.0"
   ]
  },
  {
   "cell_type": "code",
   "execution_count": 3,
   "metadata": {},
   "outputs": [],
   "source": [
    "import cufflinks as cf"
   ]
  },
  {
   "cell_type": "code",
   "execution_count": 4,
   "metadata": {},
   "outputs": [
    {
     "data": {
      "text/html": [
       "        <script type=\"text/javascript\">\n",
       "        window.PlotlyConfig = {MathJaxConfig: 'local'};\n",
       "        if (window.MathJax) {MathJax.Hub.Config({SVG: {font: \"STIX-Web\"}});}\n",
       "        if (typeof require !== 'undefined') {\n",
       "        require.undef(\"plotly\");\n",
       "        requirejs.config({\n",
       "            paths: {\n",
       "                'plotly': ['https://cdn.plot.ly/plotly-latest.min']\n",
       "            }\n",
       "        });\n",
       "        require(['plotly'], function(Plotly) {\n",
       "            window._Plotly = Plotly;\n",
       "        });\n",
       "        }\n",
       "        </script>\n",
       "        "
      ]
     },
     "metadata": {},
     "output_type": "display_data"
    }
   ],
   "source": [
    "# For Notebooks\n",
    "init_notebook_mode(connected=True)"
   ]
  },
  {
   "cell_type": "code",
   "execution_count": 5,
   "metadata": {},
   "outputs": [
    {
     "data": {
      "text/html": [
       "        <script type=\"text/javascript\">\n",
       "        window.PlotlyConfig = {MathJaxConfig: 'local'};\n",
       "        if (window.MathJax) {MathJax.Hub.Config({SVG: {font: \"STIX-Web\"}});}\n",
       "        if (typeof require !== 'undefined') {\n",
       "        require.undef(\"plotly\");\n",
       "        requirejs.config({\n",
       "            paths: {\n",
       "                'plotly': ['https://cdn.plot.ly/plotly-latest.min']\n",
       "            }\n",
       "        });\n",
       "        require(['plotly'], function(Plotly) {\n",
       "            window._Plotly = Plotly;\n",
       "        });\n",
       "        }\n",
       "        </script>\n",
       "        "
      ]
     },
     "metadata": {},
     "output_type": "display_data"
    }
   ],
   "source": [
    "# For offline use\n",
    "cf.go_offline()"
   ]
  },
  {
   "cell_type": "markdown",
   "metadata": {},
   "source": [
    "### Fake Data"
   ]
  },
  {
   "cell_type": "code",
   "execution_count": 6,
   "metadata": {},
   "outputs": [],
   "source": [
    "df = pd.DataFrame(np.random.randn(100,4),columns='A B C D'.split())"
   ]
  },
  {
   "cell_type": "code",
   "execution_count": 7,
   "metadata": {},
   "outputs": [
    {
     "data": {
      "text/html": [
       "<div>\n",
       "<style scoped>\n",
       "    .dataframe tbody tr th:only-of-type {\n",
       "        vertical-align: middle;\n",
       "    }\n",
       "\n",
       "    .dataframe tbody tr th {\n",
       "        vertical-align: top;\n",
       "    }\n",
       "\n",
       "    .dataframe thead th {\n",
       "        text-align: right;\n",
       "    }\n",
       "</style>\n",
       "<table border=\"1\" class=\"dataframe\">\n",
       "  <thead>\n",
       "    <tr style=\"text-align: right;\">\n",
       "      <th></th>\n",
       "      <th>A</th>\n",
       "      <th>B</th>\n",
       "      <th>C</th>\n",
       "      <th>D</th>\n",
       "    </tr>\n",
       "  </thead>\n",
       "  <tbody>\n",
       "    <tr>\n",
       "      <th>0</th>\n",
       "      <td>0.986393</td>\n",
       "      <td>-1.491963</td>\n",
       "      <td>0.165864</td>\n",
       "      <td>-0.354362</td>\n",
       "    </tr>\n",
       "    <tr>\n",
       "      <th>1</th>\n",
       "      <td>-0.551508</td>\n",
       "      <td>-0.986398</td>\n",
       "      <td>-1.479675</td>\n",
       "      <td>-1.013503</td>\n",
       "    </tr>\n",
       "    <tr>\n",
       "      <th>2</th>\n",
       "      <td>1.210491</td>\n",
       "      <td>-1.370650</td>\n",
       "      <td>1.353883</td>\n",
       "      <td>-0.729233</td>\n",
       "    </tr>\n",
       "    <tr>\n",
       "      <th>3</th>\n",
       "      <td>-0.363060</td>\n",
       "      <td>-0.728364</td>\n",
       "      <td>0.669040</td>\n",
       "      <td>-0.093093</td>\n",
       "    </tr>\n",
       "    <tr>\n",
       "      <th>4</th>\n",
       "      <td>0.468738</td>\n",
       "      <td>-0.955643</td>\n",
       "      <td>-0.673145</td>\n",
       "      <td>-0.411106</td>\n",
       "    </tr>\n",
       "  </tbody>\n",
       "</table>\n",
       "</div>"
      ],
      "text/plain": [
       "          A         B         C         D\n",
       "0  0.986393 -1.491963  0.165864 -0.354362\n",
       "1 -0.551508 -0.986398 -1.479675 -1.013503\n",
       "2  1.210491 -1.370650  1.353883 -0.729233\n",
       "3 -0.363060 -0.728364  0.669040 -0.093093\n",
       "4  0.468738 -0.955643 -0.673145 -0.411106"
      ]
     },
     "execution_count": 7,
     "metadata": {},
     "output_type": "execute_result"
    }
   ],
   "source": [
    "df.head()"
   ]
  },
  {
   "cell_type": "code",
   "execution_count": 8,
   "metadata": {},
   "outputs": [],
   "source": [
    "df2 = pd.DataFrame({'Category':['A','B','C'],'Values':[32,43,50]})"
   ]
  },
  {
   "cell_type": "code",
   "execution_count": 9,
   "metadata": {},
   "outputs": [
    {
     "data": {
      "text/html": [
       "<div>\n",
       "<style scoped>\n",
       "    .dataframe tbody tr th:only-of-type {\n",
       "        vertical-align: middle;\n",
       "    }\n",
       "\n",
       "    .dataframe tbody tr th {\n",
       "        vertical-align: top;\n",
       "    }\n",
       "\n",
       "    .dataframe thead th {\n",
       "        text-align: right;\n",
       "    }\n",
       "</style>\n",
       "<table border=\"1\" class=\"dataframe\">\n",
       "  <thead>\n",
       "    <tr style=\"text-align: right;\">\n",
       "      <th></th>\n",
       "      <th>Category</th>\n",
       "      <th>Values</th>\n",
       "    </tr>\n",
       "  </thead>\n",
       "  <tbody>\n",
       "    <tr>\n",
       "      <th>0</th>\n",
       "      <td>A</td>\n",
       "      <td>32</td>\n",
       "    </tr>\n",
       "    <tr>\n",
       "      <th>1</th>\n",
       "      <td>B</td>\n",
       "      <td>43</td>\n",
       "    </tr>\n",
       "    <tr>\n",
       "      <th>2</th>\n",
       "      <td>C</td>\n",
       "      <td>50</td>\n",
       "    </tr>\n",
       "  </tbody>\n",
       "</table>\n",
       "</div>"
      ],
      "text/plain": [
       "  Category  Values\n",
       "0        A      32\n",
       "1        B      43\n",
       "2        C      50"
      ]
     },
     "execution_count": 9,
     "metadata": {},
     "output_type": "execute_result"
    }
   ],
   "source": [
    "df2.head()"
   ]
  },
  {
   "cell_type": "markdown",
   "metadata": {},
   "source": [
    "## Using Cufflinks and iplot()\n",
    "\n",
    "* scatter\n",
    "* bar\n",
    "* box\n",
    "* spread\n",
    "* ratio\n",
    "* heatmap\n",
    "* surface\n",
    "* histogram\n",
    "* bubble"
   ]
  },
  {
   "cell_type": "markdown",
   "metadata": {},
   "source": [
    "## Scatter"
   ]
  },
  {
   "cell_type": "code",
   "execution_count": 11,
   "metadata": {},
   "outputs": [
    {
     "data": {
      "application/vnd.plotly.v1+json": {
       "config": {
        "linkText": "Export to plot.ly",
        "plotlyServerURL": "https://plot.ly",
        "showLink": true
       },
       "data": [
        {
         "line": {
          "color": "rgba(255, 153, 51, 1.0)",
          "dash": "solid",
          "shape": "linear",
          "width": 1.3
         },
         "marker": {
          "size": 10,
          "symbol": "circle"
         },
         "mode": "markers",
         "name": "B",
         "text": "",
         "type": "scatter",
         "x": [
          0.9863925971035367,
          -0.551507821584642,
          1.2104910088148675,
          -0.3630595285051773,
          0.46873763546514047,
          0.26593957464707885,
          -0.5937216939189025,
          -1.364244266971046,
          -0.2540693709928275,
          -1.2830587933734412,
          1.281390741792193,
          -0.3343680481188946,
          -0.3825594509405097,
          0.021087443582469643,
          0.6471309447546121,
          -1.4147694856733755,
          1.339202836038361,
          0.3390041601557001,
          0.10485762693215445,
          0.5152538280419234,
          -0.9369459989184609,
          -2.175788440576683,
          -1.1362774454491336,
          1.3527148275259664,
          1.4702499643356384,
          1.4124870558300326,
          -0.9878582741905485,
          0.1127751813840683,
          -0.5126472661761328,
          0.4067609905375987,
          0.6071808563561845,
          -0.37915216043306865,
          -2.876721926137452,
          -0.33918228700985903,
          0.10504300019166042,
          -0.5774186612820098,
          -0.4388265947198578,
          -0.055176976254413895,
          -0.36616500182468037,
          -0.2929114866068684,
          0.7014228110844198,
          0.1306964615045626,
          0.6596028015175316,
          -1.1429942684320047,
          0.47568171728166164,
          1.2962465194153023,
          0.8460892263421502,
          0.42102746077643927,
          0.866184163058826,
          -0.08087723804487756,
          0.06907309802472945,
          -0.3200834042314787,
          0.7939731228226196,
          -0.26558550941047,
          -0.29524694386838995,
          0.27060817727113556,
          0.36561627515557454,
          -0.5599247565685864,
          0.7441531233347232,
          -0.6814710370963094,
          1.8221454972624809,
          0.4019139577863046,
          0.25839538612264057,
          -1.1980916669750947,
          0.34449618768897405,
          -1.021139797801242,
          0.6537320811984445,
          -0.7314199792059191,
          2.1826040042648733,
          -0.9563736641559415,
          -0.6783338604068041,
          -0.6702093617726054,
          0.33912561228172344,
          0.13988069172984913,
          1.1750087445530144,
          0.23062024779877058,
          0.019329480186717436,
          -0.6342151389972552,
          -0.714518709757769,
          -1.3770377775555394,
          0.7226762173743683,
          0.5347943858978389,
          -1.625074933335793,
          -1.103365996026399,
          -1.8484187247942057,
          -0.2933657169598747,
          -1.0379228872326074,
          -1.687486818385531,
          0.15763302190875925,
          -0.9917526514489864,
          -1.401998191292997,
          1.1685273716607132,
          -1.0924765499868767,
          1.1004984383673553,
          0.3024430062455109,
          -0.6451062450746639,
          0.4270100442054658,
          1.2814804808958185,
          0.4071866322407583,
          1.3737594623042046
         ],
         "y": [
          -1.491962523268668,
          -0.9863979319163781,
          -1.3706498912781242,
          -0.7283635054127434,
          -0.9556433947549499,
          -1.3776178280637075,
          -1.3282354767457958,
          0.4160855389008612,
          0.8245390833958657,
          -0.9386012985882881,
          -1.417146166990188,
          -0.2364962639674241,
          0.9555674388527511,
          0.32733012189391536,
          -0.844901615660728,
          0.5292929788219688,
          0.3696349580137423,
          -2.1581092479697417,
          1.1308247542325691,
          0.27079868876702035,
          -1.3700993932378516,
          1.822386519008439,
          1.2739493109373479,
          1.6860005870956005,
          1.0437955602263596,
          0.052187775820577716,
          -0.5129959686672352,
          -0.23642446542680795,
          2.0259746549928086,
          -0.6274963571844351,
          -0.20405423953078541,
          -1.4551299158129842,
          3.0083803245440226,
          -0.18200247569988784,
          -0.09655369744753517,
          0.5396269998034693,
          1.3526844847337924,
          0.5479447363690005,
          0.5003806017756498,
          0.38092478986333167,
          -0.6987050732978389,
          0.728950705242152,
          -0.07099017268241205,
          -0.17718643626418312,
          -1.2329612788960118,
          1.098371360403441,
          0.9228538361483437,
          -0.08551957529581292,
          -0.4380008002662748,
          0.19342006507323398,
          0.032302851769381594,
          1.0745637263936598,
          -0.34905775053086974,
          -0.38387650619720814,
          1.008613308424497,
          -1.1197072632192004,
          1.682262651833673,
          -0.6460412773663219,
          0.9117982447939869,
          0.06286202422433096,
          -0.6160075662848656,
          0.26695888931062,
          -0.15823583458025905,
          0.6707760460041554,
          1.782480813946048,
          -0.41806235648299156,
          0.9920882878881456,
          0.35393270682555716,
          -0.2821919585487452,
          -0.14034262729735977,
          -0.12211237075763812,
          -0.5409052719458001,
          -1.3106360584065184,
          -2.38683273001778,
          0.8329521217275093,
          0.1894540858494092,
          -0.5828241905753845,
          -1.4000380259065652,
          -1.5524571025879703,
          0.4128822340825146,
          -0.011762531518228102,
          -1.2652525410519582,
          1.455953610317138,
          0.9623467225545896,
          1.0607117432751054,
          -1.9516748560022805,
          -2.7387496811679237,
          0.028105306029023693,
          -0.6562471399526576,
          -0.236204261305822,
          1.1557779022072985,
          -0.727744455299941,
          0.4782040528002768,
          -0.6197213069086959,
          1.775528183886076,
          -1.4722901211034423,
          0.5089895879395171,
          1.1362057227381976,
          0.2163217689984764,
          1.0544547503433614
         ]
        }
       ],
       "layout": {
        "legend": {
         "bgcolor": "#F5F6F9",
         "font": {
          "color": "#4D5663"
         }
        },
        "paper_bgcolor": "#F5F6F9",
        "plot_bgcolor": "#F5F6F9",
        "template": {
         "data": {
          "bar": [
           {
            "error_x": {
             "color": "#2a3f5f"
            },
            "error_y": {
             "color": "#2a3f5f"
            },
            "marker": {
             "line": {
              "color": "#E5ECF6",
              "width": 0.5
             }
            },
            "type": "bar"
           }
          ],
          "barpolar": [
           {
            "marker": {
             "line": {
              "color": "#E5ECF6",
              "width": 0.5
             }
            },
            "type": "barpolar"
           }
          ],
          "carpet": [
           {
            "aaxis": {
             "endlinecolor": "#2a3f5f",
             "gridcolor": "white",
             "linecolor": "white",
             "minorgridcolor": "white",
             "startlinecolor": "#2a3f5f"
            },
            "baxis": {
             "endlinecolor": "#2a3f5f",
             "gridcolor": "white",
             "linecolor": "white",
             "minorgridcolor": "white",
             "startlinecolor": "#2a3f5f"
            },
            "type": "carpet"
           }
          ],
          "choropleth": [
           {
            "colorbar": {
             "outlinewidth": 0,
             "ticks": ""
            },
            "type": "choropleth"
           }
          ],
          "contour": [
           {
            "colorbar": {
             "outlinewidth": 0,
             "ticks": ""
            },
            "colorscale": [
             [
              0,
              "#0d0887"
             ],
             [
              0.1111111111111111,
              "#46039f"
             ],
             [
              0.2222222222222222,
              "#7201a8"
             ],
             [
              0.3333333333333333,
              "#9c179e"
             ],
             [
              0.4444444444444444,
              "#bd3786"
             ],
             [
              0.5555555555555556,
              "#d8576b"
             ],
             [
              0.6666666666666666,
              "#ed7953"
             ],
             [
              0.7777777777777778,
              "#fb9f3a"
             ],
             [
              0.8888888888888888,
              "#fdca26"
             ],
             [
              1,
              "#f0f921"
             ]
            ],
            "type": "contour"
           }
          ],
          "contourcarpet": [
           {
            "colorbar": {
             "outlinewidth": 0,
             "ticks": ""
            },
            "type": "contourcarpet"
           }
          ],
          "heatmap": [
           {
            "colorbar": {
             "outlinewidth": 0,
             "ticks": ""
            },
            "colorscale": [
             [
              0,
              "#0d0887"
             ],
             [
              0.1111111111111111,
              "#46039f"
             ],
             [
              0.2222222222222222,
              "#7201a8"
             ],
             [
              0.3333333333333333,
              "#9c179e"
             ],
             [
              0.4444444444444444,
              "#bd3786"
             ],
             [
              0.5555555555555556,
              "#d8576b"
             ],
             [
              0.6666666666666666,
              "#ed7953"
             ],
             [
              0.7777777777777778,
              "#fb9f3a"
             ],
             [
              0.8888888888888888,
              "#fdca26"
             ],
             [
              1,
              "#f0f921"
             ]
            ],
            "type": "heatmap"
           }
          ],
          "heatmapgl": [
           {
            "colorbar": {
             "outlinewidth": 0,
             "ticks": ""
            },
            "colorscale": [
             [
              0,
              "#0d0887"
             ],
             [
              0.1111111111111111,
              "#46039f"
             ],
             [
              0.2222222222222222,
              "#7201a8"
             ],
             [
              0.3333333333333333,
              "#9c179e"
             ],
             [
              0.4444444444444444,
              "#bd3786"
             ],
             [
              0.5555555555555556,
              "#d8576b"
             ],
             [
              0.6666666666666666,
              "#ed7953"
             ],
             [
              0.7777777777777778,
              "#fb9f3a"
             ],
             [
              0.8888888888888888,
              "#fdca26"
             ],
             [
              1,
              "#f0f921"
             ]
            ],
            "type": "heatmapgl"
           }
          ],
          "histogram": [
           {
            "marker": {
             "colorbar": {
              "outlinewidth": 0,
              "ticks": ""
             }
            },
            "type": "histogram"
           }
          ],
          "histogram2d": [
           {
            "colorbar": {
             "outlinewidth": 0,
             "ticks": ""
            },
            "colorscale": [
             [
              0,
              "#0d0887"
             ],
             [
              0.1111111111111111,
              "#46039f"
             ],
             [
              0.2222222222222222,
              "#7201a8"
             ],
             [
              0.3333333333333333,
              "#9c179e"
             ],
             [
              0.4444444444444444,
              "#bd3786"
             ],
             [
              0.5555555555555556,
              "#d8576b"
             ],
             [
              0.6666666666666666,
              "#ed7953"
             ],
             [
              0.7777777777777778,
              "#fb9f3a"
             ],
             [
              0.8888888888888888,
              "#fdca26"
             ],
             [
              1,
              "#f0f921"
             ]
            ],
            "type": "histogram2d"
           }
          ],
          "histogram2dcontour": [
           {
            "colorbar": {
             "outlinewidth": 0,
             "ticks": ""
            },
            "colorscale": [
             [
              0,
              "#0d0887"
             ],
             [
              0.1111111111111111,
              "#46039f"
             ],
             [
              0.2222222222222222,
              "#7201a8"
             ],
             [
              0.3333333333333333,
              "#9c179e"
             ],
             [
              0.4444444444444444,
              "#bd3786"
             ],
             [
              0.5555555555555556,
              "#d8576b"
             ],
             [
              0.6666666666666666,
              "#ed7953"
             ],
             [
              0.7777777777777778,
              "#fb9f3a"
             ],
             [
              0.8888888888888888,
              "#fdca26"
             ],
             [
              1,
              "#f0f921"
             ]
            ],
            "type": "histogram2dcontour"
           }
          ],
          "mesh3d": [
           {
            "colorbar": {
             "outlinewidth": 0,
             "ticks": ""
            },
            "type": "mesh3d"
           }
          ],
          "parcoords": [
           {
            "line": {
             "colorbar": {
              "outlinewidth": 0,
              "ticks": ""
             }
            },
            "type": "parcoords"
           }
          ],
          "pie": [
           {
            "automargin": true,
            "type": "pie"
           }
          ],
          "scatter": [
           {
            "marker": {
             "colorbar": {
              "outlinewidth": 0,
              "ticks": ""
             }
            },
            "type": "scatter"
           }
          ],
          "scatter3d": [
           {
            "line": {
             "colorbar": {
              "outlinewidth": 0,
              "ticks": ""
             }
            },
            "marker": {
             "colorbar": {
              "outlinewidth": 0,
              "ticks": ""
             }
            },
            "type": "scatter3d"
           }
          ],
          "scattercarpet": [
           {
            "marker": {
             "colorbar": {
              "outlinewidth": 0,
              "ticks": ""
             }
            },
            "type": "scattercarpet"
           }
          ],
          "scattergeo": [
           {
            "marker": {
             "colorbar": {
              "outlinewidth": 0,
              "ticks": ""
             }
            },
            "type": "scattergeo"
           }
          ],
          "scattergl": [
           {
            "marker": {
             "colorbar": {
              "outlinewidth": 0,
              "ticks": ""
             }
            },
            "type": "scattergl"
           }
          ],
          "scattermapbox": [
           {
            "marker": {
             "colorbar": {
              "outlinewidth": 0,
              "ticks": ""
             }
            },
            "type": "scattermapbox"
           }
          ],
          "scatterpolar": [
           {
            "marker": {
             "colorbar": {
              "outlinewidth": 0,
              "ticks": ""
             }
            },
            "type": "scatterpolar"
           }
          ],
          "scatterpolargl": [
           {
            "marker": {
             "colorbar": {
              "outlinewidth": 0,
              "ticks": ""
             }
            },
            "type": "scatterpolargl"
           }
          ],
          "scatterternary": [
           {
            "marker": {
             "colorbar": {
              "outlinewidth": 0,
              "ticks": ""
             }
            },
            "type": "scatterternary"
           }
          ],
          "surface": [
           {
            "colorbar": {
             "outlinewidth": 0,
             "ticks": ""
            },
            "colorscale": [
             [
              0,
              "#0d0887"
             ],
             [
              0.1111111111111111,
              "#46039f"
             ],
             [
              0.2222222222222222,
              "#7201a8"
             ],
             [
              0.3333333333333333,
              "#9c179e"
             ],
             [
              0.4444444444444444,
              "#bd3786"
             ],
             [
              0.5555555555555556,
              "#d8576b"
             ],
             [
              0.6666666666666666,
              "#ed7953"
             ],
             [
              0.7777777777777778,
              "#fb9f3a"
             ],
             [
              0.8888888888888888,
              "#fdca26"
             ],
             [
              1,
              "#f0f921"
             ]
            ],
            "type": "surface"
           }
          ],
          "table": [
           {
            "cells": {
             "fill": {
              "color": "#EBF0F8"
             },
             "line": {
              "color": "white"
             }
            },
            "header": {
             "fill": {
              "color": "#C8D4E3"
             },
             "line": {
              "color": "white"
             }
            },
            "type": "table"
           }
          ]
         },
         "layout": {
          "annotationdefaults": {
           "arrowcolor": "#2a3f5f",
           "arrowhead": 0,
           "arrowwidth": 1
          },
          "coloraxis": {
           "colorbar": {
            "outlinewidth": 0,
            "ticks": ""
           }
          },
          "colorscale": {
           "diverging": [
            [
             0,
             "#8e0152"
            ],
            [
             0.1,
             "#c51b7d"
            ],
            [
             0.2,
             "#de77ae"
            ],
            [
             0.3,
             "#f1b6da"
            ],
            [
             0.4,
             "#fde0ef"
            ],
            [
             0.5,
             "#f7f7f7"
            ],
            [
             0.6,
             "#e6f5d0"
            ],
            [
             0.7,
             "#b8e186"
            ],
            [
             0.8,
             "#7fbc41"
            ],
            [
             0.9,
             "#4d9221"
            ],
            [
             1,
             "#276419"
            ]
           ],
           "sequential": [
            [
             0,
             "#0d0887"
            ],
            [
             0.1111111111111111,
             "#46039f"
            ],
            [
             0.2222222222222222,
             "#7201a8"
            ],
            [
             0.3333333333333333,
             "#9c179e"
            ],
            [
             0.4444444444444444,
             "#bd3786"
            ],
            [
             0.5555555555555556,
             "#d8576b"
            ],
            [
             0.6666666666666666,
             "#ed7953"
            ],
            [
             0.7777777777777778,
             "#fb9f3a"
            ],
            [
             0.8888888888888888,
             "#fdca26"
            ],
            [
             1,
             "#f0f921"
            ]
           ],
           "sequentialminus": [
            [
             0,
             "#0d0887"
            ],
            [
             0.1111111111111111,
             "#46039f"
            ],
            [
             0.2222222222222222,
             "#7201a8"
            ],
            [
             0.3333333333333333,
             "#9c179e"
            ],
            [
             0.4444444444444444,
             "#bd3786"
            ],
            [
             0.5555555555555556,
             "#d8576b"
            ],
            [
             0.6666666666666666,
             "#ed7953"
            ],
            [
             0.7777777777777778,
             "#fb9f3a"
            ],
            [
             0.8888888888888888,
             "#fdca26"
            ],
            [
             1,
             "#f0f921"
            ]
           ]
          },
          "colorway": [
           "#636efa",
           "#EF553B",
           "#00cc96",
           "#ab63fa",
           "#FFA15A",
           "#19d3f3",
           "#FF6692",
           "#B6E880",
           "#FF97FF",
           "#FECB52"
          ],
          "font": {
           "color": "#2a3f5f"
          },
          "geo": {
           "bgcolor": "white",
           "lakecolor": "white",
           "landcolor": "#E5ECF6",
           "showlakes": true,
           "showland": true,
           "subunitcolor": "white"
          },
          "hoverlabel": {
           "align": "left"
          },
          "hovermode": "closest",
          "mapbox": {
           "style": "light"
          },
          "paper_bgcolor": "white",
          "plot_bgcolor": "#E5ECF6",
          "polar": {
           "angularaxis": {
            "gridcolor": "white",
            "linecolor": "white",
            "ticks": ""
           },
           "bgcolor": "#E5ECF6",
           "radialaxis": {
            "gridcolor": "white",
            "linecolor": "white",
            "ticks": ""
           }
          },
          "scene": {
           "xaxis": {
            "backgroundcolor": "#E5ECF6",
            "gridcolor": "white",
            "gridwidth": 2,
            "linecolor": "white",
            "showbackground": true,
            "ticks": "",
            "zerolinecolor": "white"
           },
           "yaxis": {
            "backgroundcolor": "#E5ECF6",
            "gridcolor": "white",
            "gridwidth": 2,
            "linecolor": "white",
            "showbackground": true,
            "ticks": "",
            "zerolinecolor": "white"
           },
           "zaxis": {
            "backgroundcolor": "#E5ECF6",
            "gridcolor": "white",
            "gridwidth": 2,
            "linecolor": "white",
            "showbackground": true,
            "ticks": "",
            "zerolinecolor": "white"
           }
          },
          "shapedefaults": {
           "line": {
            "color": "#2a3f5f"
           }
          },
          "ternary": {
           "aaxis": {
            "gridcolor": "white",
            "linecolor": "white",
            "ticks": ""
           },
           "baxis": {
            "gridcolor": "white",
            "linecolor": "white",
            "ticks": ""
           },
           "bgcolor": "#E5ECF6",
           "caxis": {
            "gridcolor": "white",
            "linecolor": "white",
            "ticks": ""
           }
          },
          "title": {
           "x": 0.05
          },
          "xaxis": {
           "automargin": true,
           "gridcolor": "white",
           "linecolor": "white",
           "ticks": "",
           "title": {
            "standoff": 15
           },
           "zerolinecolor": "white",
           "zerolinewidth": 2
          },
          "yaxis": {
           "automargin": true,
           "gridcolor": "white",
           "linecolor": "white",
           "ticks": "",
           "title": {
            "standoff": 15
           },
           "zerolinecolor": "white",
           "zerolinewidth": 2
          }
         }
        },
        "title": {
         "font": {
          "color": "#4D5663"
         }
        },
        "xaxis": {
         "gridcolor": "#E1E5ED",
         "showgrid": true,
         "tickfont": {
          "color": "#4D5663"
         },
         "title": {
          "font": {
           "color": "#4D5663"
          },
          "text": ""
         },
         "zerolinecolor": "#E1E5ED"
        },
        "yaxis": {
         "gridcolor": "#E1E5ED",
         "showgrid": true,
         "tickfont": {
          "color": "#4D5663"
         },
         "title": {
          "font": {
           "color": "#4D5663"
          },
          "text": ""
         },
         "zerolinecolor": "#E1E5ED"
        }
       }
      },
      "text/html": [
       "<div>\n",
       "        \n",
       "        \n",
       "            <div id=\"f025e9ba-641c-44fc-b2b5-db3bd43b4c22\" class=\"plotly-graph-div\" style=\"height:525px; width:100%;\"></div>\n",
       "            <script type=\"text/javascript\">\n",
       "                require([\"plotly\"], function(Plotly) {\n",
       "                    window.PLOTLYENV=window.PLOTLYENV || {};\n",
       "                    window.PLOTLYENV.BASE_URL='https://plot.ly';\n",
       "                    \n",
       "                if (document.getElementById(\"f025e9ba-641c-44fc-b2b5-db3bd43b4c22\")) {\n",
       "                    Plotly.newPlot(\n",
       "                        'f025e9ba-641c-44fc-b2b5-db3bd43b4c22',\n",
       "                        [{\"line\": {\"color\": \"rgba(255, 153, 51, 1.0)\", \"dash\": \"solid\", \"shape\": \"linear\", \"width\": 1.3}, \"marker\": {\"size\": 10, \"symbol\": \"circle\"}, \"mode\": \"markers\", \"name\": \"B\", \"text\": \"\", \"type\": \"scatter\", \"x\": [0.9863925971035367, -0.551507821584642, 1.2104910088148675, -0.3630595285051773, 0.46873763546514047, 0.26593957464707885, -0.5937216939189025, -1.364244266971046, -0.2540693709928275, -1.2830587933734412, 1.281390741792193, -0.3343680481188946, -0.3825594509405097, 0.021087443582469643, 0.6471309447546121, -1.4147694856733755, 1.339202836038361, 0.3390041601557001, 0.10485762693215445, 0.5152538280419234, -0.9369459989184609, -2.175788440576683, -1.1362774454491336, 1.3527148275259664, 1.4702499643356384, 1.4124870558300326, -0.9878582741905485, 0.1127751813840683, -0.5126472661761328, 0.4067609905375987, 0.6071808563561845, -0.37915216043306865, -2.876721926137452, -0.33918228700985903, 0.10504300019166042, -0.5774186612820098, -0.4388265947198578, -0.055176976254413895, -0.36616500182468037, -0.2929114866068684, 0.7014228110844198, 0.1306964615045626, 0.6596028015175316, -1.1429942684320047, 0.47568171728166164, 1.2962465194153023, 0.8460892263421502, 0.42102746077643927, 0.866184163058826, -0.08087723804487756, 0.06907309802472945, -0.3200834042314787, 0.7939731228226196, -0.26558550941047, -0.29524694386838995, 0.27060817727113556, 0.36561627515557454, -0.5599247565685864, 0.7441531233347232, -0.6814710370963094, 1.8221454972624809, 0.4019139577863046, 0.25839538612264057, -1.1980916669750947, 0.34449618768897405, -1.021139797801242, 0.6537320811984445, -0.7314199792059191, 2.1826040042648733, -0.9563736641559415, -0.6783338604068041, -0.6702093617726054, 0.33912561228172344, 0.13988069172984913, 1.1750087445530144, 0.23062024779877058, 0.019329480186717436, -0.6342151389972552, -0.714518709757769, -1.3770377775555394, 0.7226762173743683, 0.5347943858978389, -1.625074933335793, -1.103365996026399, -1.8484187247942057, -0.2933657169598747, -1.0379228872326074, -1.687486818385531, 0.15763302190875925, -0.9917526514489864, -1.401998191292997, 1.1685273716607132, -1.0924765499868767, 1.1004984383673553, 0.3024430062455109, -0.6451062450746639, 0.4270100442054658, 1.2814804808958185, 0.4071866322407583, 1.3737594623042046], \"y\": [-1.491962523268668, -0.9863979319163781, -1.3706498912781242, -0.7283635054127434, -0.9556433947549499, -1.3776178280637075, -1.3282354767457958, 0.4160855389008612, 0.8245390833958657, -0.9386012985882881, -1.417146166990188, -0.2364962639674241, 0.9555674388527511, 0.32733012189391536, -0.844901615660728, 0.5292929788219688, 0.3696349580137423, -2.1581092479697417, 1.1308247542325691, 0.27079868876702035, -1.3700993932378516, 1.822386519008439, 1.2739493109373479, 1.6860005870956005, 1.0437955602263596, 0.052187775820577716, -0.5129959686672352, -0.23642446542680795, 2.0259746549928086, -0.6274963571844351, -0.20405423953078541, -1.4551299158129842, 3.0083803245440226, -0.18200247569988784, -0.09655369744753517, 0.5396269998034693, 1.3526844847337924, 0.5479447363690005, 0.5003806017756498, 0.38092478986333167, -0.6987050732978389, 0.728950705242152, -0.07099017268241205, -0.17718643626418312, -1.2329612788960118, 1.098371360403441, 0.9228538361483437, -0.08551957529581292, -0.4380008002662748, 0.19342006507323398, 0.032302851769381594, 1.0745637263936598, -0.34905775053086974, -0.38387650619720814, 1.008613308424497, -1.1197072632192004, 1.682262651833673, -0.6460412773663219, 0.9117982447939869, 0.06286202422433096, -0.6160075662848656, 0.26695888931062, -0.15823583458025905, 0.6707760460041554, 1.782480813946048, -0.41806235648299156, 0.9920882878881456, 0.35393270682555716, -0.2821919585487452, -0.14034262729735977, -0.12211237075763812, -0.5409052719458001, -1.3106360584065184, -2.38683273001778, 0.8329521217275093, 0.1894540858494092, -0.5828241905753845, -1.4000380259065652, -1.5524571025879703, 0.4128822340825146, -0.011762531518228102, -1.2652525410519582, 1.455953610317138, 0.9623467225545896, 1.0607117432751054, -1.9516748560022805, -2.7387496811679237, 0.028105306029023693, -0.6562471399526576, -0.236204261305822, 1.1557779022072985, -0.727744455299941, 0.4782040528002768, -0.6197213069086959, 1.775528183886076, -1.4722901211034423, 0.5089895879395171, 1.1362057227381976, 0.2163217689984764, 1.0544547503433614]}],\n",
       "                        {\"legend\": {\"bgcolor\": \"#F5F6F9\", \"font\": {\"color\": \"#4D5663\"}}, \"paper_bgcolor\": \"#F5F6F9\", \"plot_bgcolor\": \"#F5F6F9\", \"template\": {\"data\": {\"bar\": [{\"error_x\": {\"color\": \"#2a3f5f\"}, \"error_y\": {\"color\": \"#2a3f5f\"}, \"marker\": {\"line\": {\"color\": \"#E5ECF6\", \"width\": 0.5}}, \"type\": \"bar\"}], \"barpolar\": [{\"marker\": {\"line\": {\"color\": \"#E5ECF6\", \"width\": 0.5}}, \"type\": \"barpolar\"}], \"carpet\": [{\"aaxis\": {\"endlinecolor\": \"#2a3f5f\", \"gridcolor\": \"white\", \"linecolor\": \"white\", \"minorgridcolor\": \"white\", \"startlinecolor\": \"#2a3f5f\"}, \"baxis\": {\"endlinecolor\": \"#2a3f5f\", \"gridcolor\": \"white\", \"linecolor\": \"white\", \"minorgridcolor\": \"white\", \"startlinecolor\": \"#2a3f5f\"}, \"type\": \"carpet\"}], \"choropleth\": [{\"colorbar\": {\"outlinewidth\": 0, \"ticks\": \"\"}, \"type\": \"choropleth\"}], \"contour\": [{\"colorbar\": {\"outlinewidth\": 0, \"ticks\": \"\"}, \"colorscale\": [[0.0, \"#0d0887\"], [0.1111111111111111, \"#46039f\"], [0.2222222222222222, \"#7201a8\"], [0.3333333333333333, \"#9c179e\"], [0.4444444444444444, \"#bd3786\"], [0.5555555555555556, \"#d8576b\"], [0.6666666666666666, \"#ed7953\"], [0.7777777777777778, \"#fb9f3a\"], [0.8888888888888888, \"#fdca26\"], [1.0, \"#f0f921\"]], \"type\": \"contour\"}], \"contourcarpet\": [{\"colorbar\": {\"outlinewidth\": 0, \"ticks\": \"\"}, \"type\": \"contourcarpet\"}], \"heatmap\": [{\"colorbar\": {\"outlinewidth\": 0, \"ticks\": \"\"}, \"colorscale\": [[0.0, \"#0d0887\"], [0.1111111111111111, \"#46039f\"], [0.2222222222222222, \"#7201a8\"], [0.3333333333333333, \"#9c179e\"], [0.4444444444444444, \"#bd3786\"], [0.5555555555555556, \"#d8576b\"], [0.6666666666666666, \"#ed7953\"], [0.7777777777777778, \"#fb9f3a\"], [0.8888888888888888, \"#fdca26\"], [1.0, \"#f0f921\"]], \"type\": \"heatmap\"}], \"heatmapgl\": [{\"colorbar\": {\"outlinewidth\": 0, \"ticks\": \"\"}, \"colorscale\": [[0.0, \"#0d0887\"], [0.1111111111111111, \"#46039f\"], [0.2222222222222222, \"#7201a8\"], [0.3333333333333333, \"#9c179e\"], [0.4444444444444444, \"#bd3786\"], [0.5555555555555556, \"#d8576b\"], [0.6666666666666666, \"#ed7953\"], [0.7777777777777778, \"#fb9f3a\"], [0.8888888888888888, \"#fdca26\"], [1.0, \"#f0f921\"]], \"type\": \"heatmapgl\"}], \"histogram\": [{\"marker\": {\"colorbar\": {\"outlinewidth\": 0, \"ticks\": \"\"}}, \"type\": \"histogram\"}], \"histogram2d\": [{\"colorbar\": {\"outlinewidth\": 0, \"ticks\": \"\"}, \"colorscale\": [[0.0, \"#0d0887\"], [0.1111111111111111, \"#46039f\"], [0.2222222222222222, \"#7201a8\"], [0.3333333333333333, \"#9c179e\"], [0.4444444444444444, \"#bd3786\"], [0.5555555555555556, \"#d8576b\"], [0.6666666666666666, \"#ed7953\"], [0.7777777777777778, \"#fb9f3a\"], [0.8888888888888888, \"#fdca26\"], [1.0, \"#f0f921\"]], \"type\": \"histogram2d\"}], \"histogram2dcontour\": [{\"colorbar\": {\"outlinewidth\": 0, \"ticks\": \"\"}, \"colorscale\": [[0.0, \"#0d0887\"], [0.1111111111111111, \"#46039f\"], [0.2222222222222222, \"#7201a8\"], [0.3333333333333333, \"#9c179e\"], [0.4444444444444444, \"#bd3786\"], [0.5555555555555556, \"#d8576b\"], [0.6666666666666666, \"#ed7953\"], [0.7777777777777778, \"#fb9f3a\"], [0.8888888888888888, \"#fdca26\"], [1.0, \"#f0f921\"]], \"type\": \"histogram2dcontour\"}], \"mesh3d\": [{\"colorbar\": {\"outlinewidth\": 0, \"ticks\": \"\"}, \"type\": \"mesh3d\"}], \"parcoords\": [{\"line\": {\"colorbar\": {\"outlinewidth\": 0, \"ticks\": \"\"}}, \"type\": \"parcoords\"}], \"pie\": [{\"automargin\": true, \"type\": \"pie\"}], \"scatter\": [{\"marker\": {\"colorbar\": {\"outlinewidth\": 0, \"ticks\": \"\"}}, \"type\": \"scatter\"}], \"scatter3d\": [{\"line\": {\"colorbar\": {\"outlinewidth\": 0, \"ticks\": \"\"}}, \"marker\": {\"colorbar\": {\"outlinewidth\": 0, \"ticks\": \"\"}}, \"type\": \"scatter3d\"}], \"scattercarpet\": [{\"marker\": {\"colorbar\": {\"outlinewidth\": 0, \"ticks\": \"\"}}, \"type\": \"scattercarpet\"}], \"scattergeo\": [{\"marker\": {\"colorbar\": {\"outlinewidth\": 0, \"ticks\": \"\"}}, \"type\": \"scattergeo\"}], \"scattergl\": [{\"marker\": {\"colorbar\": {\"outlinewidth\": 0, \"ticks\": \"\"}}, \"type\": \"scattergl\"}], \"scattermapbox\": [{\"marker\": {\"colorbar\": {\"outlinewidth\": 0, \"ticks\": \"\"}}, \"type\": \"scattermapbox\"}], \"scatterpolar\": [{\"marker\": {\"colorbar\": {\"outlinewidth\": 0, \"ticks\": \"\"}}, \"type\": \"scatterpolar\"}], \"scatterpolargl\": [{\"marker\": {\"colorbar\": {\"outlinewidth\": 0, \"ticks\": \"\"}}, \"type\": \"scatterpolargl\"}], \"scatterternary\": [{\"marker\": {\"colorbar\": {\"outlinewidth\": 0, \"ticks\": \"\"}}, \"type\": \"scatterternary\"}], \"surface\": [{\"colorbar\": {\"outlinewidth\": 0, \"ticks\": \"\"}, \"colorscale\": [[0.0, \"#0d0887\"], [0.1111111111111111, \"#46039f\"], [0.2222222222222222, \"#7201a8\"], [0.3333333333333333, \"#9c179e\"], [0.4444444444444444, \"#bd3786\"], [0.5555555555555556, \"#d8576b\"], [0.6666666666666666, \"#ed7953\"], [0.7777777777777778, \"#fb9f3a\"], [0.8888888888888888, \"#fdca26\"], [1.0, \"#f0f921\"]], \"type\": \"surface\"}], \"table\": [{\"cells\": {\"fill\": {\"color\": \"#EBF0F8\"}, \"line\": {\"color\": \"white\"}}, \"header\": {\"fill\": {\"color\": \"#C8D4E3\"}, \"line\": {\"color\": \"white\"}}, \"type\": \"table\"}]}, \"layout\": {\"annotationdefaults\": {\"arrowcolor\": \"#2a3f5f\", \"arrowhead\": 0, \"arrowwidth\": 1}, \"coloraxis\": {\"colorbar\": {\"outlinewidth\": 0, \"ticks\": \"\"}}, \"colorscale\": {\"diverging\": [[0, \"#8e0152\"], [0.1, \"#c51b7d\"], [0.2, \"#de77ae\"], [0.3, \"#f1b6da\"], [0.4, \"#fde0ef\"], [0.5, \"#f7f7f7\"], [0.6, \"#e6f5d0\"], [0.7, \"#b8e186\"], [0.8, \"#7fbc41\"], [0.9, \"#4d9221\"], [1, \"#276419\"]], \"sequential\": [[0.0, \"#0d0887\"], [0.1111111111111111, \"#46039f\"], [0.2222222222222222, \"#7201a8\"], [0.3333333333333333, \"#9c179e\"], [0.4444444444444444, \"#bd3786\"], [0.5555555555555556, \"#d8576b\"], [0.6666666666666666, \"#ed7953\"], [0.7777777777777778, \"#fb9f3a\"], [0.8888888888888888, \"#fdca26\"], [1.0, \"#f0f921\"]], \"sequentialminus\": [[0.0, \"#0d0887\"], [0.1111111111111111, \"#46039f\"], [0.2222222222222222, \"#7201a8\"], [0.3333333333333333, \"#9c179e\"], [0.4444444444444444, \"#bd3786\"], [0.5555555555555556, \"#d8576b\"], [0.6666666666666666, \"#ed7953\"], [0.7777777777777778, \"#fb9f3a\"], [0.8888888888888888, \"#fdca26\"], [1.0, \"#f0f921\"]]}, \"colorway\": [\"#636efa\", \"#EF553B\", \"#00cc96\", \"#ab63fa\", \"#FFA15A\", \"#19d3f3\", \"#FF6692\", \"#B6E880\", \"#FF97FF\", \"#FECB52\"], \"font\": {\"color\": \"#2a3f5f\"}, \"geo\": {\"bgcolor\": \"white\", \"lakecolor\": \"white\", \"landcolor\": \"#E5ECF6\", \"showlakes\": true, \"showland\": true, \"subunitcolor\": \"white\"}, \"hoverlabel\": {\"align\": \"left\"}, \"hovermode\": \"closest\", \"mapbox\": {\"style\": \"light\"}, \"paper_bgcolor\": \"white\", \"plot_bgcolor\": \"#E5ECF6\", \"polar\": {\"angularaxis\": {\"gridcolor\": \"white\", \"linecolor\": \"white\", \"ticks\": \"\"}, \"bgcolor\": \"#E5ECF6\", \"radialaxis\": {\"gridcolor\": \"white\", \"linecolor\": \"white\", \"ticks\": \"\"}}, \"scene\": {\"xaxis\": {\"backgroundcolor\": \"#E5ECF6\", \"gridcolor\": \"white\", \"gridwidth\": 2, \"linecolor\": \"white\", \"showbackground\": true, \"ticks\": \"\", \"zerolinecolor\": \"white\"}, \"yaxis\": {\"backgroundcolor\": \"#E5ECF6\", \"gridcolor\": \"white\", \"gridwidth\": 2, \"linecolor\": \"white\", \"showbackground\": true, \"ticks\": \"\", \"zerolinecolor\": \"white\"}, \"zaxis\": {\"backgroundcolor\": \"#E5ECF6\", \"gridcolor\": \"white\", \"gridwidth\": 2, \"linecolor\": \"white\", \"showbackground\": true, \"ticks\": \"\", \"zerolinecolor\": \"white\"}}, \"shapedefaults\": {\"line\": {\"color\": \"#2a3f5f\"}}, \"ternary\": {\"aaxis\": {\"gridcolor\": \"white\", \"linecolor\": \"white\", \"ticks\": \"\"}, \"baxis\": {\"gridcolor\": \"white\", \"linecolor\": \"white\", \"ticks\": \"\"}, \"bgcolor\": \"#E5ECF6\", \"caxis\": {\"gridcolor\": \"white\", \"linecolor\": \"white\", \"ticks\": \"\"}}, \"title\": {\"x\": 0.05}, \"xaxis\": {\"automargin\": true, \"gridcolor\": \"white\", \"linecolor\": \"white\", \"ticks\": \"\", \"title\": {\"standoff\": 15}, \"zerolinecolor\": \"white\", \"zerolinewidth\": 2}, \"yaxis\": {\"automargin\": true, \"gridcolor\": \"white\", \"linecolor\": \"white\", \"ticks\": \"\", \"title\": {\"standoff\": 15}, \"zerolinecolor\": \"white\", \"zerolinewidth\": 2}}}, \"title\": {\"font\": {\"color\": \"#4D5663\"}}, \"xaxis\": {\"gridcolor\": \"#E1E5ED\", \"showgrid\": true, \"tickfont\": {\"color\": \"#4D5663\"}, \"title\": {\"font\": {\"color\": \"#4D5663\"}, \"text\": \"\"}, \"zerolinecolor\": \"#E1E5ED\"}, \"yaxis\": {\"gridcolor\": \"#E1E5ED\", \"showgrid\": true, \"tickfont\": {\"color\": \"#4D5663\"}, \"title\": {\"font\": {\"color\": \"#4D5663\"}, \"text\": \"\"}, \"zerolinecolor\": \"#E1E5ED\"}},\n",
       "                        {\"showLink\": true, \"linkText\": \"Export to plot.ly\", \"plotlyServerURL\": \"https://plot.ly\", \"responsive\": true}\n",
       "                    ).then(function(){\n",
       "                            \n",
       "var gd = document.getElementById('f025e9ba-641c-44fc-b2b5-db3bd43b4c22');\n",
       "var x = new MutationObserver(function (mutations, observer) {{\n",
       "        var display = window.getComputedStyle(gd).display;\n",
       "        if (!display || display === 'none') {{\n",
       "            console.log([gd, 'removed!']);\n",
       "            Plotly.purge(gd);\n",
       "            observer.disconnect();\n",
       "        }}\n",
       "}});\n",
       "\n",
       "// Listen for the removal of the full notebook cells\n",
       "var notebookContainer = gd.closest('#notebook-container');\n",
       "if (notebookContainer) {{\n",
       "    x.observe(notebookContainer, {childList: true});\n",
       "}}\n",
       "\n",
       "// Listen for the clearing of the current output cell\n",
       "var outputEl = gd.closest('.output');\n",
       "if (outputEl) {{\n",
       "    x.observe(outputEl, {childList: true});\n",
       "}}\n",
       "\n",
       "                        })\n",
       "                };\n",
       "                });\n",
       "            </script>\n",
       "        </div>"
      ]
     },
     "metadata": {},
     "output_type": "display_data"
    }
   ],
   "source": [
    "df.iplot(kind='scatter',x='A',y='B',mode='markers',size=10)"
   ]
  },
  {
   "cell_type": "markdown",
   "metadata": {},
   "source": [
    "## Bar Plots"
   ]
  },
  {
   "cell_type": "code",
   "execution_count": 12,
   "metadata": {},
   "outputs": [
    {
     "data": {
      "application/vnd.plotly.v1+json": {
       "config": {
        "linkText": "Export to plot.ly",
        "plotlyServerURL": "https://plot.ly",
        "showLink": true
       },
       "data": [
        {
         "marker": {
          "color": "rgba(255, 153, 51, 0.6)",
          "line": {
           "color": "rgba(255, 153, 51, 1.0)",
           "width": 1
          }
         },
         "name": "Values",
         "orientation": "v",
         "text": "",
         "type": "bar",
         "x": [
          "A",
          "B",
          "C"
         ],
         "y": [
          32,
          43,
          50
         ]
        }
       ],
       "layout": {
        "legend": {
         "bgcolor": "#F5F6F9",
         "font": {
          "color": "#4D5663"
         }
        },
        "paper_bgcolor": "#F5F6F9",
        "plot_bgcolor": "#F5F6F9",
        "template": {
         "data": {
          "bar": [
           {
            "error_x": {
             "color": "#2a3f5f"
            },
            "error_y": {
             "color": "#2a3f5f"
            },
            "marker": {
             "line": {
              "color": "#E5ECF6",
              "width": 0.5
             }
            },
            "type": "bar"
           }
          ],
          "barpolar": [
           {
            "marker": {
             "line": {
              "color": "#E5ECF6",
              "width": 0.5
             }
            },
            "type": "barpolar"
           }
          ],
          "carpet": [
           {
            "aaxis": {
             "endlinecolor": "#2a3f5f",
             "gridcolor": "white",
             "linecolor": "white",
             "minorgridcolor": "white",
             "startlinecolor": "#2a3f5f"
            },
            "baxis": {
             "endlinecolor": "#2a3f5f",
             "gridcolor": "white",
             "linecolor": "white",
             "minorgridcolor": "white",
             "startlinecolor": "#2a3f5f"
            },
            "type": "carpet"
           }
          ],
          "choropleth": [
           {
            "colorbar": {
             "outlinewidth": 0,
             "ticks": ""
            },
            "type": "choropleth"
           }
          ],
          "contour": [
           {
            "colorbar": {
             "outlinewidth": 0,
             "ticks": ""
            },
            "colorscale": [
             [
              0,
              "#0d0887"
             ],
             [
              0.1111111111111111,
              "#46039f"
             ],
             [
              0.2222222222222222,
              "#7201a8"
             ],
             [
              0.3333333333333333,
              "#9c179e"
             ],
             [
              0.4444444444444444,
              "#bd3786"
             ],
             [
              0.5555555555555556,
              "#d8576b"
             ],
             [
              0.6666666666666666,
              "#ed7953"
             ],
             [
              0.7777777777777778,
              "#fb9f3a"
             ],
             [
              0.8888888888888888,
              "#fdca26"
             ],
             [
              1,
              "#f0f921"
             ]
            ],
            "type": "contour"
           }
          ],
          "contourcarpet": [
           {
            "colorbar": {
             "outlinewidth": 0,
             "ticks": ""
            },
            "type": "contourcarpet"
           }
          ],
          "heatmap": [
           {
            "colorbar": {
             "outlinewidth": 0,
             "ticks": ""
            },
            "colorscale": [
             [
              0,
              "#0d0887"
             ],
             [
              0.1111111111111111,
              "#46039f"
             ],
             [
              0.2222222222222222,
              "#7201a8"
             ],
             [
              0.3333333333333333,
              "#9c179e"
             ],
             [
              0.4444444444444444,
              "#bd3786"
             ],
             [
              0.5555555555555556,
              "#d8576b"
             ],
             [
              0.6666666666666666,
              "#ed7953"
             ],
             [
              0.7777777777777778,
              "#fb9f3a"
             ],
             [
              0.8888888888888888,
              "#fdca26"
             ],
             [
              1,
              "#f0f921"
             ]
            ],
            "type": "heatmap"
           }
          ],
          "heatmapgl": [
           {
            "colorbar": {
             "outlinewidth": 0,
             "ticks": ""
            },
            "colorscale": [
             [
              0,
              "#0d0887"
             ],
             [
              0.1111111111111111,
              "#46039f"
             ],
             [
              0.2222222222222222,
              "#7201a8"
             ],
             [
              0.3333333333333333,
              "#9c179e"
             ],
             [
              0.4444444444444444,
              "#bd3786"
             ],
             [
              0.5555555555555556,
              "#d8576b"
             ],
             [
              0.6666666666666666,
              "#ed7953"
             ],
             [
              0.7777777777777778,
              "#fb9f3a"
             ],
             [
              0.8888888888888888,
              "#fdca26"
             ],
             [
              1,
              "#f0f921"
             ]
            ],
            "type": "heatmapgl"
           }
          ],
          "histogram": [
           {
            "marker": {
             "colorbar": {
              "outlinewidth": 0,
              "ticks": ""
             }
            },
            "type": "histogram"
           }
          ],
          "histogram2d": [
           {
            "colorbar": {
             "outlinewidth": 0,
             "ticks": ""
            },
            "colorscale": [
             [
              0,
              "#0d0887"
             ],
             [
              0.1111111111111111,
              "#46039f"
             ],
             [
              0.2222222222222222,
              "#7201a8"
             ],
             [
              0.3333333333333333,
              "#9c179e"
             ],
             [
              0.4444444444444444,
              "#bd3786"
             ],
             [
              0.5555555555555556,
              "#d8576b"
             ],
             [
              0.6666666666666666,
              "#ed7953"
             ],
             [
              0.7777777777777778,
              "#fb9f3a"
             ],
             [
              0.8888888888888888,
              "#fdca26"
             ],
             [
              1,
              "#f0f921"
             ]
            ],
            "type": "histogram2d"
           }
          ],
          "histogram2dcontour": [
           {
            "colorbar": {
             "outlinewidth": 0,
             "ticks": ""
            },
            "colorscale": [
             [
              0,
              "#0d0887"
             ],
             [
              0.1111111111111111,
              "#46039f"
             ],
             [
              0.2222222222222222,
              "#7201a8"
             ],
             [
              0.3333333333333333,
              "#9c179e"
             ],
             [
              0.4444444444444444,
              "#bd3786"
             ],
             [
              0.5555555555555556,
              "#d8576b"
             ],
             [
              0.6666666666666666,
              "#ed7953"
             ],
             [
              0.7777777777777778,
              "#fb9f3a"
             ],
             [
              0.8888888888888888,
              "#fdca26"
             ],
             [
              1,
              "#f0f921"
             ]
            ],
            "type": "histogram2dcontour"
           }
          ],
          "mesh3d": [
           {
            "colorbar": {
             "outlinewidth": 0,
             "ticks": ""
            },
            "type": "mesh3d"
           }
          ],
          "parcoords": [
           {
            "line": {
             "colorbar": {
              "outlinewidth": 0,
              "ticks": ""
             }
            },
            "type": "parcoords"
           }
          ],
          "pie": [
           {
            "automargin": true,
            "type": "pie"
           }
          ],
          "scatter": [
           {
            "marker": {
             "colorbar": {
              "outlinewidth": 0,
              "ticks": ""
             }
            },
            "type": "scatter"
           }
          ],
          "scatter3d": [
           {
            "line": {
             "colorbar": {
              "outlinewidth": 0,
              "ticks": ""
             }
            },
            "marker": {
             "colorbar": {
              "outlinewidth": 0,
              "ticks": ""
             }
            },
            "type": "scatter3d"
           }
          ],
          "scattercarpet": [
           {
            "marker": {
             "colorbar": {
              "outlinewidth": 0,
              "ticks": ""
             }
            },
            "type": "scattercarpet"
           }
          ],
          "scattergeo": [
           {
            "marker": {
             "colorbar": {
              "outlinewidth": 0,
              "ticks": ""
             }
            },
            "type": "scattergeo"
           }
          ],
          "scattergl": [
           {
            "marker": {
             "colorbar": {
              "outlinewidth": 0,
              "ticks": ""
             }
            },
            "type": "scattergl"
           }
          ],
          "scattermapbox": [
           {
            "marker": {
             "colorbar": {
              "outlinewidth": 0,
              "ticks": ""
             }
            },
            "type": "scattermapbox"
           }
          ],
          "scatterpolar": [
           {
            "marker": {
             "colorbar": {
              "outlinewidth": 0,
              "ticks": ""
             }
            },
            "type": "scatterpolar"
           }
          ],
          "scatterpolargl": [
           {
            "marker": {
             "colorbar": {
              "outlinewidth": 0,
              "ticks": ""
             }
            },
            "type": "scatterpolargl"
           }
          ],
          "scatterternary": [
           {
            "marker": {
             "colorbar": {
              "outlinewidth": 0,
              "ticks": ""
             }
            },
            "type": "scatterternary"
           }
          ],
          "surface": [
           {
            "colorbar": {
             "outlinewidth": 0,
             "ticks": ""
            },
            "colorscale": [
             [
              0,
              "#0d0887"
             ],
             [
              0.1111111111111111,
              "#46039f"
             ],
             [
              0.2222222222222222,
              "#7201a8"
             ],
             [
              0.3333333333333333,
              "#9c179e"
             ],
             [
              0.4444444444444444,
              "#bd3786"
             ],
             [
              0.5555555555555556,
              "#d8576b"
             ],
             [
              0.6666666666666666,
              "#ed7953"
             ],
             [
              0.7777777777777778,
              "#fb9f3a"
             ],
             [
              0.8888888888888888,
              "#fdca26"
             ],
             [
              1,
              "#f0f921"
             ]
            ],
            "type": "surface"
           }
          ],
          "table": [
           {
            "cells": {
             "fill": {
              "color": "#EBF0F8"
             },
             "line": {
              "color": "white"
             }
            },
            "header": {
             "fill": {
              "color": "#C8D4E3"
             },
             "line": {
              "color": "white"
             }
            },
            "type": "table"
           }
          ]
         },
         "layout": {
          "annotationdefaults": {
           "arrowcolor": "#2a3f5f",
           "arrowhead": 0,
           "arrowwidth": 1
          },
          "coloraxis": {
           "colorbar": {
            "outlinewidth": 0,
            "ticks": ""
           }
          },
          "colorscale": {
           "diverging": [
            [
             0,
             "#8e0152"
            ],
            [
             0.1,
             "#c51b7d"
            ],
            [
             0.2,
             "#de77ae"
            ],
            [
             0.3,
             "#f1b6da"
            ],
            [
             0.4,
             "#fde0ef"
            ],
            [
             0.5,
             "#f7f7f7"
            ],
            [
             0.6,
             "#e6f5d0"
            ],
            [
             0.7,
             "#b8e186"
            ],
            [
             0.8,
             "#7fbc41"
            ],
            [
             0.9,
             "#4d9221"
            ],
            [
             1,
             "#276419"
            ]
           ],
           "sequential": [
            [
             0,
             "#0d0887"
            ],
            [
             0.1111111111111111,
             "#46039f"
            ],
            [
             0.2222222222222222,
             "#7201a8"
            ],
            [
             0.3333333333333333,
             "#9c179e"
            ],
            [
             0.4444444444444444,
             "#bd3786"
            ],
            [
             0.5555555555555556,
             "#d8576b"
            ],
            [
             0.6666666666666666,
             "#ed7953"
            ],
            [
             0.7777777777777778,
             "#fb9f3a"
            ],
            [
             0.8888888888888888,
             "#fdca26"
            ],
            [
             1,
             "#f0f921"
            ]
           ],
           "sequentialminus": [
            [
             0,
             "#0d0887"
            ],
            [
             0.1111111111111111,
             "#46039f"
            ],
            [
             0.2222222222222222,
             "#7201a8"
            ],
            [
             0.3333333333333333,
             "#9c179e"
            ],
            [
             0.4444444444444444,
             "#bd3786"
            ],
            [
             0.5555555555555556,
             "#d8576b"
            ],
            [
             0.6666666666666666,
             "#ed7953"
            ],
            [
             0.7777777777777778,
             "#fb9f3a"
            ],
            [
             0.8888888888888888,
             "#fdca26"
            ],
            [
             1,
             "#f0f921"
            ]
           ]
          },
          "colorway": [
           "#636efa",
           "#EF553B",
           "#00cc96",
           "#ab63fa",
           "#FFA15A",
           "#19d3f3",
           "#FF6692",
           "#B6E880",
           "#FF97FF",
           "#FECB52"
          ],
          "font": {
           "color": "#2a3f5f"
          },
          "geo": {
           "bgcolor": "white",
           "lakecolor": "white",
           "landcolor": "#E5ECF6",
           "showlakes": true,
           "showland": true,
           "subunitcolor": "white"
          },
          "hoverlabel": {
           "align": "left"
          },
          "hovermode": "closest",
          "mapbox": {
           "style": "light"
          },
          "paper_bgcolor": "white",
          "plot_bgcolor": "#E5ECF6",
          "polar": {
           "angularaxis": {
            "gridcolor": "white",
            "linecolor": "white",
            "ticks": ""
           },
           "bgcolor": "#E5ECF6",
           "radialaxis": {
            "gridcolor": "white",
            "linecolor": "white",
            "ticks": ""
           }
          },
          "scene": {
           "xaxis": {
            "backgroundcolor": "#E5ECF6",
            "gridcolor": "white",
            "gridwidth": 2,
            "linecolor": "white",
            "showbackground": true,
            "ticks": "",
            "zerolinecolor": "white"
           },
           "yaxis": {
            "backgroundcolor": "#E5ECF6",
            "gridcolor": "white",
            "gridwidth": 2,
            "linecolor": "white",
            "showbackground": true,
            "ticks": "",
            "zerolinecolor": "white"
           },
           "zaxis": {
            "backgroundcolor": "#E5ECF6",
            "gridcolor": "white",
            "gridwidth": 2,
            "linecolor": "white",
            "showbackground": true,
            "ticks": "",
            "zerolinecolor": "white"
           }
          },
          "shapedefaults": {
           "line": {
            "color": "#2a3f5f"
           }
          },
          "ternary": {
           "aaxis": {
            "gridcolor": "white",
            "linecolor": "white",
            "ticks": ""
           },
           "baxis": {
            "gridcolor": "white",
            "linecolor": "white",
            "ticks": ""
           },
           "bgcolor": "#E5ECF6",
           "caxis": {
            "gridcolor": "white",
            "linecolor": "white",
            "ticks": ""
           }
          },
          "title": {
           "x": 0.05
          },
          "xaxis": {
           "automargin": true,
           "gridcolor": "white",
           "linecolor": "white",
           "ticks": "",
           "title": {
            "standoff": 15
           },
           "zerolinecolor": "white",
           "zerolinewidth": 2
          },
          "yaxis": {
           "automargin": true,
           "gridcolor": "white",
           "linecolor": "white",
           "ticks": "",
           "title": {
            "standoff": 15
           },
           "zerolinecolor": "white",
           "zerolinewidth": 2
          }
         }
        },
        "title": {
         "font": {
          "color": "#4D5663"
         }
        },
        "xaxis": {
         "gridcolor": "#E1E5ED",
         "showgrid": true,
         "tickfont": {
          "color": "#4D5663"
         },
         "title": {
          "font": {
           "color": "#4D5663"
          },
          "text": ""
         },
         "zerolinecolor": "#E1E5ED"
        },
        "yaxis": {
         "gridcolor": "#E1E5ED",
         "showgrid": true,
         "tickfont": {
          "color": "#4D5663"
         },
         "title": {
          "font": {
           "color": "#4D5663"
          },
          "text": ""
         },
         "zerolinecolor": "#E1E5ED"
        }
       }
      },
      "text/html": [
       "<div>\n",
       "        \n",
       "        \n",
       "            <div id=\"8041e183-ff1c-4efe-84a3-92a66ef8781a\" class=\"plotly-graph-div\" style=\"height:525px; width:100%;\"></div>\n",
       "            <script type=\"text/javascript\">\n",
       "                require([\"plotly\"], function(Plotly) {\n",
       "                    window.PLOTLYENV=window.PLOTLYENV || {};\n",
       "                    window.PLOTLYENV.BASE_URL='https://plot.ly';\n",
       "                    \n",
       "                if (document.getElementById(\"8041e183-ff1c-4efe-84a3-92a66ef8781a\")) {\n",
       "                    Plotly.newPlot(\n",
       "                        '8041e183-ff1c-4efe-84a3-92a66ef8781a',\n",
       "                        [{\"marker\": {\"color\": \"rgba(255, 153, 51, 0.6)\", \"line\": {\"color\": \"rgba(255, 153, 51, 1.0)\", \"width\": 1}}, \"name\": \"Values\", \"orientation\": \"v\", \"text\": \"\", \"type\": \"bar\", \"x\": [\"A\", \"B\", \"C\"], \"y\": [32, 43, 50]}],\n",
       "                        {\"legend\": {\"bgcolor\": \"#F5F6F9\", \"font\": {\"color\": \"#4D5663\"}}, \"paper_bgcolor\": \"#F5F6F9\", \"plot_bgcolor\": \"#F5F6F9\", \"template\": {\"data\": {\"bar\": [{\"error_x\": {\"color\": \"#2a3f5f\"}, \"error_y\": {\"color\": \"#2a3f5f\"}, \"marker\": {\"line\": {\"color\": \"#E5ECF6\", \"width\": 0.5}}, \"type\": \"bar\"}], \"barpolar\": [{\"marker\": {\"line\": {\"color\": \"#E5ECF6\", \"width\": 0.5}}, \"type\": \"barpolar\"}], \"carpet\": [{\"aaxis\": {\"endlinecolor\": \"#2a3f5f\", \"gridcolor\": \"white\", \"linecolor\": \"white\", \"minorgridcolor\": \"white\", \"startlinecolor\": \"#2a3f5f\"}, \"baxis\": {\"endlinecolor\": \"#2a3f5f\", \"gridcolor\": \"white\", \"linecolor\": \"white\", \"minorgridcolor\": \"white\", \"startlinecolor\": \"#2a3f5f\"}, \"type\": \"carpet\"}], \"choropleth\": [{\"colorbar\": {\"outlinewidth\": 0, \"ticks\": \"\"}, \"type\": \"choropleth\"}], \"contour\": [{\"colorbar\": {\"outlinewidth\": 0, \"ticks\": \"\"}, \"colorscale\": [[0.0, \"#0d0887\"], [0.1111111111111111, \"#46039f\"], [0.2222222222222222, \"#7201a8\"], [0.3333333333333333, \"#9c179e\"], [0.4444444444444444, \"#bd3786\"], [0.5555555555555556, \"#d8576b\"], [0.6666666666666666, \"#ed7953\"], [0.7777777777777778, \"#fb9f3a\"], [0.8888888888888888, \"#fdca26\"], [1.0, \"#f0f921\"]], \"type\": \"contour\"}], \"contourcarpet\": [{\"colorbar\": {\"outlinewidth\": 0, \"ticks\": \"\"}, \"type\": \"contourcarpet\"}], \"heatmap\": [{\"colorbar\": {\"outlinewidth\": 0, \"ticks\": \"\"}, \"colorscale\": [[0.0, \"#0d0887\"], [0.1111111111111111, \"#46039f\"], [0.2222222222222222, \"#7201a8\"], [0.3333333333333333, \"#9c179e\"], [0.4444444444444444, \"#bd3786\"], [0.5555555555555556, \"#d8576b\"], [0.6666666666666666, \"#ed7953\"], [0.7777777777777778, \"#fb9f3a\"], [0.8888888888888888, \"#fdca26\"], [1.0, \"#f0f921\"]], \"type\": \"heatmap\"}], \"heatmapgl\": [{\"colorbar\": {\"outlinewidth\": 0, \"ticks\": \"\"}, \"colorscale\": [[0.0, \"#0d0887\"], [0.1111111111111111, \"#46039f\"], [0.2222222222222222, \"#7201a8\"], [0.3333333333333333, \"#9c179e\"], [0.4444444444444444, \"#bd3786\"], [0.5555555555555556, \"#d8576b\"], [0.6666666666666666, \"#ed7953\"], [0.7777777777777778, \"#fb9f3a\"], [0.8888888888888888, \"#fdca26\"], [1.0, \"#f0f921\"]], \"type\": \"heatmapgl\"}], \"histogram\": [{\"marker\": {\"colorbar\": {\"outlinewidth\": 0, \"ticks\": \"\"}}, \"type\": \"histogram\"}], \"histogram2d\": [{\"colorbar\": {\"outlinewidth\": 0, \"ticks\": \"\"}, \"colorscale\": [[0.0, \"#0d0887\"], [0.1111111111111111, \"#46039f\"], [0.2222222222222222, \"#7201a8\"], [0.3333333333333333, \"#9c179e\"], [0.4444444444444444, \"#bd3786\"], [0.5555555555555556, \"#d8576b\"], [0.6666666666666666, \"#ed7953\"], [0.7777777777777778, \"#fb9f3a\"], [0.8888888888888888, \"#fdca26\"], [1.0, \"#f0f921\"]], \"type\": \"histogram2d\"}], \"histogram2dcontour\": [{\"colorbar\": {\"outlinewidth\": 0, \"ticks\": \"\"}, \"colorscale\": [[0.0, \"#0d0887\"], [0.1111111111111111, \"#46039f\"], [0.2222222222222222, \"#7201a8\"], [0.3333333333333333, \"#9c179e\"], [0.4444444444444444, \"#bd3786\"], [0.5555555555555556, \"#d8576b\"], [0.6666666666666666, \"#ed7953\"], [0.7777777777777778, \"#fb9f3a\"], [0.8888888888888888, \"#fdca26\"], [1.0, \"#f0f921\"]], \"type\": \"histogram2dcontour\"}], \"mesh3d\": [{\"colorbar\": {\"outlinewidth\": 0, \"ticks\": \"\"}, \"type\": \"mesh3d\"}], \"parcoords\": [{\"line\": {\"colorbar\": {\"outlinewidth\": 0, \"ticks\": \"\"}}, \"type\": \"parcoords\"}], \"pie\": [{\"automargin\": true, \"type\": \"pie\"}], \"scatter\": [{\"marker\": {\"colorbar\": {\"outlinewidth\": 0, \"ticks\": \"\"}}, \"type\": \"scatter\"}], \"scatter3d\": [{\"line\": {\"colorbar\": {\"outlinewidth\": 0, \"ticks\": \"\"}}, \"marker\": {\"colorbar\": {\"outlinewidth\": 0, \"ticks\": \"\"}}, \"type\": \"scatter3d\"}], \"scattercarpet\": [{\"marker\": {\"colorbar\": {\"outlinewidth\": 0, \"ticks\": \"\"}}, \"type\": \"scattercarpet\"}], \"scattergeo\": [{\"marker\": {\"colorbar\": {\"outlinewidth\": 0, \"ticks\": \"\"}}, \"type\": \"scattergeo\"}], \"scattergl\": [{\"marker\": {\"colorbar\": {\"outlinewidth\": 0, \"ticks\": \"\"}}, \"type\": \"scattergl\"}], \"scattermapbox\": [{\"marker\": {\"colorbar\": {\"outlinewidth\": 0, \"ticks\": \"\"}}, \"type\": \"scattermapbox\"}], \"scatterpolar\": [{\"marker\": {\"colorbar\": {\"outlinewidth\": 0, \"ticks\": \"\"}}, \"type\": \"scatterpolar\"}], \"scatterpolargl\": [{\"marker\": {\"colorbar\": {\"outlinewidth\": 0, \"ticks\": \"\"}}, \"type\": \"scatterpolargl\"}], \"scatterternary\": [{\"marker\": {\"colorbar\": {\"outlinewidth\": 0, \"ticks\": \"\"}}, \"type\": \"scatterternary\"}], \"surface\": [{\"colorbar\": {\"outlinewidth\": 0, \"ticks\": \"\"}, \"colorscale\": [[0.0, \"#0d0887\"], [0.1111111111111111, \"#46039f\"], [0.2222222222222222, \"#7201a8\"], [0.3333333333333333, \"#9c179e\"], [0.4444444444444444, \"#bd3786\"], [0.5555555555555556, \"#d8576b\"], [0.6666666666666666, \"#ed7953\"], [0.7777777777777778, \"#fb9f3a\"], [0.8888888888888888, \"#fdca26\"], [1.0, \"#f0f921\"]], \"type\": \"surface\"}], \"table\": [{\"cells\": {\"fill\": {\"color\": \"#EBF0F8\"}, \"line\": {\"color\": \"white\"}}, \"header\": {\"fill\": {\"color\": \"#C8D4E3\"}, \"line\": {\"color\": \"white\"}}, \"type\": \"table\"}]}, \"layout\": {\"annotationdefaults\": {\"arrowcolor\": \"#2a3f5f\", \"arrowhead\": 0, \"arrowwidth\": 1}, \"coloraxis\": {\"colorbar\": {\"outlinewidth\": 0, \"ticks\": \"\"}}, \"colorscale\": {\"diverging\": [[0, \"#8e0152\"], [0.1, \"#c51b7d\"], [0.2, \"#de77ae\"], [0.3, \"#f1b6da\"], [0.4, \"#fde0ef\"], [0.5, \"#f7f7f7\"], [0.6, \"#e6f5d0\"], [0.7, \"#b8e186\"], [0.8, \"#7fbc41\"], [0.9, \"#4d9221\"], [1, \"#276419\"]], \"sequential\": [[0.0, \"#0d0887\"], [0.1111111111111111, \"#46039f\"], [0.2222222222222222, \"#7201a8\"], [0.3333333333333333, \"#9c179e\"], [0.4444444444444444, \"#bd3786\"], [0.5555555555555556, \"#d8576b\"], [0.6666666666666666, \"#ed7953\"], [0.7777777777777778, \"#fb9f3a\"], [0.8888888888888888, \"#fdca26\"], [1.0, \"#f0f921\"]], \"sequentialminus\": [[0.0, \"#0d0887\"], [0.1111111111111111, \"#46039f\"], [0.2222222222222222, \"#7201a8\"], [0.3333333333333333, \"#9c179e\"], [0.4444444444444444, \"#bd3786\"], [0.5555555555555556, \"#d8576b\"], [0.6666666666666666, \"#ed7953\"], [0.7777777777777778, \"#fb9f3a\"], [0.8888888888888888, \"#fdca26\"], [1.0, \"#f0f921\"]]}, \"colorway\": [\"#636efa\", \"#EF553B\", \"#00cc96\", \"#ab63fa\", \"#FFA15A\", \"#19d3f3\", \"#FF6692\", \"#B6E880\", \"#FF97FF\", \"#FECB52\"], \"font\": {\"color\": \"#2a3f5f\"}, \"geo\": {\"bgcolor\": \"white\", \"lakecolor\": \"white\", \"landcolor\": \"#E5ECF6\", \"showlakes\": true, \"showland\": true, \"subunitcolor\": \"white\"}, \"hoverlabel\": {\"align\": \"left\"}, \"hovermode\": \"closest\", \"mapbox\": {\"style\": \"light\"}, \"paper_bgcolor\": \"white\", \"plot_bgcolor\": \"#E5ECF6\", \"polar\": {\"angularaxis\": {\"gridcolor\": \"white\", \"linecolor\": \"white\", \"ticks\": \"\"}, \"bgcolor\": \"#E5ECF6\", \"radialaxis\": {\"gridcolor\": \"white\", \"linecolor\": \"white\", \"ticks\": \"\"}}, \"scene\": {\"xaxis\": {\"backgroundcolor\": \"#E5ECF6\", \"gridcolor\": \"white\", \"gridwidth\": 2, \"linecolor\": \"white\", \"showbackground\": true, \"ticks\": \"\", \"zerolinecolor\": \"white\"}, \"yaxis\": {\"backgroundcolor\": \"#E5ECF6\", \"gridcolor\": \"white\", \"gridwidth\": 2, \"linecolor\": \"white\", \"showbackground\": true, \"ticks\": \"\", \"zerolinecolor\": \"white\"}, \"zaxis\": {\"backgroundcolor\": \"#E5ECF6\", \"gridcolor\": \"white\", \"gridwidth\": 2, \"linecolor\": \"white\", \"showbackground\": true, \"ticks\": \"\", \"zerolinecolor\": \"white\"}}, \"shapedefaults\": {\"line\": {\"color\": \"#2a3f5f\"}}, \"ternary\": {\"aaxis\": {\"gridcolor\": \"white\", \"linecolor\": \"white\", \"ticks\": \"\"}, \"baxis\": {\"gridcolor\": \"white\", \"linecolor\": \"white\", \"ticks\": \"\"}, \"bgcolor\": \"#E5ECF6\", \"caxis\": {\"gridcolor\": \"white\", \"linecolor\": \"white\", \"ticks\": \"\"}}, \"title\": {\"x\": 0.05}, \"xaxis\": {\"automargin\": true, \"gridcolor\": \"white\", \"linecolor\": \"white\", \"ticks\": \"\", \"title\": {\"standoff\": 15}, \"zerolinecolor\": \"white\", \"zerolinewidth\": 2}, \"yaxis\": {\"automargin\": true, \"gridcolor\": \"white\", \"linecolor\": \"white\", \"ticks\": \"\", \"title\": {\"standoff\": 15}, \"zerolinecolor\": \"white\", \"zerolinewidth\": 2}}}, \"title\": {\"font\": {\"color\": \"#4D5663\"}}, \"xaxis\": {\"gridcolor\": \"#E1E5ED\", \"showgrid\": true, \"tickfont\": {\"color\": \"#4D5663\"}, \"title\": {\"font\": {\"color\": \"#4D5663\"}, \"text\": \"\"}, \"zerolinecolor\": \"#E1E5ED\"}, \"yaxis\": {\"gridcolor\": \"#E1E5ED\", \"showgrid\": true, \"tickfont\": {\"color\": \"#4D5663\"}, \"title\": {\"font\": {\"color\": \"#4D5663\"}, \"text\": \"\"}, \"zerolinecolor\": \"#E1E5ED\"}},\n",
       "                        {\"showLink\": true, \"linkText\": \"Export to plot.ly\", \"plotlyServerURL\": \"https://plot.ly\", \"responsive\": true}\n",
       "                    ).then(function(){\n",
       "                            \n",
       "var gd = document.getElementById('8041e183-ff1c-4efe-84a3-92a66ef8781a');\n",
       "var x = new MutationObserver(function (mutations, observer) {{\n",
       "        var display = window.getComputedStyle(gd).display;\n",
       "        if (!display || display === 'none') {{\n",
       "            console.log([gd, 'removed!']);\n",
       "            Plotly.purge(gd);\n",
       "            observer.disconnect();\n",
       "        }}\n",
       "}});\n",
       "\n",
       "// Listen for the removal of the full notebook cells\n",
       "var notebookContainer = gd.closest('#notebook-container');\n",
       "if (notebookContainer) {{\n",
       "    x.observe(notebookContainer, {childList: true});\n",
       "}}\n",
       "\n",
       "// Listen for the clearing of the current output cell\n",
       "var outputEl = gd.closest('.output');\n",
       "if (outputEl) {{\n",
       "    x.observe(outputEl, {childList: true});\n",
       "}}\n",
       "\n",
       "                        })\n",
       "                };\n",
       "                });\n",
       "            </script>\n",
       "        </div>"
      ]
     },
     "metadata": {},
     "output_type": "display_data"
    }
   ],
   "source": [
    "df2.iplot(kind='bar',x='Category',y='Values')"
   ]
  },
  {
   "cell_type": "code",
   "execution_count": 13,
   "metadata": {},
   "outputs": [
    {
     "data": {
      "application/vnd.plotly.v1+json": {
       "config": {
        "linkText": "Export to plot.ly",
        "plotlyServerURL": "https://plot.ly",
        "showLink": true
       },
       "data": [
        {
         "marker": {
          "color": "rgba(255, 153, 51, 0.6)",
          "line": {
           "color": "rgba(255, 153, 51, 1.0)",
           "width": 1
          }
         },
         "name": "None",
         "orientation": "v",
         "text": "",
         "type": "bar",
         "x": [
          "A",
          "B",
          "C",
          "D"
         ],
         "y": [
          100,
          100,
          100,
          100
         ]
        }
       ],
       "layout": {
        "legend": {
         "bgcolor": "#F5F6F9",
         "font": {
          "color": "#4D5663"
         }
        },
        "paper_bgcolor": "#F5F6F9",
        "plot_bgcolor": "#F5F6F9",
        "template": {
         "data": {
          "bar": [
           {
            "error_x": {
             "color": "#2a3f5f"
            },
            "error_y": {
             "color": "#2a3f5f"
            },
            "marker": {
             "line": {
              "color": "#E5ECF6",
              "width": 0.5
             }
            },
            "type": "bar"
           }
          ],
          "barpolar": [
           {
            "marker": {
             "line": {
              "color": "#E5ECF6",
              "width": 0.5
             }
            },
            "type": "barpolar"
           }
          ],
          "carpet": [
           {
            "aaxis": {
             "endlinecolor": "#2a3f5f",
             "gridcolor": "white",
             "linecolor": "white",
             "minorgridcolor": "white",
             "startlinecolor": "#2a3f5f"
            },
            "baxis": {
             "endlinecolor": "#2a3f5f",
             "gridcolor": "white",
             "linecolor": "white",
             "minorgridcolor": "white",
             "startlinecolor": "#2a3f5f"
            },
            "type": "carpet"
           }
          ],
          "choropleth": [
           {
            "colorbar": {
             "outlinewidth": 0,
             "ticks": ""
            },
            "type": "choropleth"
           }
          ],
          "contour": [
           {
            "colorbar": {
             "outlinewidth": 0,
             "ticks": ""
            },
            "colorscale": [
             [
              0,
              "#0d0887"
             ],
             [
              0.1111111111111111,
              "#46039f"
             ],
             [
              0.2222222222222222,
              "#7201a8"
             ],
             [
              0.3333333333333333,
              "#9c179e"
             ],
             [
              0.4444444444444444,
              "#bd3786"
             ],
             [
              0.5555555555555556,
              "#d8576b"
             ],
             [
              0.6666666666666666,
              "#ed7953"
             ],
             [
              0.7777777777777778,
              "#fb9f3a"
             ],
             [
              0.8888888888888888,
              "#fdca26"
             ],
             [
              1,
              "#f0f921"
             ]
            ],
            "type": "contour"
           }
          ],
          "contourcarpet": [
           {
            "colorbar": {
             "outlinewidth": 0,
             "ticks": ""
            },
            "type": "contourcarpet"
           }
          ],
          "heatmap": [
           {
            "colorbar": {
             "outlinewidth": 0,
             "ticks": ""
            },
            "colorscale": [
             [
              0,
              "#0d0887"
             ],
             [
              0.1111111111111111,
              "#46039f"
             ],
             [
              0.2222222222222222,
              "#7201a8"
             ],
             [
              0.3333333333333333,
              "#9c179e"
             ],
             [
              0.4444444444444444,
              "#bd3786"
             ],
             [
              0.5555555555555556,
              "#d8576b"
             ],
             [
              0.6666666666666666,
              "#ed7953"
             ],
             [
              0.7777777777777778,
              "#fb9f3a"
             ],
             [
              0.8888888888888888,
              "#fdca26"
             ],
             [
              1,
              "#f0f921"
             ]
            ],
            "type": "heatmap"
           }
          ],
          "heatmapgl": [
           {
            "colorbar": {
             "outlinewidth": 0,
             "ticks": ""
            },
            "colorscale": [
             [
              0,
              "#0d0887"
             ],
             [
              0.1111111111111111,
              "#46039f"
             ],
             [
              0.2222222222222222,
              "#7201a8"
             ],
             [
              0.3333333333333333,
              "#9c179e"
             ],
             [
              0.4444444444444444,
              "#bd3786"
             ],
             [
              0.5555555555555556,
              "#d8576b"
             ],
             [
              0.6666666666666666,
              "#ed7953"
             ],
             [
              0.7777777777777778,
              "#fb9f3a"
             ],
             [
              0.8888888888888888,
              "#fdca26"
             ],
             [
              1,
              "#f0f921"
             ]
            ],
            "type": "heatmapgl"
           }
          ],
          "histogram": [
           {
            "marker": {
             "colorbar": {
              "outlinewidth": 0,
              "ticks": ""
             }
            },
            "type": "histogram"
           }
          ],
          "histogram2d": [
           {
            "colorbar": {
             "outlinewidth": 0,
             "ticks": ""
            },
            "colorscale": [
             [
              0,
              "#0d0887"
             ],
             [
              0.1111111111111111,
              "#46039f"
             ],
             [
              0.2222222222222222,
              "#7201a8"
             ],
             [
              0.3333333333333333,
              "#9c179e"
             ],
             [
              0.4444444444444444,
              "#bd3786"
             ],
             [
              0.5555555555555556,
              "#d8576b"
             ],
             [
              0.6666666666666666,
              "#ed7953"
             ],
             [
              0.7777777777777778,
              "#fb9f3a"
             ],
             [
              0.8888888888888888,
              "#fdca26"
             ],
             [
              1,
              "#f0f921"
             ]
            ],
            "type": "histogram2d"
           }
          ],
          "histogram2dcontour": [
           {
            "colorbar": {
             "outlinewidth": 0,
             "ticks": ""
            },
            "colorscale": [
             [
              0,
              "#0d0887"
             ],
             [
              0.1111111111111111,
              "#46039f"
             ],
             [
              0.2222222222222222,
              "#7201a8"
             ],
             [
              0.3333333333333333,
              "#9c179e"
             ],
             [
              0.4444444444444444,
              "#bd3786"
             ],
             [
              0.5555555555555556,
              "#d8576b"
             ],
             [
              0.6666666666666666,
              "#ed7953"
             ],
             [
              0.7777777777777778,
              "#fb9f3a"
             ],
             [
              0.8888888888888888,
              "#fdca26"
             ],
             [
              1,
              "#f0f921"
             ]
            ],
            "type": "histogram2dcontour"
           }
          ],
          "mesh3d": [
           {
            "colorbar": {
             "outlinewidth": 0,
             "ticks": ""
            },
            "type": "mesh3d"
           }
          ],
          "parcoords": [
           {
            "line": {
             "colorbar": {
              "outlinewidth": 0,
              "ticks": ""
             }
            },
            "type": "parcoords"
           }
          ],
          "pie": [
           {
            "automargin": true,
            "type": "pie"
           }
          ],
          "scatter": [
           {
            "marker": {
             "colorbar": {
              "outlinewidth": 0,
              "ticks": ""
             }
            },
            "type": "scatter"
           }
          ],
          "scatter3d": [
           {
            "line": {
             "colorbar": {
              "outlinewidth": 0,
              "ticks": ""
             }
            },
            "marker": {
             "colorbar": {
              "outlinewidth": 0,
              "ticks": ""
             }
            },
            "type": "scatter3d"
           }
          ],
          "scattercarpet": [
           {
            "marker": {
             "colorbar": {
              "outlinewidth": 0,
              "ticks": ""
             }
            },
            "type": "scattercarpet"
           }
          ],
          "scattergeo": [
           {
            "marker": {
             "colorbar": {
              "outlinewidth": 0,
              "ticks": ""
             }
            },
            "type": "scattergeo"
           }
          ],
          "scattergl": [
           {
            "marker": {
             "colorbar": {
              "outlinewidth": 0,
              "ticks": ""
             }
            },
            "type": "scattergl"
           }
          ],
          "scattermapbox": [
           {
            "marker": {
             "colorbar": {
              "outlinewidth": 0,
              "ticks": ""
             }
            },
            "type": "scattermapbox"
           }
          ],
          "scatterpolar": [
           {
            "marker": {
             "colorbar": {
              "outlinewidth": 0,
              "ticks": ""
             }
            },
            "type": "scatterpolar"
           }
          ],
          "scatterpolargl": [
           {
            "marker": {
             "colorbar": {
              "outlinewidth": 0,
              "ticks": ""
             }
            },
            "type": "scatterpolargl"
           }
          ],
          "scatterternary": [
           {
            "marker": {
             "colorbar": {
              "outlinewidth": 0,
              "ticks": ""
             }
            },
            "type": "scatterternary"
           }
          ],
          "surface": [
           {
            "colorbar": {
             "outlinewidth": 0,
             "ticks": ""
            },
            "colorscale": [
             [
              0,
              "#0d0887"
             ],
             [
              0.1111111111111111,
              "#46039f"
             ],
             [
              0.2222222222222222,
              "#7201a8"
             ],
             [
              0.3333333333333333,
              "#9c179e"
             ],
             [
              0.4444444444444444,
              "#bd3786"
             ],
             [
              0.5555555555555556,
              "#d8576b"
             ],
             [
              0.6666666666666666,
              "#ed7953"
             ],
             [
              0.7777777777777778,
              "#fb9f3a"
             ],
             [
              0.8888888888888888,
              "#fdca26"
             ],
             [
              1,
              "#f0f921"
             ]
            ],
            "type": "surface"
           }
          ],
          "table": [
           {
            "cells": {
             "fill": {
              "color": "#EBF0F8"
             },
             "line": {
              "color": "white"
             }
            },
            "header": {
             "fill": {
              "color": "#C8D4E3"
             },
             "line": {
              "color": "white"
             }
            },
            "type": "table"
           }
          ]
         },
         "layout": {
          "annotationdefaults": {
           "arrowcolor": "#2a3f5f",
           "arrowhead": 0,
           "arrowwidth": 1
          },
          "coloraxis": {
           "colorbar": {
            "outlinewidth": 0,
            "ticks": ""
           }
          },
          "colorscale": {
           "diverging": [
            [
             0,
             "#8e0152"
            ],
            [
             0.1,
             "#c51b7d"
            ],
            [
             0.2,
             "#de77ae"
            ],
            [
             0.3,
             "#f1b6da"
            ],
            [
             0.4,
             "#fde0ef"
            ],
            [
             0.5,
             "#f7f7f7"
            ],
            [
             0.6,
             "#e6f5d0"
            ],
            [
             0.7,
             "#b8e186"
            ],
            [
             0.8,
             "#7fbc41"
            ],
            [
             0.9,
             "#4d9221"
            ],
            [
             1,
             "#276419"
            ]
           ],
           "sequential": [
            [
             0,
             "#0d0887"
            ],
            [
             0.1111111111111111,
             "#46039f"
            ],
            [
             0.2222222222222222,
             "#7201a8"
            ],
            [
             0.3333333333333333,
             "#9c179e"
            ],
            [
             0.4444444444444444,
             "#bd3786"
            ],
            [
             0.5555555555555556,
             "#d8576b"
            ],
            [
             0.6666666666666666,
             "#ed7953"
            ],
            [
             0.7777777777777778,
             "#fb9f3a"
            ],
            [
             0.8888888888888888,
             "#fdca26"
            ],
            [
             1,
             "#f0f921"
            ]
           ],
           "sequentialminus": [
            [
             0,
             "#0d0887"
            ],
            [
             0.1111111111111111,
             "#46039f"
            ],
            [
             0.2222222222222222,
             "#7201a8"
            ],
            [
             0.3333333333333333,
             "#9c179e"
            ],
            [
             0.4444444444444444,
             "#bd3786"
            ],
            [
             0.5555555555555556,
             "#d8576b"
            ],
            [
             0.6666666666666666,
             "#ed7953"
            ],
            [
             0.7777777777777778,
             "#fb9f3a"
            ],
            [
             0.8888888888888888,
             "#fdca26"
            ],
            [
             1,
             "#f0f921"
            ]
           ]
          },
          "colorway": [
           "#636efa",
           "#EF553B",
           "#00cc96",
           "#ab63fa",
           "#FFA15A",
           "#19d3f3",
           "#FF6692",
           "#B6E880",
           "#FF97FF",
           "#FECB52"
          ],
          "font": {
           "color": "#2a3f5f"
          },
          "geo": {
           "bgcolor": "white",
           "lakecolor": "white",
           "landcolor": "#E5ECF6",
           "showlakes": true,
           "showland": true,
           "subunitcolor": "white"
          },
          "hoverlabel": {
           "align": "left"
          },
          "hovermode": "closest",
          "mapbox": {
           "style": "light"
          },
          "paper_bgcolor": "white",
          "plot_bgcolor": "#E5ECF6",
          "polar": {
           "angularaxis": {
            "gridcolor": "white",
            "linecolor": "white",
            "ticks": ""
           },
           "bgcolor": "#E5ECF6",
           "radialaxis": {
            "gridcolor": "white",
            "linecolor": "white",
            "ticks": ""
           }
          },
          "scene": {
           "xaxis": {
            "backgroundcolor": "#E5ECF6",
            "gridcolor": "white",
            "gridwidth": 2,
            "linecolor": "white",
            "showbackground": true,
            "ticks": "",
            "zerolinecolor": "white"
           },
           "yaxis": {
            "backgroundcolor": "#E5ECF6",
            "gridcolor": "white",
            "gridwidth": 2,
            "linecolor": "white",
            "showbackground": true,
            "ticks": "",
            "zerolinecolor": "white"
           },
           "zaxis": {
            "backgroundcolor": "#E5ECF6",
            "gridcolor": "white",
            "gridwidth": 2,
            "linecolor": "white",
            "showbackground": true,
            "ticks": "",
            "zerolinecolor": "white"
           }
          },
          "shapedefaults": {
           "line": {
            "color": "#2a3f5f"
           }
          },
          "ternary": {
           "aaxis": {
            "gridcolor": "white",
            "linecolor": "white",
            "ticks": ""
           },
           "baxis": {
            "gridcolor": "white",
            "linecolor": "white",
            "ticks": ""
           },
           "bgcolor": "#E5ECF6",
           "caxis": {
            "gridcolor": "white",
            "linecolor": "white",
            "ticks": ""
           }
          },
          "title": {
           "x": 0.05
          },
          "xaxis": {
           "automargin": true,
           "gridcolor": "white",
           "linecolor": "white",
           "ticks": "",
           "title": {
            "standoff": 15
           },
           "zerolinecolor": "white",
           "zerolinewidth": 2
          },
          "yaxis": {
           "automargin": true,
           "gridcolor": "white",
           "linecolor": "white",
           "ticks": "",
           "title": {
            "standoff": 15
           },
           "zerolinecolor": "white",
           "zerolinewidth": 2
          }
         }
        },
        "title": {
         "font": {
          "color": "#4D5663"
         }
        },
        "xaxis": {
         "gridcolor": "#E1E5ED",
         "showgrid": true,
         "tickfont": {
          "color": "#4D5663"
         },
         "title": {
          "font": {
           "color": "#4D5663"
          },
          "text": ""
         },
         "zerolinecolor": "#E1E5ED"
        },
        "yaxis": {
         "gridcolor": "#E1E5ED",
         "showgrid": true,
         "tickfont": {
          "color": "#4D5663"
         },
         "title": {
          "font": {
           "color": "#4D5663"
          },
          "text": ""
         },
         "zerolinecolor": "#E1E5ED"
        }
       }
      },
      "text/html": [
       "<div>\n",
       "        \n",
       "        \n",
       "            <div id=\"4cbf27bb-be30-4d68-8638-33a9899a4b5e\" class=\"plotly-graph-div\" style=\"height:525px; width:100%;\"></div>\n",
       "            <script type=\"text/javascript\">\n",
       "                require([\"plotly\"], function(Plotly) {\n",
       "                    window.PLOTLYENV=window.PLOTLYENV || {};\n",
       "                    window.PLOTLYENV.BASE_URL='https://plot.ly';\n",
       "                    \n",
       "                if (document.getElementById(\"4cbf27bb-be30-4d68-8638-33a9899a4b5e\")) {\n",
       "                    Plotly.newPlot(\n",
       "                        '4cbf27bb-be30-4d68-8638-33a9899a4b5e',\n",
       "                        [{\"marker\": {\"color\": \"rgba(255, 153, 51, 0.6)\", \"line\": {\"color\": \"rgba(255, 153, 51, 1.0)\", \"width\": 1}}, \"name\": \"None\", \"orientation\": \"v\", \"text\": \"\", \"type\": \"bar\", \"x\": [\"A\", \"B\", \"C\", \"D\"], \"y\": [100, 100, 100, 100]}],\n",
       "                        {\"legend\": {\"bgcolor\": \"#F5F6F9\", \"font\": {\"color\": \"#4D5663\"}}, \"paper_bgcolor\": \"#F5F6F9\", \"plot_bgcolor\": \"#F5F6F9\", \"template\": {\"data\": {\"bar\": [{\"error_x\": {\"color\": \"#2a3f5f\"}, \"error_y\": {\"color\": \"#2a3f5f\"}, \"marker\": {\"line\": {\"color\": \"#E5ECF6\", \"width\": 0.5}}, \"type\": \"bar\"}], \"barpolar\": [{\"marker\": {\"line\": {\"color\": \"#E5ECF6\", \"width\": 0.5}}, \"type\": \"barpolar\"}], \"carpet\": [{\"aaxis\": {\"endlinecolor\": \"#2a3f5f\", \"gridcolor\": \"white\", \"linecolor\": \"white\", \"minorgridcolor\": \"white\", \"startlinecolor\": \"#2a3f5f\"}, \"baxis\": {\"endlinecolor\": \"#2a3f5f\", \"gridcolor\": \"white\", \"linecolor\": \"white\", \"minorgridcolor\": \"white\", \"startlinecolor\": \"#2a3f5f\"}, \"type\": \"carpet\"}], \"choropleth\": [{\"colorbar\": {\"outlinewidth\": 0, \"ticks\": \"\"}, \"type\": \"choropleth\"}], \"contour\": [{\"colorbar\": {\"outlinewidth\": 0, \"ticks\": \"\"}, \"colorscale\": [[0.0, \"#0d0887\"], [0.1111111111111111, \"#46039f\"], [0.2222222222222222, \"#7201a8\"], [0.3333333333333333, \"#9c179e\"], [0.4444444444444444, \"#bd3786\"], [0.5555555555555556, \"#d8576b\"], [0.6666666666666666, \"#ed7953\"], [0.7777777777777778, \"#fb9f3a\"], [0.8888888888888888, \"#fdca26\"], [1.0, \"#f0f921\"]], \"type\": \"contour\"}], \"contourcarpet\": [{\"colorbar\": {\"outlinewidth\": 0, \"ticks\": \"\"}, \"type\": \"contourcarpet\"}], \"heatmap\": [{\"colorbar\": {\"outlinewidth\": 0, \"ticks\": \"\"}, \"colorscale\": [[0.0, \"#0d0887\"], [0.1111111111111111, \"#46039f\"], [0.2222222222222222, \"#7201a8\"], [0.3333333333333333, \"#9c179e\"], [0.4444444444444444, \"#bd3786\"], [0.5555555555555556, \"#d8576b\"], [0.6666666666666666, \"#ed7953\"], [0.7777777777777778, \"#fb9f3a\"], [0.8888888888888888, \"#fdca26\"], [1.0, \"#f0f921\"]], \"type\": \"heatmap\"}], \"heatmapgl\": [{\"colorbar\": {\"outlinewidth\": 0, \"ticks\": \"\"}, \"colorscale\": [[0.0, \"#0d0887\"], [0.1111111111111111, \"#46039f\"], [0.2222222222222222, \"#7201a8\"], [0.3333333333333333, \"#9c179e\"], [0.4444444444444444, \"#bd3786\"], [0.5555555555555556, \"#d8576b\"], [0.6666666666666666, \"#ed7953\"], [0.7777777777777778, \"#fb9f3a\"], [0.8888888888888888, \"#fdca26\"], [1.0, \"#f0f921\"]], \"type\": \"heatmapgl\"}], \"histogram\": [{\"marker\": {\"colorbar\": {\"outlinewidth\": 0, \"ticks\": \"\"}}, \"type\": \"histogram\"}], \"histogram2d\": [{\"colorbar\": {\"outlinewidth\": 0, \"ticks\": \"\"}, \"colorscale\": [[0.0, \"#0d0887\"], [0.1111111111111111, \"#46039f\"], [0.2222222222222222, \"#7201a8\"], [0.3333333333333333, \"#9c179e\"], [0.4444444444444444, \"#bd3786\"], [0.5555555555555556, \"#d8576b\"], [0.6666666666666666, \"#ed7953\"], [0.7777777777777778, \"#fb9f3a\"], [0.8888888888888888, \"#fdca26\"], [1.0, \"#f0f921\"]], \"type\": \"histogram2d\"}], \"histogram2dcontour\": [{\"colorbar\": {\"outlinewidth\": 0, \"ticks\": \"\"}, \"colorscale\": [[0.0, \"#0d0887\"], [0.1111111111111111, \"#46039f\"], [0.2222222222222222, \"#7201a8\"], [0.3333333333333333, \"#9c179e\"], [0.4444444444444444, \"#bd3786\"], [0.5555555555555556, \"#d8576b\"], [0.6666666666666666, \"#ed7953\"], [0.7777777777777778, \"#fb9f3a\"], [0.8888888888888888, \"#fdca26\"], [1.0, \"#f0f921\"]], \"type\": \"histogram2dcontour\"}], \"mesh3d\": [{\"colorbar\": {\"outlinewidth\": 0, \"ticks\": \"\"}, \"type\": \"mesh3d\"}], \"parcoords\": [{\"line\": {\"colorbar\": {\"outlinewidth\": 0, \"ticks\": \"\"}}, \"type\": \"parcoords\"}], \"pie\": [{\"automargin\": true, \"type\": \"pie\"}], \"scatter\": [{\"marker\": {\"colorbar\": {\"outlinewidth\": 0, \"ticks\": \"\"}}, \"type\": \"scatter\"}], \"scatter3d\": [{\"line\": {\"colorbar\": {\"outlinewidth\": 0, \"ticks\": \"\"}}, \"marker\": {\"colorbar\": {\"outlinewidth\": 0, \"ticks\": \"\"}}, \"type\": \"scatter3d\"}], \"scattercarpet\": [{\"marker\": {\"colorbar\": {\"outlinewidth\": 0, \"ticks\": \"\"}}, \"type\": \"scattercarpet\"}], \"scattergeo\": [{\"marker\": {\"colorbar\": {\"outlinewidth\": 0, \"ticks\": \"\"}}, \"type\": \"scattergeo\"}], \"scattergl\": [{\"marker\": {\"colorbar\": {\"outlinewidth\": 0, \"ticks\": \"\"}}, \"type\": \"scattergl\"}], \"scattermapbox\": [{\"marker\": {\"colorbar\": {\"outlinewidth\": 0, \"ticks\": \"\"}}, \"type\": \"scattermapbox\"}], \"scatterpolar\": [{\"marker\": {\"colorbar\": {\"outlinewidth\": 0, \"ticks\": \"\"}}, \"type\": \"scatterpolar\"}], \"scatterpolargl\": [{\"marker\": {\"colorbar\": {\"outlinewidth\": 0, \"ticks\": \"\"}}, \"type\": \"scatterpolargl\"}], \"scatterternary\": [{\"marker\": {\"colorbar\": {\"outlinewidth\": 0, \"ticks\": \"\"}}, \"type\": \"scatterternary\"}], \"surface\": [{\"colorbar\": {\"outlinewidth\": 0, \"ticks\": \"\"}, \"colorscale\": [[0.0, \"#0d0887\"], [0.1111111111111111, \"#46039f\"], [0.2222222222222222, \"#7201a8\"], [0.3333333333333333, \"#9c179e\"], [0.4444444444444444, \"#bd3786\"], [0.5555555555555556, \"#d8576b\"], [0.6666666666666666, \"#ed7953\"], [0.7777777777777778, \"#fb9f3a\"], [0.8888888888888888, \"#fdca26\"], [1.0, \"#f0f921\"]], \"type\": \"surface\"}], \"table\": [{\"cells\": {\"fill\": {\"color\": \"#EBF0F8\"}, \"line\": {\"color\": \"white\"}}, \"header\": {\"fill\": {\"color\": \"#C8D4E3\"}, \"line\": {\"color\": \"white\"}}, \"type\": \"table\"}]}, \"layout\": {\"annotationdefaults\": {\"arrowcolor\": \"#2a3f5f\", \"arrowhead\": 0, \"arrowwidth\": 1}, \"coloraxis\": {\"colorbar\": {\"outlinewidth\": 0, \"ticks\": \"\"}}, \"colorscale\": {\"diverging\": [[0, \"#8e0152\"], [0.1, \"#c51b7d\"], [0.2, \"#de77ae\"], [0.3, \"#f1b6da\"], [0.4, \"#fde0ef\"], [0.5, \"#f7f7f7\"], [0.6, \"#e6f5d0\"], [0.7, \"#b8e186\"], [0.8, \"#7fbc41\"], [0.9, \"#4d9221\"], [1, \"#276419\"]], \"sequential\": [[0.0, \"#0d0887\"], [0.1111111111111111, \"#46039f\"], [0.2222222222222222, \"#7201a8\"], [0.3333333333333333, \"#9c179e\"], [0.4444444444444444, \"#bd3786\"], [0.5555555555555556, \"#d8576b\"], [0.6666666666666666, \"#ed7953\"], [0.7777777777777778, \"#fb9f3a\"], [0.8888888888888888, \"#fdca26\"], [1.0, \"#f0f921\"]], \"sequentialminus\": [[0.0, \"#0d0887\"], [0.1111111111111111, \"#46039f\"], [0.2222222222222222, \"#7201a8\"], [0.3333333333333333, \"#9c179e\"], [0.4444444444444444, \"#bd3786\"], [0.5555555555555556, \"#d8576b\"], [0.6666666666666666, \"#ed7953\"], [0.7777777777777778, \"#fb9f3a\"], [0.8888888888888888, \"#fdca26\"], [1.0, \"#f0f921\"]]}, \"colorway\": [\"#636efa\", \"#EF553B\", \"#00cc96\", \"#ab63fa\", \"#FFA15A\", \"#19d3f3\", \"#FF6692\", \"#B6E880\", \"#FF97FF\", \"#FECB52\"], \"font\": {\"color\": \"#2a3f5f\"}, \"geo\": {\"bgcolor\": \"white\", \"lakecolor\": \"white\", \"landcolor\": \"#E5ECF6\", \"showlakes\": true, \"showland\": true, \"subunitcolor\": \"white\"}, \"hoverlabel\": {\"align\": \"left\"}, \"hovermode\": \"closest\", \"mapbox\": {\"style\": \"light\"}, \"paper_bgcolor\": \"white\", \"plot_bgcolor\": \"#E5ECF6\", \"polar\": {\"angularaxis\": {\"gridcolor\": \"white\", \"linecolor\": \"white\", \"ticks\": \"\"}, \"bgcolor\": \"#E5ECF6\", \"radialaxis\": {\"gridcolor\": \"white\", \"linecolor\": \"white\", \"ticks\": \"\"}}, \"scene\": {\"xaxis\": {\"backgroundcolor\": \"#E5ECF6\", \"gridcolor\": \"white\", \"gridwidth\": 2, \"linecolor\": \"white\", \"showbackground\": true, \"ticks\": \"\", \"zerolinecolor\": \"white\"}, \"yaxis\": {\"backgroundcolor\": \"#E5ECF6\", \"gridcolor\": \"white\", \"gridwidth\": 2, \"linecolor\": \"white\", \"showbackground\": true, \"ticks\": \"\", \"zerolinecolor\": \"white\"}, \"zaxis\": {\"backgroundcolor\": \"#E5ECF6\", \"gridcolor\": \"white\", \"gridwidth\": 2, \"linecolor\": \"white\", \"showbackground\": true, \"ticks\": \"\", \"zerolinecolor\": \"white\"}}, \"shapedefaults\": {\"line\": {\"color\": \"#2a3f5f\"}}, \"ternary\": {\"aaxis\": {\"gridcolor\": \"white\", \"linecolor\": \"white\", \"ticks\": \"\"}, \"baxis\": {\"gridcolor\": \"white\", \"linecolor\": \"white\", \"ticks\": \"\"}, \"bgcolor\": \"#E5ECF6\", \"caxis\": {\"gridcolor\": \"white\", \"linecolor\": \"white\", \"ticks\": \"\"}}, \"title\": {\"x\": 0.05}, \"xaxis\": {\"automargin\": true, \"gridcolor\": \"white\", \"linecolor\": \"white\", \"ticks\": \"\", \"title\": {\"standoff\": 15}, \"zerolinecolor\": \"white\", \"zerolinewidth\": 2}, \"yaxis\": {\"automargin\": true, \"gridcolor\": \"white\", \"linecolor\": \"white\", \"ticks\": \"\", \"title\": {\"standoff\": 15}, \"zerolinecolor\": \"white\", \"zerolinewidth\": 2}}}, \"title\": {\"font\": {\"color\": \"#4D5663\"}}, \"xaxis\": {\"gridcolor\": \"#E1E5ED\", \"showgrid\": true, \"tickfont\": {\"color\": \"#4D5663\"}, \"title\": {\"font\": {\"color\": \"#4D5663\"}, \"text\": \"\"}, \"zerolinecolor\": \"#E1E5ED\"}, \"yaxis\": {\"gridcolor\": \"#E1E5ED\", \"showgrid\": true, \"tickfont\": {\"color\": \"#4D5663\"}, \"title\": {\"font\": {\"color\": \"#4D5663\"}, \"text\": \"\"}, \"zerolinecolor\": \"#E1E5ED\"}},\n",
       "                        {\"showLink\": true, \"linkText\": \"Export to plot.ly\", \"plotlyServerURL\": \"https://plot.ly\", \"responsive\": true}\n",
       "                    ).then(function(){\n",
       "                            \n",
       "var gd = document.getElementById('4cbf27bb-be30-4d68-8638-33a9899a4b5e');\n",
       "var x = new MutationObserver(function (mutations, observer) {{\n",
       "        var display = window.getComputedStyle(gd).display;\n",
       "        if (!display || display === 'none') {{\n",
       "            console.log([gd, 'removed!']);\n",
       "            Plotly.purge(gd);\n",
       "            observer.disconnect();\n",
       "        }}\n",
       "}});\n",
       "\n",
       "// Listen for the removal of the full notebook cells\n",
       "var notebookContainer = gd.closest('#notebook-container');\n",
       "if (notebookContainer) {{\n",
       "    x.observe(notebookContainer, {childList: true});\n",
       "}}\n",
       "\n",
       "// Listen for the clearing of the current output cell\n",
       "var outputEl = gd.closest('.output');\n",
       "if (outputEl) {{\n",
       "    x.observe(outputEl, {childList: true});\n",
       "}}\n",
       "\n",
       "                        })\n",
       "                };\n",
       "                });\n",
       "            </script>\n",
       "        </div>"
      ]
     },
     "metadata": {},
     "output_type": "display_data"
    }
   ],
   "source": [
    "df.count().iplot(kind='bar')"
   ]
  },
  {
   "cell_type": "markdown",
   "metadata": {},
   "source": [
    "## Boxplots"
   ]
  },
  {
   "cell_type": "code",
   "execution_count": 14,
   "metadata": {},
   "outputs": [
    {
     "data": {
      "application/vnd.plotly.v1+json": {
       "config": {
        "linkText": "Export to plot.ly",
        "plotlyServerURL": "https://plot.ly",
        "showLink": true
       },
       "data": [
        {
         "boxpoints": false,
         "line": {
          "width": 1.3
         },
         "marker": {
          "color": "rgba(255, 153, 51, 1.0)"
         },
         "name": "A",
         "orientation": "v",
         "type": "box",
         "y": [
          0.9863925971035367,
          -0.551507821584642,
          1.2104910088148675,
          -0.3630595285051773,
          0.46873763546514047,
          0.26593957464707885,
          -0.5937216939189025,
          -1.364244266971046,
          -0.2540693709928275,
          -1.2830587933734412,
          1.281390741792193,
          -0.3343680481188946,
          -0.3825594509405097,
          0.021087443582469643,
          0.6471309447546121,
          -1.4147694856733755,
          1.339202836038361,
          0.3390041601557001,
          0.10485762693215445,
          0.5152538280419234,
          -0.9369459989184609,
          -2.175788440576683,
          -1.1362774454491336,
          1.3527148275259664,
          1.4702499643356384,
          1.4124870558300326,
          -0.9878582741905485,
          0.1127751813840683,
          -0.5126472661761328,
          0.4067609905375987,
          0.6071808563561845,
          -0.37915216043306865,
          -2.876721926137452,
          -0.33918228700985903,
          0.10504300019166042,
          -0.5774186612820098,
          -0.4388265947198578,
          -0.055176976254413895,
          -0.36616500182468037,
          -0.2929114866068684,
          0.7014228110844198,
          0.1306964615045626,
          0.6596028015175316,
          -1.1429942684320047,
          0.47568171728166164,
          1.2962465194153023,
          0.8460892263421502,
          0.42102746077643927,
          0.866184163058826,
          -0.08087723804487756,
          0.06907309802472945,
          -0.3200834042314787,
          0.7939731228226196,
          -0.26558550941047,
          -0.29524694386838995,
          0.27060817727113556,
          0.36561627515557454,
          -0.5599247565685864,
          0.7441531233347232,
          -0.6814710370963094,
          1.8221454972624809,
          0.4019139577863046,
          0.25839538612264057,
          -1.1980916669750947,
          0.34449618768897405,
          -1.021139797801242,
          0.6537320811984445,
          -0.7314199792059191,
          2.1826040042648733,
          -0.9563736641559415,
          -0.6783338604068041,
          -0.6702093617726054,
          0.33912561228172344,
          0.13988069172984913,
          1.1750087445530144,
          0.23062024779877058,
          0.019329480186717436,
          -0.6342151389972552,
          -0.714518709757769,
          -1.3770377775555394,
          0.7226762173743683,
          0.5347943858978389,
          -1.625074933335793,
          -1.103365996026399,
          -1.8484187247942057,
          -0.2933657169598747,
          -1.0379228872326074,
          -1.687486818385531,
          0.15763302190875925,
          -0.9917526514489864,
          -1.401998191292997,
          1.1685273716607132,
          -1.0924765499868767,
          1.1004984383673553,
          0.3024430062455109,
          -0.6451062450746639,
          0.4270100442054658,
          1.2814804808958185,
          0.4071866322407583,
          1.3737594623042046
         ]
        },
        {
         "boxpoints": false,
         "line": {
          "width": 1.3
         },
         "marker": {
          "color": "rgba(55, 128, 191, 1.0)"
         },
         "name": "B",
         "orientation": "v",
         "type": "box",
         "y": [
          -1.491962523268668,
          -0.9863979319163781,
          -1.3706498912781242,
          -0.7283635054127434,
          -0.9556433947549499,
          -1.3776178280637075,
          -1.3282354767457958,
          0.4160855389008612,
          0.8245390833958657,
          -0.9386012985882881,
          -1.417146166990188,
          -0.2364962639674241,
          0.9555674388527511,
          0.32733012189391536,
          -0.844901615660728,
          0.5292929788219688,
          0.3696349580137423,
          -2.1581092479697417,
          1.1308247542325691,
          0.27079868876702035,
          -1.3700993932378516,
          1.822386519008439,
          1.2739493109373479,
          1.6860005870956005,
          1.0437955602263596,
          0.052187775820577716,
          -0.5129959686672352,
          -0.23642446542680795,
          2.0259746549928086,
          -0.6274963571844351,
          -0.20405423953078541,
          -1.4551299158129842,
          3.0083803245440226,
          -0.18200247569988784,
          -0.09655369744753517,
          0.5396269998034693,
          1.3526844847337924,
          0.5479447363690005,
          0.5003806017756498,
          0.38092478986333167,
          -0.6987050732978389,
          0.728950705242152,
          -0.07099017268241205,
          -0.17718643626418312,
          -1.2329612788960118,
          1.098371360403441,
          0.9228538361483437,
          -0.08551957529581292,
          -0.4380008002662748,
          0.19342006507323398,
          0.032302851769381594,
          1.0745637263936598,
          -0.34905775053086974,
          -0.38387650619720814,
          1.008613308424497,
          -1.1197072632192004,
          1.682262651833673,
          -0.6460412773663219,
          0.9117982447939869,
          0.06286202422433096,
          -0.6160075662848656,
          0.26695888931062,
          -0.15823583458025905,
          0.6707760460041554,
          1.782480813946048,
          -0.41806235648299156,
          0.9920882878881456,
          0.35393270682555716,
          -0.2821919585487452,
          -0.14034262729735977,
          -0.12211237075763812,
          -0.5409052719458001,
          -1.3106360584065184,
          -2.38683273001778,
          0.8329521217275093,
          0.1894540858494092,
          -0.5828241905753845,
          -1.4000380259065652,
          -1.5524571025879703,
          0.4128822340825146,
          -0.011762531518228102,
          -1.2652525410519582,
          1.455953610317138,
          0.9623467225545896,
          1.0607117432751054,
          -1.9516748560022805,
          -2.7387496811679237,
          0.028105306029023693,
          -0.6562471399526576,
          -0.236204261305822,
          1.1557779022072985,
          -0.727744455299941,
          0.4782040528002768,
          -0.6197213069086959,
          1.775528183886076,
          -1.4722901211034423,
          0.5089895879395171,
          1.1362057227381976,
          0.2163217689984764,
          1.0544547503433614
         ]
        },
        {
         "boxpoints": false,
         "line": {
          "width": 1.3
         },
         "marker": {
          "color": "rgba(50, 171, 96, 1.0)"
         },
         "name": "C",
         "orientation": "v",
         "type": "box",
         "y": [
          0.16586369391649003,
          -1.4796747778385209,
          1.353882782073457,
          0.6690403840694343,
          -0.6731449945372039,
          -0.4639434412690871,
          0.1398903478420584,
          -0.13616605538047377,
          0.6008855469250013,
          -0.7848926486896209,
          2.15448974818836,
          -1.1366303271967941,
          1.3457170525043274,
          -0.17286241460450932,
          -1.4202640203018966,
          1.1458920281969234,
          0.11741579107613459,
          -0.5523446755785217,
          -0.385670831515714,
          -0.7343121510552004,
          2.3058888471219787,
          -0.7082705812461266,
          0.9606258074845863,
          0.7620209809459613,
          1.227596624389157,
          -0.9155110248770371,
          -0.8778999106664441,
          -0.4069692113801471,
          0.8565509276228673,
          -0.31130826481789986,
          0.7259647114785005,
          -0.943249004760023,
          0.9557241135762701,
          -0.5109182780887803,
          0.26588855415850327,
          0.783729819177189,
          0.4265288393112757,
          -1.5107072300787645,
          -1.3354543451684608,
          -1.4377624388533194,
          1.9103934202625568,
          0.410358862929227,
          -2.4145148099145244,
          -0.8724711402738758,
          -0.35684353384457884,
          1.218752123974974,
          -0.4324084960153836,
          -0.5927012514360849,
          -0.26766167380186007,
          -0.11861077967913622,
          -1.247380732043506,
          -1.5472176119168095,
          1.3630331808086191,
          -0.4844994600332298,
          1.2593898933078833,
          -0.7826988086844159,
          -0.03468140174155823,
          -1.1591768122282675,
          0.5913001829779262,
          0.3235330540953591,
          0.5285887391369402,
          1.812636284002745,
          -0.049029982321186064,
          1.8749045267829207,
          -0.7549923802291525,
          -0.9556902480565279,
          -0.3256232716002783,
          1.1943814511903086,
          -0.3882965400705218,
          1.5074383920020515,
          2.7006353446390996,
          -0.8612312678732079,
          -0.6032001138009844,
          1.8725063480729862,
          0.19287376909810464,
          -0.5664278599519131,
          2.3616410309692624,
          1.2860262977429453,
          0.8219404204393114,
          -1.0306443825972005,
          -0.0024666046284393963,
          -0.5399799308358226,
          0.8112294386617203,
          -0.160056732285508,
          0.394771619078201,
          3.9326340854457666,
          1.2756886712677278,
          -1.9340487988166735,
          -2.406610600058228,
          0.30003171069719137,
          -0.44497554975654857,
          0.6661756157717057,
          0.6882925549413913,
          -0.4485516080963447,
          0.6830258037128837,
          -0.0031320649349308705,
          -0.4129255593693611,
          0.48142864938863755,
          0.8124623685513269,
          0.9649362875117578
         ]
        },
        {
         "boxpoints": false,
         "line": {
          "width": 1.3
         },
         "marker": {
          "color": "rgba(128, 0, 128, 1.0)"
         },
         "name": "D",
         "orientation": "v",
         "type": "box",
         "y": [
          -0.35436219083694637,
          -1.013502751723658,
          -0.7292327921577556,
          -0.09309262719026408,
          -0.41110593494748554,
          0.16604532245315753,
          1.3683655712813747,
          -1.9152725078309527,
          -0.05174789358429129,
          0.7978993837338012,
          -0.6443201424120104,
          -1.0890863271658004,
          0.26427310894034084,
          -0.5159754781043415,
          0.30786041376620854,
          1.2580435868082198,
          -0.6966927232858101,
          -0.1816704223642784,
          -0.7907444980741134,
          -0.1361072560161668,
          0.8023623771509054,
          -0.2379939293736548,
          -0.5754603382638555,
          1.0240444959561954,
          -0.4197568954883138,
          -0.15686405274195983,
          -1.2660068301862717,
          -0.09273245967387625,
          0.4568936780540992,
          -0.0884321878162847,
          0.010460874864243644,
          1.2053006143375258,
          1.6339618104383413,
          0.35978236157848964,
          2.0011516356730668,
          1.6754156470124884,
          -0.4670887358142812,
          -0.7017165007032741,
          -2.2547796392880373,
          1.6822190923119495,
          -1.6277178566711121,
          0.40933097272574753,
          -0.9243939243758164,
          -0.6624527300289607,
          -1.1715105124687846,
          0.01638491102218486,
          -0.7798877838013948,
          0.28180342801408714,
          -0.05964861793842602,
          1.8923923101530173,
          1.3188096301772692,
          0.5138137093164855,
          0.02838961888974531,
          -1.4359842845062605,
          1.2290916503858846,
          -0.13273213257976044,
          0.3000577762986384,
          -1.3208068617245192,
          1.0305256250013348,
          0.7426248780172283,
          -0.7076716949888867,
          -1.6057738932860781,
          -2.213910587692275,
          -1.972353554772055,
          -1.7297879441601323,
          -0.006405186034625153,
          -0.4719625253825586,
          -0.10345908019707348,
          0.044235648530631784,
          -0.13472042008963067,
          -1.830431490663404,
          -0.9483993040118233,
          -0.4534379484068572,
          -0.7958733138734924,
          1.8808608130207245,
          -0.23234708424105013,
          -0.34671527906493904,
          -2.0596731181007795,
          0.6460380085217425,
          -0.9133269759341058,
          -1.0774321294457374,
          0.4392178119616056,
          -0.21981055867337426,
          -0.5462871825156912,
          -0.7319311560493941,
          -0.8676452114985064,
          -1.1966070728425546,
          0.967844201788307,
          0.3724414286449778,
          0.9856881106901605,
          0.9054258178782889,
          -0.07212885469978308,
          -0.6420501704057415,
          -0.837754823198033,
          -0.7315121223136304,
          -0.6999732681944199,
          0.005325252401586591,
          1.004014137896582,
          0.6065922115413797,
          0.6331805787419147
         ]
        }
       ],
       "layout": {
        "legend": {
         "bgcolor": "#F5F6F9",
         "font": {
          "color": "#4D5663"
         }
        },
        "paper_bgcolor": "#F5F6F9",
        "plot_bgcolor": "#F5F6F9",
        "template": {
         "data": {
          "bar": [
           {
            "error_x": {
             "color": "#2a3f5f"
            },
            "error_y": {
             "color": "#2a3f5f"
            },
            "marker": {
             "line": {
              "color": "#E5ECF6",
              "width": 0.5
             }
            },
            "type": "bar"
           }
          ],
          "barpolar": [
           {
            "marker": {
             "line": {
              "color": "#E5ECF6",
              "width": 0.5
             }
            },
            "type": "barpolar"
           }
          ],
          "carpet": [
           {
            "aaxis": {
             "endlinecolor": "#2a3f5f",
             "gridcolor": "white",
             "linecolor": "white",
             "minorgridcolor": "white",
             "startlinecolor": "#2a3f5f"
            },
            "baxis": {
             "endlinecolor": "#2a3f5f",
             "gridcolor": "white",
             "linecolor": "white",
             "minorgridcolor": "white",
             "startlinecolor": "#2a3f5f"
            },
            "type": "carpet"
           }
          ],
          "choropleth": [
           {
            "colorbar": {
             "outlinewidth": 0,
             "ticks": ""
            },
            "type": "choropleth"
           }
          ],
          "contour": [
           {
            "colorbar": {
             "outlinewidth": 0,
             "ticks": ""
            },
            "colorscale": [
             [
              0,
              "#0d0887"
             ],
             [
              0.1111111111111111,
              "#46039f"
             ],
             [
              0.2222222222222222,
              "#7201a8"
             ],
             [
              0.3333333333333333,
              "#9c179e"
             ],
             [
              0.4444444444444444,
              "#bd3786"
             ],
             [
              0.5555555555555556,
              "#d8576b"
             ],
             [
              0.6666666666666666,
              "#ed7953"
             ],
             [
              0.7777777777777778,
              "#fb9f3a"
             ],
             [
              0.8888888888888888,
              "#fdca26"
             ],
             [
              1,
              "#f0f921"
             ]
            ],
            "type": "contour"
           }
          ],
          "contourcarpet": [
           {
            "colorbar": {
             "outlinewidth": 0,
             "ticks": ""
            },
            "type": "contourcarpet"
           }
          ],
          "heatmap": [
           {
            "colorbar": {
             "outlinewidth": 0,
             "ticks": ""
            },
            "colorscale": [
             [
              0,
              "#0d0887"
             ],
             [
              0.1111111111111111,
              "#46039f"
             ],
             [
              0.2222222222222222,
              "#7201a8"
             ],
             [
              0.3333333333333333,
              "#9c179e"
             ],
             [
              0.4444444444444444,
              "#bd3786"
             ],
             [
              0.5555555555555556,
              "#d8576b"
             ],
             [
              0.6666666666666666,
              "#ed7953"
             ],
             [
              0.7777777777777778,
              "#fb9f3a"
             ],
             [
              0.8888888888888888,
              "#fdca26"
             ],
             [
              1,
              "#f0f921"
             ]
            ],
            "type": "heatmap"
           }
          ],
          "heatmapgl": [
           {
            "colorbar": {
             "outlinewidth": 0,
             "ticks": ""
            },
            "colorscale": [
             [
              0,
              "#0d0887"
             ],
             [
              0.1111111111111111,
              "#46039f"
             ],
             [
              0.2222222222222222,
              "#7201a8"
             ],
             [
              0.3333333333333333,
              "#9c179e"
             ],
             [
              0.4444444444444444,
              "#bd3786"
             ],
             [
              0.5555555555555556,
              "#d8576b"
             ],
             [
              0.6666666666666666,
              "#ed7953"
             ],
             [
              0.7777777777777778,
              "#fb9f3a"
             ],
             [
              0.8888888888888888,
              "#fdca26"
             ],
             [
              1,
              "#f0f921"
             ]
            ],
            "type": "heatmapgl"
           }
          ],
          "histogram": [
           {
            "marker": {
             "colorbar": {
              "outlinewidth": 0,
              "ticks": ""
             }
            },
            "type": "histogram"
           }
          ],
          "histogram2d": [
           {
            "colorbar": {
             "outlinewidth": 0,
             "ticks": ""
            },
            "colorscale": [
             [
              0,
              "#0d0887"
             ],
             [
              0.1111111111111111,
              "#46039f"
             ],
             [
              0.2222222222222222,
              "#7201a8"
             ],
             [
              0.3333333333333333,
              "#9c179e"
             ],
             [
              0.4444444444444444,
              "#bd3786"
             ],
             [
              0.5555555555555556,
              "#d8576b"
             ],
             [
              0.6666666666666666,
              "#ed7953"
             ],
             [
              0.7777777777777778,
              "#fb9f3a"
             ],
             [
              0.8888888888888888,
              "#fdca26"
             ],
             [
              1,
              "#f0f921"
             ]
            ],
            "type": "histogram2d"
           }
          ],
          "histogram2dcontour": [
           {
            "colorbar": {
             "outlinewidth": 0,
             "ticks": ""
            },
            "colorscale": [
             [
              0,
              "#0d0887"
             ],
             [
              0.1111111111111111,
              "#46039f"
             ],
             [
              0.2222222222222222,
              "#7201a8"
             ],
             [
              0.3333333333333333,
              "#9c179e"
             ],
             [
              0.4444444444444444,
              "#bd3786"
             ],
             [
              0.5555555555555556,
              "#d8576b"
             ],
             [
              0.6666666666666666,
              "#ed7953"
             ],
             [
              0.7777777777777778,
              "#fb9f3a"
             ],
             [
              0.8888888888888888,
              "#fdca26"
             ],
             [
              1,
              "#f0f921"
             ]
            ],
            "type": "histogram2dcontour"
           }
          ],
          "mesh3d": [
           {
            "colorbar": {
             "outlinewidth": 0,
             "ticks": ""
            },
            "type": "mesh3d"
           }
          ],
          "parcoords": [
           {
            "line": {
             "colorbar": {
              "outlinewidth": 0,
              "ticks": ""
             }
            },
            "type": "parcoords"
           }
          ],
          "pie": [
           {
            "automargin": true,
            "type": "pie"
           }
          ],
          "scatter": [
           {
            "marker": {
             "colorbar": {
              "outlinewidth": 0,
              "ticks": ""
             }
            },
            "type": "scatter"
           }
          ],
          "scatter3d": [
           {
            "line": {
             "colorbar": {
              "outlinewidth": 0,
              "ticks": ""
             }
            },
            "marker": {
             "colorbar": {
              "outlinewidth": 0,
              "ticks": ""
             }
            },
            "type": "scatter3d"
           }
          ],
          "scattercarpet": [
           {
            "marker": {
             "colorbar": {
              "outlinewidth": 0,
              "ticks": ""
             }
            },
            "type": "scattercarpet"
           }
          ],
          "scattergeo": [
           {
            "marker": {
             "colorbar": {
              "outlinewidth": 0,
              "ticks": ""
             }
            },
            "type": "scattergeo"
           }
          ],
          "scattergl": [
           {
            "marker": {
             "colorbar": {
              "outlinewidth": 0,
              "ticks": ""
             }
            },
            "type": "scattergl"
           }
          ],
          "scattermapbox": [
           {
            "marker": {
             "colorbar": {
              "outlinewidth": 0,
              "ticks": ""
             }
            },
            "type": "scattermapbox"
           }
          ],
          "scatterpolar": [
           {
            "marker": {
             "colorbar": {
              "outlinewidth": 0,
              "ticks": ""
             }
            },
            "type": "scatterpolar"
           }
          ],
          "scatterpolargl": [
           {
            "marker": {
             "colorbar": {
              "outlinewidth": 0,
              "ticks": ""
             }
            },
            "type": "scatterpolargl"
           }
          ],
          "scatterternary": [
           {
            "marker": {
             "colorbar": {
              "outlinewidth": 0,
              "ticks": ""
             }
            },
            "type": "scatterternary"
           }
          ],
          "surface": [
           {
            "colorbar": {
             "outlinewidth": 0,
             "ticks": ""
            },
            "colorscale": [
             [
              0,
              "#0d0887"
             ],
             [
              0.1111111111111111,
              "#46039f"
             ],
             [
              0.2222222222222222,
              "#7201a8"
             ],
             [
              0.3333333333333333,
              "#9c179e"
             ],
             [
              0.4444444444444444,
              "#bd3786"
             ],
             [
              0.5555555555555556,
              "#d8576b"
             ],
             [
              0.6666666666666666,
              "#ed7953"
             ],
             [
              0.7777777777777778,
              "#fb9f3a"
             ],
             [
              0.8888888888888888,
              "#fdca26"
             ],
             [
              1,
              "#f0f921"
             ]
            ],
            "type": "surface"
           }
          ],
          "table": [
           {
            "cells": {
             "fill": {
              "color": "#EBF0F8"
             },
             "line": {
              "color": "white"
             }
            },
            "header": {
             "fill": {
              "color": "#C8D4E3"
             },
             "line": {
              "color": "white"
             }
            },
            "type": "table"
           }
          ]
         },
         "layout": {
          "annotationdefaults": {
           "arrowcolor": "#2a3f5f",
           "arrowhead": 0,
           "arrowwidth": 1
          },
          "coloraxis": {
           "colorbar": {
            "outlinewidth": 0,
            "ticks": ""
           }
          },
          "colorscale": {
           "diverging": [
            [
             0,
             "#8e0152"
            ],
            [
             0.1,
             "#c51b7d"
            ],
            [
             0.2,
             "#de77ae"
            ],
            [
             0.3,
             "#f1b6da"
            ],
            [
             0.4,
             "#fde0ef"
            ],
            [
             0.5,
             "#f7f7f7"
            ],
            [
             0.6,
             "#e6f5d0"
            ],
            [
             0.7,
             "#b8e186"
            ],
            [
             0.8,
             "#7fbc41"
            ],
            [
             0.9,
             "#4d9221"
            ],
            [
             1,
             "#276419"
            ]
           ],
           "sequential": [
            [
             0,
             "#0d0887"
            ],
            [
             0.1111111111111111,
             "#46039f"
            ],
            [
             0.2222222222222222,
             "#7201a8"
            ],
            [
             0.3333333333333333,
             "#9c179e"
            ],
            [
             0.4444444444444444,
             "#bd3786"
            ],
            [
             0.5555555555555556,
             "#d8576b"
            ],
            [
             0.6666666666666666,
             "#ed7953"
            ],
            [
             0.7777777777777778,
             "#fb9f3a"
            ],
            [
             0.8888888888888888,
             "#fdca26"
            ],
            [
             1,
             "#f0f921"
            ]
           ],
           "sequentialminus": [
            [
             0,
             "#0d0887"
            ],
            [
             0.1111111111111111,
             "#46039f"
            ],
            [
             0.2222222222222222,
             "#7201a8"
            ],
            [
             0.3333333333333333,
             "#9c179e"
            ],
            [
             0.4444444444444444,
             "#bd3786"
            ],
            [
             0.5555555555555556,
             "#d8576b"
            ],
            [
             0.6666666666666666,
             "#ed7953"
            ],
            [
             0.7777777777777778,
             "#fb9f3a"
            ],
            [
             0.8888888888888888,
             "#fdca26"
            ],
            [
             1,
             "#f0f921"
            ]
           ]
          },
          "colorway": [
           "#636efa",
           "#EF553B",
           "#00cc96",
           "#ab63fa",
           "#FFA15A",
           "#19d3f3",
           "#FF6692",
           "#B6E880",
           "#FF97FF",
           "#FECB52"
          ],
          "font": {
           "color": "#2a3f5f"
          },
          "geo": {
           "bgcolor": "white",
           "lakecolor": "white",
           "landcolor": "#E5ECF6",
           "showlakes": true,
           "showland": true,
           "subunitcolor": "white"
          },
          "hoverlabel": {
           "align": "left"
          },
          "hovermode": "closest",
          "mapbox": {
           "style": "light"
          },
          "paper_bgcolor": "white",
          "plot_bgcolor": "#E5ECF6",
          "polar": {
           "angularaxis": {
            "gridcolor": "white",
            "linecolor": "white",
            "ticks": ""
           },
           "bgcolor": "#E5ECF6",
           "radialaxis": {
            "gridcolor": "white",
            "linecolor": "white",
            "ticks": ""
           }
          },
          "scene": {
           "xaxis": {
            "backgroundcolor": "#E5ECF6",
            "gridcolor": "white",
            "gridwidth": 2,
            "linecolor": "white",
            "showbackground": true,
            "ticks": "",
            "zerolinecolor": "white"
           },
           "yaxis": {
            "backgroundcolor": "#E5ECF6",
            "gridcolor": "white",
            "gridwidth": 2,
            "linecolor": "white",
            "showbackground": true,
            "ticks": "",
            "zerolinecolor": "white"
           },
           "zaxis": {
            "backgroundcolor": "#E5ECF6",
            "gridcolor": "white",
            "gridwidth": 2,
            "linecolor": "white",
            "showbackground": true,
            "ticks": "",
            "zerolinecolor": "white"
           }
          },
          "shapedefaults": {
           "line": {
            "color": "#2a3f5f"
           }
          },
          "ternary": {
           "aaxis": {
            "gridcolor": "white",
            "linecolor": "white",
            "ticks": ""
           },
           "baxis": {
            "gridcolor": "white",
            "linecolor": "white",
            "ticks": ""
           },
           "bgcolor": "#E5ECF6",
           "caxis": {
            "gridcolor": "white",
            "linecolor": "white",
            "ticks": ""
           }
          },
          "title": {
           "x": 0.05
          },
          "xaxis": {
           "automargin": true,
           "gridcolor": "white",
           "linecolor": "white",
           "ticks": "",
           "title": {
            "standoff": 15
           },
           "zerolinecolor": "white",
           "zerolinewidth": 2
          },
          "yaxis": {
           "automargin": true,
           "gridcolor": "white",
           "linecolor": "white",
           "ticks": "",
           "title": {
            "standoff": 15
           },
           "zerolinecolor": "white",
           "zerolinewidth": 2
          }
         }
        },
        "title": {
         "font": {
          "color": "#4D5663"
         }
        },
        "xaxis": {
         "gridcolor": "#E1E5ED",
         "showgrid": true,
         "tickfont": {
          "color": "#4D5663"
         },
         "title": {
          "font": {
           "color": "#4D5663"
          },
          "text": ""
         },
         "zerolinecolor": "#E1E5ED"
        },
        "yaxis": {
         "gridcolor": "#E1E5ED",
         "showgrid": true,
         "tickfont": {
          "color": "#4D5663"
         },
         "title": {
          "font": {
           "color": "#4D5663"
          },
          "text": ""
         },
         "zerolinecolor": "#E1E5ED"
        }
       }
      },
      "text/html": [
       "<div>\n",
       "        \n",
       "        \n",
       "            <div id=\"a3067eef-95f7-4833-b320-c4bc53941711\" class=\"plotly-graph-div\" style=\"height:525px; width:100%;\"></div>\n",
       "            <script type=\"text/javascript\">\n",
       "                require([\"plotly\"], function(Plotly) {\n",
       "                    window.PLOTLYENV=window.PLOTLYENV || {};\n",
       "                    window.PLOTLYENV.BASE_URL='https://plot.ly';\n",
       "                    \n",
       "                if (document.getElementById(\"a3067eef-95f7-4833-b320-c4bc53941711\")) {\n",
       "                    Plotly.newPlot(\n",
       "                        'a3067eef-95f7-4833-b320-c4bc53941711',\n",
       "                        [{\"boxpoints\": false, \"line\": {\"width\": 1.3}, \"marker\": {\"color\": \"rgba(255, 153, 51, 1.0)\"}, \"name\": \"A\", \"orientation\": \"v\", \"type\": \"box\", \"y\": [0.9863925971035367, -0.551507821584642, 1.2104910088148675, -0.3630595285051773, 0.46873763546514047, 0.26593957464707885, -0.5937216939189025, -1.364244266971046, -0.2540693709928275, -1.2830587933734412, 1.281390741792193, -0.3343680481188946, -0.3825594509405097, 0.021087443582469643, 0.6471309447546121, -1.4147694856733755, 1.339202836038361, 0.3390041601557001, 0.10485762693215445, 0.5152538280419234, -0.9369459989184609, -2.175788440576683, -1.1362774454491336, 1.3527148275259664, 1.4702499643356384, 1.4124870558300326, -0.9878582741905485, 0.1127751813840683, -0.5126472661761328, 0.4067609905375987, 0.6071808563561845, -0.37915216043306865, -2.876721926137452, -0.33918228700985903, 0.10504300019166042, -0.5774186612820098, -0.4388265947198578, -0.055176976254413895, -0.36616500182468037, -0.2929114866068684, 0.7014228110844198, 0.1306964615045626, 0.6596028015175316, -1.1429942684320047, 0.47568171728166164, 1.2962465194153023, 0.8460892263421502, 0.42102746077643927, 0.866184163058826, -0.08087723804487756, 0.06907309802472945, -0.3200834042314787, 0.7939731228226196, -0.26558550941047, -0.29524694386838995, 0.27060817727113556, 0.36561627515557454, -0.5599247565685864, 0.7441531233347232, -0.6814710370963094, 1.8221454972624809, 0.4019139577863046, 0.25839538612264057, -1.1980916669750947, 0.34449618768897405, -1.021139797801242, 0.6537320811984445, -0.7314199792059191, 2.1826040042648733, -0.9563736641559415, -0.6783338604068041, -0.6702093617726054, 0.33912561228172344, 0.13988069172984913, 1.1750087445530144, 0.23062024779877058, 0.019329480186717436, -0.6342151389972552, -0.714518709757769, -1.3770377775555394, 0.7226762173743683, 0.5347943858978389, -1.625074933335793, -1.103365996026399, -1.8484187247942057, -0.2933657169598747, -1.0379228872326074, -1.687486818385531, 0.15763302190875925, -0.9917526514489864, -1.401998191292997, 1.1685273716607132, -1.0924765499868767, 1.1004984383673553, 0.3024430062455109, -0.6451062450746639, 0.4270100442054658, 1.2814804808958185, 0.4071866322407583, 1.3737594623042046]}, {\"boxpoints\": false, \"line\": {\"width\": 1.3}, \"marker\": {\"color\": \"rgba(55, 128, 191, 1.0)\"}, \"name\": \"B\", \"orientation\": \"v\", \"type\": \"box\", \"y\": [-1.491962523268668, -0.9863979319163781, -1.3706498912781242, -0.7283635054127434, -0.9556433947549499, -1.3776178280637075, -1.3282354767457958, 0.4160855389008612, 0.8245390833958657, -0.9386012985882881, -1.417146166990188, -0.2364962639674241, 0.9555674388527511, 0.32733012189391536, -0.844901615660728, 0.5292929788219688, 0.3696349580137423, -2.1581092479697417, 1.1308247542325691, 0.27079868876702035, -1.3700993932378516, 1.822386519008439, 1.2739493109373479, 1.6860005870956005, 1.0437955602263596, 0.052187775820577716, -0.5129959686672352, -0.23642446542680795, 2.0259746549928086, -0.6274963571844351, -0.20405423953078541, -1.4551299158129842, 3.0083803245440226, -0.18200247569988784, -0.09655369744753517, 0.5396269998034693, 1.3526844847337924, 0.5479447363690005, 0.5003806017756498, 0.38092478986333167, -0.6987050732978389, 0.728950705242152, -0.07099017268241205, -0.17718643626418312, -1.2329612788960118, 1.098371360403441, 0.9228538361483437, -0.08551957529581292, -0.4380008002662748, 0.19342006507323398, 0.032302851769381594, 1.0745637263936598, -0.34905775053086974, -0.38387650619720814, 1.008613308424497, -1.1197072632192004, 1.682262651833673, -0.6460412773663219, 0.9117982447939869, 0.06286202422433096, -0.6160075662848656, 0.26695888931062, -0.15823583458025905, 0.6707760460041554, 1.782480813946048, -0.41806235648299156, 0.9920882878881456, 0.35393270682555716, -0.2821919585487452, -0.14034262729735977, -0.12211237075763812, -0.5409052719458001, -1.3106360584065184, -2.38683273001778, 0.8329521217275093, 0.1894540858494092, -0.5828241905753845, -1.4000380259065652, -1.5524571025879703, 0.4128822340825146, -0.011762531518228102, -1.2652525410519582, 1.455953610317138, 0.9623467225545896, 1.0607117432751054, -1.9516748560022805, -2.7387496811679237, 0.028105306029023693, -0.6562471399526576, -0.236204261305822, 1.1557779022072985, -0.727744455299941, 0.4782040528002768, -0.6197213069086959, 1.775528183886076, -1.4722901211034423, 0.5089895879395171, 1.1362057227381976, 0.2163217689984764, 1.0544547503433614]}, {\"boxpoints\": false, \"line\": {\"width\": 1.3}, \"marker\": {\"color\": \"rgba(50, 171, 96, 1.0)\"}, \"name\": \"C\", \"orientation\": \"v\", \"type\": \"box\", \"y\": [0.16586369391649003, -1.4796747778385209, 1.353882782073457, 0.6690403840694343, -0.6731449945372039, -0.4639434412690871, 0.1398903478420584, -0.13616605538047377, 0.6008855469250013, -0.7848926486896209, 2.15448974818836, -1.1366303271967941, 1.3457170525043274, -0.17286241460450932, -1.4202640203018966, 1.1458920281969234, 0.11741579107613459, -0.5523446755785217, -0.385670831515714, -0.7343121510552004, 2.3058888471219787, -0.7082705812461266, 0.9606258074845863, 0.7620209809459613, 1.227596624389157, -0.9155110248770371, -0.8778999106664441, -0.4069692113801471, 0.8565509276228673, -0.31130826481789986, 0.7259647114785005, -0.943249004760023, 0.9557241135762701, -0.5109182780887803, 0.26588855415850327, 0.783729819177189, 0.4265288393112757, -1.5107072300787645, -1.3354543451684608, -1.4377624388533194, 1.9103934202625568, 0.410358862929227, -2.4145148099145244, -0.8724711402738758, -0.35684353384457884, 1.218752123974974, -0.4324084960153836, -0.5927012514360849, -0.26766167380186007, -0.11861077967913622, -1.247380732043506, -1.5472176119168095, 1.3630331808086191, -0.4844994600332298, 1.2593898933078833, -0.7826988086844159, -0.03468140174155823, -1.1591768122282675, 0.5913001829779262, 0.3235330540953591, 0.5285887391369402, 1.812636284002745, -0.049029982321186064, 1.8749045267829207, -0.7549923802291525, -0.9556902480565279, -0.3256232716002783, 1.1943814511903086, -0.3882965400705218, 1.5074383920020515, 2.7006353446390996, -0.8612312678732079, -0.6032001138009844, 1.8725063480729862, 0.19287376909810464, -0.5664278599519131, 2.3616410309692624, 1.2860262977429453, 0.8219404204393114, -1.0306443825972005, -0.0024666046284393963, -0.5399799308358226, 0.8112294386617203, -0.160056732285508, 0.394771619078201, 3.9326340854457666, 1.2756886712677278, -1.9340487988166735, -2.406610600058228, 0.30003171069719137, -0.44497554975654857, 0.6661756157717057, 0.6882925549413913, -0.4485516080963447, 0.6830258037128837, -0.0031320649349308705, -0.4129255593693611, 0.48142864938863755, 0.8124623685513269, 0.9649362875117578]}, {\"boxpoints\": false, \"line\": {\"width\": 1.3}, \"marker\": {\"color\": \"rgba(128, 0, 128, 1.0)\"}, \"name\": \"D\", \"orientation\": \"v\", \"type\": \"box\", \"y\": [-0.35436219083694637, -1.013502751723658, -0.7292327921577556, -0.09309262719026408, -0.41110593494748554, 0.16604532245315753, 1.3683655712813747, -1.9152725078309527, -0.05174789358429129, 0.7978993837338012, -0.6443201424120104, -1.0890863271658004, 0.26427310894034084, -0.5159754781043415, 0.30786041376620854, 1.2580435868082198, -0.6966927232858101, -0.1816704223642784, -0.7907444980741134, -0.1361072560161668, 0.8023623771509054, -0.2379939293736548, -0.5754603382638555, 1.0240444959561954, -0.4197568954883138, -0.15686405274195983, -1.2660068301862717, -0.09273245967387625, 0.4568936780540992, -0.0884321878162847, 0.010460874864243644, 1.2053006143375258, 1.6339618104383413, 0.35978236157848964, 2.0011516356730668, 1.6754156470124884, -0.4670887358142812, -0.7017165007032741, -2.2547796392880373, 1.6822190923119495, -1.6277178566711121, 0.40933097272574753, -0.9243939243758164, -0.6624527300289607, -1.1715105124687846, 0.01638491102218486, -0.7798877838013948, 0.28180342801408714, -0.05964861793842602, 1.8923923101530173, 1.3188096301772692, 0.5138137093164855, 0.02838961888974531, -1.4359842845062605, 1.2290916503858846, -0.13273213257976044, 0.3000577762986384, -1.3208068617245192, 1.0305256250013348, 0.7426248780172283, -0.7076716949888867, -1.6057738932860781, -2.213910587692275, -1.972353554772055, -1.7297879441601323, -0.006405186034625153, -0.4719625253825586, -0.10345908019707348, 0.044235648530631784, -0.13472042008963067, -1.830431490663404, -0.9483993040118233, -0.4534379484068572, -0.7958733138734924, 1.8808608130207245, -0.23234708424105013, -0.34671527906493904, -2.0596731181007795, 0.6460380085217425, -0.9133269759341058, -1.0774321294457374, 0.4392178119616056, -0.21981055867337426, -0.5462871825156912, -0.7319311560493941, -0.8676452114985064, -1.1966070728425546, 0.967844201788307, 0.3724414286449778, 0.9856881106901605, 0.9054258178782889, -0.07212885469978308, -0.6420501704057415, -0.837754823198033, -0.7315121223136304, -0.6999732681944199, 0.005325252401586591, 1.004014137896582, 0.6065922115413797, 0.6331805787419147]}],\n",
       "                        {\"legend\": {\"bgcolor\": \"#F5F6F9\", \"font\": {\"color\": \"#4D5663\"}}, \"paper_bgcolor\": \"#F5F6F9\", \"plot_bgcolor\": \"#F5F6F9\", \"template\": {\"data\": {\"bar\": [{\"error_x\": {\"color\": \"#2a3f5f\"}, \"error_y\": {\"color\": \"#2a3f5f\"}, \"marker\": {\"line\": {\"color\": \"#E5ECF6\", \"width\": 0.5}}, \"type\": \"bar\"}], \"barpolar\": [{\"marker\": {\"line\": {\"color\": \"#E5ECF6\", \"width\": 0.5}}, \"type\": \"barpolar\"}], \"carpet\": [{\"aaxis\": {\"endlinecolor\": \"#2a3f5f\", \"gridcolor\": \"white\", \"linecolor\": \"white\", \"minorgridcolor\": \"white\", \"startlinecolor\": \"#2a3f5f\"}, \"baxis\": {\"endlinecolor\": \"#2a3f5f\", \"gridcolor\": \"white\", \"linecolor\": \"white\", \"minorgridcolor\": \"white\", \"startlinecolor\": \"#2a3f5f\"}, \"type\": \"carpet\"}], \"choropleth\": [{\"colorbar\": {\"outlinewidth\": 0, \"ticks\": \"\"}, \"type\": \"choropleth\"}], \"contour\": [{\"colorbar\": {\"outlinewidth\": 0, \"ticks\": \"\"}, \"colorscale\": [[0.0, \"#0d0887\"], [0.1111111111111111, \"#46039f\"], [0.2222222222222222, \"#7201a8\"], [0.3333333333333333, \"#9c179e\"], [0.4444444444444444, \"#bd3786\"], [0.5555555555555556, \"#d8576b\"], [0.6666666666666666, \"#ed7953\"], [0.7777777777777778, \"#fb9f3a\"], [0.8888888888888888, \"#fdca26\"], [1.0, \"#f0f921\"]], \"type\": \"contour\"}], \"contourcarpet\": [{\"colorbar\": {\"outlinewidth\": 0, \"ticks\": \"\"}, \"type\": \"contourcarpet\"}], \"heatmap\": [{\"colorbar\": {\"outlinewidth\": 0, \"ticks\": \"\"}, \"colorscale\": [[0.0, \"#0d0887\"], [0.1111111111111111, \"#46039f\"], [0.2222222222222222, \"#7201a8\"], [0.3333333333333333, \"#9c179e\"], [0.4444444444444444, \"#bd3786\"], [0.5555555555555556, \"#d8576b\"], [0.6666666666666666, \"#ed7953\"], [0.7777777777777778, \"#fb9f3a\"], [0.8888888888888888, \"#fdca26\"], [1.0, \"#f0f921\"]], \"type\": \"heatmap\"}], \"heatmapgl\": [{\"colorbar\": {\"outlinewidth\": 0, \"ticks\": \"\"}, \"colorscale\": [[0.0, \"#0d0887\"], [0.1111111111111111, \"#46039f\"], [0.2222222222222222, \"#7201a8\"], [0.3333333333333333, \"#9c179e\"], [0.4444444444444444, \"#bd3786\"], [0.5555555555555556, \"#d8576b\"], [0.6666666666666666, \"#ed7953\"], [0.7777777777777778, \"#fb9f3a\"], [0.8888888888888888, \"#fdca26\"], [1.0, \"#f0f921\"]], \"type\": \"heatmapgl\"}], \"histogram\": [{\"marker\": {\"colorbar\": {\"outlinewidth\": 0, \"ticks\": \"\"}}, \"type\": \"histogram\"}], \"histogram2d\": [{\"colorbar\": {\"outlinewidth\": 0, \"ticks\": \"\"}, \"colorscale\": [[0.0, \"#0d0887\"], [0.1111111111111111, \"#46039f\"], [0.2222222222222222, \"#7201a8\"], [0.3333333333333333, \"#9c179e\"], [0.4444444444444444, \"#bd3786\"], [0.5555555555555556, \"#d8576b\"], [0.6666666666666666, \"#ed7953\"], [0.7777777777777778, \"#fb9f3a\"], [0.8888888888888888, \"#fdca26\"], [1.0, \"#f0f921\"]], \"type\": \"histogram2d\"}], \"histogram2dcontour\": [{\"colorbar\": {\"outlinewidth\": 0, \"ticks\": \"\"}, \"colorscale\": [[0.0, \"#0d0887\"], [0.1111111111111111, \"#46039f\"], [0.2222222222222222, \"#7201a8\"], [0.3333333333333333, \"#9c179e\"], [0.4444444444444444, \"#bd3786\"], [0.5555555555555556, \"#d8576b\"], [0.6666666666666666, \"#ed7953\"], [0.7777777777777778, \"#fb9f3a\"], [0.8888888888888888, \"#fdca26\"], [1.0, \"#f0f921\"]], \"type\": \"histogram2dcontour\"}], \"mesh3d\": [{\"colorbar\": {\"outlinewidth\": 0, \"ticks\": \"\"}, \"type\": \"mesh3d\"}], \"parcoords\": [{\"line\": {\"colorbar\": {\"outlinewidth\": 0, \"ticks\": \"\"}}, \"type\": \"parcoords\"}], \"pie\": [{\"automargin\": true, \"type\": \"pie\"}], \"scatter\": [{\"marker\": {\"colorbar\": {\"outlinewidth\": 0, \"ticks\": \"\"}}, \"type\": \"scatter\"}], \"scatter3d\": [{\"line\": {\"colorbar\": {\"outlinewidth\": 0, \"ticks\": \"\"}}, \"marker\": {\"colorbar\": {\"outlinewidth\": 0, \"ticks\": \"\"}}, \"type\": \"scatter3d\"}], \"scattercarpet\": [{\"marker\": {\"colorbar\": {\"outlinewidth\": 0, \"ticks\": \"\"}}, \"type\": \"scattercarpet\"}], \"scattergeo\": [{\"marker\": {\"colorbar\": {\"outlinewidth\": 0, \"ticks\": \"\"}}, \"type\": \"scattergeo\"}], \"scattergl\": [{\"marker\": {\"colorbar\": {\"outlinewidth\": 0, \"ticks\": \"\"}}, \"type\": \"scattergl\"}], \"scattermapbox\": [{\"marker\": {\"colorbar\": {\"outlinewidth\": 0, \"ticks\": \"\"}}, \"type\": \"scattermapbox\"}], \"scatterpolar\": [{\"marker\": {\"colorbar\": {\"outlinewidth\": 0, \"ticks\": \"\"}}, \"type\": \"scatterpolar\"}], \"scatterpolargl\": [{\"marker\": {\"colorbar\": {\"outlinewidth\": 0, \"ticks\": \"\"}}, \"type\": \"scatterpolargl\"}], \"scatterternary\": [{\"marker\": {\"colorbar\": {\"outlinewidth\": 0, \"ticks\": \"\"}}, \"type\": \"scatterternary\"}], \"surface\": [{\"colorbar\": {\"outlinewidth\": 0, \"ticks\": \"\"}, \"colorscale\": [[0.0, \"#0d0887\"], [0.1111111111111111, \"#46039f\"], [0.2222222222222222, \"#7201a8\"], [0.3333333333333333, \"#9c179e\"], [0.4444444444444444, \"#bd3786\"], [0.5555555555555556, \"#d8576b\"], [0.6666666666666666, \"#ed7953\"], [0.7777777777777778, \"#fb9f3a\"], [0.8888888888888888, \"#fdca26\"], [1.0, \"#f0f921\"]], \"type\": \"surface\"}], \"table\": [{\"cells\": {\"fill\": {\"color\": \"#EBF0F8\"}, \"line\": {\"color\": \"white\"}}, \"header\": {\"fill\": {\"color\": \"#C8D4E3\"}, \"line\": {\"color\": \"white\"}}, \"type\": \"table\"}]}, \"layout\": {\"annotationdefaults\": {\"arrowcolor\": \"#2a3f5f\", \"arrowhead\": 0, \"arrowwidth\": 1}, \"coloraxis\": {\"colorbar\": {\"outlinewidth\": 0, \"ticks\": \"\"}}, \"colorscale\": {\"diverging\": [[0, \"#8e0152\"], [0.1, \"#c51b7d\"], [0.2, \"#de77ae\"], [0.3, \"#f1b6da\"], [0.4, \"#fde0ef\"], [0.5, \"#f7f7f7\"], [0.6, \"#e6f5d0\"], [0.7, \"#b8e186\"], [0.8, \"#7fbc41\"], [0.9, \"#4d9221\"], [1, \"#276419\"]], \"sequential\": [[0.0, \"#0d0887\"], [0.1111111111111111, \"#46039f\"], [0.2222222222222222, \"#7201a8\"], [0.3333333333333333, \"#9c179e\"], [0.4444444444444444, \"#bd3786\"], [0.5555555555555556, \"#d8576b\"], [0.6666666666666666, \"#ed7953\"], [0.7777777777777778, \"#fb9f3a\"], [0.8888888888888888, \"#fdca26\"], [1.0, \"#f0f921\"]], \"sequentialminus\": [[0.0, \"#0d0887\"], [0.1111111111111111, \"#46039f\"], [0.2222222222222222, \"#7201a8\"], [0.3333333333333333, \"#9c179e\"], [0.4444444444444444, \"#bd3786\"], [0.5555555555555556, \"#d8576b\"], [0.6666666666666666, \"#ed7953\"], [0.7777777777777778, \"#fb9f3a\"], [0.8888888888888888, \"#fdca26\"], [1.0, \"#f0f921\"]]}, \"colorway\": [\"#636efa\", \"#EF553B\", \"#00cc96\", \"#ab63fa\", \"#FFA15A\", \"#19d3f3\", \"#FF6692\", \"#B6E880\", \"#FF97FF\", \"#FECB52\"], \"font\": {\"color\": \"#2a3f5f\"}, \"geo\": {\"bgcolor\": \"white\", \"lakecolor\": \"white\", \"landcolor\": \"#E5ECF6\", \"showlakes\": true, \"showland\": true, \"subunitcolor\": \"white\"}, \"hoverlabel\": {\"align\": \"left\"}, \"hovermode\": \"closest\", \"mapbox\": {\"style\": \"light\"}, \"paper_bgcolor\": \"white\", \"plot_bgcolor\": \"#E5ECF6\", \"polar\": {\"angularaxis\": {\"gridcolor\": \"white\", \"linecolor\": \"white\", \"ticks\": \"\"}, \"bgcolor\": \"#E5ECF6\", \"radialaxis\": {\"gridcolor\": \"white\", \"linecolor\": \"white\", \"ticks\": \"\"}}, \"scene\": {\"xaxis\": {\"backgroundcolor\": \"#E5ECF6\", \"gridcolor\": \"white\", \"gridwidth\": 2, \"linecolor\": \"white\", \"showbackground\": true, \"ticks\": \"\", \"zerolinecolor\": \"white\"}, \"yaxis\": {\"backgroundcolor\": \"#E5ECF6\", \"gridcolor\": \"white\", \"gridwidth\": 2, \"linecolor\": \"white\", \"showbackground\": true, \"ticks\": \"\", \"zerolinecolor\": \"white\"}, \"zaxis\": {\"backgroundcolor\": \"#E5ECF6\", \"gridcolor\": \"white\", \"gridwidth\": 2, \"linecolor\": \"white\", \"showbackground\": true, \"ticks\": \"\", \"zerolinecolor\": \"white\"}}, \"shapedefaults\": {\"line\": {\"color\": \"#2a3f5f\"}}, \"ternary\": {\"aaxis\": {\"gridcolor\": \"white\", \"linecolor\": \"white\", \"ticks\": \"\"}, \"baxis\": {\"gridcolor\": \"white\", \"linecolor\": \"white\", \"ticks\": \"\"}, \"bgcolor\": \"#E5ECF6\", \"caxis\": {\"gridcolor\": \"white\", \"linecolor\": \"white\", \"ticks\": \"\"}}, \"title\": {\"x\": 0.05}, \"xaxis\": {\"automargin\": true, \"gridcolor\": \"white\", \"linecolor\": \"white\", \"ticks\": \"\", \"title\": {\"standoff\": 15}, \"zerolinecolor\": \"white\", \"zerolinewidth\": 2}, \"yaxis\": {\"automargin\": true, \"gridcolor\": \"white\", \"linecolor\": \"white\", \"ticks\": \"\", \"title\": {\"standoff\": 15}, \"zerolinecolor\": \"white\", \"zerolinewidth\": 2}}}, \"title\": {\"font\": {\"color\": \"#4D5663\"}}, \"xaxis\": {\"gridcolor\": \"#E1E5ED\", \"showgrid\": true, \"tickfont\": {\"color\": \"#4D5663\"}, \"title\": {\"font\": {\"color\": \"#4D5663\"}, \"text\": \"\"}, \"zerolinecolor\": \"#E1E5ED\"}, \"yaxis\": {\"gridcolor\": \"#E1E5ED\", \"showgrid\": true, \"tickfont\": {\"color\": \"#4D5663\"}, \"title\": {\"font\": {\"color\": \"#4D5663\"}, \"text\": \"\"}, \"zerolinecolor\": \"#E1E5ED\"}},\n",
       "                        {\"showLink\": true, \"linkText\": \"Export to plot.ly\", \"plotlyServerURL\": \"https://plot.ly\", \"responsive\": true}\n",
       "                    ).then(function(){\n",
       "                            \n",
       "var gd = document.getElementById('a3067eef-95f7-4833-b320-c4bc53941711');\n",
       "var x = new MutationObserver(function (mutations, observer) {{\n",
       "        var display = window.getComputedStyle(gd).display;\n",
       "        if (!display || display === 'none') {{\n",
       "            console.log([gd, 'removed!']);\n",
       "            Plotly.purge(gd);\n",
       "            observer.disconnect();\n",
       "        }}\n",
       "}});\n",
       "\n",
       "// Listen for the removal of the full notebook cells\n",
       "var notebookContainer = gd.closest('#notebook-container');\n",
       "if (notebookContainer) {{\n",
       "    x.observe(notebookContainer, {childList: true});\n",
       "}}\n",
       "\n",
       "// Listen for the clearing of the current output cell\n",
       "var outputEl = gd.closest('.output');\n",
       "if (outputEl) {{\n",
       "    x.observe(outputEl, {childList: true});\n",
       "}}\n",
       "\n",
       "                        })\n",
       "                };\n",
       "                });\n",
       "            </script>\n",
       "        </div>"
      ]
     },
     "metadata": {},
     "output_type": "display_data"
    }
   ],
   "source": [
    "df.iplot(kind='box')"
   ]
  },
  {
   "cell_type": "markdown",
   "metadata": {},
   "source": [
    "## 3d Surface"
   ]
  },
  {
   "cell_type": "code",
   "execution_count": 15,
   "metadata": {},
   "outputs": [
    {
     "data": {
      "application/vnd.plotly.v1+json": {
       "config": {
        "linkText": "Export to plot.ly",
        "plotlyServerURL": "https://plot.ly",
        "showLink": true
       },
       "data": [
        {
         "colorscale": [
          [
           0,
           "rgb(165,0,38)"
          ],
          [
           0.1,
           "rgb(215,48,39)"
          ],
          [
           0.2,
           "rgb(244,109,67)"
          ],
          [
           0.3,
           "rgb(253,174,97)"
          ],
          [
           0.4,
           "rgb(254,224,144)"
          ],
          [
           0.5,
           "rgb(255,255,191)"
          ],
          [
           0.6,
           "rgb(224,243,248)"
          ],
          [
           0.7,
           "rgb(171,217,233)"
          ],
          [
           0.8,
           "rgb(116,173,209)"
          ],
          [
           0.9,
           "rgb(69,117,180)"
          ],
          [
           1,
           "rgb(49,54,149)"
          ]
         ],
         "type": "surface",
         "x": [
          0,
          1,
          2,
          3,
          4
         ],
         "y": [
          "x",
          "y",
          "z"
         ],
         "z": [
          [
           1,
           2,
           3,
           4,
           5
          ],
          [
           10,
           20,
           30,
           20,
           10
          ],
          [
           5,
           4,
           3,
           2,
           1
          ]
         ]
        }
       ],
       "layout": {
        "legend": {
         "bgcolor": "#F5F6F9",
         "font": {
          "color": "#4D5663"
         }
        },
        "paper_bgcolor": "#F5F6F9",
        "plot_bgcolor": "#F5F6F9",
        "template": {
         "data": {
          "bar": [
           {
            "error_x": {
             "color": "#2a3f5f"
            },
            "error_y": {
             "color": "#2a3f5f"
            },
            "marker": {
             "line": {
              "color": "#E5ECF6",
              "width": 0.5
             }
            },
            "type": "bar"
           }
          ],
          "barpolar": [
           {
            "marker": {
             "line": {
              "color": "#E5ECF6",
              "width": 0.5
             }
            },
            "type": "barpolar"
           }
          ],
          "carpet": [
           {
            "aaxis": {
             "endlinecolor": "#2a3f5f",
             "gridcolor": "white",
             "linecolor": "white",
             "minorgridcolor": "white",
             "startlinecolor": "#2a3f5f"
            },
            "baxis": {
             "endlinecolor": "#2a3f5f",
             "gridcolor": "white",
             "linecolor": "white",
             "minorgridcolor": "white",
             "startlinecolor": "#2a3f5f"
            },
            "type": "carpet"
           }
          ],
          "choropleth": [
           {
            "colorbar": {
             "outlinewidth": 0,
             "ticks": ""
            },
            "type": "choropleth"
           }
          ],
          "contour": [
           {
            "colorbar": {
             "outlinewidth": 0,
             "ticks": ""
            },
            "colorscale": [
             [
              0,
              "#0d0887"
             ],
             [
              0.1111111111111111,
              "#46039f"
             ],
             [
              0.2222222222222222,
              "#7201a8"
             ],
             [
              0.3333333333333333,
              "#9c179e"
             ],
             [
              0.4444444444444444,
              "#bd3786"
             ],
             [
              0.5555555555555556,
              "#d8576b"
             ],
             [
              0.6666666666666666,
              "#ed7953"
             ],
             [
              0.7777777777777778,
              "#fb9f3a"
             ],
             [
              0.8888888888888888,
              "#fdca26"
             ],
             [
              1,
              "#f0f921"
             ]
            ],
            "type": "contour"
           }
          ],
          "contourcarpet": [
           {
            "colorbar": {
             "outlinewidth": 0,
             "ticks": ""
            },
            "type": "contourcarpet"
           }
          ],
          "heatmap": [
           {
            "colorbar": {
             "outlinewidth": 0,
             "ticks": ""
            },
            "colorscale": [
             [
              0,
              "#0d0887"
             ],
             [
              0.1111111111111111,
              "#46039f"
             ],
             [
              0.2222222222222222,
              "#7201a8"
             ],
             [
              0.3333333333333333,
              "#9c179e"
             ],
             [
              0.4444444444444444,
              "#bd3786"
             ],
             [
              0.5555555555555556,
              "#d8576b"
             ],
             [
              0.6666666666666666,
              "#ed7953"
             ],
             [
              0.7777777777777778,
              "#fb9f3a"
             ],
             [
              0.8888888888888888,
              "#fdca26"
             ],
             [
              1,
              "#f0f921"
             ]
            ],
            "type": "heatmap"
           }
          ],
          "heatmapgl": [
           {
            "colorbar": {
             "outlinewidth": 0,
             "ticks": ""
            },
            "colorscale": [
             [
              0,
              "#0d0887"
             ],
             [
              0.1111111111111111,
              "#46039f"
             ],
             [
              0.2222222222222222,
              "#7201a8"
             ],
             [
              0.3333333333333333,
              "#9c179e"
             ],
             [
              0.4444444444444444,
              "#bd3786"
             ],
             [
              0.5555555555555556,
              "#d8576b"
             ],
             [
              0.6666666666666666,
              "#ed7953"
             ],
             [
              0.7777777777777778,
              "#fb9f3a"
             ],
             [
              0.8888888888888888,
              "#fdca26"
             ],
             [
              1,
              "#f0f921"
             ]
            ],
            "type": "heatmapgl"
           }
          ],
          "histogram": [
           {
            "marker": {
             "colorbar": {
              "outlinewidth": 0,
              "ticks": ""
             }
            },
            "type": "histogram"
           }
          ],
          "histogram2d": [
           {
            "colorbar": {
             "outlinewidth": 0,
             "ticks": ""
            },
            "colorscale": [
             [
              0,
              "#0d0887"
             ],
             [
              0.1111111111111111,
              "#46039f"
             ],
             [
              0.2222222222222222,
              "#7201a8"
             ],
             [
              0.3333333333333333,
              "#9c179e"
             ],
             [
              0.4444444444444444,
              "#bd3786"
             ],
             [
              0.5555555555555556,
              "#d8576b"
             ],
             [
              0.6666666666666666,
              "#ed7953"
             ],
             [
              0.7777777777777778,
              "#fb9f3a"
             ],
             [
              0.8888888888888888,
              "#fdca26"
             ],
             [
              1,
              "#f0f921"
             ]
            ],
            "type": "histogram2d"
           }
          ],
          "histogram2dcontour": [
           {
            "colorbar": {
             "outlinewidth": 0,
             "ticks": ""
            },
            "colorscale": [
             [
              0,
              "#0d0887"
             ],
             [
              0.1111111111111111,
              "#46039f"
             ],
             [
              0.2222222222222222,
              "#7201a8"
             ],
             [
              0.3333333333333333,
              "#9c179e"
             ],
             [
              0.4444444444444444,
              "#bd3786"
             ],
             [
              0.5555555555555556,
              "#d8576b"
             ],
             [
              0.6666666666666666,
              "#ed7953"
             ],
             [
              0.7777777777777778,
              "#fb9f3a"
             ],
             [
              0.8888888888888888,
              "#fdca26"
             ],
             [
              1,
              "#f0f921"
             ]
            ],
            "type": "histogram2dcontour"
           }
          ],
          "mesh3d": [
           {
            "colorbar": {
             "outlinewidth": 0,
             "ticks": ""
            },
            "type": "mesh3d"
           }
          ],
          "parcoords": [
           {
            "line": {
             "colorbar": {
              "outlinewidth": 0,
              "ticks": ""
             }
            },
            "type": "parcoords"
           }
          ],
          "pie": [
           {
            "automargin": true,
            "type": "pie"
           }
          ],
          "scatter": [
           {
            "marker": {
             "colorbar": {
              "outlinewidth": 0,
              "ticks": ""
             }
            },
            "type": "scatter"
           }
          ],
          "scatter3d": [
           {
            "line": {
             "colorbar": {
              "outlinewidth": 0,
              "ticks": ""
             }
            },
            "marker": {
             "colorbar": {
              "outlinewidth": 0,
              "ticks": ""
             }
            },
            "type": "scatter3d"
           }
          ],
          "scattercarpet": [
           {
            "marker": {
             "colorbar": {
              "outlinewidth": 0,
              "ticks": ""
             }
            },
            "type": "scattercarpet"
           }
          ],
          "scattergeo": [
           {
            "marker": {
             "colorbar": {
              "outlinewidth": 0,
              "ticks": ""
             }
            },
            "type": "scattergeo"
           }
          ],
          "scattergl": [
           {
            "marker": {
             "colorbar": {
              "outlinewidth": 0,
              "ticks": ""
             }
            },
            "type": "scattergl"
           }
          ],
          "scattermapbox": [
           {
            "marker": {
             "colorbar": {
              "outlinewidth": 0,
              "ticks": ""
             }
            },
            "type": "scattermapbox"
           }
          ],
          "scatterpolar": [
           {
            "marker": {
             "colorbar": {
              "outlinewidth": 0,
              "ticks": ""
             }
            },
            "type": "scatterpolar"
           }
          ],
          "scatterpolargl": [
           {
            "marker": {
             "colorbar": {
              "outlinewidth": 0,
              "ticks": ""
             }
            },
            "type": "scatterpolargl"
           }
          ],
          "scatterternary": [
           {
            "marker": {
             "colorbar": {
              "outlinewidth": 0,
              "ticks": ""
             }
            },
            "type": "scatterternary"
           }
          ],
          "surface": [
           {
            "colorbar": {
             "outlinewidth": 0,
             "ticks": ""
            },
            "colorscale": [
             [
              0,
              "#0d0887"
             ],
             [
              0.1111111111111111,
              "#46039f"
             ],
             [
              0.2222222222222222,
              "#7201a8"
             ],
             [
              0.3333333333333333,
              "#9c179e"
             ],
             [
              0.4444444444444444,
              "#bd3786"
             ],
             [
              0.5555555555555556,
              "#d8576b"
             ],
             [
              0.6666666666666666,
              "#ed7953"
             ],
             [
              0.7777777777777778,
              "#fb9f3a"
             ],
             [
              0.8888888888888888,
              "#fdca26"
             ],
             [
              1,
              "#f0f921"
             ]
            ],
            "type": "surface"
           }
          ],
          "table": [
           {
            "cells": {
             "fill": {
              "color": "#EBF0F8"
             },
             "line": {
              "color": "white"
             }
            },
            "header": {
             "fill": {
              "color": "#C8D4E3"
             },
             "line": {
              "color": "white"
             }
            },
            "type": "table"
           }
          ]
         },
         "layout": {
          "annotationdefaults": {
           "arrowcolor": "#2a3f5f",
           "arrowhead": 0,
           "arrowwidth": 1
          },
          "coloraxis": {
           "colorbar": {
            "outlinewidth": 0,
            "ticks": ""
           }
          },
          "colorscale": {
           "diverging": [
            [
             0,
             "#8e0152"
            ],
            [
             0.1,
             "#c51b7d"
            ],
            [
             0.2,
             "#de77ae"
            ],
            [
             0.3,
             "#f1b6da"
            ],
            [
             0.4,
             "#fde0ef"
            ],
            [
             0.5,
             "#f7f7f7"
            ],
            [
             0.6,
             "#e6f5d0"
            ],
            [
             0.7,
             "#b8e186"
            ],
            [
             0.8,
             "#7fbc41"
            ],
            [
             0.9,
             "#4d9221"
            ],
            [
             1,
             "#276419"
            ]
           ],
           "sequential": [
            [
             0,
             "#0d0887"
            ],
            [
             0.1111111111111111,
             "#46039f"
            ],
            [
             0.2222222222222222,
             "#7201a8"
            ],
            [
             0.3333333333333333,
             "#9c179e"
            ],
            [
             0.4444444444444444,
             "#bd3786"
            ],
            [
             0.5555555555555556,
             "#d8576b"
            ],
            [
             0.6666666666666666,
             "#ed7953"
            ],
            [
             0.7777777777777778,
             "#fb9f3a"
            ],
            [
             0.8888888888888888,
             "#fdca26"
            ],
            [
             1,
             "#f0f921"
            ]
           ],
           "sequentialminus": [
            [
             0,
             "#0d0887"
            ],
            [
             0.1111111111111111,
             "#46039f"
            ],
            [
             0.2222222222222222,
             "#7201a8"
            ],
            [
             0.3333333333333333,
             "#9c179e"
            ],
            [
             0.4444444444444444,
             "#bd3786"
            ],
            [
             0.5555555555555556,
             "#d8576b"
            ],
            [
             0.6666666666666666,
             "#ed7953"
            ],
            [
             0.7777777777777778,
             "#fb9f3a"
            ],
            [
             0.8888888888888888,
             "#fdca26"
            ],
            [
             1,
             "#f0f921"
            ]
           ]
          },
          "colorway": [
           "#636efa",
           "#EF553B",
           "#00cc96",
           "#ab63fa",
           "#FFA15A",
           "#19d3f3",
           "#FF6692",
           "#B6E880",
           "#FF97FF",
           "#FECB52"
          ],
          "font": {
           "color": "#2a3f5f"
          },
          "geo": {
           "bgcolor": "white",
           "lakecolor": "white",
           "landcolor": "#E5ECF6",
           "showlakes": true,
           "showland": true,
           "subunitcolor": "white"
          },
          "hoverlabel": {
           "align": "left"
          },
          "hovermode": "closest",
          "mapbox": {
           "style": "light"
          },
          "paper_bgcolor": "white",
          "plot_bgcolor": "#E5ECF6",
          "polar": {
           "angularaxis": {
            "gridcolor": "white",
            "linecolor": "white",
            "ticks": ""
           },
           "bgcolor": "#E5ECF6",
           "radialaxis": {
            "gridcolor": "white",
            "linecolor": "white",
            "ticks": ""
           }
          },
          "scene": {
           "xaxis": {
            "backgroundcolor": "#E5ECF6",
            "gridcolor": "white",
            "gridwidth": 2,
            "linecolor": "white",
            "showbackground": true,
            "ticks": "",
            "zerolinecolor": "white"
           },
           "yaxis": {
            "backgroundcolor": "#E5ECF6",
            "gridcolor": "white",
            "gridwidth": 2,
            "linecolor": "white",
            "showbackground": true,
            "ticks": "",
            "zerolinecolor": "white"
           },
           "zaxis": {
            "backgroundcolor": "#E5ECF6",
            "gridcolor": "white",
            "gridwidth": 2,
            "linecolor": "white",
            "showbackground": true,
            "ticks": "",
            "zerolinecolor": "white"
           }
          },
          "shapedefaults": {
           "line": {
            "color": "#2a3f5f"
           }
          },
          "ternary": {
           "aaxis": {
            "gridcolor": "white",
            "linecolor": "white",
            "ticks": ""
           },
           "baxis": {
            "gridcolor": "white",
            "linecolor": "white",
            "ticks": ""
           },
           "bgcolor": "#E5ECF6",
           "caxis": {
            "gridcolor": "white",
            "linecolor": "white",
            "ticks": ""
           }
          },
          "title": {
           "x": 0.05
          },
          "xaxis": {
           "automargin": true,
           "gridcolor": "white",
           "linecolor": "white",
           "ticks": "",
           "title": {
            "standoff": 15
           },
           "zerolinecolor": "white",
           "zerolinewidth": 2
          },
          "yaxis": {
           "automargin": true,
           "gridcolor": "white",
           "linecolor": "white",
           "ticks": "",
           "title": {
            "standoff": 15
           },
           "zerolinecolor": "white",
           "zerolinewidth": 2
          }
         }
        },
        "title": {
         "font": {
          "color": "#4D5663"
         }
        },
        "xaxis": {
         "gridcolor": "#E1E5ED",
         "showgrid": true,
         "tickfont": {
          "color": "#4D5663"
         },
         "title": {
          "font": {
           "color": "#4D5663"
          },
          "text": ""
         },
         "zerolinecolor": "#E1E5ED"
        },
        "yaxis": {
         "gridcolor": "#E1E5ED",
         "showgrid": true,
         "tickfont": {
          "color": "#4D5663"
         },
         "title": {
          "font": {
           "color": "#4D5663"
          },
          "text": ""
         },
         "zerolinecolor": "#E1E5ED"
        }
       }
      },
      "text/html": [
       "<div>\n",
       "        \n",
       "        \n",
       "            <div id=\"3cccc033-5295-4dd7-babb-6911f28d7782\" class=\"plotly-graph-div\" style=\"height:525px; width:100%;\"></div>\n",
       "            <script type=\"text/javascript\">\n",
       "                require([\"plotly\"], function(Plotly) {\n",
       "                    window.PLOTLYENV=window.PLOTLYENV || {};\n",
       "                    window.PLOTLYENV.BASE_URL='https://plot.ly';\n",
       "                    \n",
       "                if (document.getElementById(\"3cccc033-5295-4dd7-babb-6911f28d7782\")) {\n",
       "                    Plotly.newPlot(\n",
       "                        '3cccc033-5295-4dd7-babb-6911f28d7782',\n",
       "                        [{\"colorscale\": [[0.0, \"rgb(165,0,38)\"], [0.1, \"rgb(215,48,39)\"], [0.2, \"rgb(244,109,67)\"], [0.3, \"rgb(253,174,97)\"], [0.4, \"rgb(254,224,144)\"], [0.5, \"rgb(255,255,191)\"], [0.6, \"rgb(224,243,248)\"], [0.7, \"rgb(171,217,233)\"], [0.8, \"rgb(116,173,209)\"], [0.9, \"rgb(69,117,180)\"], [1.0, \"rgb(49,54,149)\"]], \"type\": \"surface\", \"x\": [0, 1, 2, 3, 4], \"y\": [\"x\", \"y\", \"z\"], \"z\": [[1, 2, 3, 4, 5], [10, 20, 30, 20, 10], [5, 4, 3, 2, 1]]}],\n",
       "                        {\"legend\": {\"bgcolor\": \"#F5F6F9\", \"font\": {\"color\": \"#4D5663\"}}, \"paper_bgcolor\": \"#F5F6F9\", \"plot_bgcolor\": \"#F5F6F9\", \"template\": {\"data\": {\"bar\": [{\"error_x\": {\"color\": \"#2a3f5f\"}, \"error_y\": {\"color\": \"#2a3f5f\"}, \"marker\": {\"line\": {\"color\": \"#E5ECF6\", \"width\": 0.5}}, \"type\": \"bar\"}], \"barpolar\": [{\"marker\": {\"line\": {\"color\": \"#E5ECF6\", \"width\": 0.5}}, \"type\": \"barpolar\"}], \"carpet\": [{\"aaxis\": {\"endlinecolor\": \"#2a3f5f\", \"gridcolor\": \"white\", \"linecolor\": \"white\", \"minorgridcolor\": \"white\", \"startlinecolor\": \"#2a3f5f\"}, \"baxis\": {\"endlinecolor\": \"#2a3f5f\", \"gridcolor\": \"white\", \"linecolor\": \"white\", \"minorgridcolor\": \"white\", \"startlinecolor\": \"#2a3f5f\"}, \"type\": \"carpet\"}], \"choropleth\": [{\"colorbar\": {\"outlinewidth\": 0, \"ticks\": \"\"}, \"type\": \"choropleth\"}], \"contour\": [{\"colorbar\": {\"outlinewidth\": 0, \"ticks\": \"\"}, \"colorscale\": [[0.0, \"#0d0887\"], [0.1111111111111111, \"#46039f\"], [0.2222222222222222, \"#7201a8\"], [0.3333333333333333, \"#9c179e\"], [0.4444444444444444, \"#bd3786\"], [0.5555555555555556, \"#d8576b\"], [0.6666666666666666, \"#ed7953\"], [0.7777777777777778, \"#fb9f3a\"], [0.8888888888888888, \"#fdca26\"], [1.0, \"#f0f921\"]], \"type\": \"contour\"}], \"contourcarpet\": [{\"colorbar\": {\"outlinewidth\": 0, \"ticks\": \"\"}, \"type\": \"contourcarpet\"}], \"heatmap\": [{\"colorbar\": {\"outlinewidth\": 0, \"ticks\": \"\"}, \"colorscale\": [[0.0, \"#0d0887\"], [0.1111111111111111, \"#46039f\"], [0.2222222222222222, \"#7201a8\"], [0.3333333333333333, \"#9c179e\"], [0.4444444444444444, \"#bd3786\"], [0.5555555555555556, \"#d8576b\"], [0.6666666666666666, \"#ed7953\"], [0.7777777777777778, \"#fb9f3a\"], [0.8888888888888888, \"#fdca26\"], [1.0, \"#f0f921\"]], \"type\": \"heatmap\"}], \"heatmapgl\": [{\"colorbar\": {\"outlinewidth\": 0, \"ticks\": \"\"}, \"colorscale\": [[0.0, \"#0d0887\"], [0.1111111111111111, \"#46039f\"], [0.2222222222222222, \"#7201a8\"], [0.3333333333333333, \"#9c179e\"], [0.4444444444444444, \"#bd3786\"], [0.5555555555555556, \"#d8576b\"], [0.6666666666666666, \"#ed7953\"], [0.7777777777777778, \"#fb9f3a\"], [0.8888888888888888, \"#fdca26\"], [1.0, \"#f0f921\"]], \"type\": \"heatmapgl\"}], \"histogram\": [{\"marker\": {\"colorbar\": {\"outlinewidth\": 0, \"ticks\": \"\"}}, \"type\": \"histogram\"}], \"histogram2d\": [{\"colorbar\": {\"outlinewidth\": 0, \"ticks\": \"\"}, \"colorscale\": [[0.0, \"#0d0887\"], [0.1111111111111111, \"#46039f\"], [0.2222222222222222, \"#7201a8\"], [0.3333333333333333, \"#9c179e\"], [0.4444444444444444, \"#bd3786\"], [0.5555555555555556, \"#d8576b\"], [0.6666666666666666, \"#ed7953\"], [0.7777777777777778, \"#fb9f3a\"], [0.8888888888888888, \"#fdca26\"], [1.0, \"#f0f921\"]], \"type\": \"histogram2d\"}], \"histogram2dcontour\": [{\"colorbar\": {\"outlinewidth\": 0, \"ticks\": \"\"}, \"colorscale\": [[0.0, \"#0d0887\"], [0.1111111111111111, \"#46039f\"], [0.2222222222222222, \"#7201a8\"], [0.3333333333333333, \"#9c179e\"], [0.4444444444444444, \"#bd3786\"], [0.5555555555555556, \"#d8576b\"], [0.6666666666666666, \"#ed7953\"], [0.7777777777777778, \"#fb9f3a\"], [0.8888888888888888, \"#fdca26\"], [1.0, \"#f0f921\"]], \"type\": \"histogram2dcontour\"}], \"mesh3d\": [{\"colorbar\": {\"outlinewidth\": 0, \"ticks\": \"\"}, \"type\": \"mesh3d\"}], \"parcoords\": [{\"line\": {\"colorbar\": {\"outlinewidth\": 0, \"ticks\": \"\"}}, \"type\": \"parcoords\"}], \"pie\": [{\"automargin\": true, \"type\": \"pie\"}], \"scatter\": [{\"marker\": {\"colorbar\": {\"outlinewidth\": 0, \"ticks\": \"\"}}, \"type\": \"scatter\"}], \"scatter3d\": [{\"line\": {\"colorbar\": {\"outlinewidth\": 0, \"ticks\": \"\"}}, \"marker\": {\"colorbar\": {\"outlinewidth\": 0, \"ticks\": \"\"}}, \"type\": \"scatter3d\"}], \"scattercarpet\": [{\"marker\": {\"colorbar\": {\"outlinewidth\": 0, \"ticks\": \"\"}}, \"type\": \"scattercarpet\"}], \"scattergeo\": [{\"marker\": {\"colorbar\": {\"outlinewidth\": 0, \"ticks\": \"\"}}, \"type\": \"scattergeo\"}], \"scattergl\": [{\"marker\": {\"colorbar\": {\"outlinewidth\": 0, \"ticks\": \"\"}}, \"type\": \"scattergl\"}], \"scattermapbox\": [{\"marker\": {\"colorbar\": {\"outlinewidth\": 0, \"ticks\": \"\"}}, \"type\": \"scattermapbox\"}], \"scatterpolar\": [{\"marker\": {\"colorbar\": {\"outlinewidth\": 0, \"ticks\": \"\"}}, \"type\": \"scatterpolar\"}], \"scatterpolargl\": [{\"marker\": {\"colorbar\": {\"outlinewidth\": 0, \"ticks\": \"\"}}, \"type\": \"scatterpolargl\"}], \"scatterternary\": [{\"marker\": {\"colorbar\": {\"outlinewidth\": 0, \"ticks\": \"\"}}, \"type\": \"scatterternary\"}], \"surface\": [{\"colorbar\": {\"outlinewidth\": 0, \"ticks\": \"\"}, \"colorscale\": [[0.0, \"#0d0887\"], [0.1111111111111111, \"#46039f\"], [0.2222222222222222, \"#7201a8\"], [0.3333333333333333, \"#9c179e\"], [0.4444444444444444, \"#bd3786\"], [0.5555555555555556, \"#d8576b\"], [0.6666666666666666, \"#ed7953\"], [0.7777777777777778, \"#fb9f3a\"], [0.8888888888888888, \"#fdca26\"], [1.0, \"#f0f921\"]], \"type\": \"surface\"}], \"table\": [{\"cells\": {\"fill\": {\"color\": \"#EBF0F8\"}, \"line\": {\"color\": \"white\"}}, \"header\": {\"fill\": {\"color\": \"#C8D4E3\"}, \"line\": {\"color\": \"white\"}}, \"type\": \"table\"}]}, \"layout\": {\"annotationdefaults\": {\"arrowcolor\": \"#2a3f5f\", \"arrowhead\": 0, \"arrowwidth\": 1}, \"coloraxis\": {\"colorbar\": {\"outlinewidth\": 0, \"ticks\": \"\"}}, \"colorscale\": {\"diverging\": [[0, \"#8e0152\"], [0.1, \"#c51b7d\"], [0.2, \"#de77ae\"], [0.3, \"#f1b6da\"], [0.4, \"#fde0ef\"], [0.5, \"#f7f7f7\"], [0.6, \"#e6f5d0\"], [0.7, \"#b8e186\"], [0.8, \"#7fbc41\"], [0.9, \"#4d9221\"], [1, \"#276419\"]], \"sequential\": [[0.0, \"#0d0887\"], [0.1111111111111111, \"#46039f\"], [0.2222222222222222, \"#7201a8\"], [0.3333333333333333, \"#9c179e\"], [0.4444444444444444, \"#bd3786\"], [0.5555555555555556, \"#d8576b\"], [0.6666666666666666, \"#ed7953\"], [0.7777777777777778, \"#fb9f3a\"], [0.8888888888888888, \"#fdca26\"], [1.0, \"#f0f921\"]], \"sequentialminus\": [[0.0, \"#0d0887\"], [0.1111111111111111, \"#46039f\"], [0.2222222222222222, \"#7201a8\"], [0.3333333333333333, \"#9c179e\"], [0.4444444444444444, \"#bd3786\"], [0.5555555555555556, \"#d8576b\"], [0.6666666666666666, \"#ed7953\"], [0.7777777777777778, \"#fb9f3a\"], [0.8888888888888888, \"#fdca26\"], [1.0, \"#f0f921\"]]}, \"colorway\": [\"#636efa\", \"#EF553B\", \"#00cc96\", \"#ab63fa\", \"#FFA15A\", \"#19d3f3\", \"#FF6692\", \"#B6E880\", \"#FF97FF\", \"#FECB52\"], \"font\": {\"color\": \"#2a3f5f\"}, \"geo\": {\"bgcolor\": \"white\", \"lakecolor\": \"white\", \"landcolor\": \"#E5ECF6\", \"showlakes\": true, \"showland\": true, \"subunitcolor\": \"white\"}, \"hoverlabel\": {\"align\": \"left\"}, \"hovermode\": \"closest\", \"mapbox\": {\"style\": \"light\"}, \"paper_bgcolor\": \"white\", \"plot_bgcolor\": \"#E5ECF6\", \"polar\": {\"angularaxis\": {\"gridcolor\": \"white\", \"linecolor\": \"white\", \"ticks\": \"\"}, \"bgcolor\": \"#E5ECF6\", \"radialaxis\": {\"gridcolor\": \"white\", \"linecolor\": \"white\", \"ticks\": \"\"}}, \"scene\": {\"xaxis\": {\"backgroundcolor\": \"#E5ECF6\", \"gridcolor\": \"white\", \"gridwidth\": 2, \"linecolor\": \"white\", \"showbackground\": true, \"ticks\": \"\", \"zerolinecolor\": \"white\"}, \"yaxis\": {\"backgroundcolor\": \"#E5ECF6\", \"gridcolor\": \"white\", \"gridwidth\": 2, \"linecolor\": \"white\", \"showbackground\": true, \"ticks\": \"\", \"zerolinecolor\": \"white\"}, \"zaxis\": {\"backgroundcolor\": \"#E5ECF6\", \"gridcolor\": \"white\", \"gridwidth\": 2, \"linecolor\": \"white\", \"showbackground\": true, \"ticks\": \"\", \"zerolinecolor\": \"white\"}}, \"shapedefaults\": {\"line\": {\"color\": \"#2a3f5f\"}}, \"ternary\": {\"aaxis\": {\"gridcolor\": \"white\", \"linecolor\": \"white\", \"ticks\": \"\"}, \"baxis\": {\"gridcolor\": \"white\", \"linecolor\": \"white\", \"ticks\": \"\"}, \"bgcolor\": \"#E5ECF6\", \"caxis\": {\"gridcolor\": \"white\", \"linecolor\": \"white\", \"ticks\": \"\"}}, \"title\": {\"x\": 0.05}, \"xaxis\": {\"automargin\": true, \"gridcolor\": \"white\", \"linecolor\": \"white\", \"ticks\": \"\", \"title\": {\"standoff\": 15}, \"zerolinecolor\": \"white\", \"zerolinewidth\": 2}, \"yaxis\": {\"automargin\": true, \"gridcolor\": \"white\", \"linecolor\": \"white\", \"ticks\": \"\", \"title\": {\"standoff\": 15}, \"zerolinecolor\": \"white\", \"zerolinewidth\": 2}}}, \"title\": {\"font\": {\"color\": \"#4D5663\"}}, \"xaxis\": {\"gridcolor\": \"#E1E5ED\", \"showgrid\": true, \"tickfont\": {\"color\": \"#4D5663\"}, \"title\": {\"font\": {\"color\": \"#4D5663\"}, \"text\": \"\"}, \"zerolinecolor\": \"#E1E5ED\"}, \"yaxis\": {\"gridcolor\": \"#E1E5ED\", \"showgrid\": true, \"tickfont\": {\"color\": \"#4D5663\"}, \"title\": {\"font\": {\"color\": \"#4D5663\"}, \"text\": \"\"}, \"zerolinecolor\": \"#E1E5ED\"}},\n",
       "                        {\"showLink\": true, \"linkText\": \"Export to plot.ly\", \"plotlyServerURL\": \"https://plot.ly\", \"responsive\": true}\n",
       "                    ).then(function(){\n",
       "                            \n",
       "var gd = document.getElementById('3cccc033-5295-4dd7-babb-6911f28d7782');\n",
       "var x = new MutationObserver(function (mutations, observer) {{\n",
       "        var display = window.getComputedStyle(gd).display;\n",
       "        if (!display || display === 'none') {{\n",
       "            console.log([gd, 'removed!']);\n",
       "            Plotly.purge(gd);\n",
       "            observer.disconnect();\n",
       "        }}\n",
       "}});\n",
       "\n",
       "// Listen for the removal of the full notebook cells\n",
       "var notebookContainer = gd.closest('#notebook-container');\n",
       "if (notebookContainer) {{\n",
       "    x.observe(notebookContainer, {childList: true});\n",
       "}}\n",
       "\n",
       "// Listen for the clearing of the current output cell\n",
       "var outputEl = gd.closest('.output');\n",
       "if (outputEl) {{\n",
       "    x.observe(outputEl, {childList: true});\n",
       "}}\n",
       "\n",
       "                        })\n",
       "                };\n",
       "                });\n",
       "            </script>\n",
       "        </div>"
      ]
     },
     "metadata": {},
     "output_type": "display_data"
    }
   ],
   "source": [
    "df3 = pd.DataFrame({'x':[1,2,3,4,5],'y':[10,20,30,20,10],'z':[5,4,3,2,1]})\n",
    "df3.iplot(kind='surface',colorscale='rdylbu')"
   ]
  },
  {
   "cell_type": "markdown",
   "metadata": {},
   "source": [
    "## Spread"
   ]
  },
  {
   "cell_type": "code",
   "execution_count": 16,
   "metadata": {},
   "outputs": [
    {
     "name": "stderr",
     "output_type": "stream",
     "text": [
      "C:\\Users\\chetan_surya\\Anaconda3\\lib\\site-packages\\cufflinks\\plotlytools.py:849: FutureWarning:\n",
      "\n",
      "The pandas.np module is deprecated and will be removed from pandas in a future version. Import numpy directly instead\n",
      "\n",
      "C:\\Users\\chetan_surya\\Anaconda3\\lib\\site-packages\\cufflinks\\plotlytools.py:850: FutureWarning:\n",
      "\n",
      "The pandas.np module is deprecated and will be removed from pandas in a future version. Import numpy directly instead\n",
      "\n"
     ]
    },
    {
     "data": {
      "application/vnd.plotly.v1+json": {
       "config": {
        "linkText": "Export to plot.ly",
        "plotlyServerURL": "https://plot.ly",
        "showLink": true
       },
       "data": [
        {
         "line": {
          "color": "rgba(255, 153, 51, 1.0)",
          "dash": "solid",
          "shape": "linear",
          "width": 1.3
         },
         "mode": "lines",
         "name": "A",
         "text": "",
         "type": "scatter",
         "x": [
          0,
          1,
          2,
          3,
          4,
          5,
          6,
          7,
          8,
          9,
          10,
          11,
          12,
          13,
          14,
          15,
          16,
          17,
          18,
          19,
          20,
          21,
          22,
          23,
          24,
          25,
          26,
          27,
          28,
          29,
          30,
          31,
          32,
          33,
          34,
          35,
          36,
          37,
          38,
          39,
          40,
          41,
          42,
          43,
          44,
          45,
          46,
          47,
          48,
          49,
          50,
          51,
          52,
          53,
          54,
          55,
          56,
          57,
          58,
          59,
          60,
          61,
          62,
          63,
          64,
          65,
          66,
          67,
          68,
          69,
          70,
          71,
          72,
          73,
          74,
          75,
          76,
          77,
          78,
          79,
          80,
          81,
          82,
          83,
          84,
          85,
          86,
          87,
          88,
          89,
          90,
          91,
          92,
          93,
          94,
          95,
          96,
          97,
          98,
          99
         ],
         "y": [
          0.9863925971035367,
          -0.551507821584642,
          1.2104910088148675,
          -0.3630595285051773,
          0.46873763546514047,
          0.26593957464707885,
          -0.5937216939189025,
          -1.364244266971046,
          -0.2540693709928275,
          -1.2830587933734412,
          1.281390741792193,
          -0.3343680481188946,
          -0.3825594509405097,
          0.021087443582469643,
          0.6471309447546121,
          -1.4147694856733755,
          1.339202836038361,
          0.3390041601557001,
          0.10485762693215445,
          0.5152538280419234,
          -0.9369459989184609,
          -2.175788440576683,
          -1.1362774454491336,
          1.3527148275259664,
          1.4702499643356384,
          1.4124870558300326,
          -0.9878582741905485,
          0.1127751813840683,
          -0.5126472661761328,
          0.4067609905375987,
          0.6071808563561845,
          -0.37915216043306865,
          -2.876721926137452,
          -0.33918228700985903,
          0.10504300019166042,
          -0.5774186612820098,
          -0.4388265947198578,
          -0.055176976254413895,
          -0.36616500182468037,
          -0.2929114866068684,
          0.7014228110844198,
          0.1306964615045626,
          0.6596028015175316,
          -1.1429942684320047,
          0.47568171728166164,
          1.2962465194153023,
          0.8460892263421502,
          0.42102746077643927,
          0.866184163058826,
          -0.08087723804487756,
          0.06907309802472945,
          -0.3200834042314787,
          0.7939731228226196,
          -0.26558550941047,
          -0.29524694386838995,
          0.27060817727113556,
          0.36561627515557454,
          -0.5599247565685864,
          0.7441531233347232,
          -0.6814710370963094,
          1.8221454972624809,
          0.4019139577863046,
          0.25839538612264057,
          -1.1980916669750947,
          0.34449618768897405,
          -1.021139797801242,
          0.6537320811984445,
          -0.7314199792059191,
          2.1826040042648733,
          -0.9563736641559415,
          -0.6783338604068041,
          -0.6702093617726054,
          0.33912561228172344,
          0.13988069172984913,
          1.1750087445530144,
          0.23062024779877058,
          0.019329480186717436,
          -0.6342151389972552,
          -0.714518709757769,
          -1.3770377775555394,
          0.7226762173743683,
          0.5347943858978389,
          -1.625074933335793,
          -1.103365996026399,
          -1.8484187247942057,
          -0.2933657169598747,
          -1.0379228872326074,
          -1.687486818385531,
          0.15763302190875925,
          -0.9917526514489864,
          -1.401998191292997,
          1.1685273716607132,
          -1.0924765499868767,
          1.1004984383673553,
          0.3024430062455109,
          -0.6451062450746639,
          0.4270100442054658,
          1.2814804808958185,
          0.4071866322407583,
          1.3737594623042046
         ]
        },
        {
         "line": {
          "color": "rgba(55, 128, 191, 1.0)",
          "dash": "solid",
          "shape": "linear",
          "width": 1.3
         },
         "mode": "lines",
         "name": "B",
         "text": "",
         "type": "scatter",
         "x": [
          0,
          1,
          2,
          3,
          4,
          5,
          6,
          7,
          8,
          9,
          10,
          11,
          12,
          13,
          14,
          15,
          16,
          17,
          18,
          19,
          20,
          21,
          22,
          23,
          24,
          25,
          26,
          27,
          28,
          29,
          30,
          31,
          32,
          33,
          34,
          35,
          36,
          37,
          38,
          39,
          40,
          41,
          42,
          43,
          44,
          45,
          46,
          47,
          48,
          49,
          50,
          51,
          52,
          53,
          54,
          55,
          56,
          57,
          58,
          59,
          60,
          61,
          62,
          63,
          64,
          65,
          66,
          67,
          68,
          69,
          70,
          71,
          72,
          73,
          74,
          75,
          76,
          77,
          78,
          79,
          80,
          81,
          82,
          83,
          84,
          85,
          86,
          87,
          88,
          89,
          90,
          91,
          92,
          93,
          94,
          95,
          96,
          97,
          98,
          99
         ],
         "y": [
          -1.491962523268668,
          -0.9863979319163781,
          -1.3706498912781242,
          -0.7283635054127434,
          -0.9556433947549499,
          -1.3776178280637075,
          -1.3282354767457958,
          0.4160855389008612,
          0.8245390833958657,
          -0.9386012985882881,
          -1.417146166990188,
          -0.2364962639674241,
          0.9555674388527511,
          0.32733012189391536,
          -0.844901615660728,
          0.5292929788219688,
          0.3696349580137423,
          -2.1581092479697417,
          1.1308247542325691,
          0.27079868876702035,
          -1.3700993932378516,
          1.822386519008439,
          1.2739493109373479,
          1.6860005870956005,
          1.0437955602263596,
          0.052187775820577716,
          -0.5129959686672352,
          -0.23642446542680795,
          2.0259746549928086,
          -0.6274963571844351,
          -0.20405423953078541,
          -1.4551299158129842,
          3.0083803245440226,
          -0.18200247569988784,
          -0.09655369744753517,
          0.5396269998034693,
          1.3526844847337924,
          0.5479447363690005,
          0.5003806017756498,
          0.38092478986333167,
          -0.6987050732978389,
          0.728950705242152,
          -0.07099017268241205,
          -0.17718643626418312,
          -1.2329612788960118,
          1.098371360403441,
          0.9228538361483437,
          -0.08551957529581292,
          -0.4380008002662748,
          0.19342006507323398,
          0.032302851769381594,
          1.0745637263936598,
          -0.34905775053086974,
          -0.38387650619720814,
          1.008613308424497,
          -1.1197072632192004,
          1.682262651833673,
          -0.6460412773663219,
          0.9117982447939869,
          0.06286202422433096,
          -0.6160075662848656,
          0.26695888931062,
          -0.15823583458025905,
          0.6707760460041554,
          1.782480813946048,
          -0.41806235648299156,
          0.9920882878881456,
          0.35393270682555716,
          -0.2821919585487452,
          -0.14034262729735977,
          -0.12211237075763812,
          -0.5409052719458001,
          -1.3106360584065184,
          -2.38683273001778,
          0.8329521217275093,
          0.1894540858494092,
          -0.5828241905753845,
          -1.4000380259065652,
          -1.5524571025879703,
          0.4128822340825146,
          -0.011762531518228102,
          -1.2652525410519582,
          1.455953610317138,
          0.9623467225545896,
          1.0607117432751054,
          -1.9516748560022805,
          -2.7387496811679237,
          0.028105306029023693,
          -0.6562471399526576,
          -0.236204261305822,
          1.1557779022072985,
          -0.727744455299941,
          0.4782040528002768,
          -0.6197213069086959,
          1.775528183886076,
          -1.4722901211034423,
          0.5089895879395171,
          1.1362057227381976,
          0.2163217689984764,
          1.0544547503433614
         ]
        },
        {
         "connectgaps": false,
         "fill": "tozeroy",
         "line": {
          "color": "green",
          "dash": "solid",
          "shape": "linear",
          "width": 0.5
         },
         "mode": "lines",
         "name": "Spread",
         "showlegend": false,
         "type": "scatter",
         "x": [
          0,
          1,
          2,
          3,
          4,
          5,
          6,
          7,
          8,
          9,
          10,
          11,
          12,
          13,
          14,
          15,
          16,
          17,
          18,
          19,
          20,
          21,
          22,
          23,
          24,
          25,
          26,
          27,
          28,
          29,
          30,
          31,
          32,
          33,
          34,
          35,
          36,
          37,
          38,
          39,
          40,
          41,
          42,
          43,
          44,
          45,
          46,
          47,
          48,
          49,
          50,
          51,
          52,
          53,
          54,
          55,
          56,
          57,
          58,
          59,
          60,
          61,
          62,
          63,
          64,
          65,
          66,
          67,
          68,
          69,
          70,
          71,
          72,
          73,
          74,
          75,
          76,
          77,
          78,
          79,
          80,
          81,
          82,
          83,
          84,
          85,
          86,
          87,
          88,
          89,
          90,
          91,
          92,
          93,
          94,
          95,
          96,
          97,
          98,
          99
         ],
         "xaxis": "x2",
         "y": [
          2.4783551203722047,
          0.4348901103317362,
          2.5811409000929917,
          0.3653039769075661,
          1.4243810302200903,
          1.6435574027107864,
          0.7345137828268933,
          "",
          "",
          "",
          2.6985369087823807,
          "",
          "",
          "",
          1.49203256041534,
          "",
          0.9695678780246186,
          2.4971134081254416,
          "",
          0.2444551392749031,
          0.4331533943193907,
          "",
          "",
          "",
          0.4264544041092788,
          1.3602992800094549,
          "",
          0.34919964681087623,
          "",
          1.0342573477220338,
          0.8112350958869698,
          1.0759777553799155,
          "",
          "",
          0.20159669763919558,
          "",
          "",
          "",
          "",
          "",
          1.4001278843822589,
          "",
          0.7305929741999436,
          "",
          1.7086429961776735,
          0.19787515901186126,
          "",
          0.5065470360722522,
          1.3041849633251008,
          "",
          0.03677024625534786,
          "",
          1.1430308733534893,
          0.11829099678673816,
          "",
          1.390315440490336,
          "",
          0.08611652079773546,
          "",
          "",
          2.4381530635473467,
          0.13495506847568461,
          0.4166312207028996,
          "",
          "",
          "",
          "",
          "",
          2.4647959628136187,
          "",
          "",
          "",
          1.6497616706882419,
          2.5267134217476293,
          0.3420566228255051,
          0.041166161949361374,
          0.6021536707621019,
          0.76582288690931,
          0.8379383928302013,
          "",
          0.7344387488925964,
          1.800046926949797,
          "",
          "",
          "",
          1.6583091390424058,
          1.7008267939353163,
          "",
          0.8138801618614169,
          "",
          "",
          1.8962718269606542,
          "",
          1.7202197452760513,
          "",
          0.8271838760287784,
          "",
          0.1452747581576208,
          0.19086486324228188,
          0.3193047119608432
         ],
         "yaxis": "y2"
        },
        {
         "connectgaps": false,
         "fill": "tozeroy",
         "line": {
          "color": "red",
          "dash": "solid",
          "shape": "linear",
          "width": 0.5
         },
         "mode": "lines",
         "name": "Spread",
         "showlegend": false,
         "type": "scatter",
         "x": [
          0,
          1,
          2,
          3,
          4,
          5,
          6,
          7,
          8,
          9,
          10,
          11,
          12,
          13,
          14,
          15,
          16,
          17,
          18,
          19,
          20,
          21,
          22,
          23,
          24,
          25,
          26,
          27,
          28,
          29,
          30,
          31,
          32,
          33,
          34,
          35,
          36,
          37,
          38,
          39,
          40,
          41,
          42,
          43,
          44,
          45,
          46,
          47,
          48,
          49,
          50,
          51,
          52,
          53,
          54,
          55,
          56,
          57,
          58,
          59,
          60,
          61,
          62,
          63,
          64,
          65,
          66,
          67,
          68,
          69,
          70,
          71,
          72,
          73,
          74,
          75,
          76,
          77,
          78,
          79,
          80,
          81,
          82,
          83,
          84,
          85,
          86,
          87,
          88,
          89,
          90,
          91,
          92,
          93,
          94,
          95,
          96,
          97,
          98,
          99
         ],
         "xaxis": "x2",
         "y": [
          "",
          "",
          "",
          "",
          "",
          "",
          "",
          -1.780329805871907,
          -1.0786084543886931,
          -0.3444574947851531,
          "",
          -0.09787178415147049,
          -1.3381268897932608,
          -0.3062426783114457,
          "",
          -1.9440624644953441,
          "",
          "",
          -1.0259671273004147,
          "",
          "",
          -3.998174959585122,
          -2.410226756386481,
          -0.33328575956963413,
          "",
          "",
          -0.4748623055233133,
          "",
          -2.538621921168941,
          "",
          "",
          "",
          -5.8851022506814745,
          -0.1571798113099712,
          "",
          -1.117045661085479,
          -1.7915110794536502,
          -0.6031217126234144,
          -0.8665456036003302,
          -0.6738362764702001,
          "",
          -0.5982542437375894,
          "",
          -0.9658078321678216,
          "",
          "",
          -0.07676460980619348,
          "",
          "",
          -0.2742973031181115,
          "",
          -1.3946471306251385,
          "",
          "",
          -1.303860252292887,
          "",
          -1.3166463766780985,
          "",
          -0.1676451214592637,
          -0.7443330613206404,
          "",
          "",
          "",
          -1.8688677129792501,
          -1.437984626257074,
          -0.6030774413182505,
          -0.3383562066897011,
          -1.0853526860314762,
          "",
          -0.8160310368585817,
          -0.556221489649166,
          -0.1293040898268053,
          "",
          "",
          "",
          "",
          "",
          "",
          "",
          -1.789920011638054,
          "",
          "",
          -3.081028543652931,
          -2.065712718580989,
          -2.909130468069311,
          "",
          "",
          -1.7155921244145547,
          "",
          -0.7555483901431643,
          -2.5577760935002956,
          "",
          -1.5706806027871534,
          "",
          -1.4730851776405651,
          "",
          -0.08197954373405131,
          "",
          "",
          ""
         ],
         "yaxis": "y2"
        }
       ],
       "layout": {
        "hovermode": "x",
        "legend": {
         "bgcolor": "#F5F6F9",
         "font": {
          "color": "#4D5663"
         }
        },
        "paper_bgcolor": "#F5F6F9",
        "plot_bgcolor": "#F5F6F9",
        "template": {
         "data": {
          "bar": [
           {
            "error_x": {
             "color": "#2a3f5f"
            },
            "error_y": {
             "color": "#2a3f5f"
            },
            "marker": {
             "line": {
              "color": "#E5ECF6",
              "width": 0.5
             }
            },
            "type": "bar"
           }
          ],
          "barpolar": [
           {
            "marker": {
             "line": {
              "color": "#E5ECF6",
              "width": 0.5
             }
            },
            "type": "barpolar"
           }
          ],
          "carpet": [
           {
            "aaxis": {
             "endlinecolor": "#2a3f5f",
             "gridcolor": "white",
             "linecolor": "white",
             "minorgridcolor": "white",
             "startlinecolor": "#2a3f5f"
            },
            "baxis": {
             "endlinecolor": "#2a3f5f",
             "gridcolor": "white",
             "linecolor": "white",
             "minorgridcolor": "white",
             "startlinecolor": "#2a3f5f"
            },
            "type": "carpet"
           }
          ],
          "choropleth": [
           {
            "colorbar": {
             "outlinewidth": 0,
             "ticks": ""
            },
            "type": "choropleth"
           }
          ],
          "contour": [
           {
            "colorbar": {
             "outlinewidth": 0,
             "ticks": ""
            },
            "colorscale": [
             [
              0,
              "#0d0887"
             ],
             [
              0.1111111111111111,
              "#46039f"
             ],
             [
              0.2222222222222222,
              "#7201a8"
             ],
             [
              0.3333333333333333,
              "#9c179e"
             ],
             [
              0.4444444444444444,
              "#bd3786"
             ],
             [
              0.5555555555555556,
              "#d8576b"
             ],
             [
              0.6666666666666666,
              "#ed7953"
             ],
             [
              0.7777777777777778,
              "#fb9f3a"
             ],
             [
              0.8888888888888888,
              "#fdca26"
             ],
             [
              1,
              "#f0f921"
             ]
            ],
            "type": "contour"
           }
          ],
          "contourcarpet": [
           {
            "colorbar": {
             "outlinewidth": 0,
             "ticks": ""
            },
            "type": "contourcarpet"
           }
          ],
          "heatmap": [
           {
            "colorbar": {
             "outlinewidth": 0,
             "ticks": ""
            },
            "colorscale": [
             [
              0,
              "#0d0887"
             ],
             [
              0.1111111111111111,
              "#46039f"
             ],
             [
              0.2222222222222222,
              "#7201a8"
             ],
             [
              0.3333333333333333,
              "#9c179e"
             ],
             [
              0.4444444444444444,
              "#bd3786"
             ],
             [
              0.5555555555555556,
              "#d8576b"
             ],
             [
              0.6666666666666666,
              "#ed7953"
             ],
             [
              0.7777777777777778,
              "#fb9f3a"
             ],
             [
              0.8888888888888888,
              "#fdca26"
             ],
             [
              1,
              "#f0f921"
             ]
            ],
            "type": "heatmap"
           }
          ],
          "heatmapgl": [
           {
            "colorbar": {
             "outlinewidth": 0,
             "ticks": ""
            },
            "colorscale": [
             [
              0,
              "#0d0887"
             ],
             [
              0.1111111111111111,
              "#46039f"
             ],
             [
              0.2222222222222222,
              "#7201a8"
             ],
             [
              0.3333333333333333,
              "#9c179e"
             ],
             [
              0.4444444444444444,
              "#bd3786"
             ],
             [
              0.5555555555555556,
              "#d8576b"
             ],
             [
              0.6666666666666666,
              "#ed7953"
             ],
             [
              0.7777777777777778,
              "#fb9f3a"
             ],
             [
              0.8888888888888888,
              "#fdca26"
             ],
             [
              1,
              "#f0f921"
             ]
            ],
            "type": "heatmapgl"
           }
          ],
          "histogram": [
           {
            "marker": {
             "colorbar": {
              "outlinewidth": 0,
              "ticks": ""
             }
            },
            "type": "histogram"
           }
          ],
          "histogram2d": [
           {
            "colorbar": {
             "outlinewidth": 0,
             "ticks": ""
            },
            "colorscale": [
             [
              0,
              "#0d0887"
             ],
             [
              0.1111111111111111,
              "#46039f"
             ],
             [
              0.2222222222222222,
              "#7201a8"
             ],
             [
              0.3333333333333333,
              "#9c179e"
             ],
             [
              0.4444444444444444,
              "#bd3786"
             ],
             [
              0.5555555555555556,
              "#d8576b"
             ],
             [
              0.6666666666666666,
              "#ed7953"
             ],
             [
              0.7777777777777778,
              "#fb9f3a"
             ],
             [
              0.8888888888888888,
              "#fdca26"
             ],
             [
              1,
              "#f0f921"
             ]
            ],
            "type": "histogram2d"
           }
          ],
          "histogram2dcontour": [
           {
            "colorbar": {
             "outlinewidth": 0,
             "ticks": ""
            },
            "colorscale": [
             [
              0,
              "#0d0887"
             ],
             [
              0.1111111111111111,
              "#46039f"
             ],
             [
              0.2222222222222222,
              "#7201a8"
             ],
             [
              0.3333333333333333,
              "#9c179e"
             ],
             [
              0.4444444444444444,
              "#bd3786"
             ],
             [
              0.5555555555555556,
              "#d8576b"
             ],
             [
              0.6666666666666666,
              "#ed7953"
             ],
             [
              0.7777777777777778,
              "#fb9f3a"
             ],
             [
              0.8888888888888888,
              "#fdca26"
             ],
             [
              1,
              "#f0f921"
             ]
            ],
            "type": "histogram2dcontour"
           }
          ],
          "mesh3d": [
           {
            "colorbar": {
             "outlinewidth": 0,
             "ticks": ""
            },
            "type": "mesh3d"
           }
          ],
          "parcoords": [
           {
            "line": {
             "colorbar": {
              "outlinewidth": 0,
              "ticks": ""
             }
            },
            "type": "parcoords"
           }
          ],
          "pie": [
           {
            "automargin": true,
            "type": "pie"
           }
          ],
          "scatter": [
           {
            "marker": {
             "colorbar": {
              "outlinewidth": 0,
              "ticks": ""
             }
            },
            "type": "scatter"
           }
          ],
          "scatter3d": [
           {
            "line": {
             "colorbar": {
              "outlinewidth": 0,
              "ticks": ""
             }
            },
            "marker": {
             "colorbar": {
              "outlinewidth": 0,
              "ticks": ""
             }
            },
            "type": "scatter3d"
           }
          ],
          "scattercarpet": [
           {
            "marker": {
             "colorbar": {
              "outlinewidth": 0,
              "ticks": ""
             }
            },
            "type": "scattercarpet"
           }
          ],
          "scattergeo": [
           {
            "marker": {
             "colorbar": {
              "outlinewidth": 0,
              "ticks": ""
             }
            },
            "type": "scattergeo"
           }
          ],
          "scattergl": [
           {
            "marker": {
             "colorbar": {
              "outlinewidth": 0,
              "ticks": ""
             }
            },
            "type": "scattergl"
           }
          ],
          "scattermapbox": [
           {
            "marker": {
             "colorbar": {
              "outlinewidth": 0,
              "ticks": ""
             }
            },
            "type": "scattermapbox"
           }
          ],
          "scatterpolar": [
           {
            "marker": {
             "colorbar": {
              "outlinewidth": 0,
              "ticks": ""
             }
            },
            "type": "scatterpolar"
           }
          ],
          "scatterpolargl": [
           {
            "marker": {
             "colorbar": {
              "outlinewidth": 0,
              "ticks": ""
             }
            },
            "type": "scatterpolargl"
           }
          ],
          "scatterternary": [
           {
            "marker": {
             "colorbar": {
              "outlinewidth": 0,
              "ticks": ""
             }
            },
            "type": "scatterternary"
           }
          ],
          "surface": [
           {
            "colorbar": {
             "outlinewidth": 0,
             "ticks": ""
            },
            "colorscale": [
             [
              0,
              "#0d0887"
             ],
             [
              0.1111111111111111,
              "#46039f"
             ],
             [
              0.2222222222222222,
              "#7201a8"
             ],
             [
              0.3333333333333333,
              "#9c179e"
             ],
             [
              0.4444444444444444,
              "#bd3786"
             ],
             [
              0.5555555555555556,
              "#d8576b"
             ],
             [
              0.6666666666666666,
              "#ed7953"
             ],
             [
              0.7777777777777778,
              "#fb9f3a"
             ],
             [
              0.8888888888888888,
              "#fdca26"
             ],
             [
              1,
              "#f0f921"
             ]
            ],
            "type": "surface"
           }
          ],
          "table": [
           {
            "cells": {
             "fill": {
              "color": "#EBF0F8"
             },
             "line": {
              "color": "white"
             }
            },
            "header": {
             "fill": {
              "color": "#C8D4E3"
             },
             "line": {
              "color": "white"
             }
            },
            "type": "table"
           }
          ]
         },
         "layout": {
          "annotationdefaults": {
           "arrowcolor": "#2a3f5f",
           "arrowhead": 0,
           "arrowwidth": 1
          },
          "coloraxis": {
           "colorbar": {
            "outlinewidth": 0,
            "ticks": ""
           }
          },
          "colorscale": {
           "diverging": [
            [
             0,
             "#8e0152"
            ],
            [
             0.1,
             "#c51b7d"
            ],
            [
             0.2,
             "#de77ae"
            ],
            [
             0.3,
             "#f1b6da"
            ],
            [
             0.4,
             "#fde0ef"
            ],
            [
             0.5,
             "#f7f7f7"
            ],
            [
             0.6,
             "#e6f5d0"
            ],
            [
             0.7,
             "#b8e186"
            ],
            [
             0.8,
             "#7fbc41"
            ],
            [
             0.9,
             "#4d9221"
            ],
            [
             1,
             "#276419"
            ]
           ],
           "sequential": [
            [
             0,
             "#0d0887"
            ],
            [
             0.1111111111111111,
             "#46039f"
            ],
            [
             0.2222222222222222,
             "#7201a8"
            ],
            [
             0.3333333333333333,
             "#9c179e"
            ],
            [
             0.4444444444444444,
             "#bd3786"
            ],
            [
             0.5555555555555556,
             "#d8576b"
            ],
            [
             0.6666666666666666,
             "#ed7953"
            ],
            [
             0.7777777777777778,
             "#fb9f3a"
            ],
            [
             0.8888888888888888,
             "#fdca26"
            ],
            [
             1,
             "#f0f921"
            ]
           ],
           "sequentialminus": [
            [
             0,
             "#0d0887"
            ],
            [
             0.1111111111111111,
             "#46039f"
            ],
            [
             0.2222222222222222,
             "#7201a8"
            ],
            [
             0.3333333333333333,
             "#9c179e"
            ],
            [
             0.4444444444444444,
             "#bd3786"
            ],
            [
             0.5555555555555556,
             "#d8576b"
            ],
            [
             0.6666666666666666,
             "#ed7953"
            ],
            [
             0.7777777777777778,
             "#fb9f3a"
            ],
            [
             0.8888888888888888,
             "#fdca26"
            ],
            [
             1,
             "#f0f921"
            ]
           ]
          },
          "colorway": [
           "#636efa",
           "#EF553B",
           "#00cc96",
           "#ab63fa",
           "#FFA15A",
           "#19d3f3",
           "#FF6692",
           "#B6E880",
           "#FF97FF",
           "#FECB52"
          ],
          "font": {
           "color": "#2a3f5f"
          },
          "geo": {
           "bgcolor": "white",
           "lakecolor": "white",
           "landcolor": "#E5ECF6",
           "showlakes": true,
           "showland": true,
           "subunitcolor": "white"
          },
          "hoverlabel": {
           "align": "left"
          },
          "hovermode": "closest",
          "mapbox": {
           "style": "light"
          },
          "paper_bgcolor": "white",
          "plot_bgcolor": "#E5ECF6",
          "polar": {
           "angularaxis": {
            "gridcolor": "white",
            "linecolor": "white",
            "ticks": ""
           },
           "bgcolor": "#E5ECF6",
           "radialaxis": {
            "gridcolor": "white",
            "linecolor": "white",
            "ticks": ""
           }
          },
          "scene": {
           "xaxis": {
            "backgroundcolor": "#E5ECF6",
            "gridcolor": "white",
            "gridwidth": 2,
            "linecolor": "white",
            "showbackground": true,
            "ticks": "",
            "zerolinecolor": "white"
           },
           "yaxis": {
            "backgroundcolor": "#E5ECF6",
            "gridcolor": "white",
            "gridwidth": 2,
            "linecolor": "white",
            "showbackground": true,
            "ticks": "",
            "zerolinecolor": "white"
           },
           "zaxis": {
            "backgroundcolor": "#E5ECF6",
            "gridcolor": "white",
            "gridwidth": 2,
            "linecolor": "white",
            "showbackground": true,
            "ticks": "",
            "zerolinecolor": "white"
           }
          },
          "shapedefaults": {
           "line": {
            "color": "#2a3f5f"
           }
          },
          "ternary": {
           "aaxis": {
            "gridcolor": "white",
            "linecolor": "white",
            "ticks": ""
           },
           "baxis": {
            "gridcolor": "white",
            "linecolor": "white",
            "ticks": ""
           },
           "bgcolor": "#E5ECF6",
           "caxis": {
            "gridcolor": "white",
            "linecolor": "white",
            "ticks": ""
           }
          },
          "title": {
           "x": 0.05
          },
          "xaxis": {
           "automargin": true,
           "gridcolor": "white",
           "linecolor": "white",
           "ticks": "",
           "title": {
            "standoff": 15
           },
           "zerolinecolor": "white",
           "zerolinewidth": 2
          },
          "yaxis": {
           "automargin": true,
           "gridcolor": "white",
           "linecolor": "white",
           "ticks": "",
           "title": {
            "standoff": 15
           },
           "zerolinecolor": "white",
           "zerolinewidth": 2
          }
         }
        },
        "title": {
         "font": {
          "color": "#4D5663"
         }
        },
        "xaxis": {
         "gridcolor": "#E1E5ED",
         "showgrid": true,
         "tickfont": {
          "color": "#4D5663"
         },
         "title": {
          "font": {
           "color": "#4D5663"
          },
          "text": ""
         },
         "zerolinecolor": "#E1E5ED"
        },
        "xaxis2": {
         "anchor": "y2",
         "gridcolor": "#E1E5ED",
         "showgrid": true,
         "showticklabels": false,
         "tickfont": {
          "color": "#4D5663"
         },
         "title": {
          "font": {
           "color": "#4D5663"
          },
          "text": ""
         },
         "zerolinecolor": "#E1E5ED"
        },
        "yaxis": {
         "domain": [
          0.3,
          1
         ],
         "gridcolor": "#E1E5ED",
         "showgrid": true,
         "tickfont": {
          "color": "#4D5663"
         },
         "title": {
          "font": {
           "color": "#4D5663"
          },
          "text": ""
         },
         "zerolinecolor": "#E1E5ED"
        },
        "yaxis2": {
         "domain": [
          0,
          0.25
         ],
         "gridcolor": "#E1E5ED",
         "showgrid": true,
         "tickfont": {
          "color": "#4D5663"
         },
         "title": {
          "font": {
           "color": "#4D5663"
          },
          "text": "Spread"
         },
         "zerolinecolor": "#E1E5ED"
        }
       }
      },
      "text/html": [
       "<div>\n",
       "        \n",
       "        \n",
       "            <div id=\"fbf374e1-5998-4d1e-a264-3e224f3b15c0\" class=\"plotly-graph-div\" style=\"height:525px; width:100%;\"></div>\n",
       "            <script type=\"text/javascript\">\n",
       "                require([\"plotly\"], function(Plotly) {\n",
       "                    window.PLOTLYENV=window.PLOTLYENV || {};\n",
       "                    window.PLOTLYENV.BASE_URL='https://plot.ly';\n",
       "                    \n",
       "                if (document.getElementById(\"fbf374e1-5998-4d1e-a264-3e224f3b15c0\")) {\n",
       "                    Plotly.newPlot(\n",
       "                        'fbf374e1-5998-4d1e-a264-3e224f3b15c0',\n",
       "                        [{\"line\": {\"color\": \"rgba(255, 153, 51, 1.0)\", \"dash\": \"solid\", \"shape\": \"linear\", \"width\": 1.3}, \"mode\": \"lines\", \"name\": \"A\", \"text\": \"\", \"type\": \"scatter\", \"x\": [0, 1, 2, 3, 4, 5, 6, 7, 8, 9, 10, 11, 12, 13, 14, 15, 16, 17, 18, 19, 20, 21, 22, 23, 24, 25, 26, 27, 28, 29, 30, 31, 32, 33, 34, 35, 36, 37, 38, 39, 40, 41, 42, 43, 44, 45, 46, 47, 48, 49, 50, 51, 52, 53, 54, 55, 56, 57, 58, 59, 60, 61, 62, 63, 64, 65, 66, 67, 68, 69, 70, 71, 72, 73, 74, 75, 76, 77, 78, 79, 80, 81, 82, 83, 84, 85, 86, 87, 88, 89, 90, 91, 92, 93, 94, 95, 96, 97, 98, 99], \"y\": [0.9863925971035367, -0.551507821584642, 1.2104910088148675, -0.3630595285051773, 0.46873763546514047, 0.26593957464707885, -0.5937216939189025, -1.364244266971046, -0.2540693709928275, -1.2830587933734412, 1.281390741792193, -0.3343680481188946, -0.3825594509405097, 0.021087443582469643, 0.6471309447546121, -1.4147694856733755, 1.339202836038361, 0.3390041601557001, 0.10485762693215445, 0.5152538280419234, -0.9369459989184609, -2.175788440576683, -1.1362774454491336, 1.3527148275259664, 1.4702499643356384, 1.4124870558300326, -0.9878582741905485, 0.1127751813840683, -0.5126472661761328, 0.4067609905375987, 0.6071808563561845, -0.37915216043306865, -2.876721926137452, -0.33918228700985903, 0.10504300019166042, -0.5774186612820098, -0.4388265947198578, -0.055176976254413895, -0.36616500182468037, -0.2929114866068684, 0.7014228110844198, 0.1306964615045626, 0.6596028015175316, -1.1429942684320047, 0.47568171728166164, 1.2962465194153023, 0.8460892263421502, 0.42102746077643927, 0.866184163058826, -0.08087723804487756, 0.06907309802472945, -0.3200834042314787, 0.7939731228226196, -0.26558550941047, -0.29524694386838995, 0.27060817727113556, 0.36561627515557454, -0.5599247565685864, 0.7441531233347232, -0.6814710370963094, 1.8221454972624809, 0.4019139577863046, 0.25839538612264057, -1.1980916669750947, 0.34449618768897405, -1.021139797801242, 0.6537320811984445, -0.7314199792059191, 2.1826040042648733, -0.9563736641559415, -0.6783338604068041, -0.6702093617726054, 0.33912561228172344, 0.13988069172984913, 1.1750087445530144, 0.23062024779877058, 0.019329480186717436, -0.6342151389972552, -0.714518709757769, -1.3770377775555394, 0.7226762173743683, 0.5347943858978389, -1.625074933335793, -1.103365996026399, -1.8484187247942057, -0.2933657169598747, -1.0379228872326074, -1.687486818385531, 0.15763302190875925, -0.9917526514489864, -1.401998191292997, 1.1685273716607132, -1.0924765499868767, 1.1004984383673553, 0.3024430062455109, -0.6451062450746639, 0.4270100442054658, 1.2814804808958185, 0.4071866322407583, 1.3737594623042046]}, {\"line\": {\"color\": \"rgba(55, 128, 191, 1.0)\", \"dash\": \"solid\", \"shape\": \"linear\", \"width\": 1.3}, \"mode\": \"lines\", \"name\": \"B\", \"text\": \"\", \"type\": \"scatter\", \"x\": [0, 1, 2, 3, 4, 5, 6, 7, 8, 9, 10, 11, 12, 13, 14, 15, 16, 17, 18, 19, 20, 21, 22, 23, 24, 25, 26, 27, 28, 29, 30, 31, 32, 33, 34, 35, 36, 37, 38, 39, 40, 41, 42, 43, 44, 45, 46, 47, 48, 49, 50, 51, 52, 53, 54, 55, 56, 57, 58, 59, 60, 61, 62, 63, 64, 65, 66, 67, 68, 69, 70, 71, 72, 73, 74, 75, 76, 77, 78, 79, 80, 81, 82, 83, 84, 85, 86, 87, 88, 89, 90, 91, 92, 93, 94, 95, 96, 97, 98, 99], \"y\": [-1.491962523268668, -0.9863979319163781, -1.3706498912781242, -0.7283635054127434, -0.9556433947549499, -1.3776178280637075, -1.3282354767457958, 0.4160855389008612, 0.8245390833958657, -0.9386012985882881, -1.417146166990188, -0.2364962639674241, 0.9555674388527511, 0.32733012189391536, -0.844901615660728, 0.5292929788219688, 0.3696349580137423, -2.1581092479697417, 1.1308247542325691, 0.27079868876702035, -1.3700993932378516, 1.822386519008439, 1.2739493109373479, 1.6860005870956005, 1.0437955602263596, 0.052187775820577716, -0.5129959686672352, -0.23642446542680795, 2.0259746549928086, -0.6274963571844351, -0.20405423953078541, -1.4551299158129842, 3.0083803245440226, -0.18200247569988784, -0.09655369744753517, 0.5396269998034693, 1.3526844847337924, 0.5479447363690005, 0.5003806017756498, 0.38092478986333167, -0.6987050732978389, 0.728950705242152, -0.07099017268241205, -0.17718643626418312, -1.2329612788960118, 1.098371360403441, 0.9228538361483437, -0.08551957529581292, -0.4380008002662748, 0.19342006507323398, 0.032302851769381594, 1.0745637263936598, -0.34905775053086974, -0.38387650619720814, 1.008613308424497, -1.1197072632192004, 1.682262651833673, -0.6460412773663219, 0.9117982447939869, 0.06286202422433096, -0.6160075662848656, 0.26695888931062, -0.15823583458025905, 0.6707760460041554, 1.782480813946048, -0.41806235648299156, 0.9920882878881456, 0.35393270682555716, -0.2821919585487452, -0.14034262729735977, -0.12211237075763812, -0.5409052719458001, -1.3106360584065184, -2.38683273001778, 0.8329521217275093, 0.1894540858494092, -0.5828241905753845, -1.4000380259065652, -1.5524571025879703, 0.4128822340825146, -0.011762531518228102, -1.2652525410519582, 1.455953610317138, 0.9623467225545896, 1.0607117432751054, -1.9516748560022805, -2.7387496811679237, 0.028105306029023693, -0.6562471399526576, -0.236204261305822, 1.1557779022072985, -0.727744455299941, 0.4782040528002768, -0.6197213069086959, 1.775528183886076, -1.4722901211034423, 0.5089895879395171, 1.1362057227381976, 0.2163217689984764, 1.0544547503433614]}, {\"connectgaps\": false, \"fill\": \"tozeroy\", \"line\": {\"color\": \"green\", \"dash\": \"solid\", \"shape\": \"linear\", \"width\": 0.5}, \"mode\": \"lines\", \"name\": \"Spread\", \"showlegend\": false, \"type\": \"scatter\", \"x\": [0, 1, 2, 3, 4, 5, 6, 7, 8, 9, 10, 11, 12, 13, 14, 15, 16, 17, 18, 19, 20, 21, 22, 23, 24, 25, 26, 27, 28, 29, 30, 31, 32, 33, 34, 35, 36, 37, 38, 39, 40, 41, 42, 43, 44, 45, 46, 47, 48, 49, 50, 51, 52, 53, 54, 55, 56, 57, 58, 59, 60, 61, 62, 63, 64, 65, 66, 67, 68, 69, 70, 71, 72, 73, 74, 75, 76, 77, 78, 79, 80, 81, 82, 83, 84, 85, 86, 87, 88, 89, 90, 91, 92, 93, 94, 95, 96, 97, 98, 99], \"xaxis\": \"x2\", \"y\": [2.4783551203722047, 0.4348901103317362, 2.5811409000929917, 0.3653039769075661, 1.4243810302200903, 1.6435574027107864, 0.7345137828268933, \"\", \"\", \"\", 2.6985369087823807, \"\", \"\", \"\", 1.49203256041534, \"\", 0.9695678780246186, 2.4971134081254416, \"\", 0.2444551392749031, 0.4331533943193907, \"\", \"\", \"\", 0.4264544041092788, 1.3602992800094549, \"\", 0.34919964681087623, \"\", 1.0342573477220338, 0.8112350958869698, 1.0759777553799155, \"\", \"\", 0.20159669763919558, \"\", \"\", \"\", \"\", \"\", 1.4001278843822589, \"\", 0.7305929741999436, \"\", 1.7086429961776735, 0.19787515901186126, \"\", 0.5065470360722522, 1.3041849633251008, \"\", 0.03677024625534786, \"\", 1.1430308733534893, 0.11829099678673816, \"\", 1.390315440490336, \"\", 0.08611652079773546, \"\", \"\", 2.4381530635473467, 0.13495506847568461, 0.4166312207028996, \"\", \"\", \"\", \"\", \"\", 2.4647959628136187, \"\", \"\", \"\", 1.6497616706882419, 2.5267134217476293, 0.3420566228255051, 0.041166161949361374, 0.6021536707621019, 0.76582288690931, 0.8379383928302013, \"\", 0.7344387488925964, 1.800046926949797, \"\", \"\", \"\", 1.6583091390424058, 1.7008267939353163, \"\", 0.8138801618614169, \"\", \"\", 1.8962718269606542, \"\", 1.7202197452760513, \"\", 0.8271838760287784, \"\", 0.1452747581576208, 0.19086486324228188, 0.3193047119608432], \"yaxis\": \"y2\"}, {\"connectgaps\": false, \"fill\": \"tozeroy\", \"line\": {\"color\": \"red\", \"dash\": \"solid\", \"shape\": \"linear\", \"width\": 0.5}, \"mode\": \"lines\", \"name\": \"Spread\", \"showlegend\": false, \"type\": \"scatter\", \"x\": [0, 1, 2, 3, 4, 5, 6, 7, 8, 9, 10, 11, 12, 13, 14, 15, 16, 17, 18, 19, 20, 21, 22, 23, 24, 25, 26, 27, 28, 29, 30, 31, 32, 33, 34, 35, 36, 37, 38, 39, 40, 41, 42, 43, 44, 45, 46, 47, 48, 49, 50, 51, 52, 53, 54, 55, 56, 57, 58, 59, 60, 61, 62, 63, 64, 65, 66, 67, 68, 69, 70, 71, 72, 73, 74, 75, 76, 77, 78, 79, 80, 81, 82, 83, 84, 85, 86, 87, 88, 89, 90, 91, 92, 93, 94, 95, 96, 97, 98, 99], \"xaxis\": \"x2\", \"y\": [\"\", \"\", \"\", \"\", \"\", \"\", \"\", -1.780329805871907, -1.0786084543886931, -0.3444574947851531, \"\", -0.09787178415147049, -1.3381268897932608, -0.3062426783114457, \"\", -1.9440624644953441, \"\", \"\", -1.0259671273004147, \"\", \"\", -3.998174959585122, -2.410226756386481, -0.33328575956963413, \"\", \"\", -0.4748623055233133, \"\", -2.538621921168941, \"\", \"\", \"\", -5.8851022506814745, -0.1571798113099712, \"\", -1.117045661085479, -1.7915110794536502, -0.6031217126234144, -0.8665456036003302, -0.6738362764702001, \"\", -0.5982542437375894, \"\", -0.9658078321678216, \"\", \"\", -0.07676460980619348, \"\", \"\", -0.2742973031181115, \"\", -1.3946471306251385, \"\", \"\", -1.303860252292887, \"\", -1.3166463766780985, \"\", -0.1676451214592637, -0.7443330613206404, \"\", \"\", \"\", -1.8688677129792501, -1.437984626257074, -0.6030774413182505, -0.3383562066897011, -1.0853526860314762, \"\", -0.8160310368585817, -0.556221489649166, -0.1293040898268053, \"\", \"\", \"\", \"\", \"\", \"\", \"\", -1.789920011638054, \"\", \"\", -3.081028543652931, -2.065712718580989, -2.909130468069311, \"\", \"\", -1.7155921244145547, \"\", -0.7555483901431643, -2.5577760935002956, \"\", -1.5706806027871534, \"\", -1.4730851776405651, \"\", -0.08197954373405131, \"\", \"\", \"\"], \"yaxis\": \"y2\"}],\n",
       "                        {\"hovermode\": \"x\", \"legend\": {\"bgcolor\": \"#F5F6F9\", \"font\": {\"color\": \"#4D5663\"}}, \"paper_bgcolor\": \"#F5F6F9\", \"plot_bgcolor\": \"#F5F6F9\", \"template\": {\"data\": {\"bar\": [{\"error_x\": {\"color\": \"#2a3f5f\"}, \"error_y\": {\"color\": \"#2a3f5f\"}, \"marker\": {\"line\": {\"color\": \"#E5ECF6\", \"width\": 0.5}}, \"type\": \"bar\"}], \"barpolar\": [{\"marker\": {\"line\": {\"color\": \"#E5ECF6\", \"width\": 0.5}}, \"type\": \"barpolar\"}], \"carpet\": [{\"aaxis\": {\"endlinecolor\": \"#2a3f5f\", \"gridcolor\": \"white\", \"linecolor\": \"white\", \"minorgridcolor\": \"white\", \"startlinecolor\": \"#2a3f5f\"}, \"baxis\": {\"endlinecolor\": \"#2a3f5f\", \"gridcolor\": \"white\", \"linecolor\": \"white\", \"minorgridcolor\": \"white\", \"startlinecolor\": \"#2a3f5f\"}, \"type\": \"carpet\"}], \"choropleth\": [{\"colorbar\": {\"outlinewidth\": 0, \"ticks\": \"\"}, \"type\": \"choropleth\"}], \"contour\": [{\"colorbar\": {\"outlinewidth\": 0, \"ticks\": \"\"}, \"colorscale\": [[0.0, \"#0d0887\"], [0.1111111111111111, \"#46039f\"], [0.2222222222222222, \"#7201a8\"], [0.3333333333333333, \"#9c179e\"], [0.4444444444444444, \"#bd3786\"], [0.5555555555555556, \"#d8576b\"], [0.6666666666666666, \"#ed7953\"], [0.7777777777777778, \"#fb9f3a\"], [0.8888888888888888, \"#fdca26\"], [1.0, \"#f0f921\"]], \"type\": \"contour\"}], \"contourcarpet\": [{\"colorbar\": {\"outlinewidth\": 0, \"ticks\": \"\"}, \"type\": \"contourcarpet\"}], \"heatmap\": [{\"colorbar\": {\"outlinewidth\": 0, \"ticks\": \"\"}, \"colorscale\": [[0.0, \"#0d0887\"], [0.1111111111111111, \"#46039f\"], [0.2222222222222222, \"#7201a8\"], [0.3333333333333333, \"#9c179e\"], [0.4444444444444444, \"#bd3786\"], [0.5555555555555556, \"#d8576b\"], [0.6666666666666666, \"#ed7953\"], [0.7777777777777778, \"#fb9f3a\"], [0.8888888888888888, \"#fdca26\"], [1.0, \"#f0f921\"]], \"type\": \"heatmap\"}], \"heatmapgl\": [{\"colorbar\": {\"outlinewidth\": 0, \"ticks\": \"\"}, \"colorscale\": [[0.0, \"#0d0887\"], [0.1111111111111111, \"#46039f\"], [0.2222222222222222, \"#7201a8\"], [0.3333333333333333, \"#9c179e\"], [0.4444444444444444, \"#bd3786\"], [0.5555555555555556, \"#d8576b\"], [0.6666666666666666, \"#ed7953\"], [0.7777777777777778, \"#fb9f3a\"], [0.8888888888888888, \"#fdca26\"], [1.0, \"#f0f921\"]], \"type\": \"heatmapgl\"}], \"histogram\": [{\"marker\": {\"colorbar\": {\"outlinewidth\": 0, \"ticks\": \"\"}}, \"type\": \"histogram\"}], \"histogram2d\": [{\"colorbar\": {\"outlinewidth\": 0, \"ticks\": \"\"}, \"colorscale\": [[0.0, \"#0d0887\"], [0.1111111111111111, \"#46039f\"], [0.2222222222222222, \"#7201a8\"], [0.3333333333333333, \"#9c179e\"], [0.4444444444444444, \"#bd3786\"], [0.5555555555555556, \"#d8576b\"], [0.6666666666666666, \"#ed7953\"], [0.7777777777777778, \"#fb9f3a\"], [0.8888888888888888, \"#fdca26\"], [1.0, \"#f0f921\"]], \"type\": \"histogram2d\"}], \"histogram2dcontour\": [{\"colorbar\": {\"outlinewidth\": 0, \"ticks\": \"\"}, \"colorscale\": [[0.0, \"#0d0887\"], [0.1111111111111111, \"#46039f\"], [0.2222222222222222, \"#7201a8\"], [0.3333333333333333, \"#9c179e\"], [0.4444444444444444, \"#bd3786\"], [0.5555555555555556, \"#d8576b\"], [0.6666666666666666, \"#ed7953\"], [0.7777777777777778, \"#fb9f3a\"], [0.8888888888888888, \"#fdca26\"], [1.0, \"#f0f921\"]], \"type\": \"histogram2dcontour\"}], \"mesh3d\": [{\"colorbar\": {\"outlinewidth\": 0, \"ticks\": \"\"}, \"type\": \"mesh3d\"}], \"parcoords\": [{\"line\": {\"colorbar\": {\"outlinewidth\": 0, \"ticks\": \"\"}}, \"type\": \"parcoords\"}], \"pie\": [{\"automargin\": true, \"type\": \"pie\"}], \"scatter\": [{\"marker\": {\"colorbar\": {\"outlinewidth\": 0, \"ticks\": \"\"}}, \"type\": \"scatter\"}], \"scatter3d\": [{\"line\": {\"colorbar\": {\"outlinewidth\": 0, \"ticks\": \"\"}}, \"marker\": {\"colorbar\": {\"outlinewidth\": 0, \"ticks\": \"\"}}, \"type\": \"scatter3d\"}], \"scattercarpet\": [{\"marker\": {\"colorbar\": {\"outlinewidth\": 0, \"ticks\": \"\"}}, \"type\": \"scattercarpet\"}], \"scattergeo\": [{\"marker\": {\"colorbar\": {\"outlinewidth\": 0, \"ticks\": \"\"}}, \"type\": \"scattergeo\"}], \"scattergl\": [{\"marker\": {\"colorbar\": {\"outlinewidth\": 0, \"ticks\": \"\"}}, \"type\": \"scattergl\"}], \"scattermapbox\": [{\"marker\": {\"colorbar\": {\"outlinewidth\": 0, \"ticks\": \"\"}}, \"type\": \"scattermapbox\"}], \"scatterpolar\": [{\"marker\": {\"colorbar\": {\"outlinewidth\": 0, \"ticks\": \"\"}}, \"type\": \"scatterpolar\"}], \"scatterpolargl\": [{\"marker\": {\"colorbar\": {\"outlinewidth\": 0, \"ticks\": \"\"}}, \"type\": \"scatterpolargl\"}], \"scatterternary\": [{\"marker\": {\"colorbar\": {\"outlinewidth\": 0, \"ticks\": \"\"}}, \"type\": \"scatterternary\"}], \"surface\": [{\"colorbar\": {\"outlinewidth\": 0, \"ticks\": \"\"}, \"colorscale\": [[0.0, \"#0d0887\"], [0.1111111111111111, \"#46039f\"], [0.2222222222222222, \"#7201a8\"], [0.3333333333333333, \"#9c179e\"], [0.4444444444444444, \"#bd3786\"], [0.5555555555555556, \"#d8576b\"], [0.6666666666666666, \"#ed7953\"], [0.7777777777777778, \"#fb9f3a\"], [0.8888888888888888, \"#fdca26\"], [1.0, \"#f0f921\"]], \"type\": \"surface\"}], \"table\": [{\"cells\": {\"fill\": {\"color\": \"#EBF0F8\"}, \"line\": {\"color\": \"white\"}}, \"header\": {\"fill\": {\"color\": \"#C8D4E3\"}, \"line\": {\"color\": \"white\"}}, \"type\": \"table\"}]}, \"layout\": {\"annotationdefaults\": {\"arrowcolor\": \"#2a3f5f\", \"arrowhead\": 0, \"arrowwidth\": 1}, \"coloraxis\": {\"colorbar\": {\"outlinewidth\": 0, \"ticks\": \"\"}}, \"colorscale\": {\"diverging\": [[0, \"#8e0152\"], [0.1, \"#c51b7d\"], [0.2, \"#de77ae\"], [0.3, \"#f1b6da\"], [0.4, \"#fde0ef\"], [0.5, \"#f7f7f7\"], [0.6, \"#e6f5d0\"], [0.7, \"#b8e186\"], [0.8, \"#7fbc41\"], [0.9, \"#4d9221\"], [1, \"#276419\"]], \"sequential\": [[0.0, \"#0d0887\"], [0.1111111111111111, \"#46039f\"], [0.2222222222222222, \"#7201a8\"], [0.3333333333333333, \"#9c179e\"], [0.4444444444444444, \"#bd3786\"], [0.5555555555555556, \"#d8576b\"], [0.6666666666666666, \"#ed7953\"], [0.7777777777777778, \"#fb9f3a\"], [0.8888888888888888, \"#fdca26\"], [1.0, \"#f0f921\"]], \"sequentialminus\": [[0.0, \"#0d0887\"], [0.1111111111111111, \"#46039f\"], [0.2222222222222222, \"#7201a8\"], [0.3333333333333333, \"#9c179e\"], [0.4444444444444444, \"#bd3786\"], [0.5555555555555556, \"#d8576b\"], [0.6666666666666666, \"#ed7953\"], [0.7777777777777778, \"#fb9f3a\"], [0.8888888888888888, \"#fdca26\"], [1.0, \"#f0f921\"]]}, \"colorway\": [\"#636efa\", \"#EF553B\", \"#00cc96\", \"#ab63fa\", \"#FFA15A\", \"#19d3f3\", \"#FF6692\", \"#B6E880\", \"#FF97FF\", \"#FECB52\"], \"font\": {\"color\": \"#2a3f5f\"}, \"geo\": {\"bgcolor\": \"white\", \"lakecolor\": \"white\", \"landcolor\": \"#E5ECF6\", \"showlakes\": true, \"showland\": true, \"subunitcolor\": \"white\"}, \"hoverlabel\": {\"align\": \"left\"}, \"hovermode\": \"closest\", \"mapbox\": {\"style\": \"light\"}, \"paper_bgcolor\": \"white\", \"plot_bgcolor\": \"#E5ECF6\", \"polar\": {\"angularaxis\": {\"gridcolor\": \"white\", \"linecolor\": \"white\", \"ticks\": \"\"}, \"bgcolor\": \"#E5ECF6\", \"radialaxis\": {\"gridcolor\": \"white\", \"linecolor\": \"white\", \"ticks\": \"\"}}, \"scene\": {\"xaxis\": {\"backgroundcolor\": \"#E5ECF6\", \"gridcolor\": \"white\", \"gridwidth\": 2, \"linecolor\": \"white\", \"showbackground\": true, \"ticks\": \"\", \"zerolinecolor\": \"white\"}, \"yaxis\": {\"backgroundcolor\": \"#E5ECF6\", \"gridcolor\": \"white\", \"gridwidth\": 2, \"linecolor\": \"white\", \"showbackground\": true, \"ticks\": \"\", \"zerolinecolor\": \"white\"}, \"zaxis\": {\"backgroundcolor\": \"#E5ECF6\", \"gridcolor\": \"white\", \"gridwidth\": 2, \"linecolor\": \"white\", \"showbackground\": true, \"ticks\": \"\", \"zerolinecolor\": \"white\"}}, \"shapedefaults\": {\"line\": {\"color\": \"#2a3f5f\"}}, \"ternary\": {\"aaxis\": {\"gridcolor\": \"white\", \"linecolor\": \"white\", \"ticks\": \"\"}, \"baxis\": {\"gridcolor\": \"white\", \"linecolor\": \"white\", \"ticks\": \"\"}, \"bgcolor\": \"#E5ECF6\", \"caxis\": {\"gridcolor\": \"white\", \"linecolor\": \"white\", \"ticks\": \"\"}}, \"title\": {\"x\": 0.05}, \"xaxis\": {\"automargin\": true, \"gridcolor\": \"white\", \"linecolor\": \"white\", \"ticks\": \"\", \"title\": {\"standoff\": 15}, \"zerolinecolor\": \"white\", \"zerolinewidth\": 2}, \"yaxis\": {\"automargin\": true, \"gridcolor\": \"white\", \"linecolor\": \"white\", \"ticks\": \"\", \"title\": {\"standoff\": 15}, \"zerolinecolor\": \"white\", \"zerolinewidth\": 2}}}, \"title\": {\"font\": {\"color\": \"#4D5663\"}}, \"xaxis\": {\"gridcolor\": \"#E1E5ED\", \"showgrid\": true, \"tickfont\": {\"color\": \"#4D5663\"}, \"title\": {\"font\": {\"color\": \"#4D5663\"}, \"text\": \"\"}, \"zerolinecolor\": \"#E1E5ED\"}, \"xaxis2\": {\"anchor\": \"y2\", \"gridcolor\": \"#E1E5ED\", \"showgrid\": true, \"showticklabels\": false, \"tickfont\": {\"color\": \"#4D5663\"}, \"title\": {\"font\": {\"color\": \"#4D5663\"}, \"text\": \"\"}, \"zerolinecolor\": \"#E1E5ED\"}, \"yaxis\": {\"domain\": [0.3, 1], \"gridcolor\": \"#E1E5ED\", \"showgrid\": true, \"tickfont\": {\"color\": \"#4D5663\"}, \"title\": {\"font\": {\"color\": \"#4D5663\"}, \"text\": \"\"}, \"zerolinecolor\": \"#E1E5ED\"}, \"yaxis2\": {\"domain\": [0, 0.25], \"gridcolor\": \"#E1E5ED\", \"showgrid\": true, \"tickfont\": {\"color\": \"#4D5663\"}, \"title\": {\"font\": {\"color\": \"#4D5663\"}, \"text\": \"Spread\"}, \"zerolinecolor\": \"#E1E5ED\"}},\n",
       "                        {\"showLink\": true, \"linkText\": \"Export to plot.ly\", \"plotlyServerURL\": \"https://plot.ly\", \"responsive\": true}\n",
       "                    ).then(function(){\n",
       "                            \n",
       "var gd = document.getElementById('fbf374e1-5998-4d1e-a264-3e224f3b15c0');\n",
       "var x = new MutationObserver(function (mutations, observer) {{\n",
       "        var display = window.getComputedStyle(gd).display;\n",
       "        if (!display || display === 'none') {{\n",
       "            console.log([gd, 'removed!']);\n",
       "            Plotly.purge(gd);\n",
       "            observer.disconnect();\n",
       "        }}\n",
       "}});\n",
       "\n",
       "// Listen for the removal of the full notebook cells\n",
       "var notebookContainer = gd.closest('#notebook-container');\n",
       "if (notebookContainer) {{\n",
       "    x.observe(notebookContainer, {childList: true});\n",
       "}}\n",
       "\n",
       "// Listen for the clearing of the current output cell\n",
       "var outputEl = gd.closest('.output');\n",
       "if (outputEl) {{\n",
       "    x.observe(outputEl, {childList: true});\n",
       "}}\n",
       "\n",
       "                        })\n",
       "                };\n",
       "                });\n",
       "            </script>\n",
       "        </div>"
      ]
     },
     "metadata": {},
     "output_type": "display_data"
    }
   ],
   "source": [
    "df[['A','B']].iplot(kind='spread')"
   ]
  },
  {
   "cell_type": "markdown",
   "metadata": {},
   "source": [
    "## histogram"
   ]
  },
  {
   "cell_type": "code",
   "execution_count": 17,
   "metadata": {},
   "outputs": [
    {
     "data": {
      "application/vnd.plotly.v1+json": {
       "config": {
        "linkText": "Export to plot.ly",
        "plotlyServerURL": "https://plot.ly",
        "showLink": true
       },
       "data": [
        {
         "histfunc": "count",
         "histnorm": "",
         "marker": {
          "color": "rgba(255, 153, 51, 1.0)",
          "line": {
           "color": "#4D5663",
           "width": 1.3
          }
         },
         "name": "A",
         "nbinsx": 25,
         "opacity": 0.8,
         "orientation": "v",
         "type": "histogram",
         "x": [
          0.9863925971035367,
          -0.551507821584642,
          1.2104910088148675,
          -0.3630595285051773,
          0.46873763546514047,
          0.26593957464707885,
          -0.5937216939189025,
          -1.364244266971046,
          -0.2540693709928275,
          -1.2830587933734412,
          1.281390741792193,
          -0.3343680481188946,
          -0.3825594509405097,
          0.021087443582469643,
          0.6471309447546121,
          -1.4147694856733755,
          1.339202836038361,
          0.3390041601557001,
          0.10485762693215445,
          0.5152538280419234,
          -0.9369459989184609,
          -2.175788440576683,
          -1.1362774454491336,
          1.3527148275259664,
          1.4702499643356384,
          1.4124870558300326,
          -0.9878582741905485,
          0.1127751813840683,
          -0.5126472661761328,
          0.4067609905375987,
          0.6071808563561845,
          -0.37915216043306865,
          -2.876721926137452,
          -0.33918228700985903,
          0.10504300019166042,
          -0.5774186612820098,
          -0.4388265947198578,
          -0.055176976254413895,
          -0.36616500182468037,
          -0.2929114866068684,
          0.7014228110844198,
          0.1306964615045626,
          0.6596028015175316,
          -1.1429942684320047,
          0.47568171728166164,
          1.2962465194153023,
          0.8460892263421502,
          0.42102746077643927,
          0.866184163058826,
          -0.08087723804487756,
          0.06907309802472945,
          -0.3200834042314787,
          0.7939731228226196,
          -0.26558550941047,
          -0.29524694386838995,
          0.27060817727113556,
          0.36561627515557454,
          -0.5599247565685864,
          0.7441531233347232,
          -0.6814710370963094,
          1.8221454972624809,
          0.4019139577863046,
          0.25839538612264057,
          -1.1980916669750947,
          0.34449618768897405,
          -1.021139797801242,
          0.6537320811984445,
          -0.7314199792059191,
          2.1826040042648733,
          -0.9563736641559415,
          -0.6783338604068041,
          -0.6702093617726054,
          0.33912561228172344,
          0.13988069172984913,
          1.1750087445530144,
          0.23062024779877058,
          0.019329480186717436,
          -0.6342151389972552,
          -0.714518709757769,
          -1.3770377775555394,
          0.7226762173743683,
          0.5347943858978389,
          -1.625074933335793,
          -1.103365996026399,
          -1.8484187247942057,
          -0.2933657169598747,
          -1.0379228872326074,
          -1.687486818385531,
          0.15763302190875925,
          -0.9917526514489864,
          -1.401998191292997,
          1.1685273716607132,
          -1.0924765499868767,
          1.1004984383673553,
          0.3024430062455109,
          -0.6451062450746639,
          0.4270100442054658,
          1.2814804808958185,
          0.4071866322407583,
          1.3737594623042046
         ]
        }
       ],
       "layout": {
        "barmode": "overlay",
        "legend": {
         "bgcolor": "#F5F6F9",
         "font": {
          "color": "#4D5663"
         }
        },
        "paper_bgcolor": "#F5F6F9",
        "plot_bgcolor": "#F5F6F9",
        "template": {
         "data": {
          "bar": [
           {
            "error_x": {
             "color": "#2a3f5f"
            },
            "error_y": {
             "color": "#2a3f5f"
            },
            "marker": {
             "line": {
              "color": "#E5ECF6",
              "width": 0.5
             }
            },
            "type": "bar"
           }
          ],
          "barpolar": [
           {
            "marker": {
             "line": {
              "color": "#E5ECF6",
              "width": 0.5
             }
            },
            "type": "barpolar"
           }
          ],
          "carpet": [
           {
            "aaxis": {
             "endlinecolor": "#2a3f5f",
             "gridcolor": "white",
             "linecolor": "white",
             "minorgridcolor": "white",
             "startlinecolor": "#2a3f5f"
            },
            "baxis": {
             "endlinecolor": "#2a3f5f",
             "gridcolor": "white",
             "linecolor": "white",
             "minorgridcolor": "white",
             "startlinecolor": "#2a3f5f"
            },
            "type": "carpet"
           }
          ],
          "choropleth": [
           {
            "colorbar": {
             "outlinewidth": 0,
             "ticks": ""
            },
            "type": "choropleth"
           }
          ],
          "contour": [
           {
            "colorbar": {
             "outlinewidth": 0,
             "ticks": ""
            },
            "colorscale": [
             [
              0,
              "#0d0887"
             ],
             [
              0.1111111111111111,
              "#46039f"
             ],
             [
              0.2222222222222222,
              "#7201a8"
             ],
             [
              0.3333333333333333,
              "#9c179e"
             ],
             [
              0.4444444444444444,
              "#bd3786"
             ],
             [
              0.5555555555555556,
              "#d8576b"
             ],
             [
              0.6666666666666666,
              "#ed7953"
             ],
             [
              0.7777777777777778,
              "#fb9f3a"
             ],
             [
              0.8888888888888888,
              "#fdca26"
             ],
             [
              1,
              "#f0f921"
             ]
            ],
            "type": "contour"
           }
          ],
          "contourcarpet": [
           {
            "colorbar": {
             "outlinewidth": 0,
             "ticks": ""
            },
            "type": "contourcarpet"
           }
          ],
          "heatmap": [
           {
            "colorbar": {
             "outlinewidth": 0,
             "ticks": ""
            },
            "colorscale": [
             [
              0,
              "#0d0887"
             ],
             [
              0.1111111111111111,
              "#46039f"
             ],
             [
              0.2222222222222222,
              "#7201a8"
             ],
             [
              0.3333333333333333,
              "#9c179e"
             ],
             [
              0.4444444444444444,
              "#bd3786"
             ],
             [
              0.5555555555555556,
              "#d8576b"
             ],
             [
              0.6666666666666666,
              "#ed7953"
             ],
             [
              0.7777777777777778,
              "#fb9f3a"
             ],
             [
              0.8888888888888888,
              "#fdca26"
             ],
             [
              1,
              "#f0f921"
             ]
            ],
            "type": "heatmap"
           }
          ],
          "heatmapgl": [
           {
            "colorbar": {
             "outlinewidth": 0,
             "ticks": ""
            },
            "colorscale": [
             [
              0,
              "#0d0887"
             ],
             [
              0.1111111111111111,
              "#46039f"
             ],
             [
              0.2222222222222222,
              "#7201a8"
             ],
             [
              0.3333333333333333,
              "#9c179e"
             ],
             [
              0.4444444444444444,
              "#bd3786"
             ],
             [
              0.5555555555555556,
              "#d8576b"
             ],
             [
              0.6666666666666666,
              "#ed7953"
             ],
             [
              0.7777777777777778,
              "#fb9f3a"
             ],
             [
              0.8888888888888888,
              "#fdca26"
             ],
             [
              1,
              "#f0f921"
             ]
            ],
            "type": "heatmapgl"
           }
          ],
          "histogram": [
           {
            "marker": {
             "colorbar": {
              "outlinewidth": 0,
              "ticks": ""
             }
            },
            "type": "histogram"
           }
          ],
          "histogram2d": [
           {
            "colorbar": {
             "outlinewidth": 0,
             "ticks": ""
            },
            "colorscale": [
             [
              0,
              "#0d0887"
             ],
             [
              0.1111111111111111,
              "#46039f"
             ],
             [
              0.2222222222222222,
              "#7201a8"
             ],
             [
              0.3333333333333333,
              "#9c179e"
             ],
             [
              0.4444444444444444,
              "#bd3786"
             ],
             [
              0.5555555555555556,
              "#d8576b"
             ],
             [
              0.6666666666666666,
              "#ed7953"
             ],
             [
              0.7777777777777778,
              "#fb9f3a"
             ],
             [
              0.8888888888888888,
              "#fdca26"
             ],
             [
              1,
              "#f0f921"
             ]
            ],
            "type": "histogram2d"
           }
          ],
          "histogram2dcontour": [
           {
            "colorbar": {
             "outlinewidth": 0,
             "ticks": ""
            },
            "colorscale": [
             [
              0,
              "#0d0887"
             ],
             [
              0.1111111111111111,
              "#46039f"
             ],
             [
              0.2222222222222222,
              "#7201a8"
             ],
             [
              0.3333333333333333,
              "#9c179e"
             ],
             [
              0.4444444444444444,
              "#bd3786"
             ],
             [
              0.5555555555555556,
              "#d8576b"
             ],
             [
              0.6666666666666666,
              "#ed7953"
             ],
             [
              0.7777777777777778,
              "#fb9f3a"
             ],
             [
              0.8888888888888888,
              "#fdca26"
             ],
             [
              1,
              "#f0f921"
             ]
            ],
            "type": "histogram2dcontour"
           }
          ],
          "mesh3d": [
           {
            "colorbar": {
             "outlinewidth": 0,
             "ticks": ""
            },
            "type": "mesh3d"
           }
          ],
          "parcoords": [
           {
            "line": {
             "colorbar": {
              "outlinewidth": 0,
              "ticks": ""
             }
            },
            "type": "parcoords"
           }
          ],
          "pie": [
           {
            "automargin": true,
            "type": "pie"
           }
          ],
          "scatter": [
           {
            "marker": {
             "colorbar": {
              "outlinewidth": 0,
              "ticks": ""
             }
            },
            "type": "scatter"
           }
          ],
          "scatter3d": [
           {
            "line": {
             "colorbar": {
              "outlinewidth": 0,
              "ticks": ""
             }
            },
            "marker": {
             "colorbar": {
              "outlinewidth": 0,
              "ticks": ""
             }
            },
            "type": "scatter3d"
           }
          ],
          "scattercarpet": [
           {
            "marker": {
             "colorbar": {
              "outlinewidth": 0,
              "ticks": ""
             }
            },
            "type": "scattercarpet"
           }
          ],
          "scattergeo": [
           {
            "marker": {
             "colorbar": {
              "outlinewidth": 0,
              "ticks": ""
             }
            },
            "type": "scattergeo"
           }
          ],
          "scattergl": [
           {
            "marker": {
             "colorbar": {
              "outlinewidth": 0,
              "ticks": ""
             }
            },
            "type": "scattergl"
           }
          ],
          "scattermapbox": [
           {
            "marker": {
             "colorbar": {
              "outlinewidth": 0,
              "ticks": ""
             }
            },
            "type": "scattermapbox"
           }
          ],
          "scatterpolar": [
           {
            "marker": {
             "colorbar": {
              "outlinewidth": 0,
              "ticks": ""
             }
            },
            "type": "scatterpolar"
           }
          ],
          "scatterpolargl": [
           {
            "marker": {
             "colorbar": {
              "outlinewidth": 0,
              "ticks": ""
             }
            },
            "type": "scatterpolargl"
           }
          ],
          "scatterternary": [
           {
            "marker": {
             "colorbar": {
              "outlinewidth": 0,
              "ticks": ""
             }
            },
            "type": "scatterternary"
           }
          ],
          "surface": [
           {
            "colorbar": {
             "outlinewidth": 0,
             "ticks": ""
            },
            "colorscale": [
             [
              0,
              "#0d0887"
             ],
             [
              0.1111111111111111,
              "#46039f"
             ],
             [
              0.2222222222222222,
              "#7201a8"
             ],
             [
              0.3333333333333333,
              "#9c179e"
             ],
             [
              0.4444444444444444,
              "#bd3786"
             ],
             [
              0.5555555555555556,
              "#d8576b"
             ],
             [
              0.6666666666666666,
              "#ed7953"
             ],
             [
              0.7777777777777778,
              "#fb9f3a"
             ],
             [
              0.8888888888888888,
              "#fdca26"
             ],
             [
              1,
              "#f0f921"
             ]
            ],
            "type": "surface"
           }
          ],
          "table": [
           {
            "cells": {
             "fill": {
              "color": "#EBF0F8"
             },
             "line": {
              "color": "white"
             }
            },
            "header": {
             "fill": {
              "color": "#C8D4E3"
             },
             "line": {
              "color": "white"
             }
            },
            "type": "table"
           }
          ]
         },
         "layout": {
          "annotationdefaults": {
           "arrowcolor": "#2a3f5f",
           "arrowhead": 0,
           "arrowwidth": 1
          },
          "coloraxis": {
           "colorbar": {
            "outlinewidth": 0,
            "ticks": ""
           }
          },
          "colorscale": {
           "diverging": [
            [
             0,
             "#8e0152"
            ],
            [
             0.1,
             "#c51b7d"
            ],
            [
             0.2,
             "#de77ae"
            ],
            [
             0.3,
             "#f1b6da"
            ],
            [
             0.4,
             "#fde0ef"
            ],
            [
             0.5,
             "#f7f7f7"
            ],
            [
             0.6,
             "#e6f5d0"
            ],
            [
             0.7,
             "#b8e186"
            ],
            [
             0.8,
             "#7fbc41"
            ],
            [
             0.9,
             "#4d9221"
            ],
            [
             1,
             "#276419"
            ]
           ],
           "sequential": [
            [
             0,
             "#0d0887"
            ],
            [
             0.1111111111111111,
             "#46039f"
            ],
            [
             0.2222222222222222,
             "#7201a8"
            ],
            [
             0.3333333333333333,
             "#9c179e"
            ],
            [
             0.4444444444444444,
             "#bd3786"
            ],
            [
             0.5555555555555556,
             "#d8576b"
            ],
            [
             0.6666666666666666,
             "#ed7953"
            ],
            [
             0.7777777777777778,
             "#fb9f3a"
            ],
            [
             0.8888888888888888,
             "#fdca26"
            ],
            [
             1,
             "#f0f921"
            ]
           ],
           "sequentialminus": [
            [
             0,
             "#0d0887"
            ],
            [
             0.1111111111111111,
             "#46039f"
            ],
            [
             0.2222222222222222,
             "#7201a8"
            ],
            [
             0.3333333333333333,
             "#9c179e"
            ],
            [
             0.4444444444444444,
             "#bd3786"
            ],
            [
             0.5555555555555556,
             "#d8576b"
            ],
            [
             0.6666666666666666,
             "#ed7953"
            ],
            [
             0.7777777777777778,
             "#fb9f3a"
            ],
            [
             0.8888888888888888,
             "#fdca26"
            ],
            [
             1,
             "#f0f921"
            ]
           ]
          },
          "colorway": [
           "#636efa",
           "#EF553B",
           "#00cc96",
           "#ab63fa",
           "#FFA15A",
           "#19d3f3",
           "#FF6692",
           "#B6E880",
           "#FF97FF",
           "#FECB52"
          ],
          "font": {
           "color": "#2a3f5f"
          },
          "geo": {
           "bgcolor": "white",
           "lakecolor": "white",
           "landcolor": "#E5ECF6",
           "showlakes": true,
           "showland": true,
           "subunitcolor": "white"
          },
          "hoverlabel": {
           "align": "left"
          },
          "hovermode": "closest",
          "mapbox": {
           "style": "light"
          },
          "paper_bgcolor": "white",
          "plot_bgcolor": "#E5ECF6",
          "polar": {
           "angularaxis": {
            "gridcolor": "white",
            "linecolor": "white",
            "ticks": ""
           },
           "bgcolor": "#E5ECF6",
           "radialaxis": {
            "gridcolor": "white",
            "linecolor": "white",
            "ticks": ""
           }
          },
          "scene": {
           "xaxis": {
            "backgroundcolor": "#E5ECF6",
            "gridcolor": "white",
            "gridwidth": 2,
            "linecolor": "white",
            "showbackground": true,
            "ticks": "",
            "zerolinecolor": "white"
           },
           "yaxis": {
            "backgroundcolor": "#E5ECF6",
            "gridcolor": "white",
            "gridwidth": 2,
            "linecolor": "white",
            "showbackground": true,
            "ticks": "",
            "zerolinecolor": "white"
           },
           "zaxis": {
            "backgroundcolor": "#E5ECF6",
            "gridcolor": "white",
            "gridwidth": 2,
            "linecolor": "white",
            "showbackground": true,
            "ticks": "",
            "zerolinecolor": "white"
           }
          },
          "shapedefaults": {
           "line": {
            "color": "#2a3f5f"
           }
          },
          "ternary": {
           "aaxis": {
            "gridcolor": "white",
            "linecolor": "white",
            "ticks": ""
           },
           "baxis": {
            "gridcolor": "white",
            "linecolor": "white",
            "ticks": ""
           },
           "bgcolor": "#E5ECF6",
           "caxis": {
            "gridcolor": "white",
            "linecolor": "white",
            "ticks": ""
           }
          },
          "title": {
           "x": 0.05
          },
          "xaxis": {
           "automargin": true,
           "gridcolor": "white",
           "linecolor": "white",
           "ticks": "",
           "title": {
            "standoff": 15
           },
           "zerolinecolor": "white",
           "zerolinewidth": 2
          },
          "yaxis": {
           "automargin": true,
           "gridcolor": "white",
           "linecolor": "white",
           "ticks": "",
           "title": {
            "standoff": 15
           },
           "zerolinecolor": "white",
           "zerolinewidth": 2
          }
         }
        },
        "title": {
         "font": {
          "color": "#4D5663"
         }
        },
        "xaxis": {
         "gridcolor": "#E1E5ED",
         "showgrid": true,
         "tickfont": {
          "color": "#4D5663"
         },
         "title": {
          "font": {
           "color": "#4D5663"
          },
          "text": ""
         },
         "zerolinecolor": "#E1E5ED"
        },
        "yaxis": {
         "gridcolor": "#E1E5ED",
         "showgrid": true,
         "tickfont": {
          "color": "#4D5663"
         },
         "title": {
          "font": {
           "color": "#4D5663"
          },
          "text": ""
         },
         "zerolinecolor": "#E1E5ED"
        }
       }
      },
      "text/html": [
       "<div>\n",
       "        \n",
       "        \n",
       "            <div id=\"10edccb8-119e-4065-912a-62897367e09c\" class=\"plotly-graph-div\" style=\"height:525px; width:100%;\"></div>\n",
       "            <script type=\"text/javascript\">\n",
       "                require([\"plotly\"], function(Plotly) {\n",
       "                    window.PLOTLYENV=window.PLOTLYENV || {};\n",
       "                    window.PLOTLYENV.BASE_URL='https://plot.ly';\n",
       "                    \n",
       "                if (document.getElementById(\"10edccb8-119e-4065-912a-62897367e09c\")) {\n",
       "                    Plotly.newPlot(\n",
       "                        '10edccb8-119e-4065-912a-62897367e09c',\n",
       "                        [{\"histfunc\": \"count\", \"histnorm\": \"\", \"marker\": {\"color\": \"rgba(255, 153, 51, 1.0)\", \"line\": {\"color\": \"#4D5663\", \"width\": 1.3}}, \"name\": \"A\", \"nbinsx\": 25, \"opacity\": 0.8, \"orientation\": \"v\", \"type\": \"histogram\", \"x\": [0.9863925971035367, -0.551507821584642, 1.2104910088148675, -0.3630595285051773, 0.46873763546514047, 0.26593957464707885, -0.5937216939189025, -1.364244266971046, -0.2540693709928275, -1.2830587933734412, 1.281390741792193, -0.3343680481188946, -0.3825594509405097, 0.021087443582469643, 0.6471309447546121, -1.4147694856733755, 1.339202836038361, 0.3390041601557001, 0.10485762693215445, 0.5152538280419234, -0.9369459989184609, -2.175788440576683, -1.1362774454491336, 1.3527148275259664, 1.4702499643356384, 1.4124870558300326, -0.9878582741905485, 0.1127751813840683, -0.5126472661761328, 0.4067609905375987, 0.6071808563561845, -0.37915216043306865, -2.876721926137452, -0.33918228700985903, 0.10504300019166042, -0.5774186612820098, -0.4388265947198578, -0.055176976254413895, -0.36616500182468037, -0.2929114866068684, 0.7014228110844198, 0.1306964615045626, 0.6596028015175316, -1.1429942684320047, 0.47568171728166164, 1.2962465194153023, 0.8460892263421502, 0.42102746077643927, 0.866184163058826, -0.08087723804487756, 0.06907309802472945, -0.3200834042314787, 0.7939731228226196, -0.26558550941047, -0.29524694386838995, 0.27060817727113556, 0.36561627515557454, -0.5599247565685864, 0.7441531233347232, -0.6814710370963094, 1.8221454972624809, 0.4019139577863046, 0.25839538612264057, -1.1980916669750947, 0.34449618768897405, -1.021139797801242, 0.6537320811984445, -0.7314199792059191, 2.1826040042648733, -0.9563736641559415, -0.6783338604068041, -0.6702093617726054, 0.33912561228172344, 0.13988069172984913, 1.1750087445530144, 0.23062024779877058, 0.019329480186717436, -0.6342151389972552, -0.714518709757769, -1.3770377775555394, 0.7226762173743683, 0.5347943858978389, -1.625074933335793, -1.103365996026399, -1.8484187247942057, -0.2933657169598747, -1.0379228872326074, -1.687486818385531, 0.15763302190875925, -0.9917526514489864, -1.401998191292997, 1.1685273716607132, -1.0924765499868767, 1.1004984383673553, 0.3024430062455109, -0.6451062450746639, 0.4270100442054658, 1.2814804808958185, 0.4071866322407583, 1.3737594623042046]}],\n",
       "                        {\"barmode\": \"overlay\", \"legend\": {\"bgcolor\": \"#F5F6F9\", \"font\": {\"color\": \"#4D5663\"}}, \"paper_bgcolor\": \"#F5F6F9\", \"plot_bgcolor\": \"#F5F6F9\", \"template\": {\"data\": {\"bar\": [{\"error_x\": {\"color\": \"#2a3f5f\"}, \"error_y\": {\"color\": \"#2a3f5f\"}, \"marker\": {\"line\": {\"color\": \"#E5ECF6\", \"width\": 0.5}}, \"type\": \"bar\"}], \"barpolar\": [{\"marker\": {\"line\": {\"color\": \"#E5ECF6\", \"width\": 0.5}}, \"type\": \"barpolar\"}], \"carpet\": [{\"aaxis\": {\"endlinecolor\": \"#2a3f5f\", \"gridcolor\": \"white\", \"linecolor\": \"white\", \"minorgridcolor\": \"white\", \"startlinecolor\": \"#2a3f5f\"}, \"baxis\": {\"endlinecolor\": \"#2a3f5f\", \"gridcolor\": \"white\", \"linecolor\": \"white\", \"minorgridcolor\": \"white\", \"startlinecolor\": \"#2a3f5f\"}, \"type\": \"carpet\"}], \"choropleth\": [{\"colorbar\": {\"outlinewidth\": 0, \"ticks\": \"\"}, \"type\": \"choropleth\"}], \"contour\": [{\"colorbar\": {\"outlinewidth\": 0, \"ticks\": \"\"}, \"colorscale\": [[0.0, \"#0d0887\"], [0.1111111111111111, \"#46039f\"], [0.2222222222222222, \"#7201a8\"], [0.3333333333333333, \"#9c179e\"], [0.4444444444444444, \"#bd3786\"], [0.5555555555555556, \"#d8576b\"], [0.6666666666666666, \"#ed7953\"], [0.7777777777777778, \"#fb9f3a\"], [0.8888888888888888, \"#fdca26\"], [1.0, \"#f0f921\"]], \"type\": \"contour\"}], \"contourcarpet\": [{\"colorbar\": {\"outlinewidth\": 0, \"ticks\": \"\"}, \"type\": \"contourcarpet\"}], \"heatmap\": [{\"colorbar\": {\"outlinewidth\": 0, \"ticks\": \"\"}, \"colorscale\": [[0.0, \"#0d0887\"], [0.1111111111111111, \"#46039f\"], [0.2222222222222222, \"#7201a8\"], [0.3333333333333333, \"#9c179e\"], [0.4444444444444444, \"#bd3786\"], [0.5555555555555556, \"#d8576b\"], [0.6666666666666666, \"#ed7953\"], [0.7777777777777778, \"#fb9f3a\"], [0.8888888888888888, \"#fdca26\"], [1.0, \"#f0f921\"]], \"type\": \"heatmap\"}], \"heatmapgl\": [{\"colorbar\": {\"outlinewidth\": 0, \"ticks\": \"\"}, \"colorscale\": [[0.0, \"#0d0887\"], [0.1111111111111111, \"#46039f\"], [0.2222222222222222, \"#7201a8\"], [0.3333333333333333, \"#9c179e\"], [0.4444444444444444, \"#bd3786\"], [0.5555555555555556, \"#d8576b\"], [0.6666666666666666, \"#ed7953\"], [0.7777777777777778, \"#fb9f3a\"], [0.8888888888888888, \"#fdca26\"], [1.0, \"#f0f921\"]], \"type\": \"heatmapgl\"}], \"histogram\": [{\"marker\": {\"colorbar\": {\"outlinewidth\": 0, \"ticks\": \"\"}}, \"type\": \"histogram\"}], \"histogram2d\": [{\"colorbar\": {\"outlinewidth\": 0, \"ticks\": \"\"}, \"colorscale\": [[0.0, \"#0d0887\"], [0.1111111111111111, \"#46039f\"], [0.2222222222222222, \"#7201a8\"], [0.3333333333333333, \"#9c179e\"], [0.4444444444444444, \"#bd3786\"], [0.5555555555555556, \"#d8576b\"], [0.6666666666666666, \"#ed7953\"], [0.7777777777777778, \"#fb9f3a\"], [0.8888888888888888, \"#fdca26\"], [1.0, \"#f0f921\"]], \"type\": \"histogram2d\"}], \"histogram2dcontour\": [{\"colorbar\": {\"outlinewidth\": 0, \"ticks\": \"\"}, \"colorscale\": [[0.0, \"#0d0887\"], [0.1111111111111111, \"#46039f\"], [0.2222222222222222, \"#7201a8\"], [0.3333333333333333, \"#9c179e\"], [0.4444444444444444, \"#bd3786\"], [0.5555555555555556, \"#d8576b\"], [0.6666666666666666, \"#ed7953\"], [0.7777777777777778, \"#fb9f3a\"], [0.8888888888888888, \"#fdca26\"], [1.0, \"#f0f921\"]], \"type\": \"histogram2dcontour\"}], \"mesh3d\": [{\"colorbar\": {\"outlinewidth\": 0, \"ticks\": \"\"}, \"type\": \"mesh3d\"}], \"parcoords\": [{\"line\": {\"colorbar\": {\"outlinewidth\": 0, \"ticks\": \"\"}}, \"type\": \"parcoords\"}], \"pie\": [{\"automargin\": true, \"type\": \"pie\"}], \"scatter\": [{\"marker\": {\"colorbar\": {\"outlinewidth\": 0, \"ticks\": \"\"}}, \"type\": \"scatter\"}], \"scatter3d\": [{\"line\": {\"colorbar\": {\"outlinewidth\": 0, \"ticks\": \"\"}}, \"marker\": {\"colorbar\": {\"outlinewidth\": 0, \"ticks\": \"\"}}, \"type\": \"scatter3d\"}], \"scattercarpet\": [{\"marker\": {\"colorbar\": {\"outlinewidth\": 0, \"ticks\": \"\"}}, \"type\": \"scattercarpet\"}], \"scattergeo\": [{\"marker\": {\"colorbar\": {\"outlinewidth\": 0, \"ticks\": \"\"}}, \"type\": \"scattergeo\"}], \"scattergl\": [{\"marker\": {\"colorbar\": {\"outlinewidth\": 0, \"ticks\": \"\"}}, \"type\": \"scattergl\"}], \"scattermapbox\": [{\"marker\": {\"colorbar\": {\"outlinewidth\": 0, \"ticks\": \"\"}}, \"type\": \"scattermapbox\"}], \"scatterpolar\": [{\"marker\": {\"colorbar\": {\"outlinewidth\": 0, \"ticks\": \"\"}}, \"type\": \"scatterpolar\"}], \"scatterpolargl\": [{\"marker\": {\"colorbar\": {\"outlinewidth\": 0, \"ticks\": \"\"}}, \"type\": \"scatterpolargl\"}], \"scatterternary\": [{\"marker\": {\"colorbar\": {\"outlinewidth\": 0, \"ticks\": \"\"}}, \"type\": \"scatterternary\"}], \"surface\": [{\"colorbar\": {\"outlinewidth\": 0, \"ticks\": \"\"}, \"colorscale\": [[0.0, \"#0d0887\"], [0.1111111111111111, \"#46039f\"], [0.2222222222222222, \"#7201a8\"], [0.3333333333333333, \"#9c179e\"], [0.4444444444444444, \"#bd3786\"], [0.5555555555555556, \"#d8576b\"], [0.6666666666666666, \"#ed7953\"], [0.7777777777777778, \"#fb9f3a\"], [0.8888888888888888, \"#fdca26\"], [1.0, \"#f0f921\"]], \"type\": \"surface\"}], \"table\": [{\"cells\": {\"fill\": {\"color\": \"#EBF0F8\"}, \"line\": {\"color\": \"white\"}}, \"header\": {\"fill\": {\"color\": \"#C8D4E3\"}, \"line\": {\"color\": \"white\"}}, \"type\": \"table\"}]}, \"layout\": {\"annotationdefaults\": {\"arrowcolor\": \"#2a3f5f\", \"arrowhead\": 0, \"arrowwidth\": 1}, \"coloraxis\": {\"colorbar\": {\"outlinewidth\": 0, \"ticks\": \"\"}}, \"colorscale\": {\"diverging\": [[0, \"#8e0152\"], [0.1, \"#c51b7d\"], [0.2, \"#de77ae\"], [0.3, \"#f1b6da\"], [0.4, \"#fde0ef\"], [0.5, \"#f7f7f7\"], [0.6, \"#e6f5d0\"], [0.7, \"#b8e186\"], [0.8, \"#7fbc41\"], [0.9, \"#4d9221\"], [1, \"#276419\"]], \"sequential\": [[0.0, \"#0d0887\"], [0.1111111111111111, \"#46039f\"], [0.2222222222222222, \"#7201a8\"], [0.3333333333333333, \"#9c179e\"], [0.4444444444444444, \"#bd3786\"], [0.5555555555555556, \"#d8576b\"], [0.6666666666666666, \"#ed7953\"], [0.7777777777777778, \"#fb9f3a\"], [0.8888888888888888, \"#fdca26\"], [1.0, \"#f0f921\"]], \"sequentialminus\": [[0.0, \"#0d0887\"], [0.1111111111111111, \"#46039f\"], [0.2222222222222222, \"#7201a8\"], [0.3333333333333333, \"#9c179e\"], [0.4444444444444444, \"#bd3786\"], [0.5555555555555556, \"#d8576b\"], [0.6666666666666666, \"#ed7953\"], [0.7777777777777778, \"#fb9f3a\"], [0.8888888888888888, \"#fdca26\"], [1.0, \"#f0f921\"]]}, \"colorway\": [\"#636efa\", \"#EF553B\", \"#00cc96\", \"#ab63fa\", \"#FFA15A\", \"#19d3f3\", \"#FF6692\", \"#B6E880\", \"#FF97FF\", \"#FECB52\"], \"font\": {\"color\": \"#2a3f5f\"}, \"geo\": {\"bgcolor\": \"white\", \"lakecolor\": \"white\", \"landcolor\": \"#E5ECF6\", \"showlakes\": true, \"showland\": true, \"subunitcolor\": \"white\"}, \"hoverlabel\": {\"align\": \"left\"}, \"hovermode\": \"closest\", \"mapbox\": {\"style\": \"light\"}, \"paper_bgcolor\": \"white\", \"plot_bgcolor\": \"#E5ECF6\", \"polar\": {\"angularaxis\": {\"gridcolor\": \"white\", \"linecolor\": \"white\", \"ticks\": \"\"}, \"bgcolor\": \"#E5ECF6\", \"radialaxis\": {\"gridcolor\": \"white\", \"linecolor\": \"white\", \"ticks\": \"\"}}, \"scene\": {\"xaxis\": {\"backgroundcolor\": \"#E5ECF6\", \"gridcolor\": \"white\", \"gridwidth\": 2, \"linecolor\": \"white\", \"showbackground\": true, \"ticks\": \"\", \"zerolinecolor\": \"white\"}, \"yaxis\": {\"backgroundcolor\": \"#E5ECF6\", \"gridcolor\": \"white\", \"gridwidth\": 2, \"linecolor\": \"white\", \"showbackground\": true, \"ticks\": \"\", \"zerolinecolor\": \"white\"}, \"zaxis\": {\"backgroundcolor\": \"#E5ECF6\", \"gridcolor\": \"white\", \"gridwidth\": 2, \"linecolor\": \"white\", \"showbackground\": true, \"ticks\": \"\", \"zerolinecolor\": \"white\"}}, \"shapedefaults\": {\"line\": {\"color\": \"#2a3f5f\"}}, \"ternary\": {\"aaxis\": {\"gridcolor\": \"white\", \"linecolor\": \"white\", \"ticks\": \"\"}, \"baxis\": {\"gridcolor\": \"white\", \"linecolor\": \"white\", \"ticks\": \"\"}, \"bgcolor\": \"#E5ECF6\", \"caxis\": {\"gridcolor\": \"white\", \"linecolor\": \"white\", \"ticks\": \"\"}}, \"title\": {\"x\": 0.05}, \"xaxis\": {\"automargin\": true, \"gridcolor\": \"white\", \"linecolor\": \"white\", \"ticks\": \"\", \"title\": {\"standoff\": 15}, \"zerolinecolor\": \"white\", \"zerolinewidth\": 2}, \"yaxis\": {\"automargin\": true, \"gridcolor\": \"white\", \"linecolor\": \"white\", \"ticks\": \"\", \"title\": {\"standoff\": 15}, \"zerolinecolor\": \"white\", \"zerolinewidth\": 2}}}, \"title\": {\"font\": {\"color\": \"#4D5663\"}}, \"xaxis\": {\"gridcolor\": \"#E1E5ED\", \"showgrid\": true, \"tickfont\": {\"color\": \"#4D5663\"}, \"title\": {\"font\": {\"color\": \"#4D5663\"}, \"text\": \"\"}, \"zerolinecolor\": \"#E1E5ED\"}, \"yaxis\": {\"gridcolor\": \"#E1E5ED\", \"showgrid\": true, \"tickfont\": {\"color\": \"#4D5663\"}, \"title\": {\"font\": {\"color\": \"#4D5663\"}, \"text\": \"\"}, \"zerolinecolor\": \"#E1E5ED\"}},\n",
       "                        {\"showLink\": true, \"linkText\": \"Export to plot.ly\", \"plotlyServerURL\": \"https://plot.ly\", \"responsive\": true}\n",
       "                    ).then(function(){\n",
       "                            \n",
       "var gd = document.getElementById('10edccb8-119e-4065-912a-62897367e09c');\n",
       "var x = new MutationObserver(function (mutations, observer) {{\n",
       "        var display = window.getComputedStyle(gd).display;\n",
       "        if (!display || display === 'none') {{\n",
       "            console.log([gd, 'removed!']);\n",
       "            Plotly.purge(gd);\n",
       "            observer.disconnect();\n",
       "        }}\n",
       "}});\n",
       "\n",
       "// Listen for the removal of the full notebook cells\n",
       "var notebookContainer = gd.closest('#notebook-container');\n",
       "if (notebookContainer) {{\n",
       "    x.observe(notebookContainer, {childList: true});\n",
       "}}\n",
       "\n",
       "// Listen for the clearing of the current output cell\n",
       "var outputEl = gd.closest('.output');\n",
       "if (outputEl) {{\n",
       "    x.observe(outputEl, {childList: true});\n",
       "}}\n",
       "\n",
       "                        })\n",
       "                };\n",
       "                });\n",
       "            </script>\n",
       "        </div>"
      ]
     },
     "metadata": {},
     "output_type": "display_data"
    }
   ],
   "source": [
    "df['A'].iplot(kind='hist',bins=25)"
   ]
  },
  {
   "cell_type": "code",
   "execution_count": 18,
   "metadata": {},
   "outputs": [
    {
     "data": {
      "application/vnd.plotly.v1+json": {
       "config": {
        "linkText": "Export to plot.ly",
        "plotlyServerURL": "https://plot.ly",
        "showLink": true
       },
       "data": [
        {
         "marker": {
          "color": [
           "rgb(255, 153, 51)",
           "rgb(55, 128, 191)",
           "rgb(50, 171, 96)",
           "rgb(128, 0, 128)",
           "rgb(219, 64, 82)",
           "rgb(0, 128, 128)",
           "rgb(255, 255, 51)",
           "rgb(128, 128, 0)",
           "rgb(251, 128, 114)",
           "rgb(128, 177, 211)"
          ],
          "line": {
           "width": 1.3
          },
          "size": [
           52,
           26,
           71,
           60,
           39,
           42,
           52,
           47,
           59,
           37,
           83,
           32,
           71,
           47,
           27,
           68,
           51,
           41,
           43,
           38,
           86,
           38,
           65,
           62,
           69,
           35,
           36,
           43,
           63,
           45,
           61,
           35,
           65,
           41,
           54,
           62,
           56,
           26,
           29,
           27,
           80,
           56,
           12,
           36,
           44,
           69,
           43,
           40,
           45,
           48,
           30,
           25,
           71,
           42,
           69,
           37,
           49,
           31,
           59,
           55,
           58,
           78,
           49,
           79,
           38,
           34,
           44,
           68,
           43,
           73,
           92,
           36,
           40,
           79,
           53,
           41,
           87,
           70,
           62,
           33,
           50,
           41,
           62,
           47,
           56,
           112,
           70,
           19,
           12,
           54,
           43,
           60,
           60,
           42,
           60,
           49,
           43,
           57,
           62,
           65
          ],
          "symbol": "circle"
         },
         "mode": "markers",
         "text": "",
         "type": "scatter",
         "x": [
          0.9863925971035367,
          -0.551507821584642,
          1.2104910088148675,
          -0.3630595285051773,
          0.46873763546514047,
          0.26593957464707885,
          -0.5937216939189025,
          -1.364244266971046,
          -0.2540693709928275,
          -1.2830587933734412,
          1.281390741792193,
          -0.3343680481188946,
          -0.3825594509405097,
          0.021087443582469643,
          0.6471309447546121,
          -1.4147694856733755,
          1.339202836038361,
          0.3390041601557001,
          0.10485762693215445,
          0.5152538280419234,
          -0.9369459989184609,
          -2.175788440576683,
          -1.1362774454491336,
          1.3527148275259664,
          1.4702499643356384,
          1.4124870558300326,
          -0.9878582741905485,
          0.1127751813840683,
          -0.5126472661761328,
          0.4067609905375987,
          0.6071808563561845,
          -0.37915216043306865,
          -2.876721926137452,
          -0.33918228700985903,
          0.10504300019166042,
          -0.5774186612820098,
          -0.4388265947198578,
          -0.055176976254413895,
          -0.36616500182468037,
          -0.2929114866068684,
          0.7014228110844198,
          0.1306964615045626,
          0.6596028015175316,
          -1.1429942684320047,
          0.47568171728166164,
          1.2962465194153023,
          0.8460892263421502,
          0.42102746077643927,
          0.866184163058826,
          -0.08087723804487756,
          0.06907309802472945,
          -0.3200834042314787,
          0.7939731228226196,
          -0.26558550941047,
          -0.29524694386838995,
          0.27060817727113556,
          0.36561627515557454,
          -0.5599247565685864,
          0.7441531233347232,
          -0.6814710370963094,
          1.8221454972624809,
          0.4019139577863046,
          0.25839538612264057,
          -1.1980916669750947,
          0.34449618768897405,
          -1.021139797801242,
          0.6537320811984445,
          -0.7314199792059191,
          2.1826040042648733,
          -0.9563736641559415,
          -0.6783338604068041,
          -0.6702093617726054,
          0.33912561228172344,
          0.13988069172984913,
          1.1750087445530144,
          0.23062024779877058,
          0.019329480186717436,
          -0.6342151389972552,
          -0.714518709757769,
          -1.3770377775555394,
          0.7226762173743683,
          0.5347943858978389,
          -1.625074933335793,
          -1.103365996026399,
          -1.8484187247942057,
          -0.2933657169598747,
          -1.0379228872326074,
          -1.687486818385531,
          0.15763302190875925,
          -0.9917526514489864,
          -1.401998191292997,
          1.1685273716607132,
          -1.0924765499868767,
          1.1004984383673553,
          0.3024430062455109,
          -0.6451062450746639,
          0.4270100442054658,
          1.2814804808958185,
          0.4071866322407583,
          1.3737594623042046
         ],
         "y": [
          -1.491962523268668,
          -0.9863979319163781,
          -1.3706498912781242,
          -0.7283635054127434,
          -0.9556433947549499,
          -1.3776178280637075,
          -1.3282354767457958,
          0.4160855389008612,
          0.8245390833958657,
          -0.9386012985882881,
          -1.417146166990188,
          -0.2364962639674241,
          0.9555674388527511,
          0.32733012189391536,
          -0.844901615660728,
          0.5292929788219688,
          0.3696349580137423,
          -2.1581092479697417,
          1.1308247542325691,
          0.27079868876702035,
          -1.3700993932378516,
          1.822386519008439,
          1.2739493109373479,
          1.6860005870956005,
          1.0437955602263596,
          0.052187775820577716,
          -0.5129959686672352,
          -0.23642446542680795,
          2.0259746549928086,
          -0.6274963571844351,
          -0.20405423953078541,
          -1.4551299158129842,
          3.0083803245440226,
          -0.18200247569988784,
          -0.09655369744753517,
          0.5396269998034693,
          1.3526844847337924,
          0.5479447363690005,
          0.5003806017756498,
          0.38092478986333167,
          -0.6987050732978389,
          0.728950705242152,
          -0.07099017268241205,
          -0.17718643626418312,
          -1.2329612788960118,
          1.098371360403441,
          0.9228538361483437,
          -0.08551957529581292,
          -0.4380008002662748,
          0.19342006507323398,
          0.032302851769381594,
          1.0745637263936598,
          -0.34905775053086974,
          -0.38387650619720814,
          1.008613308424497,
          -1.1197072632192004,
          1.682262651833673,
          -0.6460412773663219,
          0.9117982447939869,
          0.06286202422433096,
          -0.6160075662848656,
          0.26695888931062,
          -0.15823583458025905,
          0.6707760460041554,
          1.782480813946048,
          -0.41806235648299156,
          0.9920882878881456,
          0.35393270682555716,
          -0.2821919585487452,
          -0.14034262729735977,
          -0.12211237075763812,
          -0.5409052719458001,
          -1.3106360584065184,
          -2.38683273001778,
          0.8329521217275093,
          0.1894540858494092,
          -0.5828241905753845,
          -1.4000380259065652,
          -1.5524571025879703,
          0.4128822340825146,
          -0.011762531518228102,
          -1.2652525410519582,
          1.455953610317138,
          0.9623467225545896,
          1.0607117432751054,
          -1.9516748560022805,
          -2.7387496811679237,
          0.028105306029023693,
          -0.6562471399526576,
          -0.236204261305822,
          1.1557779022072985,
          -0.727744455299941,
          0.4782040528002768,
          -0.6197213069086959,
          1.775528183886076,
          -1.4722901211034423,
          0.5089895879395171,
          1.1362057227381976,
          0.2163217689984764,
          1.0544547503433614
         ]
        }
       ],
       "layout": {
        "legend": {
         "bgcolor": "#F5F6F9",
         "font": {
          "color": "#4D5663"
         }
        },
        "paper_bgcolor": "#F5F6F9",
        "plot_bgcolor": "#F5F6F9",
        "template": {
         "data": {
          "bar": [
           {
            "error_x": {
             "color": "#2a3f5f"
            },
            "error_y": {
             "color": "#2a3f5f"
            },
            "marker": {
             "line": {
              "color": "#E5ECF6",
              "width": 0.5
             }
            },
            "type": "bar"
           }
          ],
          "barpolar": [
           {
            "marker": {
             "line": {
              "color": "#E5ECF6",
              "width": 0.5
             }
            },
            "type": "barpolar"
           }
          ],
          "carpet": [
           {
            "aaxis": {
             "endlinecolor": "#2a3f5f",
             "gridcolor": "white",
             "linecolor": "white",
             "minorgridcolor": "white",
             "startlinecolor": "#2a3f5f"
            },
            "baxis": {
             "endlinecolor": "#2a3f5f",
             "gridcolor": "white",
             "linecolor": "white",
             "minorgridcolor": "white",
             "startlinecolor": "#2a3f5f"
            },
            "type": "carpet"
           }
          ],
          "choropleth": [
           {
            "colorbar": {
             "outlinewidth": 0,
             "ticks": ""
            },
            "type": "choropleth"
           }
          ],
          "contour": [
           {
            "colorbar": {
             "outlinewidth": 0,
             "ticks": ""
            },
            "colorscale": [
             [
              0,
              "#0d0887"
             ],
             [
              0.1111111111111111,
              "#46039f"
             ],
             [
              0.2222222222222222,
              "#7201a8"
             ],
             [
              0.3333333333333333,
              "#9c179e"
             ],
             [
              0.4444444444444444,
              "#bd3786"
             ],
             [
              0.5555555555555556,
              "#d8576b"
             ],
             [
              0.6666666666666666,
              "#ed7953"
             ],
             [
              0.7777777777777778,
              "#fb9f3a"
             ],
             [
              0.8888888888888888,
              "#fdca26"
             ],
             [
              1,
              "#f0f921"
             ]
            ],
            "type": "contour"
           }
          ],
          "contourcarpet": [
           {
            "colorbar": {
             "outlinewidth": 0,
             "ticks": ""
            },
            "type": "contourcarpet"
           }
          ],
          "heatmap": [
           {
            "colorbar": {
             "outlinewidth": 0,
             "ticks": ""
            },
            "colorscale": [
             [
              0,
              "#0d0887"
             ],
             [
              0.1111111111111111,
              "#46039f"
             ],
             [
              0.2222222222222222,
              "#7201a8"
             ],
             [
              0.3333333333333333,
              "#9c179e"
             ],
             [
              0.4444444444444444,
              "#bd3786"
             ],
             [
              0.5555555555555556,
              "#d8576b"
             ],
             [
              0.6666666666666666,
              "#ed7953"
             ],
             [
              0.7777777777777778,
              "#fb9f3a"
             ],
             [
              0.8888888888888888,
              "#fdca26"
             ],
             [
              1,
              "#f0f921"
             ]
            ],
            "type": "heatmap"
           }
          ],
          "heatmapgl": [
           {
            "colorbar": {
             "outlinewidth": 0,
             "ticks": ""
            },
            "colorscale": [
             [
              0,
              "#0d0887"
             ],
             [
              0.1111111111111111,
              "#46039f"
             ],
             [
              0.2222222222222222,
              "#7201a8"
             ],
             [
              0.3333333333333333,
              "#9c179e"
             ],
             [
              0.4444444444444444,
              "#bd3786"
             ],
             [
              0.5555555555555556,
              "#d8576b"
             ],
             [
              0.6666666666666666,
              "#ed7953"
             ],
             [
              0.7777777777777778,
              "#fb9f3a"
             ],
             [
              0.8888888888888888,
              "#fdca26"
             ],
             [
              1,
              "#f0f921"
             ]
            ],
            "type": "heatmapgl"
           }
          ],
          "histogram": [
           {
            "marker": {
             "colorbar": {
              "outlinewidth": 0,
              "ticks": ""
             }
            },
            "type": "histogram"
           }
          ],
          "histogram2d": [
           {
            "colorbar": {
             "outlinewidth": 0,
             "ticks": ""
            },
            "colorscale": [
             [
              0,
              "#0d0887"
             ],
             [
              0.1111111111111111,
              "#46039f"
             ],
             [
              0.2222222222222222,
              "#7201a8"
             ],
             [
              0.3333333333333333,
              "#9c179e"
             ],
             [
              0.4444444444444444,
              "#bd3786"
             ],
             [
              0.5555555555555556,
              "#d8576b"
             ],
             [
              0.6666666666666666,
              "#ed7953"
             ],
             [
              0.7777777777777778,
              "#fb9f3a"
             ],
             [
              0.8888888888888888,
              "#fdca26"
             ],
             [
              1,
              "#f0f921"
             ]
            ],
            "type": "histogram2d"
           }
          ],
          "histogram2dcontour": [
           {
            "colorbar": {
             "outlinewidth": 0,
             "ticks": ""
            },
            "colorscale": [
             [
              0,
              "#0d0887"
             ],
             [
              0.1111111111111111,
              "#46039f"
             ],
             [
              0.2222222222222222,
              "#7201a8"
             ],
             [
              0.3333333333333333,
              "#9c179e"
             ],
             [
              0.4444444444444444,
              "#bd3786"
             ],
             [
              0.5555555555555556,
              "#d8576b"
             ],
             [
              0.6666666666666666,
              "#ed7953"
             ],
             [
              0.7777777777777778,
              "#fb9f3a"
             ],
             [
              0.8888888888888888,
              "#fdca26"
             ],
             [
              1,
              "#f0f921"
             ]
            ],
            "type": "histogram2dcontour"
           }
          ],
          "mesh3d": [
           {
            "colorbar": {
             "outlinewidth": 0,
             "ticks": ""
            },
            "type": "mesh3d"
           }
          ],
          "parcoords": [
           {
            "line": {
             "colorbar": {
              "outlinewidth": 0,
              "ticks": ""
             }
            },
            "type": "parcoords"
           }
          ],
          "pie": [
           {
            "automargin": true,
            "type": "pie"
           }
          ],
          "scatter": [
           {
            "marker": {
             "colorbar": {
              "outlinewidth": 0,
              "ticks": ""
             }
            },
            "type": "scatter"
           }
          ],
          "scatter3d": [
           {
            "line": {
             "colorbar": {
              "outlinewidth": 0,
              "ticks": ""
             }
            },
            "marker": {
             "colorbar": {
              "outlinewidth": 0,
              "ticks": ""
             }
            },
            "type": "scatter3d"
           }
          ],
          "scattercarpet": [
           {
            "marker": {
             "colorbar": {
              "outlinewidth": 0,
              "ticks": ""
             }
            },
            "type": "scattercarpet"
           }
          ],
          "scattergeo": [
           {
            "marker": {
             "colorbar": {
              "outlinewidth": 0,
              "ticks": ""
             }
            },
            "type": "scattergeo"
           }
          ],
          "scattergl": [
           {
            "marker": {
             "colorbar": {
              "outlinewidth": 0,
              "ticks": ""
             }
            },
            "type": "scattergl"
           }
          ],
          "scattermapbox": [
           {
            "marker": {
             "colorbar": {
              "outlinewidth": 0,
              "ticks": ""
             }
            },
            "type": "scattermapbox"
           }
          ],
          "scatterpolar": [
           {
            "marker": {
             "colorbar": {
              "outlinewidth": 0,
              "ticks": ""
             }
            },
            "type": "scatterpolar"
           }
          ],
          "scatterpolargl": [
           {
            "marker": {
             "colorbar": {
              "outlinewidth": 0,
              "ticks": ""
             }
            },
            "type": "scatterpolargl"
           }
          ],
          "scatterternary": [
           {
            "marker": {
             "colorbar": {
              "outlinewidth": 0,
              "ticks": ""
             }
            },
            "type": "scatterternary"
           }
          ],
          "surface": [
           {
            "colorbar": {
             "outlinewidth": 0,
             "ticks": ""
            },
            "colorscale": [
             [
              0,
              "#0d0887"
             ],
             [
              0.1111111111111111,
              "#46039f"
             ],
             [
              0.2222222222222222,
              "#7201a8"
             ],
             [
              0.3333333333333333,
              "#9c179e"
             ],
             [
              0.4444444444444444,
              "#bd3786"
             ],
             [
              0.5555555555555556,
              "#d8576b"
             ],
             [
              0.6666666666666666,
              "#ed7953"
             ],
             [
              0.7777777777777778,
              "#fb9f3a"
             ],
             [
              0.8888888888888888,
              "#fdca26"
             ],
             [
              1,
              "#f0f921"
             ]
            ],
            "type": "surface"
           }
          ],
          "table": [
           {
            "cells": {
             "fill": {
              "color": "#EBF0F8"
             },
             "line": {
              "color": "white"
             }
            },
            "header": {
             "fill": {
              "color": "#C8D4E3"
             },
             "line": {
              "color": "white"
             }
            },
            "type": "table"
           }
          ]
         },
         "layout": {
          "annotationdefaults": {
           "arrowcolor": "#2a3f5f",
           "arrowhead": 0,
           "arrowwidth": 1
          },
          "coloraxis": {
           "colorbar": {
            "outlinewidth": 0,
            "ticks": ""
           }
          },
          "colorscale": {
           "diverging": [
            [
             0,
             "#8e0152"
            ],
            [
             0.1,
             "#c51b7d"
            ],
            [
             0.2,
             "#de77ae"
            ],
            [
             0.3,
             "#f1b6da"
            ],
            [
             0.4,
             "#fde0ef"
            ],
            [
             0.5,
             "#f7f7f7"
            ],
            [
             0.6,
             "#e6f5d0"
            ],
            [
             0.7,
             "#b8e186"
            ],
            [
             0.8,
             "#7fbc41"
            ],
            [
             0.9,
             "#4d9221"
            ],
            [
             1,
             "#276419"
            ]
           ],
           "sequential": [
            [
             0,
             "#0d0887"
            ],
            [
             0.1111111111111111,
             "#46039f"
            ],
            [
             0.2222222222222222,
             "#7201a8"
            ],
            [
             0.3333333333333333,
             "#9c179e"
            ],
            [
             0.4444444444444444,
             "#bd3786"
            ],
            [
             0.5555555555555556,
             "#d8576b"
            ],
            [
             0.6666666666666666,
             "#ed7953"
            ],
            [
             0.7777777777777778,
             "#fb9f3a"
            ],
            [
             0.8888888888888888,
             "#fdca26"
            ],
            [
             1,
             "#f0f921"
            ]
           ],
           "sequentialminus": [
            [
             0,
             "#0d0887"
            ],
            [
             0.1111111111111111,
             "#46039f"
            ],
            [
             0.2222222222222222,
             "#7201a8"
            ],
            [
             0.3333333333333333,
             "#9c179e"
            ],
            [
             0.4444444444444444,
             "#bd3786"
            ],
            [
             0.5555555555555556,
             "#d8576b"
            ],
            [
             0.6666666666666666,
             "#ed7953"
            ],
            [
             0.7777777777777778,
             "#fb9f3a"
            ],
            [
             0.8888888888888888,
             "#fdca26"
            ],
            [
             1,
             "#f0f921"
            ]
           ]
          },
          "colorway": [
           "#636efa",
           "#EF553B",
           "#00cc96",
           "#ab63fa",
           "#FFA15A",
           "#19d3f3",
           "#FF6692",
           "#B6E880",
           "#FF97FF",
           "#FECB52"
          ],
          "font": {
           "color": "#2a3f5f"
          },
          "geo": {
           "bgcolor": "white",
           "lakecolor": "white",
           "landcolor": "#E5ECF6",
           "showlakes": true,
           "showland": true,
           "subunitcolor": "white"
          },
          "hoverlabel": {
           "align": "left"
          },
          "hovermode": "closest",
          "mapbox": {
           "style": "light"
          },
          "paper_bgcolor": "white",
          "plot_bgcolor": "#E5ECF6",
          "polar": {
           "angularaxis": {
            "gridcolor": "white",
            "linecolor": "white",
            "ticks": ""
           },
           "bgcolor": "#E5ECF6",
           "radialaxis": {
            "gridcolor": "white",
            "linecolor": "white",
            "ticks": ""
           }
          },
          "scene": {
           "xaxis": {
            "backgroundcolor": "#E5ECF6",
            "gridcolor": "white",
            "gridwidth": 2,
            "linecolor": "white",
            "showbackground": true,
            "ticks": "",
            "zerolinecolor": "white"
           },
           "yaxis": {
            "backgroundcolor": "#E5ECF6",
            "gridcolor": "white",
            "gridwidth": 2,
            "linecolor": "white",
            "showbackground": true,
            "ticks": "",
            "zerolinecolor": "white"
           },
           "zaxis": {
            "backgroundcolor": "#E5ECF6",
            "gridcolor": "white",
            "gridwidth": 2,
            "linecolor": "white",
            "showbackground": true,
            "ticks": "",
            "zerolinecolor": "white"
           }
          },
          "shapedefaults": {
           "line": {
            "color": "#2a3f5f"
           }
          },
          "ternary": {
           "aaxis": {
            "gridcolor": "white",
            "linecolor": "white",
            "ticks": ""
           },
           "baxis": {
            "gridcolor": "white",
            "linecolor": "white",
            "ticks": ""
           },
           "bgcolor": "#E5ECF6",
           "caxis": {
            "gridcolor": "white",
            "linecolor": "white",
            "ticks": ""
           }
          },
          "title": {
           "x": 0.05
          },
          "xaxis": {
           "automargin": true,
           "gridcolor": "white",
           "linecolor": "white",
           "ticks": "",
           "title": {
            "standoff": 15
           },
           "zerolinecolor": "white",
           "zerolinewidth": 2
          },
          "yaxis": {
           "automargin": true,
           "gridcolor": "white",
           "linecolor": "white",
           "ticks": "",
           "title": {
            "standoff": 15
           },
           "zerolinecolor": "white",
           "zerolinewidth": 2
          }
         }
        },
        "title": {
         "font": {
          "color": "#4D5663"
         }
        },
        "xaxis": {
         "gridcolor": "#E1E5ED",
         "showgrid": true,
         "tickfont": {
          "color": "#4D5663"
         },
         "title": {
          "font": {
           "color": "#4D5663"
          },
          "text": ""
         },
         "zerolinecolor": "#E1E5ED"
        },
        "yaxis": {
         "gridcolor": "#E1E5ED",
         "showgrid": true,
         "tickfont": {
          "color": "#4D5663"
         },
         "title": {
          "font": {
           "color": "#4D5663"
          },
          "text": ""
         },
         "zerolinecolor": "#E1E5ED"
        }
       }
      },
      "text/html": [
       "<div>\n",
       "        \n",
       "        \n",
       "            <div id=\"f3e459dc-3a5f-49ba-b015-d7d485add91b\" class=\"plotly-graph-div\" style=\"height:525px; width:100%;\"></div>\n",
       "            <script type=\"text/javascript\">\n",
       "                require([\"plotly\"], function(Plotly) {\n",
       "                    window.PLOTLYENV=window.PLOTLYENV || {};\n",
       "                    window.PLOTLYENV.BASE_URL='https://plot.ly';\n",
       "                    \n",
       "                if (document.getElementById(\"f3e459dc-3a5f-49ba-b015-d7d485add91b\")) {\n",
       "                    Plotly.newPlot(\n",
       "                        'f3e459dc-3a5f-49ba-b015-d7d485add91b',\n",
       "                        [{\"marker\": {\"color\": [\"rgb(255, 153, 51)\", \"rgb(55, 128, 191)\", \"rgb(50, 171, 96)\", \"rgb(128, 0, 128)\", \"rgb(219, 64, 82)\", \"rgb(0, 128, 128)\", \"rgb(255, 255, 51)\", \"rgb(128, 128, 0)\", \"rgb(251, 128, 114)\", \"rgb(128, 177, 211)\"], \"line\": {\"width\": 1.3}, \"size\": [52, 26, 71, 60, 39, 42, 52, 47, 59, 37, 83, 32, 71, 47, 27, 68, 51, 41, 43, 38, 86, 38, 65, 62, 69, 35, 36, 43, 63, 45, 61, 35, 65, 41, 54, 62, 56, 26, 29, 27, 80, 56, 12, 36, 44, 69, 43, 40, 45, 48, 30, 25, 71, 42, 69, 37, 49, 31, 59, 55, 58, 78, 49, 79, 38, 34, 44, 68, 43, 73, 92, 36, 40, 79, 53, 41, 87, 70, 62, 33, 50, 41, 62, 47, 56, 112, 70, 19, 12, 54, 43, 60, 60, 42, 60, 49, 43, 57, 62, 65], \"symbol\": \"circle\"}, \"mode\": \"markers\", \"text\": \"\", \"type\": \"scatter\", \"x\": [0.9863925971035367, -0.551507821584642, 1.2104910088148675, -0.3630595285051773, 0.46873763546514047, 0.26593957464707885, -0.5937216939189025, -1.364244266971046, -0.2540693709928275, -1.2830587933734412, 1.281390741792193, -0.3343680481188946, -0.3825594509405097, 0.021087443582469643, 0.6471309447546121, -1.4147694856733755, 1.339202836038361, 0.3390041601557001, 0.10485762693215445, 0.5152538280419234, -0.9369459989184609, -2.175788440576683, -1.1362774454491336, 1.3527148275259664, 1.4702499643356384, 1.4124870558300326, -0.9878582741905485, 0.1127751813840683, -0.5126472661761328, 0.4067609905375987, 0.6071808563561845, -0.37915216043306865, -2.876721926137452, -0.33918228700985903, 0.10504300019166042, -0.5774186612820098, -0.4388265947198578, -0.055176976254413895, -0.36616500182468037, -0.2929114866068684, 0.7014228110844198, 0.1306964615045626, 0.6596028015175316, -1.1429942684320047, 0.47568171728166164, 1.2962465194153023, 0.8460892263421502, 0.42102746077643927, 0.866184163058826, -0.08087723804487756, 0.06907309802472945, -0.3200834042314787, 0.7939731228226196, -0.26558550941047, -0.29524694386838995, 0.27060817727113556, 0.36561627515557454, -0.5599247565685864, 0.7441531233347232, -0.6814710370963094, 1.8221454972624809, 0.4019139577863046, 0.25839538612264057, -1.1980916669750947, 0.34449618768897405, -1.021139797801242, 0.6537320811984445, -0.7314199792059191, 2.1826040042648733, -0.9563736641559415, -0.6783338604068041, -0.6702093617726054, 0.33912561228172344, 0.13988069172984913, 1.1750087445530144, 0.23062024779877058, 0.019329480186717436, -0.6342151389972552, -0.714518709757769, -1.3770377775555394, 0.7226762173743683, 0.5347943858978389, -1.625074933335793, -1.103365996026399, -1.8484187247942057, -0.2933657169598747, -1.0379228872326074, -1.687486818385531, 0.15763302190875925, -0.9917526514489864, -1.401998191292997, 1.1685273716607132, -1.0924765499868767, 1.1004984383673553, 0.3024430062455109, -0.6451062450746639, 0.4270100442054658, 1.2814804808958185, 0.4071866322407583, 1.3737594623042046], \"y\": [-1.491962523268668, -0.9863979319163781, -1.3706498912781242, -0.7283635054127434, -0.9556433947549499, -1.3776178280637075, -1.3282354767457958, 0.4160855389008612, 0.8245390833958657, -0.9386012985882881, -1.417146166990188, -0.2364962639674241, 0.9555674388527511, 0.32733012189391536, -0.844901615660728, 0.5292929788219688, 0.3696349580137423, -2.1581092479697417, 1.1308247542325691, 0.27079868876702035, -1.3700993932378516, 1.822386519008439, 1.2739493109373479, 1.6860005870956005, 1.0437955602263596, 0.052187775820577716, -0.5129959686672352, -0.23642446542680795, 2.0259746549928086, -0.6274963571844351, -0.20405423953078541, -1.4551299158129842, 3.0083803245440226, -0.18200247569988784, -0.09655369744753517, 0.5396269998034693, 1.3526844847337924, 0.5479447363690005, 0.5003806017756498, 0.38092478986333167, -0.6987050732978389, 0.728950705242152, -0.07099017268241205, -0.17718643626418312, -1.2329612788960118, 1.098371360403441, 0.9228538361483437, -0.08551957529581292, -0.4380008002662748, 0.19342006507323398, 0.032302851769381594, 1.0745637263936598, -0.34905775053086974, -0.38387650619720814, 1.008613308424497, -1.1197072632192004, 1.682262651833673, -0.6460412773663219, 0.9117982447939869, 0.06286202422433096, -0.6160075662848656, 0.26695888931062, -0.15823583458025905, 0.6707760460041554, 1.782480813946048, -0.41806235648299156, 0.9920882878881456, 0.35393270682555716, -0.2821919585487452, -0.14034262729735977, -0.12211237075763812, -0.5409052719458001, -1.3106360584065184, -2.38683273001778, 0.8329521217275093, 0.1894540858494092, -0.5828241905753845, -1.4000380259065652, -1.5524571025879703, 0.4128822340825146, -0.011762531518228102, -1.2652525410519582, 1.455953610317138, 0.9623467225545896, 1.0607117432751054, -1.9516748560022805, -2.7387496811679237, 0.028105306029023693, -0.6562471399526576, -0.236204261305822, 1.1557779022072985, -0.727744455299941, 0.4782040528002768, -0.6197213069086959, 1.775528183886076, -1.4722901211034423, 0.5089895879395171, 1.1362057227381976, 0.2163217689984764, 1.0544547503433614]}],\n",
       "                        {\"legend\": {\"bgcolor\": \"#F5F6F9\", \"font\": {\"color\": \"#4D5663\"}}, \"paper_bgcolor\": \"#F5F6F9\", \"plot_bgcolor\": \"#F5F6F9\", \"template\": {\"data\": {\"bar\": [{\"error_x\": {\"color\": \"#2a3f5f\"}, \"error_y\": {\"color\": \"#2a3f5f\"}, \"marker\": {\"line\": {\"color\": \"#E5ECF6\", \"width\": 0.5}}, \"type\": \"bar\"}], \"barpolar\": [{\"marker\": {\"line\": {\"color\": \"#E5ECF6\", \"width\": 0.5}}, \"type\": \"barpolar\"}], \"carpet\": [{\"aaxis\": {\"endlinecolor\": \"#2a3f5f\", \"gridcolor\": \"white\", \"linecolor\": \"white\", \"minorgridcolor\": \"white\", \"startlinecolor\": \"#2a3f5f\"}, \"baxis\": {\"endlinecolor\": \"#2a3f5f\", \"gridcolor\": \"white\", \"linecolor\": \"white\", \"minorgridcolor\": \"white\", \"startlinecolor\": \"#2a3f5f\"}, \"type\": \"carpet\"}], \"choropleth\": [{\"colorbar\": {\"outlinewidth\": 0, \"ticks\": \"\"}, \"type\": \"choropleth\"}], \"contour\": [{\"colorbar\": {\"outlinewidth\": 0, \"ticks\": \"\"}, \"colorscale\": [[0.0, \"#0d0887\"], [0.1111111111111111, \"#46039f\"], [0.2222222222222222, \"#7201a8\"], [0.3333333333333333, \"#9c179e\"], [0.4444444444444444, \"#bd3786\"], [0.5555555555555556, \"#d8576b\"], [0.6666666666666666, \"#ed7953\"], [0.7777777777777778, \"#fb9f3a\"], [0.8888888888888888, \"#fdca26\"], [1.0, \"#f0f921\"]], \"type\": \"contour\"}], \"contourcarpet\": [{\"colorbar\": {\"outlinewidth\": 0, \"ticks\": \"\"}, \"type\": \"contourcarpet\"}], \"heatmap\": [{\"colorbar\": {\"outlinewidth\": 0, \"ticks\": \"\"}, \"colorscale\": [[0.0, \"#0d0887\"], [0.1111111111111111, \"#46039f\"], [0.2222222222222222, \"#7201a8\"], [0.3333333333333333, \"#9c179e\"], [0.4444444444444444, \"#bd3786\"], [0.5555555555555556, \"#d8576b\"], [0.6666666666666666, \"#ed7953\"], [0.7777777777777778, \"#fb9f3a\"], [0.8888888888888888, \"#fdca26\"], [1.0, \"#f0f921\"]], \"type\": \"heatmap\"}], \"heatmapgl\": [{\"colorbar\": {\"outlinewidth\": 0, \"ticks\": \"\"}, \"colorscale\": [[0.0, \"#0d0887\"], [0.1111111111111111, \"#46039f\"], [0.2222222222222222, \"#7201a8\"], [0.3333333333333333, \"#9c179e\"], [0.4444444444444444, \"#bd3786\"], [0.5555555555555556, \"#d8576b\"], [0.6666666666666666, \"#ed7953\"], [0.7777777777777778, \"#fb9f3a\"], [0.8888888888888888, \"#fdca26\"], [1.0, \"#f0f921\"]], \"type\": \"heatmapgl\"}], \"histogram\": [{\"marker\": {\"colorbar\": {\"outlinewidth\": 0, \"ticks\": \"\"}}, \"type\": \"histogram\"}], \"histogram2d\": [{\"colorbar\": {\"outlinewidth\": 0, \"ticks\": \"\"}, \"colorscale\": [[0.0, \"#0d0887\"], [0.1111111111111111, \"#46039f\"], [0.2222222222222222, \"#7201a8\"], [0.3333333333333333, \"#9c179e\"], [0.4444444444444444, \"#bd3786\"], [0.5555555555555556, \"#d8576b\"], [0.6666666666666666, \"#ed7953\"], [0.7777777777777778, \"#fb9f3a\"], [0.8888888888888888, \"#fdca26\"], [1.0, \"#f0f921\"]], \"type\": \"histogram2d\"}], \"histogram2dcontour\": [{\"colorbar\": {\"outlinewidth\": 0, \"ticks\": \"\"}, \"colorscale\": [[0.0, \"#0d0887\"], [0.1111111111111111, \"#46039f\"], [0.2222222222222222, \"#7201a8\"], [0.3333333333333333, \"#9c179e\"], [0.4444444444444444, \"#bd3786\"], [0.5555555555555556, \"#d8576b\"], [0.6666666666666666, \"#ed7953\"], [0.7777777777777778, \"#fb9f3a\"], [0.8888888888888888, \"#fdca26\"], [1.0, \"#f0f921\"]], \"type\": \"histogram2dcontour\"}], \"mesh3d\": [{\"colorbar\": {\"outlinewidth\": 0, \"ticks\": \"\"}, \"type\": \"mesh3d\"}], \"parcoords\": [{\"line\": {\"colorbar\": {\"outlinewidth\": 0, \"ticks\": \"\"}}, \"type\": \"parcoords\"}], \"pie\": [{\"automargin\": true, \"type\": \"pie\"}], \"scatter\": [{\"marker\": {\"colorbar\": {\"outlinewidth\": 0, \"ticks\": \"\"}}, \"type\": \"scatter\"}], \"scatter3d\": [{\"line\": {\"colorbar\": {\"outlinewidth\": 0, \"ticks\": \"\"}}, \"marker\": {\"colorbar\": {\"outlinewidth\": 0, \"ticks\": \"\"}}, \"type\": \"scatter3d\"}], \"scattercarpet\": [{\"marker\": {\"colorbar\": {\"outlinewidth\": 0, \"ticks\": \"\"}}, \"type\": \"scattercarpet\"}], \"scattergeo\": [{\"marker\": {\"colorbar\": {\"outlinewidth\": 0, \"ticks\": \"\"}}, \"type\": \"scattergeo\"}], \"scattergl\": [{\"marker\": {\"colorbar\": {\"outlinewidth\": 0, \"ticks\": \"\"}}, \"type\": \"scattergl\"}], \"scattermapbox\": [{\"marker\": {\"colorbar\": {\"outlinewidth\": 0, \"ticks\": \"\"}}, \"type\": \"scattermapbox\"}], \"scatterpolar\": [{\"marker\": {\"colorbar\": {\"outlinewidth\": 0, \"ticks\": \"\"}}, \"type\": \"scatterpolar\"}], \"scatterpolargl\": [{\"marker\": {\"colorbar\": {\"outlinewidth\": 0, \"ticks\": \"\"}}, \"type\": \"scatterpolargl\"}], \"scatterternary\": [{\"marker\": {\"colorbar\": {\"outlinewidth\": 0, \"ticks\": \"\"}}, \"type\": \"scatterternary\"}], \"surface\": [{\"colorbar\": {\"outlinewidth\": 0, \"ticks\": \"\"}, \"colorscale\": [[0.0, \"#0d0887\"], [0.1111111111111111, \"#46039f\"], [0.2222222222222222, \"#7201a8\"], [0.3333333333333333, \"#9c179e\"], [0.4444444444444444, \"#bd3786\"], [0.5555555555555556, \"#d8576b\"], [0.6666666666666666, \"#ed7953\"], [0.7777777777777778, \"#fb9f3a\"], [0.8888888888888888, \"#fdca26\"], [1.0, \"#f0f921\"]], \"type\": \"surface\"}], \"table\": [{\"cells\": {\"fill\": {\"color\": \"#EBF0F8\"}, \"line\": {\"color\": \"white\"}}, \"header\": {\"fill\": {\"color\": \"#C8D4E3\"}, \"line\": {\"color\": \"white\"}}, \"type\": \"table\"}]}, \"layout\": {\"annotationdefaults\": {\"arrowcolor\": \"#2a3f5f\", \"arrowhead\": 0, \"arrowwidth\": 1}, \"coloraxis\": {\"colorbar\": {\"outlinewidth\": 0, \"ticks\": \"\"}}, \"colorscale\": {\"diverging\": [[0, \"#8e0152\"], [0.1, \"#c51b7d\"], [0.2, \"#de77ae\"], [0.3, \"#f1b6da\"], [0.4, \"#fde0ef\"], [0.5, \"#f7f7f7\"], [0.6, \"#e6f5d0\"], [0.7, \"#b8e186\"], [0.8, \"#7fbc41\"], [0.9, \"#4d9221\"], [1, \"#276419\"]], \"sequential\": [[0.0, \"#0d0887\"], [0.1111111111111111, \"#46039f\"], [0.2222222222222222, \"#7201a8\"], [0.3333333333333333, \"#9c179e\"], [0.4444444444444444, \"#bd3786\"], [0.5555555555555556, \"#d8576b\"], [0.6666666666666666, \"#ed7953\"], [0.7777777777777778, \"#fb9f3a\"], [0.8888888888888888, \"#fdca26\"], [1.0, \"#f0f921\"]], \"sequentialminus\": [[0.0, \"#0d0887\"], [0.1111111111111111, \"#46039f\"], [0.2222222222222222, \"#7201a8\"], [0.3333333333333333, \"#9c179e\"], [0.4444444444444444, \"#bd3786\"], [0.5555555555555556, \"#d8576b\"], [0.6666666666666666, \"#ed7953\"], [0.7777777777777778, \"#fb9f3a\"], [0.8888888888888888, \"#fdca26\"], [1.0, \"#f0f921\"]]}, \"colorway\": [\"#636efa\", \"#EF553B\", \"#00cc96\", \"#ab63fa\", \"#FFA15A\", \"#19d3f3\", \"#FF6692\", \"#B6E880\", \"#FF97FF\", \"#FECB52\"], \"font\": {\"color\": \"#2a3f5f\"}, \"geo\": {\"bgcolor\": \"white\", \"lakecolor\": \"white\", \"landcolor\": \"#E5ECF6\", \"showlakes\": true, \"showland\": true, \"subunitcolor\": \"white\"}, \"hoverlabel\": {\"align\": \"left\"}, \"hovermode\": \"closest\", \"mapbox\": {\"style\": \"light\"}, \"paper_bgcolor\": \"white\", \"plot_bgcolor\": \"#E5ECF6\", \"polar\": {\"angularaxis\": {\"gridcolor\": \"white\", \"linecolor\": \"white\", \"ticks\": \"\"}, \"bgcolor\": \"#E5ECF6\", \"radialaxis\": {\"gridcolor\": \"white\", \"linecolor\": \"white\", \"ticks\": \"\"}}, \"scene\": {\"xaxis\": {\"backgroundcolor\": \"#E5ECF6\", \"gridcolor\": \"white\", \"gridwidth\": 2, \"linecolor\": \"white\", \"showbackground\": true, \"ticks\": \"\", \"zerolinecolor\": \"white\"}, \"yaxis\": {\"backgroundcolor\": \"#E5ECF6\", \"gridcolor\": \"white\", \"gridwidth\": 2, \"linecolor\": \"white\", \"showbackground\": true, \"ticks\": \"\", \"zerolinecolor\": \"white\"}, \"zaxis\": {\"backgroundcolor\": \"#E5ECF6\", \"gridcolor\": \"white\", \"gridwidth\": 2, \"linecolor\": \"white\", \"showbackground\": true, \"ticks\": \"\", \"zerolinecolor\": \"white\"}}, \"shapedefaults\": {\"line\": {\"color\": \"#2a3f5f\"}}, \"ternary\": {\"aaxis\": {\"gridcolor\": \"white\", \"linecolor\": \"white\", \"ticks\": \"\"}, \"baxis\": {\"gridcolor\": \"white\", \"linecolor\": \"white\", \"ticks\": \"\"}, \"bgcolor\": \"#E5ECF6\", \"caxis\": {\"gridcolor\": \"white\", \"linecolor\": \"white\", \"ticks\": \"\"}}, \"title\": {\"x\": 0.05}, \"xaxis\": {\"automargin\": true, \"gridcolor\": \"white\", \"linecolor\": \"white\", \"ticks\": \"\", \"title\": {\"standoff\": 15}, \"zerolinecolor\": \"white\", \"zerolinewidth\": 2}, \"yaxis\": {\"automargin\": true, \"gridcolor\": \"white\", \"linecolor\": \"white\", \"ticks\": \"\", \"title\": {\"standoff\": 15}, \"zerolinecolor\": \"white\", \"zerolinewidth\": 2}}}, \"title\": {\"font\": {\"color\": \"#4D5663\"}}, \"xaxis\": {\"gridcolor\": \"#E1E5ED\", \"showgrid\": true, \"tickfont\": {\"color\": \"#4D5663\"}, \"title\": {\"font\": {\"color\": \"#4D5663\"}, \"text\": \"\"}, \"zerolinecolor\": \"#E1E5ED\"}, \"yaxis\": {\"gridcolor\": \"#E1E5ED\", \"showgrid\": true, \"tickfont\": {\"color\": \"#4D5663\"}, \"title\": {\"font\": {\"color\": \"#4D5663\"}, \"text\": \"\"}, \"zerolinecolor\": \"#E1E5ED\"}},\n",
       "                        {\"showLink\": true, \"linkText\": \"Export to plot.ly\", \"plotlyServerURL\": \"https://plot.ly\", \"responsive\": true}\n",
       "                    ).then(function(){\n",
       "                            \n",
       "var gd = document.getElementById('f3e459dc-3a5f-49ba-b015-d7d485add91b');\n",
       "var x = new MutationObserver(function (mutations, observer) {{\n",
       "        var display = window.getComputedStyle(gd).display;\n",
       "        if (!display || display === 'none') {{\n",
       "            console.log([gd, 'removed!']);\n",
       "            Plotly.purge(gd);\n",
       "            observer.disconnect();\n",
       "        }}\n",
       "}});\n",
       "\n",
       "// Listen for the removal of the full notebook cells\n",
       "var notebookContainer = gd.closest('#notebook-container');\n",
       "if (notebookContainer) {{\n",
       "    x.observe(notebookContainer, {childList: true});\n",
       "}}\n",
       "\n",
       "// Listen for the clearing of the current output cell\n",
       "var outputEl = gd.closest('.output');\n",
       "if (outputEl) {{\n",
       "    x.observe(outputEl, {childList: true});\n",
       "}}\n",
       "\n",
       "                        })\n",
       "                };\n",
       "                });\n",
       "            </script>\n",
       "        </div>"
      ]
     },
     "metadata": {},
     "output_type": "display_data"
    }
   ],
   "source": [
    "df.iplot(kind='bubble',x='A',y='B',size='C')"
   ]
  },
  {
   "cell_type": "markdown",
   "metadata": {},
   "source": [
    "## scatter_matrix()\n",
    "\n",
    "Similar to sns.pairplot()"
   ]
  },
  {
   "cell_type": "code",
   "execution_count": 19,
   "metadata": {},
   "outputs": [
    {
     "data": {
      "application/vnd.plotly.v1+json": {
       "config": {
        "linkText": "Export to plot.ly",
        "plotlyServerURL": "https://plot.ly",
        "showLink": true
       },
       "data": [
        {
         "histfunc": "count",
         "histnorm": "",
         "marker": {
          "color": "rgba(255, 153, 51, 1.0)",
          "line": {
           "color": "#4D5663",
           "width": 1.3
          }
         },
         "name": "A",
         "nbinsx": 10,
         "opacity": 0.8,
         "orientation": "v",
         "type": "histogram",
         "x": [
          0.9863925971035367,
          -0.551507821584642,
          1.2104910088148675,
          -0.3630595285051773,
          0.46873763546514047,
          0.26593957464707885,
          -0.5937216939189025,
          -1.364244266971046,
          -0.2540693709928275,
          -1.2830587933734412,
          1.281390741792193,
          -0.3343680481188946,
          -0.3825594509405097,
          0.021087443582469643,
          0.6471309447546121,
          -1.4147694856733755,
          1.339202836038361,
          0.3390041601557001,
          0.10485762693215445,
          0.5152538280419234,
          -0.9369459989184609,
          -2.175788440576683,
          -1.1362774454491336,
          1.3527148275259664,
          1.4702499643356384,
          1.4124870558300326,
          -0.9878582741905485,
          0.1127751813840683,
          -0.5126472661761328,
          0.4067609905375987,
          0.6071808563561845,
          -0.37915216043306865,
          -2.876721926137452,
          -0.33918228700985903,
          0.10504300019166042,
          -0.5774186612820098,
          -0.4388265947198578,
          -0.055176976254413895,
          -0.36616500182468037,
          -0.2929114866068684,
          0.7014228110844198,
          0.1306964615045626,
          0.6596028015175316,
          -1.1429942684320047,
          0.47568171728166164,
          1.2962465194153023,
          0.8460892263421502,
          0.42102746077643927,
          0.866184163058826,
          -0.08087723804487756,
          0.06907309802472945,
          -0.3200834042314787,
          0.7939731228226196,
          -0.26558550941047,
          -0.29524694386838995,
          0.27060817727113556,
          0.36561627515557454,
          -0.5599247565685864,
          0.7441531233347232,
          -0.6814710370963094,
          1.8221454972624809,
          0.4019139577863046,
          0.25839538612264057,
          -1.1980916669750947,
          0.34449618768897405,
          -1.021139797801242,
          0.6537320811984445,
          -0.7314199792059191,
          2.1826040042648733,
          -0.9563736641559415,
          -0.6783338604068041,
          -0.6702093617726054,
          0.33912561228172344,
          0.13988069172984913,
          1.1750087445530144,
          0.23062024779877058,
          0.019329480186717436,
          -0.6342151389972552,
          -0.714518709757769,
          -1.3770377775555394,
          0.7226762173743683,
          0.5347943858978389,
          -1.625074933335793,
          -1.103365996026399,
          -1.8484187247942057,
          -0.2933657169598747,
          -1.0379228872326074,
          -1.687486818385531,
          0.15763302190875925,
          -0.9917526514489864,
          -1.401998191292997,
          1.1685273716607132,
          -1.0924765499868767,
          1.1004984383673553,
          0.3024430062455109,
          -0.6451062450746639,
          0.4270100442054658,
          1.2814804808958185,
          0.4071866322407583,
          1.3737594623042046
         ],
         "xaxis": "x",
         "yaxis": "y"
        },
        {
         "line": {
          "color": "rgba(128, 128, 128, 1.0)",
          "dash": "solid",
          "shape": "linear",
          "width": 1.3
         },
         "marker": {
          "size": 2,
          "symbol": "circle"
         },
         "mode": "markers",
         "name": "A",
         "text": "",
         "type": "scatter",
         "x": [
          -1.491962523268668,
          -0.9863979319163781,
          -1.3706498912781242,
          -0.7283635054127434,
          -0.9556433947549499,
          -1.3776178280637075,
          -1.3282354767457958,
          0.4160855389008612,
          0.8245390833958657,
          -0.9386012985882881,
          -1.417146166990188,
          -0.2364962639674241,
          0.9555674388527511,
          0.32733012189391536,
          -0.844901615660728,
          0.5292929788219688,
          0.3696349580137423,
          -2.1581092479697417,
          1.1308247542325691,
          0.27079868876702035,
          -1.3700993932378516,
          1.822386519008439,
          1.2739493109373479,
          1.6860005870956005,
          1.0437955602263596,
          0.052187775820577716,
          -0.5129959686672352,
          -0.23642446542680795,
          2.0259746549928086,
          -0.6274963571844351,
          -0.20405423953078541,
          -1.4551299158129842,
          3.0083803245440226,
          -0.18200247569988784,
          -0.09655369744753517,
          0.5396269998034693,
          1.3526844847337924,
          0.5479447363690005,
          0.5003806017756498,
          0.38092478986333167,
          -0.6987050732978389,
          0.728950705242152,
          -0.07099017268241205,
          -0.17718643626418312,
          -1.2329612788960118,
          1.098371360403441,
          0.9228538361483437,
          -0.08551957529581292,
          -0.4380008002662748,
          0.19342006507323398,
          0.032302851769381594,
          1.0745637263936598,
          -0.34905775053086974,
          -0.38387650619720814,
          1.008613308424497,
          -1.1197072632192004,
          1.682262651833673,
          -0.6460412773663219,
          0.9117982447939869,
          0.06286202422433096,
          -0.6160075662848656,
          0.26695888931062,
          -0.15823583458025905,
          0.6707760460041554,
          1.782480813946048,
          -0.41806235648299156,
          0.9920882878881456,
          0.35393270682555716,
          -0.2821919585487452,
          -0.14034262729735977,
          -0.12211237075763812,
          -0.5409052719458001,
          -1.3106360584065184,
          -2.38683273001778,
          0.8329521217275093,
          0.1894540858494092,
          -0.5828241905753845,
          -1.4000380259065652,
          -1.5524571025879703,
          0.4128822340825146,
          -0.011762531518228102,
          -1.2652525410519582,
          1.455953610317138,
          0.9623467225545896,
          1.0607117432751054,
          -1.9516748560022805,
          -2.7387496811679237,
          0.028105306029023693,
          -0.6562471399526576,
          -0.236204261305822,
          1.1557779022072985,
          -0.727744455299941,
          0.4782040528002768,
          -0.6197213069086959,
          1.775528183886076,
          -1.4722901211034423,
          0.5089895879395171,
          1.1362057227381976,
          0.2163217689984764,
          1.0544547503433614
         ],
         "xaxis": "x2",
         "y": [
          0.9863925971035367,
          -0.551507821584642,
          1.2104910088148675,
          -0.3630595285051773,
          0.46873763546514047,
          0.26593957464707885,
          -0.5937216939189025,
          -1.364244266971046,
          -0.2540693709928275,
          -1.2830587933734412,
          1.281390741792193,
          -0.3343680481188946,
          -0.3825594509405097,
          0.021087443582469643,
          0.6471309447546121,
          -1.4147694856733755,
          1.339202836038361,
          0.3390041601557001,
          0.10485762693215445,
          0.5152538280419234,
          -0.9369459989184609,
          -2.175788440576683,
          -1.1362774454491336,
          1.3527148275259664,
          1.4702499643356384,
          1.4124870558300326,
          -0.9878582741905485,
          0.1127751813840683,
          -0.5126472661761328,
          0.4067609905375987,
          0.6071808563561845,
          -0.37915216043306865,
          -2.876721926137452,
          -0.33918228700985903,
          0.10504300019166042,
          -0.5774186612820098,
          -0.4388265947198578,
          -0.055176976254413895,
          -0.36616500182468037,
          -0.2929114866068684,
          0.7014228110844198,
          0.1306964615045626,
          0.6596028015175316,
          -1.1429942684320047,
          0.47568171728166164,
          1.2962465194153023,
          0.8460892263421502,
          0.42102746077643927,
          0.866184163058826,
          -0.08087723804487756,
          0.06907309802472945,
          -0.3200834042314787,
          0.7939731228226196,
          -0.26558550941047,
          -0.29524694386838995,
          0.27060817727113556,
          0.36561627515557454,
          -0.5599247565685864,
          0.7441531233347232,
          -0.6814710370963094,
          1.8221454972624809,
          0.4019139577863046,
          0.25839538612264057,
          -1.1980916669750947,
          0.34449618768897405,
          -1.021139797801242,
          0.6537320811984445,
          -0.7314199792059191,
          2.1826040042648733,
          -0.9563736641559415,
          -0.6783338604068041,
          -0.6702093617726054,
          0.33912561228172344,
          0.13988069172984913,
          1.1750087445530144,
          0.23062024779877058,
          0.019329480186717436,
          -0.6342151389972552,
          -0.714518709757769,
          -1.3770377775555394,
          0.7226762173743683,
          0.5347943858978389,
          -1.625074933335793,
          -1.103365996026399,
          -1.8484187247942057,
          -0.2933657169598747,
          -1.0379228872326074,
          -1.687486818385531,
          0.15763302190875925,
          -0.9917526514489864,
          -1.401998191292997,
          1.1685273716607132,
          -1.0924765499868767,
          1.1004984383673553,
          0.3024430062455109,
          -0.6451062450746639,
          0.4270100442054658,
          1.2814804808958185,
          0.4071866322407583,
          1.3737594623042046
         ],
         "yaxis": "y2"
        },
        {
         "line": {
          "color": "rgba(128, 128, 128, 1.0)",
          "dash": "solid",
          "shape": "linear",
          "width": 1.3
         },
         "marker": {
          "size": 2,
          "symbol": "circle"
         },
         "mode": "markers",
         "name": "A",
         "text": "",
         "type": "scatter",
         "x": [
          0.16586369391649003,
          -1.4796747778385209,
          1.353882782073457,
          0.6690403840694343,
          -0.6731449945372039,
          -0.4639434412690871,
          0.1398903478420584,
          -0.13616605538047377,
          0.6008855469250013,
          -0.7848926486896209,
          2.15448974818836,
          -1.1366303271967941,
          1.3457170525043274,
          -0.17286241460450932,
          -1.4202640203018966,
          1.1458920281969234,
          0.11741579107613459,
          -0.5523446755785217,
          -0.385670831515714,
          -0.7343121510552004,
          2.3058888471219787,
          -0.7082705812461266,
          0.9606258074845863,
          0.7620209809459613,
          1.227596624389157,
          -0.9155110248770371,
          -0.8778999106664441,
          -0.4069692113801471,
          0.8565509276228673,
          -0.31130826481789986,
          0.7259647114785005,
          -0.943249004760023,
          0.9557241135762701,
          -0.5109182780887803,
          0.26588855415850327,
          0.783729819177189,
          0.4265288393112757,
          -1.5107072300787645,
          -1.3354543451684608,
          -1.4377624388533194,
          1.9103934202625568,
          0.410358862929227,
          -2.4145148099145244,
          -0.8724711402738758,
          -0.35684353384457884,
          1.218752123974974,
          -0.4324084960153836,
          -0.5927012514360849,
          -0.26766167380186007,
          -0.11861077967913622,
          -1.247380732043506,
          -1.5472176119168095,
          1.3630331808086191,
          -0.4844994600332298,
          1.2593898933078833,
          -0.7826988086844159,
          -0.03468140174155823,
          -1.1591768122282675,
          0.5913001829779262,
          0.3235330540953591,
          0.5285887391369402,
          1.812636284002745,
          -0.049029982321186064,
          1.8749045267829207,
          -0.7549923802291525,
          -0.9556902480565279,
          -0.3256232716002783,
          1.1943814511903086,
          -0.3882965400705218,
          1.5074383920020515,
          2.7006353446390996,
          -0.8612312678732079,
          -0.6032001138009844,
          1.8725063480729862,
          0.19287376909810464,
          -0.5664278599519131,
          2.3616410309692624,
          1.2860262977429453,
          0.8219404204393114,
          -1.0306443825972005,
          -0.0024666046284393963,
          -0.5399799308358226,
          0.8112294386617203,
          -0.160056732285508,
          0.394771619078201,
          3.9326340854457666,
          1.2756886712677278,
          -1.9340487988166735,
          -2.406610600058228,
          0.30003171069719137,
          -0.44497554975654857,
          0.6661756157717057,
          0.6882925549413913,
          -0.4485516080963447,
          0.6830258037128837,
          -0.0031320649349308705,
          -0.4129255593693611,
          0.48142864938863755,
          0.8124623685513269,
          0.9649362875117578
         ],
         "xaxis": "x3",
         "y": [
          0.9863925971035367,
          -0.551507821584642,
          1.2104910088148675,
          -0.3630595285051773,
          0.46873763546514047,
          0.26593957464707885,
          -0.5937216939189025,
          -1.364244266971046,
          -0.2540693709928275,
          -1.2830587933734412,
          1.281390741792193,
          -0.3343680481188946,
          -0.3825594509405097,
          0.021087443582469643,
          0.6471309447546121,
          -1.4147694856733755,
          1.339202836038361,
          0.3390041601557001,
          0.10485762693215445,
          0.5152538280419234,
          -0.9369459989184609,
          -2.175788440576683,
          -1.1362774454491336,
          1.3527148275259664,
          1.4702499643356384,
          1.4124870558300326,
          -0.9878582741905485,
          0.1127751813840683,
          -0.5126472661761328,
          0.4067609905375987,
          0.6071808563561845,
          -0.37915216043306865,
          -2.876721926137452,
          -0.33918228700985903,
          0.10504300019166042,
          -0.5774186612820098,
          -0.4388265947198578,
          -0.055176976254413895,
          -0.36616500182468037,
          -0.2929114866068684,
          0.7014228110844198,
          0.1306964615045626,
          0.6596028015175316,
          -1.1429942684320047,
          0.47568171728166164,
          1.2962465194153023,
          0.8460892263421502,
          0.42102746077643927,
          0.866184163058826,
          -0.08087723804487756,
          0.06907309802472945,
          -0.3200834042314787,
          0.7939731228226196,
          -0.26558550941047,
          -0.29524694386838995,
          0.27060817727113556,
          0.36561627515557454,
          -0.5599247565685864,
          0.7441531233347232,
          -0.6814710370963094,
          1.8221454972624809,
          0.4019139577863046,
          0.25839538612264057,
          -1.1980916669750947,
          0.34449618768897405,
          -1.021139797801242,
          0.6537320811984445,
          -0.7314199792059191,
          2.1826040042648733,
          -0.9563736641559415,
          -0.6783338604068041,
          -0.6702093617726054,
          0.33912561228172344,
          0.13988069172984913,
          1.1750087445530144,
          0.23062024779877058,
          0.019329480186717436,
          -0.6342151389972552,
          -0.714518709757769,
          -1.3770377775555394,
          0.7226762173743683,
          0.5347943858978389,
          -1.625074933335793,
          -1.103365996026399,
          -1.8484187247942057,
          -0.2933657169598747,
          -1.0379228872326074,
          -1.687486818385531,
          0.15763302190875925,
          -0.9917526514489864,
          -1.401998191292997,
          1.1685273716607132,
          -1.0924765499868767,
          1.1004984383673553,
          0.3024430062455109,
          -0.6451062450746639,
          0.4270100442054658,
          1.2814804808958185,
          0.4071866322407583,
          1.3737594623042046
         ],
         "yaxis": "y3"
        },
        {
         "line": {
          "color": "rgba(128, 128, 128, 1.0)",
          "dash": "solid",
          "shape": "linear",
          "width": 1.3
         },
         "marker": {
          "size": 2,
          "symbol": "circle"
         },
         "mode": "markers",
         "name": "A",
         "text": "",
         "type": "scatter",
         "x": [
          -0.35436219083694637,
          -1.013502751723658,
          -0.7292327921577556,
          -0.09309262719026408,
          -0.41110593494748554,
          0.16604532245315753,
          1.3683655712813747,
          -1.9152725078309527,
          -0.05174789358429129,
          0.7978993837338012,
          -0.6443201424120104,
          -1.0890863271658004,
          0.26427310894034084,
          -0.5159754781043415,
          0.30786041376620854,
          1.2580435868082198,
          -0.6966927232858101,
          -0.1816704223642784,
          -0.7907444980741134,
          -0.1361072560161668,
          0.8023623771509054,
          -0.2379939293736548,
          -0.5754603382638555,
          1.0240444959561954,
          -0.4197568954883138,
          -0.15686405274195983,
          -1.2660068301862717,
          -0.09273245967387625,
          0.4568936780540992,
          -0.0884321878162847,
          0.010460874864243644,
          1.2053006143375258,
          1.6339618104383413,
          0.35978236157848964,
          2.0011516356730668,
          1.6754156470124884,
          -0.4670887358142812,
          -0.7017165007032741,
          -2.2547796392880373,
          1.6822190923119495,
          -1.6277178566711121,
          0.40933097272574753,
          -0.9243939243758164,
          -0.6624527300289607,
          -1.1715105124687846,
          0.01638491102218486,
          -0.7798877838013948,
          0.28180342801408714,
          -0.05964861793842602,
          1.8923923101530173,
          1.3188096301772692,
          0.5138137093164855,
          0.02838961888974531,
          -1.4359842845062605,
          1.2290916503858846,
          -0.13273213257976044,
          0.3000577762986384,
          -1.3208068617245192,
          1.0305256250013348,
          0.7426248780172283,
          -0.7076716949888867,
          -1.6057738932860781,
          -2.213910587692275,
          -1.972353554772055,
          -1.7297879441601323,
          -0.006405186034625153,
          -0.4719625253825586,
          -0.10345908019707348,
          0.044235648530631784,
          -0.13472042008963067,
          -1.830431490663404,
          -0.9483993040118233,
          -0.4534379484068572,
          -0.7958733138734924,
          1.8808608130207245,
          -0.23234708424105013,
          -0.34671527906493904,
          -2.0596731181007795,
          0.6460380085217425,
          -0.9133269759341058,
          -1.0774321294457374,
          0.4392178119616056,
          -0.21981055867337426,
          -0.5462871825156912,
          -0.7319311560493941,
          -0.8676452114985064,
          -1.1966070728425546,
          0.967844201788307,
          0.3724414286449778,
          0.9856881106901605,
          0.9054258178782889,
          -0.07212885469978308,
          -0.6420501704057415,
          -0.837754823198033,
          -0.7315121223136304,
          -0.6999732681944199,
          0.005325252401586591,
          1.004014137896582,
          0.6065922115413797,
          0.6331805787419147
         ],
         "xaxis": "x4",
         "y": [
          0.9863925971035367,
          -0.551507821584642,
          1.2104910088148675,
          -0.3630595285051773,
          0.46873763546514047,
          0.26593957464707885,
          -0.5937216939189025,
          -1.364244266971046,
          -0.2540693709928275,
          -1.2830587933734412,
          1.281390741792193,
          -0.3343680481188946,
          -0.3825594509405097,
          0.021087443582469643,
          0.6471309447546121,
          -1.4147694856733755,
          1.339202836038361,
          0.3390041601557001,
          0.10485762693215445,
          0.5152538280419234,
          -0.9369459989184609,
          -2.175788440576683,
          -1.1362774454491336,
          1.3527148275259664,
          1.4702499643356384,
          1.4124870558300326,
          -0.9878582741905485,
          0.1127751813840683,
          -0.5126472661761328,
          0.4067609905375987,
          0.6071808563561845,
          -0.37915216043306865,
          -2.876721926137452,
          -0.33918228700985903,
          0.10504300019166042,
          -0.5774186612820098,
          -0.4388265947198578,
          -0.055176976254413895,
          -0.36616500182468037,
          -0.2929114866068684,
          0.7014228110844198,
          0.1306964615045626,
          0.6596028015175316,
          -1.1429942684320047,
          0.47568171728166164,
          1.2962465194153023,
          0.8460892263421502,
          0.42102746077643927,
          0.866184163058826,
          -0.08087723804487756,
          0.06907309802472945,
          -0.3200834042314787,
          0.7939731228226196,
          -0.26558550941047,
          -0.29524694386838995,
          0.27060817727113556,
          0.36561627515557454,
          -0.5599247565685864,
          0.7441531233347232,
          -0.6814710370963094,
          1.8221454972624809,
          0.4019139577863046,
          0.25839538612264057,
          -1.1980916669750947,
          0.34449618768897405,
          -1.021139797801242,
          0.6537320811984445,
          -0.7314199792059191,
          2.1826040042648733,
          -0.9563736641559415,
          -0.6783338604068041,
          -0.6702093617726054,
          0.33912561228172344,
          0.13988069172984913,
          1.1750087445530144,
          0.23062024779877058,
          0.019329480186717436,
          -0.6342151389972552,
          -0.714518709757769,
          -1.3770377775555394,
          0.7226762173743683,
          0.5347943858978389,
          -1.625074933335793,
          -1.103365996026399,
          -1.8484187247942057,
          -0.2933657169598747,
          -1.0379228872326074,
          -1.687486818385531,
          0.15763302190875925,
          -0.9917526514489864,
          -1.401998191292997,
          1.1685273716607132,
          -1.0924765499868767,
          1.1004984383673553,
          0.3024430062455109,
          -0.6451062450746639,
          0.4270100442054658,
          1.2814804808958185,
          0.4071866322407583,
          1.3737594623042046
         ],
         "yaxis": "y4"
        },
        {
         "line": {
          "color": "rgba(128, 128, 128, 1.0)",
          "dash": "solid",
          "shape": "linear",
          "width": 1.3
         },
         "marker": {
          "size": 2,
          "symbol": "circle"
         },
         "mode": "markers",
         "name": "B",
         "text": "",
         "type": "scatter",
         "x": [
          0.9863925971035367,
          -0.551507821584642,
          1.2104910088148675,
          -0.3630595285051773,
          0.46873763546514047,
          0.26593957464707885,
          -0.5937216939189025,
          -1.364244266971046,
          -0.2540693709928275,
          -1.2830587933734412,
          1.281390741792193,
          -0.3343680481188946,
          -0.3825594509405097,
          0.021087443582469643,
          0.6471309447546121,
          -1.4147694856733755,
          1.339202836038361,
          0.3390041601557001,
          0.10485762693215445,
          0.5152538280419234,
          -0.9369459989184609,
          -2.175788440576683,
          -1.1362774454491336,
          1.3527148275259664,
          1.4702499643356384,
          1.4124870558300326,
          -0.9878582741905485,
          0.1127751813840683,
          -0.5126472661761328,
          0.4067609905375987,
          0.6071808563561845,
          -0.37915216043306865,
          -2.876721926137452,
          -0.33918228700985903,
          0.10504300019166042,
          -0.5774186612820098,
          -0.4388265947198578,
          -0.055176976254413895,
          -0.36616500182468037,
          -0.2929114866068684,
          0.7014228110844198,
          0.1306964615045626,
          0.6596028015175316,
          -1.1429942684320047,
          0.47568171728166164,
          1.2962465194153023,
          0.8460892263421502,
          0.42102746077643927,
          0.866184163058826,
          -0.08087723804487756,
          0.06907309802472945,
          -0.3200834042314787,
          0.7939731228226196,
          -0.26558550941047,
          -0.29524694386838995,
          0.27060817727113556,
          0.36561627515557454,
          -0.5599247565685864,
          0.7441531233347232,
          -0.6814710370963094,
          1.8221454972624809,
          0.4019139577863046,
          0.25839538612264057,
          -1.1980916669750947,
          0.34449618768897405,
          -1.021139797801242,
          0.6537320811984445,
          -0.7314199792059191,
          2.1826040042648733,
          -0.9563736641559415,
          -0.6783338604068041,
          -0.6702093617726054,
          0.33912561228172344,
          0.13988069172984913,
          1.1750087445530144,
          0.23062024779877058,
          0.019329480186717436,
          -0.6342151389972552,
          -0.714518709757769,
          -1.3770377775555394,
          0.7226762173743683,
          0.5347943858978389,
          -1.625074933335793,
          -1.103365996026399,
          -1.8484187247942057,
          -0.2933657169598747,
          -1.0379228872326074,
          -1.687486818385531,
          0.15763302190875925,
          -0.9917526514489864,
          -1.401998191292997,
          1.1685273716607132,
          -1.0924765499868767,
          1.1004984383673553,
          0.3024430062455109,
          -0.6451062450746639,
          0.4270100442054658,
          1.2814804808958185,
          0.4071866322407583,
          1.3737594623042046
         ],
         "xaxis": "x5",
         "y": [
          -1.491962523268668,
          -0.9863979319163781,
          -1.3706498912781242,
          -0.7283635054127434,
          -0.9556433947549499,
          -1.3776178280637075,
          -1.3282354767457958,
          0.4160855389008612,
          0.8245390833958657,
          -0.9386012985882881,
          -1.417146166990188,
          -0.2364962639674241,
          0.9555674388527511,
          0.32733012189391536,
          -0.844901615660728,
          0.5292929788219688,
          0.3696349580137423,
          -2.1581092479697417,
          1.1308247542325691,
          0.27079868876702035,
          -1.3700993932378516,
          1.822386519008439,
          1.2739493109373479,
          1.6860005870956005,
          1.0437955602263596,
          0.052187775820577716,
          -0.5129959686672352,
          -0.23642446542680795,
          2.0259746549928086,
          -0.6274963571844351,
          -0.20405423953078541,
          -1.4551299158129842,
          3.0083803245440226,
          -0.18200247569988784,
          -0.09655369744753517,
          0.5396269998034693,
          1.3526844847337924,
          0.5479447363690005,
          0.5003806017756498,
          0.38092478986333167,
          -0.6987050732978389,
          0.728950705242152,
          -0.07099017268241205,
          -0.17718643626418312,
          -1.2329612788960118,
          1.098371360403441,
          0.9228538361483437,
          -0.08551957529581292,
          -0.4380008002662748,
          0.19342006507323398,
          0.032302851769381594,
          1.0745637263936598,
          -0.34905775053086974,
          -0.38387650619720814,
          1.008613308424497,
          -1.1197072632192004,
          1.682262651833673,
          -0.6460412773663219,
          0.9117982447939869,
          0.06286202422433096,
          -0.6160075662848656,
          0.26695888931062,
          -0.15823583458025905,
          0.6707760460041554,
          1.782480813946048,
          -0.41806235648299156,
          0.9920882878881456,
          0.35393270682555716,
          -0.2821919585487452,
          -0.14034262729735977,
          -0.12211237075763812,
          -0.5409052719458001,
          -1.3106360584065184,
          -2.38683273001778,
          0.8329521217275093,
          0.1894540858494092,
          -0.5828241905753845,
          -1.4000380259065652,
          -1.5524571025879703,
          0.4128822340825146,
          -0.011762531518228102,
          -1.2652525410519582,
          1.455953610317138,
          0.9623467225545896,
          1.0607117432751054,
          -1.9516748560022805,
          -2.7387496811679237,
          0.028105306029023693,
          -0.6562471399526576,
          -0.236204261305822,
          1.1557779022072985,
          -0.727744455299941,
          0.4782040528002768,
          -0.6197213069086959,
          1.775528183886076,
          -1.4722901211034423,
          0.5089895879395171,
          1.1362057227381976,
          0.2163217689984764,
          1.0544547503433614
         ],
         "yaxis": "y5"
        },
        {
         "histfunc": "count",
         "histnorm": "",
         "marker": {
          "color": "rgba(55, 128, 191, 1.0)",
          "line": {
           "color": "#4D5663",
           "width": 1.3
          }
         },
         "name": "B",
         "nbinsx": 10,
         "opacity": 0.8,
         "orientation": "v",
         "type": "histogram",
         "x": [
          -1.491962523268668,
          -0.9863979319163781,
          -1.3706498912781242,
          -0.7283635054127434,
          -0.9556433947549499,
          -1.3776178280637075,
          -1.3282354767457958,
          0.4160855389008612,
          0.8245390833958657,
          -0.9386012985882881,
          -1.417146166990188,
          -0.2364962639674241,
          0.9555674388527511,
          0.32733012189391536,
          -0.844901615660728,
          0.5292929788219688,
          0.3696349580137423,
          -2.1581092479697417,
          1.1308247542325691,
          0.27079868876702035,
          -1.3700993932378516,
          1.822386519008439,
          1.2739493109373479,
          1.6860005870956005,
          1.0437955602263596,
          0.052187775820577716,
          -0.5129959686672352,
          -0.23642446542680795,
          2.0259746549928086,
          -0.6274963571844351,
          -0.20405423953078541,
          -1.4551299158129842,
          3.0083803245440226,
          -0.18200247569988784,
          -0.09655369744753517,
          0.5396269998034693,
          1.3526844847337924,
          0.5479447363690005,
          0.5003806017756498,
          0.38092478986333167,
          -0.6987050732978389,
          0.728950705242152,
          -0.07099017268241205,
          -0.17718643626418312,
          -1.2329612788960118,
          1.098371360403441,
          0.9228538361483437,
          -0.08551957529581292,
          -0.4380008002662748,
          0.19342006507323398,
          0.032302851769381594,
          1.0745637263936598,
          -0.34905775053086974,
          -0.38387650619720814,
          1.008613308424497,
          -1.1197072632192004,
          1.682262651833673,
          -0.6460412773663219,
          0.9117982447939869,
          0.06286202422433096,
          -0.6160075662848656,
          0.26695888931062,
          -0.15823583458025905,
          0.6707760460041554,
          1.782480813946048,
          -0.41806235648299156,
          0.9920882878881456,
          0.35393270682555716,
          -0.2821919585487452,
          -0.14034262729735977,
          -0.12211237075763812,
          -0.5409052719458001,
          -1.3106360584065184,
          -2.38683273001778,
          0.8329521217275093,
          0.1894540858494092,
          -0.5828241905753845,
          -1.4000380259065652,
          -1.5524571025879703,
          0.4128822340825146,
          -0.011762531518228102,
          -1.2652525410519582,
          1.455953610317138,
          0.9623467225545896,
          1.0607117432751054,
          -1.9516748560022805,
          -2.7387496811679237,
          0.028105306029023693,
          -0.6562471399526576,
          -0.236204261305822,
          1.1557779022072985,
          -0.727744455299941,
          0.4782040528002768,
          -0.6197213069086959,
          1.775528183886076,
          -1.4722901211034423,
          0.5089895879395171,
          1.1362057227381976,
          0.2163217689984764,
          1.0544547503433614
         ],
         "xaxis": "x6",
         "yaxis": "y6"
        },
        {
         "line": {
          "color": "rgba(128, 128, 128, 1.0)",
          "dash": "solid",
          "shape": "linear",
          "width": 1.3
         },
         "marker": {
          "size": 2,
          "symbol": "circle"
         },
         "mode": "markers",
         "name": "B",
         "text": "",
         "type": "scatter",
         "x": [
          0.16586369391649003,
          -1.4796747778385209,
          1.353882782073457,
          0.6690403840694343,
          -0.6731449945372039,
          -0.4639434412690871,
          0.1398903478420584,
          -0.13616605538047377,
          0.6008855469250013,
          -0.7848926486896209,
          2.15448974818836,
          -1.1366303271967941,
          1.3457170525043274,
          -0.17286241460450932,
          -1.4202640203018966,
          1.1458920281969234,
          0.11741579107613459,
          -0.5523446755785217,
          -0.385670831515714,
          -0.7343121510552004,
          2.3058888471219787,
          -0.7082705812461266,
          0.9606258074845863,
          0.7620209809459613,
          1.227596624389157,
          -0.9155110248770371,
          -0.8778999106664441,
          -0.4069692113801471,
          0.8565509276228673,
          -0.31130826481789986,
          0.7259647114785005,
          -0.943249004760023,
          0.9557241135762701,
          -0.5109182780887803,
          0.26588855415850327,
          0.783729819177189,
          0.4265288393112757,
          -1.5107072300787645,
          -1.3354543451684608,
          -1.4377624388533194,
          1.9103934202625568,
          0.410358862929227,
          -2.4145148099145244,
          -0.8724711402738758,
          -0.35684353384457884,
          1.218752123974974,
          -0.4324084960153836,
          -0.5927012514360849,
          -0.26766167380186007,
          -0.11861077967913622,
          -1.247380732043506,
          -1.5472176119168095,
          1.3630331808086191,
          -0.4844994600332298,
          1.2593898933078833,
          -0.7826988086844159,
          -0.03468140174155823,
          -1.1591768122282675,
          0.5913001829779262,
          0.3235330540953591,
          0.5285887391369402,
          1.812636284002745,
          -0.049029982321186064,
          1.8749045267829207,
          -0.7549923802291525,
          -0.9556902480565279,
          -0.3256232716002783,
          1.1943814511903086,
          -0.3882965400705218,
          1.5074383920020515,
          2.7006353446390996,
          -0.8612312678732079,
          -0.6032001138009844,
          1.8725063480729862,
          0.19287376909810464,
          -0.5664278599519131,
          2.3616410309692624,
          1.2860262977429453,
          0.8219404204393114,
          -1.0306443825972005,
          -0.0024666046284393963,
          -0.5399799308358226,
          0.8112294386617203,
          -0.160056732285508,
          0.394771619078201,
          3.9326340854457666,
          1.2756886712677278,
          -1.9340487988166735,
          -2.406610600058228,
          0.30003171069719137,
          -0.44497554975654857,
          0.6661756157717057,
          0.6882925549413913,
          -0.4485516080963447,
          0.6830258037128837,
          -0.0031320649349308705,
          -0.4129255593693611,
          0.48142864938863755,
          0.8124623685513269,
          0.9649362875117578
         ],
         "xaxis": "x7",
         "y": [
          -1.491962523268668,
          -0.9863979319163781,
          -1.3706498912781242,
          -0.7283635054127434,
          -0.9556433947549499,
          -1.3776178280637075,
          -1.3282354767457958,
          0.4160855389008612,
          0.8245390833958657,
          -0.9386012985882881,
          -1.417146166990188,
          -0.2364962639674241,
          0.9555674388527511,
          0.32733012189391536,
          -0.844901615660728,
          0.5292929788219688,
          0.3696349580137423,
          -2.1581092479697417,
          1.1308247542325691,
          0.27079868876702035,
          -1.3700993932378516,
          1.822386519008439,
          1.2739493109373479,
          1.6860005870956005,
          1.0437955602263596,
          0.052187775820577716,
          -0.5129959686672352,
          -0.23642446542680795,
          2.0259746549928086,
          -0.6274963571844351,
          -0.20405423953078541,
          -1.4551299158129842,
          3.0083803245440226,
          -0.18200247569988784,
          -0.09655369744753517,
          0.5396269998034693,
          1.3526844847337924,
          0.5479447363690005,
          0.5003806017756498,
          0.38092478986333167,
          -0.6987050732978389,
          0.728950705242152,
          -0.07099017268241205,
          -0.17718643626418312,
          -1.2329612788960118,
          1.098371360403441,
          0.9228538361483437,
          -0.08551957529581292,
          -0.4380008002662748,
          0.19342006507323398,
          0.032302851769381594,
          1.0745637263936598,
          -0.34905775053086974,
          -0.38387650619720814,
          1.008613308424497,
          -1.1197072632192004,
          1.682262651833673,
          -0.6460412773663219,
          0.9117982447939869,
          0.06286202422433096,
          -0.6160075662848656,
          0.26695888931062,
          -0.15823583458025905,
          0.6707760460041554,
          1.782480813946048,
          -0.41806235648299156,
          0.9920882878881456,
          0.35393270682555716,
          -0.2821919585487452,
          -0.14034262729735977,
          -0.12211237075763812,
          -0.5409052719458001,
          -1.3106360584065184,
          -2.38683273001778,
          0.8329521217275093,
          0.1894540858494092,
          -0.5828241905753845,
          -1.4000380259065652,
          -1.5524571025879703,
          0.4128822340825146,
          -0.011762531518228102,
          -1.2652525410519582,
          1.455953610317138,
          0.9623467225545896,
          1.0607117432751054,
          -1.9516748560022805,
          -2.7387496811679237,
          0.028105306029023693,
          -0.6562471399526576,
          -0.236204261305822,
          1.1557779022072985,
          -0.727744455299941,
          0.4782040528002768,
          -0.6197213069086959,
          1.775528183886076,
          -1.4722901211034423,
          0.5089895879395171,
          1.1362057227381976,
          0.2163217689984764,
          1.0544547503433614
         ],
         "yaxis": "y7"
        },
        {
         "line": {
          "color": "rgba(128, 128, 128, 1.0)",
          "dash": "solid",
          "shape": "linear",
          "width": 1.3
         },
         "marker": {
          "size": 2,
          "symbol": "circle"
         },
         "mode": "markers",
         "name": "B",
         "text": "",
         "type": "scatter",
         "x": [
          -0.35436219083694637,
          -1.013502751723658,
          -0.7292327921577556,
          -0.09309262719026408,
          -0.41110593494748554,
          0.16604532245315753,
          1.3683655712813747,
          -1.9152725078309527,
          -0.05174789358429129,
          0.7978993837338012,
          -0.6443201424120104,
          -1.0890863271658004,
          0.26427310894034084,
          -0.5159754781043415,
          0.30786041376620854,
          1.2580435868082198,
          -0.6966927232858101,
          -0.1816704223642784,
          -0.7907444980741134,
          -0.1361072560161668,
          0.8023623771509054,
          -0.2379939293736548,
          -0.5754603382638555,
          1.0240444959561954,
          -0.4197568954883138,
          -0.15686405274195983,
          -1.2660068301862717,
          -0.09273245967387625,
          0.4568936780540992,
          -0.0884321878162847,
          0.010460874864243644,
          1.2053006143375258,
          1.6339618104383413,
          0.35978236157848964,
          2.0011516356730668,
          1.6754156470124884,
          -0.4670887358142812,
          -0.7017165007032741,
          -2.2547796392880373,
          1.6822190923119495,
          -1.6277178566711121,
          0.40933097272574753,
          -0.9243939243758164,
          -0.6624527300289607,
          -1.1715105124687846,
          0.01638491102218486,
          -0.7798877838013948,
          0.28180342801408714,
          -0.05964861793842602,
          1.8923923101530173,
          1.3188096301772692,
          0.5138137093164855,
          0.02838961888974531,
          -1.4359842845062605,
          1.2290916503858846,
          -0.13273213257976044,
          0.3000577762986384,
          -1.3208068617245192,
          1.0305256250013348,
          0.7426248780172283,
          -0.7076716949888867,
          -1.6057738932860781,
          -2.213910587692275,
          -1.972353554772055,
          -1.7297879441601323,
          -0.006405186034625153,
          -0.4719625253825586,
          -0.10345908019707348,
          0.044235648530631784,
          -0.13472042008963067,
          -1.830431490663404,
          -0.9483993040118233,
          -0.4534379484068572,
          -0.7958733138734924,
          1.8808608130207245,
          -0.23234708424105013,
          -0.34671527906493904,
          -2.0596731181007795,
          0.6460380085217425,
          -0.9133269759341058,
          -1.0774321294457374,
          0.4392178119616056,
          -0.21981055867337426,
          -0.5462871825156912,
          -0.7319311560493941,
          -0.8676452114985064,
          -1.1966070728425546,
          0.967844201788307,
          0.3724414286449778,
          0.9856881106901605,
          0.9054258178782889,
          -0.07212885469978308,
          -0.6420501704057415,
          -0.837754823198033,
          -0.7315121223136304,
          -0.6999732681944199,
          0.005325252401586591,
          1.004014137896582,
          0.6065922115413797,
          0.6331805787419147
         ],
         "xaxis": "x8",
         "y": [
          -1.491962523268668,
          -0.9863979319163781,
          -1.3706498912781242,
          -0.7283635054127434,
          -0.9556433947549499,
          -1.3776178280637075,
          -1.3282354767457958,
          0.4160855389008612,
          0.8245390833958657,
          -0.9386012985882881,
          -1.417146166990188,
          -0.2364962639674241,
          0.9555674388527511,
          0.32733012189391536,
          -0.844901615660728,
          0.5292929788219688,
          0.3696349580137423,
          -2.1581092479697417,
          1.1308247542325691,
          0.27079868876702035,
          -1.3700993932378516,
          1.822386519008439,
          1.2739493109373479,
          1.6860005870956005,
          1.0437955602263596,
          0.052187775820577716,
          -0.5129959686672352,
          -0.23642446542680795,
          2.0259746549928086,
          -0.6274963571844351,
          -0.20405423953078541,
          -1.4551299158129842,
          3.0083803245440226,
          -0.18200247569988784,
          -0.09655369744753517,
          0.5396269998034693,
          1.3526844847337924,
          0.5479447363690005,
          0.5003806017756498,
          0.38092478986333167,
          -0.6987050732978389,
          0.728950705242152,
          -0.07099017268241205,
          -0.17718643626418312,
          -1.2329612788960118,
          1.098371360403441,
          0.9228538361483437,
          -0.08551957529581292,
          -0.4380008002662748,
          0.19342006507323398,
          0.032302851769381594,
          1.0745637263936598,
          -0.34905775053086974,
          -0.38387650619720814,
          1.008613308424497,
          -1.1197072632192004,
          1.682262651833673,
          -0.6460412773663219,
          0.9117982447939869,
          0.06286202422433096,
          -0.6160075662848656,
          0.26695888931062,
          -0.15823583458025905,
          0.6707760460041554,
          1.782480813946048,
          -0.41806235648299156,
          0.9920882878881456,
          0.35393270682555716,
          -0.2821919585487452,
          -0.14034262729735977,
          -0.12211237075763812,
          -0.5409052719458001,
          -1.3106360584065184,
          -2.38683273001778,
          0.8329521217275093,
          0.1894540858494092,
          -0.5828241905753845,
          -1.4000380259065652,
          -1.5524571025879703,
          0.4128822340825146,
          -0.011762531518228102,
          -1.2652525410519582,
          1.455953610317138,
          0.9623467225545896,
          1.0607117432751054,
          -1.9516748560022805,
          -2.7387496811679237,
          0.028105306029023693,
          -0.6562471399526576,
          -0.236204261305822,
          1.1557779022072985,
          -0.727744455299941,
          0.4782040528002768,
          -0.6197213069086959,
          1.775528183886076,
          -1.4722901211034423,
          0.5089895879395171,
          1.1362057227381976,
          0.2163217689984764,
          1.0544547503433614
         ],
         "yaxis": "y8"
        },
        {
         "line": {
          "color": "rgba(128, 128, 128, 1.0)",
          "dash": "solid",
          "shape": "linear",
          "width": 1.3
         },
         "marker": {
          "size": 2,
          "symbol": "circle"
         },
         "mode": "markers",
         "name": "C",
         "text": "",
         "type": "scatter",
         "x": [
          0.9863925971035367,
          -0.551507821584642,
          1.2104910088148675,
          -0.3630595285051773,
          0.46873763546514047,
          0.26593957464707885,
          -0.5937216939189025,
          -1.364244266971046,
          -0.2540693709928275,
          -1.2830587933734412,
          1.281390741792193,
          -0.3343680481188946,
          -0.3825594509405097,
          0.021087443582469643,
          0.6471309447546121,
          -1.4147694856733755,
          1.339202836038361,
          0.3390041601557001,
          0.10485762693215445,
          0.5152538280419234,
          -0.9369459989184609,
          -2.175788440576683,
          -1.1362774454491336,
          1.3527148275259664,
          1.4702499643356384,
          1.4124870558300326,
          -0.9878582741905485,
          0.1127751813840683,
          -0.5126472661761328,
          0.4067609905375987,
          0.6071808563561845,
          -0.37915216043306865,
          -2.876721926137452,
          -0.33918228700985903,
          0.10504300019166042,
          -0.5774186612820098,
          -0.4388265947198578,
          -0.055176976254413895,
          -0.36616500182468037,
          -0.2929114866068684,
          0.7014228110844198,
          0.1306964615045626,
          0.6596028015175316,
          -1.1429942684320047,
          0.47568171728166164,
          1.2962465194153023,
          0.8460892263421502,
          0.42102746077643927,
          0.866184163058826,
          -0.08087723804487756,
          0.06907309802472945,
          -0.3200834042314787,
          0.7939731228226196,
          -0.26558550941047,
          -0.29524694386838995,
          0.27060817727113556,
          0.36561627515557454,
          -0.5599247565685864,
          0.7441531233347232,
          -0.6814710370963094,
          1.8221454972624809,
          0.4019139577863046,
          0.25839538612264057,
          -1.1980916669750947,
          0.34449618768897405,
          -1.021139797801242,
          0.6537320811984445,
          -0.7314199792059191,
          2.1826040042648733,
          -0.9563736641559415,
          -0.6783338604068041,
          -0.6702093617726054,
          0.33912561228172344,
          0.13988069172984913,
          1.1750087445530144,
          0.23062024779877058,
          0.019329480186717436,
          -0.6342151389972552,
          -0.714518709757769,
          -1.3770377775555394,
          0.7226762173743683,
          0.5347943858978389,
          -1.625074933335793,
          -1.103365996026399,
          -1.8484187247942057,
          -0.2933657169598747,
          -1.0379228872326074,
          -1.687486818385531,
          0.15763302190875925,
          -0.9917526514489864,
          -1.401998191292997,
          1.1685273716607132,
          -1.0924765499868767,
          1.1004984383673553,
          0.3024430062455109,
          -0.6451062450746639,
          0.4270100442054658,
          1.2814804808958185,
          0.4071866322407583,
          1.3737594623042046
         ],
         "xaxis": "x9",
         "y": [
          0.16586369391649003,
          -1.4796747778385209,
          1.353882782073457,
          0.6690403840694343,
          -0.6731449945372039,
          -0.4639434412690871,
          0.1398903478420584,
          -0.13616605538047377,
          0.6008855469250013,
          -0.7848926486896209,
          2.15448974818836,
          -1.1366303271967941,
          1.3457170525043274,
          -0.17286241460450932,
          -1.4202640203018966,
          1.1458920281969234,
          0.11741579107613459,
          -0.5523446755785217,
          -0.385670831515714,
          -0.7343121510552004,
          2.3058888471219787,
          -0.7082705812461266,
          0.9606258074845863,
          0.7620209809459613,
          1.227596624389157,
          -0.9155110248770371,
          -0.8778999106664441,
          -0.4069692113801471,
          0.8565509276228673,
          -0.31130826481789986,
          0.7259647114785005,
          -0.943249004760023,
          0.9557241135762701,
          -0.5109182780887803,
          0.26588855415850327,
          0.783729819177189,
          0.4265288393112757,
          -1.5107072300787645,
          -1.3354543451684608,
          -1.4377624388533194,
          1.9103934202625568,
          0.410358862929227,
          -2.4145148099145244,
          -0.8724711402738758,
          -0.35684353384457884,
          1.218752123974974,
          -0.4324084960153836,
          -0.5927012514360849,
          -0.26766167380186007,
          -0.11861077967913622,
          -1.247380732043506,
          -1.5472176119168095,
          1.3630331808086191,
          -0.4844994600332298,
          1.2593898933078833,
          -0.7826988086844159,
          -0.03468140174155823,
          -1.1591768122282675,
          0.5913001829779262,
          0.3235330540953591,
          0.5285887391369402,
          1.812636284002745,
          -0.049029982321186064,
          1.8749045267829207,
          -0.7549923802291525,
          -0.9556902480565279,
          -0.3256232716002783,
          1.1943814511903086,
          -0.3882965400705218,
          1.5074383920020515,
          2.7006353446390996,
          -0.8612312678732079,
          -0.6032001138009844,
          1.8725063480729862,
          0.19287376909810464,
          -0.5664278599519131,
          2.3616410309692624,
          1.2860262977429453,
          0.8219404204393114,
          -1.0306443825972005,
          -0.0024666046284393963,
          -0.5399799308358226,
          0.8112294386617203,
          -0.160056732285508,
          0.394771619078201,
          3.9326340854457666,
          1.2756886712677278,
          -1.9340487988166735,
          -2.406610600058228,
          0.30003171069719137,
          -0.44497554975654857,
          0.6661756157717057,
          0.6882925549413913,
          -0.4485516080963447,
          0.6830258037128837,
          -0.0031320649349308705,
          -0.4129255593693611,
          0.48142864938863755,
          0.8124623685513269,
          0.9649362875117578
         ],
         "yaxis": "y9"
        },
        {
         "line": {
          "color": "rgba(128, 128, 128, 1.0)",
          "dash": "solid",
          "shape": "linear",
          "width": 1.3
         },
         "marker": {
          "size": 2,
          "symbol": "circle"
         },
         "mode": "markers",
         "name": "C",
         "text": "",
         "type": "scatter",
         "x": [
          -1.491962523268668,
          -0.9863979319163781,
          -1.3706498912781242,
          -0.7283635054127434,
          -0.9556433947549499,
          -1.3776178280637075,
          -1.3282354767457958,
          0.4160855389008612,
          0.8245390833958657,
          -0.9386012985882881,
          -1.417146166990188,
          -0.2364962639674241,
          0.9555674388527511,
          0.32733012189391536,
          -0.844901615660728,
          0.5292929788219688,
          0.3696349580137423,
          -2.1581092479697417,
          1.1308247542325691,
          0.27079868876702035,
          -1.3700993932378516,
          1.822386519008439,
          1.2739493109373479,
          1.6860005870956005,
          1.0437955602263596,
          0.052187775820577716,
          -0.5129959686672352,
          -0.23642446542680795,
          2.0259746549928086,
          -0.6274963571844351,
          -0.20405423953078541,
          -1.4551299158129842,
          3.0083803245440226,
          -0.18200247569988784,
          -0.09655369744753517,
          0.5396269998034693,
          1.3526844847337924,
          0.5479447363690005,
          0.5003806017756498,
          0.38092478986333167,
          -0.6987050732978389,
          0.728950705242152,
          -0.07099017268241205,
          -0.17718643626418312,
          -1.2329612788960118,
          1.098371360403441,
          0.9228538361483437,
          -0.08551957529581292,
          -0.4380008002662748,
          0.19342006507323398,
          0.032302851769381594,
          1.0745637263936598,
          -0.34905775053086974,
          -0.38387650619720814,
          1.008613308424497,
          -1.1197072632192004,
          1.682262651833673,
          -0.6460412773663219,
          0.9117982447939869,
          0.06286202422433096,
          -0.6160075662848656,
          0.26695888931062,
          -0.15823583458025905,
          0.6707760460041554,
          1.782480813946048,
          -0.41806235648299156,
          0.9920882878881456,
          0.35393270682555716,
          -0.2821919585487452,
          -0.14034262729735977,
          -0.12211237075763812,
          -0.5409052719458001,
          -1.3106360584065184,
          -2.38683273001778,
          0.8329521217275093,
          0.1894540858494092,
          -0.5828241905753845,
          -1.4000380259065652,
          -1.5524571025879703,
          0.4128822340825146,
          -0.011762531518228102,
          -1.2652525410519582,
          1.455953610317138,
          0.9623467225545896,
          1.0607117432751054,
          -1.9516748560022805,
          -2.7387496811679237,
          0.028105306029023693,
          -0.6562471399526576,
          -0.236204261305822,
          1.1557779022072985,
          -0.727744455299941,
          0.4782040528002768,
          -0.6197213069086959,
          1.775528183886076,
          -1.4722901211034423,
          0.5089895879395171,
          1.1362057227381976,
          0.2163217689984764,
          1.0544547503433614
         ],
         "xaxis": "x10",
         "y": [
          0.16586369391649003,
          -1.4796747778385209,
          1.353882782073457,
          0.6690403840694343,
          -0.6731449945372039,
          -0.4639434412690871,
          0.1398903478420584,
          -0.13616605538047377,
          0.6008855469250013,
          -0.7848926486896209,
          2.15448974818836,
          -1.1366303271967941,
          1.3457170525043274,
          -0.17286241460450932,
          -1.4202640203018966,
          1.1458920281969234,
          0.11741579107613459,
          -0.5523446755785217,
          -0.385670831515714,
          -0.7343121510552004,
          2.3058888471219787,
          -0.7082705812461266,
          0.9606258074845863,
          0.7620209809459613,
          1.227596624389157,
          -0.9155110248770371,
          -0.8778999106664441,
          -0.4069692113801471,
          0.8565509276228673,
          -0.31130826481789986,
          0.7259647114785005,
          -0.943249004760023,
          0.9557241135762701,
          -0.5109182780887803,
          0.26588855415850327,
          0.783729819177189,
          0.4265288393112757,
          -1.5107072300787645,
          -1.3354543451684608,
          -1.4377624388533194,
          1.9103934202625568,
          0.410358862929227,
          -2.4145148099145244,
          -0.8724711402738758,
          -0.35684353384457884,
          1.218752123974974,
          -0.4324084960153836,
          -0.5927012514360849,
          -0.26766167380186007,
          -0.11861077967913622,
          -1.247380732043506,
          -1.5472176119168095,
          1.3630331808086191,
          -0.4844994600332298,
          1.2593898933078833,
          -0.7826988086844159,
          -0.03468140174155823,
          -1.1591768122282675,
          0.5913001829779262,
          0.3235330540953591,
          0.5285887391369402,
          1.812636284002745,
          -0.049029982321186064,
          1.8749045267829207,
          -0.7549923802291525,
          -0.9556902480565279,
          -0.3256232716002783,
          1.1943814511903086,
          -0.3882965400705218,
          1.5074383920020515,
          2.7006353446390996,
          -0.8612312678732079,
          -0.6032001138009844,
          1.8725063480729862,
          0.19287376909810464,
          -0.5664278599519131,
          2.3616410309692624,
          1.2860262977429453,
          0.8219404204393114,
          -1.0306443825972005,
          -0.0024666046284393963,
          -0.5399799308358226,
          0.8112294386617203,
          -0.160056732285508,
          0.394771619078201,
          3.9326340854457666,
          1.2756886712677278,
          -1.9340487988166735,
          -2.406610600058228,
          0.30003171069719137,
          -0.44497554975654857,
          0.6661756157717057,
          0.6882925549413913,
          -0.4485516080963447,
          0.6830258037128837,
          -0.0031320649349308705,
          -0.4129255593693611,
          0.48142864938863755,
          0.8124623685513269,
          0.9649362875117578
         ],
         "yaxis": "y10"
        },
        {
         "histfunc": "count",
         "histnorm": "",
         "marker": {
          "color": "rgba(50, 171, 96, 1.0)",
          "line": {
           "color": "#4D5663",
           "width": 1.3
          }
         },
         "name": "C",
         "nbinsx": 10,
         "opacity": 0.8,
         "orientation": "v",
         "type": "histogram",
         "x": [
          0.16586369391649003,
          -1.4796747778385209,
          1.353882782073457,
          0.6690403840694343,
          -0.6731449945372039,
          -0.4639434412690871,
          0.1398903478420584,
          -0.13616605538047377,
          0.6008855469250013,
          -0.7848926486896209,
          2.15448974818836,
          -1.1366303271967941,
          1.3457170525043274,
          -0.17286241460450932,
          -1.4202640203018966,
          1.1458920281969234,
          0.11741579107613459,
          -0.5523446755785217,
          -0.385670831515714,
          -0.7343121510552004,
          2.3058888471219787,
          -0.7082705812461266,
          0.9606258074845863,
          0.7620209809459613,
          1.227596624389157,
          -0.9155110248770371,
          -0.8778999106664441,
          -0.4069692113801471,
          0.8565509276228673,
          -0.31130826481789986,
          0.7259647114785005,
          -0.943249004760023,
          0.9557241135762701,
          -0.5109182780887803,
          0.26588855415850327,
          0.783729819177189,
          0.4265288393112757,
          -1.5107072300787645,
          -1.3354543451684608,
          -1.4377624388533194,
          1.9103934202625568,
          0.410358862929227,
          -2.4145148099145244,
          -0.8724711402738758,
          -0.35684353384457884,
          1.218752123974974,
          -0.4324084960153836,
          -0.5927012514360849,
          -0.26766167380186007,
          -0.11861077967913622,
          -1.247380732043506,
          -1.5472176119168095,
          1.3630331808086191,
          -0.4844994600332298,
          1.2593898933078833,
          -0.7826988086844159,
          -0.03468140174155823,
          -1.1591768122282675,
          0.5913001829779262,
          0.3235330540953591,
          0.5285887391369402,
          1.812636284002745,
          -0.049029982321186064,
          1.8749045267829207,
          -0.7549923802291525,
          -0.9556902480565279,
          -0.3256232716002783,
          1.1943814511903086,
          -0.3882965400705218,
          1.5074383920020515,
          2.7006353446390996,
          -0.8612312678732079,
          -0.6032001138009844,
          1.8725063480729862,
          0.19287376909810464,
          -0.5664278599519131,
          2.3616410309692624,
          1.2860262977429453,
          0.8219404204393114,
          -1.0306443825972005,
          -0.0024666046284393963,
          -0.5399799308358226,
          0.8112294386617203,
          -0.160056732285508,
          0.394771619078201,
          3.9326340854457666,
          1.2756886712677278,
          -1.9340487988166735,
          -2.406610600058228,
          0.30003171069719137,
          -0.44497554975654857,
          0.6661756157717057,
          0.6882925549413913,
          -0.4485516080963447,
          0.6830258037128837,
          -0.0031320649349308705,
          -0.4129255593693611,
          0.48142864938863755,
          0.8124623685513269,
          0.9649362875117578
         ],
         "xaxis": "x11",
         "yaxis": "y11"
        },
        {
         "line": {
          "color": "rgba(128, 128, 128, 1.0)",
          "dash": "solid",
          "shape": "linear",
          "width": 1.3
         },
         "marker": {
          "size": 2,
          "symbol": "circle"
         },
         "mode": "markers",
         "name": "C",
         "text": "",
         "type": "scatter",
         "x": [
          -0.35436219083694637,
          -1.013502751723658,
          -0.7292327921577556,
          -0.09309262719026408,
          -0.41110593494748554,
          0.16604532245315753,
          1.3683655712813747,
          -1.9152725078309527,
          -0.05174789358429129,
          0.7978993837338012,
          -0.6443201424120104,
          -1.0890863271658004,
          0.26427310894034084,
          -0.5159754781043415,
          0.30786041376620854,
          1.2580435868082198,
          -0.6966927232858101,
          -0.1816704223642784,
          -0.7907444980741134,
          -0.1361072560161668,
          0.8023623771509054,
          -0.2379939293736548,
          -0.5754603382638555,
          1.0240444959561954,
          -0.4197568954883138,
          -0.15686405274195983,
          -1.2660068301862717,
          -0.09273245967387625,
          0.4568936780540992,
          -0.0884321878162847,
          0.010460874864243644,
          1.2053006143375258,
          1.6339618104383413,
          0.35978236157848964,
          2.0011516356730668,
          1.6754156470124884,
          -0.4670887358142812,
          -0.7017165007032741,
          -2.2547796392880373,
          1.6822190923119495,
          -1.6277178566711121,
          0.40933097272574753,
          -0.9243939243758164,
          -0.6624527300289607,
          -1.1715105124687846,
          0.01638491102218486,
          -0.7798877838013948,
          0.28180342801408714,
          -0.05964861793842602,
          1.8923923101530173,
          1.3188096301772692,
          0.5138137093164855,
          0.02838961888974531,
          -1.4359842845062605,
          1.2290916503858846,
          -0.13273213257976044,
          0.3000577762986384,
          -1.3208068617245192,
          1.0305256250013348,
          0.7426248780172283,
          -0.7076716949888867,
          -1.6057738932860781,
          -2.213910587692275,
          -1.972353554772055,
          -1.7297879441601323,
          -0.006405186034625153,
          -0.4719625253825586,
          -0.10345908019707348,
          0.044235648530631784,
          -0.13472042008963067,
          -1.830431490663404,
          -0.9483993040118233,
          -0.4534379484068572,
          -0.7958733138734924,
          1.8808608130207245,
          -0.23234708424105013,
          -0.34671527906493904,
          -2.0596731181007795,
          0.6460380085217425,
          -0.9133269759341058,
          -1.0774321294457374,
          0.4392178119616056,
          -0.21981055867337426,
          -0.5462871825156912,
          -0.7319311560493941,
          -0.8676452114985064,
          -1.1966070728425546,
          0.967844201788307,
          0.3724414286449778,
          0.9856881106901605,
          0.9054258178782889,
          -0.07212885469978308,
          -0.6420501704057415,
          -0.837754823198033,
          -0.7315121223136304,
          -0.6999732681944199,
          0.005325252401586591,
          1.004014137896582,
          0.6065922115413797,
          0.6331805787419147
         ],
         "xaxis": "x12",
         "y": [
          0.16586369391649003,
          -1.4796747778385209,
          1.353882782073457,
          0.6690403840694343,
          -0.6731449945372039,
          -0.4639434412690871,
          0.1398903478420584,
          -0.13616605538047377,
          0.6008855469250013,
          -0.7848926486896209,
          2.15448974818836,
          -1.1366303271967941,
          1.3457170525043274,
          -0.17286241460450932,
          -1.4202640203018966,
          1.1458920281969234,
          0.11741579107613459,
          -0.5523446755785217,
          -0.385670831515714,
          -0.7343121510552004,
          2.3058888471219787,
          -0.7082705812461266,
          0.9606258074845863,
          0.7620209809459613,
          1.227596624389157,
          -0.9155110248770371,
          -0.8778999106664441,
          -0.4069692113801471,
          0.8565509276228673,
          -0.31130826481789986,
          0.7259647114785005,
          -0.943249004760023,
          0.9557241135762701,
          -0.5109182780887803,
          0.26588855415850327,
          0.783729819177189,
          0.4265288393112757,
          -1.5107072300787645,
          -1.3354543451684608,
          -1.4377624388533194,
          1.9103934202625568,
          0.410358862929227,
          -2.4145148099145244,
          -0.8724711402738758,
          -0.35684353384457884,
          1.218752123974974,
          -0.4324084960153836,
          -0.5927012514360849,
          -0.26766167380186007,
          -0.11861077967913622,
          -1.247380732043506,
          -1.5472176119168095,
          1.3630331808086191,
          -0.4844994600332298,
          1.2593898933078833,
          -0.7826988086844159,
          -0.03468140174155823,
          -1.1591768122282675,
          0.5913001829779262,
          0.3235330540953591,
          0.5285887391369402,
          1.812636284002745,
          -0.049029982321186064,
          1.8749045267829207,
          -0.7549923802291525,
          -0.9556902480565279,
          -0.3256232716002783,
          1.1943814511903086,
          -0.3882965400705218,
          1.5074383920020515,
          2.7006353446390996,
          -0.8612312678732079,
          -0.6032001138009844,
          1.8725063480729862,
          0.19287376909810464,
          -0.5664278599519131,
          2.3616410309692624,
          1.2860262977429453,
          0.8219404204393114,
          -1.0306443825972005,
          -0.0024666046284393963,
          -0.5399799308358226,
          0.8112294386617203,
          -0.160056732285508,
          0.394771619078201,
          3.9326340854457666,
          1.2756886712677278,
          -1.9340487988166735,
          -2.406610600058228,
          0.30003171069719137,
          -0.44497554975654857,
          0.6661756157717057,
          0.6882925549413913,
          -0.4485516080963447,
          0.6830258037128837,
          -0.0031320649349308705,
          -0.4129255593693611,
          0.48142864938863755,
          0.8124623685513269,
          0.9649362875117578
         ],
         "yaxis": "y12"
        },
        {
         "line": {
          "color": "rgba(128, 128, 128, 1.0)",
          "dash": "solid",
          "shape": "linear",
          "width": 1.3
         },
         "marker": {
          "size": 2,
          "symbol": "circle"
         },
         "mode": "markers",
         "name": "D",
         "text": "",
         "type": "scatter",
         "x": [
          0.9863925971035367,
          -0.551507821584642,
          1.2104910088148675,
          -0.3630595285051773,
          0.46873763546514047,
          0.26593957464707885,
          -0.5937216939189025,
          -1.364244266971046,
          -0.2540693709928275,
          -1.2830587933734412,
          1.281390741792193,
          -0.3343680481188946,
          -0.3825594509405097,
          0.021087443582469643,
          0.6471309447546121,
          -1.4147694856733755,
          1.339202836038361,
          0.3390041601557001,
          0.10485762693215445,
          0.5152538280419234,
          -0.9369459989184609,
          -2.175788440576683,
          -1.1362774454491336,
          1.3527148275259664,
          1.4702499643356384,
          1.4124870558300326,
          -0.9878582741905485,
          0.1127751813840683,
          -0.5126472661761328,
          0.4067609905375987,
          0.6071808563561845,
          -0.37915216043306865,
          -2.876721926137452,
          -0.33918228700985903,
          0.10504300019166042,
          -0.5774186612820098,
          -0.4388265947198578,
          -0.055176976254413895,
          -0.36616500182468037,
          -0.2929114866068684,
          0.7014228110844198,
          0.1306964615045626,
          0.6596028015175316,
          -1.1429942684320047,
          0.47568171728166164,
          1.2962465194153023,
          0.8460892263421502,
          0.42102746077643927,
          0.866184163058826,
          -0.08087723804487756,
          0.06907309802472945,
          -0.3200834042314787,
          0.7939731228226196,
          -0.26558550941047,
          -0.29524694386838995,
          0.27060817727113556,
          0.36561627515557454,
          -0.5599247565685864,
          0.7441531233347232,
          -0.6814710370963094,
          1.8221454972624809,
          0.4019139577863046,
          0.25839538612264057,
          -1.1980916669750947,
          0.34449618768897405,
          -1.021139797801242,
          0.6537320811984445,
          -0.7314199792059191,
          2.1826040042648733,
          -0.9563736641559415,
          -0.6783338604068041,
          -0.6702093617726054,
          0.33912561228172344,
          0.13988069172984913,
          1.1750087445530144,
          0.23062024779877058,
          0.019329480186717436,
          -0.6342151389972552,
          -0.714518709757769,
          -1.3770377775555394,
          0.7226762173743683,
          0.5347943858978389,
          -1.625074933335793,
          -1.103365996026399,
          -1.8484187247942057,
          -0.2933657169598747,
          -1.0379228872326074,
          -1.687486818385531,
          0.15763302190875925,
          -0.9917526514489864,
          -1.401998191292997,
          1.1685273716607132,
          -1.0924765499868767,
          1.1004984383673553,
          0.3024430062455109,
          -0.6451062450746639,
          0.4270100442054658,
          1.2814804808958185,
          0.4071866322407583,
          1.3737594623042046
         ],
         "xaxis": "x13",
         "y": [
          -0.35436219083694637,
          -1.013502751723658,
          -0.7292327921577556,
          -0.09309262719026408,
          -0.41110593494748554,
          0.16604532245315753,
          1.3683655712813747,
          -1.9152725078309527,
          -0.05174789358429129,
          0.7978993837338012,
          -0.6443201424120104,
          -1.0890863271658004,
          0.26427310894034084,
          -0.5159754781043415,
          0.30786041376620854,
          1.2580435868082198,
          -0.6966927232858101,
          -0.1816704223642784,
          -0.7907444980741134,
          -0.1361072560161668,
          0.8023623771509054,
          -0.2379939293736548,
          -0.5754603382638555,
          1.0240444959561954,
          -0.4197568954883138,
          -0.15686405274195983,
          -1.2660068301862717,
          -0.09273245967387625,
          0.4568936780540992,
          -0.0884321878162847,
          0.010460874864243644,
          1.2053006143375258,
          1.6339618104383413,
          0.35978236157848964,
          2.0011516356730668,
          1.6754156470124884,
          -0.4670887358142812,
          -0.7017165007032741,
          -2.2547796392880373,
          1.6822190923119495,
          -1.6277178566711121,
          0.40933097272574753,
          -0.9243939243758164,
          -0.6624527300289607,
          -1.1715105124687846,
          0.01638491102218486,
          -0.7798877838013948,
          0.28180342801408714,
          -0.05964861793842602,
          1.8923923101530173,
          1.3188096301772692,
          0.5138137093164855,
          0.02838961888974531,
          -1.4359842845062605,
          1.2290916503858846,
          -0.13273213257976044,
          0.3000577762986384,
          -1.3208068617245192,
          1.0305256250013348,
          0.7426248780172283,
          -0.7076716949888867,
          -1.6057738932860781,
          -2.213910587692275,
          -1.972353554772055,
          -1.7297879441601323,
          -0.006405186034625153,
          -0.4719625253825586,
          -0.10345908019707348,
          0.044235648530631784,
          -0.13472042008963067,
          -1.830431490663404,
          -0.9483993040118233,
          -0.4534379484068572,
          -0.7958733138734924,
          1.8808608130207245,
          -0.23234708424105013,
          -0.34671527906493904,
          -2.0596731181007795,
          0.6460380085217425,
          -0.9133269759341058,
          -1.0774321294457374,
          0.4392178119616056,
          -0.21981055867337426,
          -0.5462871825156912,
          -0.7319311560493941,
          -0.8676452114985064,
          -1.1966070728425546,
          0.967844201788307,
          0.3724414286449778,
          0.9856881106901605,
          0.9054258178782889,
          -0.07212885469978308,
          -0.6420501704057415,
          -0.837754823198033,
          -0.7315121223136304,
          -0.6999732681944199,
          0.005325252401586591,
          1.004014137896582,
          0.6065922115413797,
          0.6331805787419147
         ],
         "yaxis": "y13"
        },
        {
         "line": {
          "color": "rgba(128, 128, 128, 1.0)",
          "dash": "solid",
          "shape": "linear",
          "width": 1.3
         },
         "marker": {
          "size": 2,
          "symbol": "circle"
         },
         "mode": "markers",
         "name": "D",
         "text": "",
         "type": "scatter",
         "x": [
          -1.491962523268668,
          -0.9863979319163781,
          -1.3706498912781242,
          -0.7283635054127434,
          -0.9556433947549499,
          -1.3776178280637075,
          -1.3282354767457958,
          0.4160855389008612,
          0.8245390833958657,
          -0.9386012985882881,
          -1.417146166990188,
          -0.2364962639674241,
          0.9555674388527511,
          0.32733012189391536,
          -0.844901615660728,
          0.5292929788219688,
          0.3696349580137423,
          -2.1581092479697417,
          1.1308247542325691,
          0.27079868876702035,
          -1.3700993932378516,
          1.822386519008439,
          1.2739493109373479,
          1.6860005870956005,
          1.0437955602263596,
          0.052187775820577716,
          -0.5129959686672352,
          -0.23642446542680795,
          2.0259746549928086,
          -0.6274963571844351,
          -0.20405423953078541,
          -1.4551299158129842,
          3.0083803245440226,
          -0.18200247569988784,
          -0.09655369744753517,
          0.5396269998034693,
          1.3526844847337924,
          0.5479447363690005,
          0.5003806017756498,
          0.38092478986333167,
          -0.6987050732978389,
          0.728950705242152,
          -0.07099017268241205,
          -0.17718643626418312,
          -1.2329612788960118,
          1.098371360403441,
          0.9228538361483437,
          -0.08551957529581292,
          -0.4380008002662748,
          0.19342006507323398,
          0.032302851769381594,
          1.0745637263936598,
          -0.34905775053086974,
          -0.38387650619720814,
          1.008613308424497,
          -1.1197072632192004,
          1.682262651833673,
          -0.6460412773663219,
          0.9117982447939869,
          0.06286202422433096,
          -0.6160075662848656,
          0.26695888931062,
          -0.15823583458025905,
          0.6707760460041554,
          1.782480813946048,
          -0.41806235648299156,
          0.9920882878881456,
          0.35393270682555716,
          -0.2821919585487452,
          -0.14034262729735977,
          -0.12211237075763812,
          -0.5409052719458001,
          -1.3106360584065184,
          -2.38683273001778,
          0.8329521217275093,
          0.1894540858494092,
          -0.5828241905753845,
          -1.4000380259065652,
          -1.5524571025879703,
          0.4128822340825146,
          -0.011762531518228102,
          -1.2652525410519582,
          1.455953610317138,
          0.9623467225545896,
          1.0607117432751054,
          -1.9516748560022805,
          -2.7387496811679237,
          0.028105306029023693,
          -0.6562471399526576,
          -0.236204261305822,
          1.1557779022072985,
          -0.727744455299941,
          0.4782040528002768,
          -0.6197213069086959,
          1.775528183886076,
          -1.4722901211034423,
          0.5089895879395171,
          1.1362057227381976,
          0.2163217689984764,
          1.0544547503433614
         ],
         "xaxis": "x14",
         "y": [
          -0.35436219083694637,
          -1.013502751723658,
          -0.7292327921577556,
          -0.09309262719026408,
          -0.41110593494748554,
          0.16604532245315753,
          1.3683655712813747,
          -1.9152725078309527,
          -0.05174789358429129,
          0.7978993837338012,
          -0.6443201424120104,
          -1.0890863271658004,
          0.26427310894034084,
          -0.5159754781043415,
          0.30786041376620854,
          1.2580435868082198,
          -0.6966927232858101,
          -0.1816704223642784,
          -0.7907444980741134,
          -0.1361072560161668,
          0.8023623771509054,
          -0.2379939293736548,
          -0.5754603382638555,
          1.0240444959561954,
          -0.4197568954883138,
          -0.15686405274195983,
          -1.2660068301862717,
          -0.09273245967387625,
          0.4568936780540992,
          -0.0884321878162847,
          0.010460874864243644,
          1.2053006143375258,
          1.6339618104383413,
          0.35978236157848964,
          2.0011516356730668,
          1.6754156470124884,
          -0.4670887358142812,
          -0.7017165007032741,
          -2.2547796392880373,
          1.6822190923119495,
          -1.6277178566711121,
          0.40933097272574753,
          -0.9243939243758164,
          -0.6624527300289607,
          -1.1715105124687846,
          0.01638491102218486,
          -0.7798877838013948,
          0.28180342801408714,
          -0.05964861793842602,
          1.8923923101530173,
          1.3188096301772692,
          0.5138137093164855,
          0.02838961888974531,
          -1.4359842845062605,
          1.2290916503858846,
          -0.13273213257976044,
          0.3000577762986384,
          -1.3208068617245192,
          1.0305256250013348,
          0.7426248780172283,
          -0.7076716949888867,
          -1.6057738932860781,
          -2.213910587692275,
          -1.972353554772055,
          -1.7297879441601323,
          -0.006405186034625153,
          -0.4719625253825586,
          -0.10345908019707348,
          0.044235648530631784,
          -0.13472042008963067,
          -1.830431490663404,
          -0.9483993040118233,
          -0.4534379484068572,
          -0.7958733138734924,
          1.8808608130207245,
          -0.23234708424105013,
          -0.34671527906493904,
          -2.0596731181007795,
          0.6460380085217425,
          -0.9133269759341058,
          -1.0774321294457374,
          0.4392178119616056,
          -0.21981055867337426,
          -0.5462871825156912,
          -0.7319311560493941,
          -0.8676452114985064,
          -1.1966070728425546,
          0.967844201788307,
          0.3724414286449778,
          0.9856881106901605,
          0.9054258178782889,
          -0.07212885469978308,
          -0.6420501704057415,
          -0.837754823198033,
          -0.7315121223136304,
          -0.6999732681944199,
          0.005325252401586591,
          1.004014137896582,
          0.6065922115413797,
          0.6331805787419147
         ],
         "yaxis": "y14"
        },
        {
         "line": {
          "color": "rgba(128, 128, 128, 1.0)",
          "dash": "solid",
          "shape": "linear",
          "width": 1.3
         },
         "marker": {
          "size": 2,
          "symbol": "circle"
         },
         "mode": "markers",
         "name": "D",
         "text": "",
         "type": "scatter",
         "x": [
          0.16586369391649003,
          -1.4796747778385209,
          1.353882782073457,
          0.6690403840694343,
          -0.6731449945372039,
          -0.4639434412690871,
          0.1398903478420584,
          -0.13616605538047377,
          0.6008855469250013,
          -0.7848926486896209,
          2.15448974818836,
          -1.1366303271967941,
          1.3457170525043274,
          -0.17286241460450932,
          -1.4202640203018966,
          1.1458920281969234,
          0.11741579107613459,
          -0.5523446755785217,
          -0.385670831515714,
          -0.7343121510552004,
          2.3058888471219787,
          -0.7082705812461266,
          0.9606258074845863,
          0.7620209809459613,
          1.227596624389157,
          -0.9155110248770371,
          -0.8778999106664441,
          -0.4069692113801471,
          0.8565509276228673,
          -0.31130826481789986,
          0.7259647114785005,
          -0.943249004760023,
          0.9557241135762701,
          -0.5109182780887803,
          0.26588855415850327,
          0.783729819177189,
          0.4265288393112757,
          -1.5107072300787645,
          -1.3354543451684608,
          -1.4377624388533194,
          1.9103934202625568,
          0.410358862929227,
          -2.4145148099145244,
          -0.8724711402738758,
          -0.35684353384457884,
          1.218752123974974,
          -0.4324084960153836,
          -0.5927012514360849,
          -0.26766167380186007,
          -0.11861077967913622,
          -1.247380732043506,
          -1.5472176119168095,
          1.3630331808086191,
          -0.4844994600332298,
          1.2593898933078833,
          -0.7826988086844159,
          -0.03468140174155823,
          -1.1591768122282675,
          0.5913001829779262,
          0.3235330540953591,
          0.5285887391369402,
          1.812636284002745,
          -0.049029982321186064,
          1.8749045267829207,
          -0.7549923802291525,
          -0.9556902480565279,
          -0.3256232716002783,
          1.1943814511903086,
          -0.3882965400705218,
          1.5074383920020515,
          2.7006353446390996,
          -0.8612312678732079,
          -0.6032001138009844,
          1.8725063480729862,
          0.19287376909810464,
          -0.5664278599519131,
          2.3616410309692624,
          1.2860262977429453,
          0.8219404204393114,
          -1.0306443825972005,
          -0.0024666046284393963,
          -0.5399799308358226,
          0.8112294386617203,
          -0.160056732285508,
          0.394771619078201,
          3.9326340854457666,
          1.2756886712677278,
          -1.9340487988166735,
          -2.406610600058228,
          0.30003171069719137,
          -0.44497554975654857,
          0.6661756157717057,
          0.6882925549413913,
          -0.4485516080963447,
          0.6830258037128837,
          -0.0031320649349308705,
          -0.4129255593693611,
          0.48142864938863755,
          0.8124623685513269,
          0.9649362875117578
         ],
         "xaxis": "x15",
         "y": [
          -0.35436219083694637,
          -1.013502751723658,
          -0.7292327921577556,
          -0.09309262719026408,
          -0.41110593494748554,
          0.16604532245315753,
          1.3683655712813747,
          -1.9152725078309527,
          -0.05174789358429129,
          0.7978993837338012,
          -0.6443201424120104,
          -1.0890863271658004,
          0.26427310894034084,
          -0.5159754781043415,
          0.30786041376620854,
          1.2580435868082198,
          -0.6966927232858101,
          -0.1816704223642784,
          -0.7907444980741134,
          -0.1361072560161668,
          0.8023623771509054,
          -0.2379939293736548,
          -0.5754603382638555,
          1.0240444959561954,
          -0.4197568954883138,
          -0.15686405274195983,
          -1.2660068301862717,
          -0.09273245967387625,
          0.4568936780540992,
          -0.0884321878162847,
          0.010460874864243644,
          1.2053006143375258,
          1.6339618104383413,
          0.35978236157848964,
          2.0011516356730668,
          1.6754156470124884,
          -0.4670887358142812,
          -0.7017165007032741,
          -2.2547796392880373,
          1.6822190923119495,
          -1.6277178566711121,
          0.40933097272574753,
          -0.9243939243758164,
          -0.6624527300289607,
          -1.1715105124687846,
          0.01638491102218486,
          -0.7798877838013948,
          0.28180342801408714,
          -0.05964861793842602,
          1.8923923101530173,
          1.3188096301772692,
          0.5138137093164855,
          0.02838961888974531,
          -1.4359842845062605,
          1.2290916503858846,
          -0.13273213257976044,
          0.3000577762986384,
          -1.3208068617245192,
          1.0305256250013348,
          0.7426248780172283,
          -0.7076716949888867,
          -1.6057738932860781,
          -2.213910587692275,
          -1.972353554772055,
          -1.7297879441601323,
          -0.006405186034625153,
          -0.4719625253825586,
          -0.10345908019707348,
          0.044235648530631784,
          -0.13472042008963067,
          -1.830431490663404,
          -0.9483993040118233,
          -0.4534379484068572,
          -0.7958733138734924,
          1.8808608130207245,
          -0.23234708424105013,
          -0.34671527906493904,
          -2.0596731181007795,
          0.6460380085217425,
          -0.9133269759341058,
          -1.0774321294457374,
          0.4392178119616056,
          -0.21981055867337426,
          -0.5462871825156912,
          -0.7319311560493941,
          -0.8676452114985064,
          -1.1966070728425546,
          0.967844201788307,
          0.3724414286449778,
          0.9856881106901605,
          0.9054258178782889,
          -0.07212885469978308,
          -0.6420501704057415,
          -0.837754823198033,
          -0.7315121223136304,
          -0.6999732681944199,
          0.005325252401586591,
          1.004014137896582,
          0.6065922115413797,
          0.6331805787419147
         ],
         "yaxis": "y15"
        },
        {
         "histfunc": "count",
         "histnorm": "",
         "marker": {
          "color": "rgba(128, 0, 128, 1.0)",
          "line": {
           "color": "#4D5663",
           "width": 1.3
          }
         },
         "name": "D",
         "nbinsx": 10,
         "opacity": 0.8,
         "orientation": "v",
         "type": "histogram",
         "x": [
          -0.35436219083694637,
          -1.013502751723658,
          -0.7292327921577556,
          -0.09309262719026408,
          -0.41110593494748554,
          0.16604532245315753,
          1.3683655712813747,
          -1.9152725078309527,
          -0.05174789358429129,
          0.7978993837338012,
          -0.6443201424120104,
          -1.0890863271658004,
          0.26427310894034084,
          -0.5159754781043415,
          0.30786041376620854,
          1.2580435868082198,
          -0.6966927232858101,
          -0.1816704223642784,
          -0.7907444980741134,
          -0.1361072560161668,
          0.8023623771509054,
          -0.2379939293736548,
          -0.5754603382638555,
          1.0240444959561954,
          -0.4197568954883138,
          -0.15686405274195983,
          -1.2660068301862717,
          -0.09273245967387625,
          0.4568936780540992,
          -0.0884321878162847,
          0.010460874864243644,
          1.2053006143375258,
          1.6339618104383413,
          0.35978236157848964,
          2.0011516356730668,
          1.6754156470124884,
          -0.4670887358142812,
          -0.7017165007032741,
          -2.2547796392880373,
          1.6822190923119495,
          -1.6277178566711121,
          0.40933097272574753,
          -0.9243939243758164,
          -0.6624527300289607,
          -1.1715105124687846,
          0.01638491102218486,
          -0.7798877838013948,
          0.28180342801408714,
          -0.05964861793842602,
          1.8923923101530173,
          1.3188096301772692,
          0.5138137093164855,
          0.02838961888974531,
          -1.4359842845062605,
          1.2290916503858846,
          -0.13273213257976044,
          0.3000577762986384,
          -1.3208068617245192,
          1.0305256250013348,
          0.7426248780172283,
          -0.7076716949888867,
          -1.6057738932860781,
          -2.213910587692275,
          -1.972353554772055,
          -1.7297879441601323,
          -0.006405186034625153,
          -0.4719625253825586,
          -0.10345908019707348,
          0.044235648530631784,
          -0.13472042008963067,
          -1.830431490663404,
          -0.9483993040118233,
          -0.4534379484068572,
          -0.7958733138734924,
          1.8808608130207245,
          -0.23234708424105013,
          -0.34671527906493904,
          -2.0596731181007795,
          0.6460380085217425,
          -0.9133269759341058,
          -1.0774321294457374,
          0.4392178119616056,
          -0.21981055867337426,
          -0.5462871825156912,
          -0.7319311560493941,
          -0.8676452114985064,
          -1.1966070728425546,
          0.967844201788307,
          0.3724414286449778,
          0.9856881106901605,
          0.9054258178782889,
          -0.07212885469978308,
          -0.6420501704057415,
          -0.837754823198033,
          -0.7315121223136304,
          -0.6999732681944199,
          0.005325252401586591,
          1.004014137896582,
          0.6065922115413797,
          0.6331805787419147
         ],
         "xaxis": "x16",
         "yaxis": "y16"
        }
       ],
       "layout": {
        "bargap": 0.02,
        "legend": {
         "bgcolor": "#F5F6F9",
         "font": {
          "color": "#4D5663"
         }
        },
        "paper_bgcolor": "#F5F6F9",
        "plot_bgcolor": "#F5F6F9",
        "showlegend": false,
        "template": {
         "data": {
          "bar": [
           {
            "error_x": {
             "color": "#2a3f5f"
            },
            "error_y": {
             "color": "#2a3f5f"
            },
            "marker": {
             "line": {
              "color": "#E5ECF6",
              "width": 0.5
             }
            },
            "type": "bar"
           }
          ],
          "barpolar": [
           {
            "marker": {
             "line": {
              "color": "#E5ECF6",
              "width": 0.5
             }
            },
            "type": "barpolar"
           }
          ],
          "carpet": [
           {
            "aaxis": {
             "endlinecolor": "#2a3f5f",
             "gridcolor": "white",
             "linecolor": "white",
             "minorgridcolor": "white",
             "startlinecolor": "#2a3f5f"
            },
            "baxis": {
             "endlinecolor": "#2a3f5f",
             "gridcolor": "white",
             "linecolor": "white",
             "minorgridcolor": "white",
             "startlinecolor": "#2a3f5f"
            },
            "type": "carpet"
           }
          ],
          "choropleth": [
           {
            "colorbar": {
             "outlinewidth": 0,
             "ticks": ""
            },
            "type": "choropleth"
           }
          ],
          "contour": [
           {
            "colorbar": {
             "outlinewidth": 0,
             "ticks": ""
            },
            "colorscale": [
             [
              0,
              "#0d0887"
             ],
             [
              0.1111111111111111,
              "#46039f"
             ],
             [
              0.2222222222222222,
              "#7201a8"
             ],
             [
              0.3333333333333333,
              "#9c179e"
             ],
             [
              0.4444444444444444,
              "#bd3786"
             ],
             [
              0.5555555555555556,
              "#d8576b"
             ],
             [
              0.6666666666666666,
              "#ed7953"
             ],
             [
              0.7777777777777778,
              "#fb9f3a"
             ],
             [
              0.8888888888888888,
              "#fdca26"
             ],
             [
              1,
              "#f0f921"
             ]
            ],
            "type": "contour"
           }
          ],
          "contourcarpet": [
           {
            "colorbar": {
             "outlinewidth": 0,
             "ticks": ""
            },
            "type": "contourcarpet"
           }
          ],
          "heatmap": [
           {
            "colorbar": {
             "outlinewidth": 0,
             "ticks": ""
            },
            "colorscale": [
             [
              0,
              "#0d0887"
             ],
             [
              0.1111111111111111,
              "#46039f"
             ],
             [
              0.2222222222222222,
              "#7201a8"
             ],
             [
              0.3333333333333333,
              "#9c179e"
             ],
             [
              0.4444444444444444,
              "#bd3786"
             ],
             [
              0.5555555555555556,
              "#d8576b"
             ],
             [
              0.6666666666666666,
              "#ed7953"
             ],
             [
              0.7777777777777778,
              "#fb9f3a"
             ],
             [
              0.8888888888888888,
              "#fdca26"
             ],
             [
              1,
              "#f0f921"
             ]
            ],
            "type": "heatmap"
           }
          ],
          "heatmapgl": [
           {
            "colorbar": {
             "outlinewidth": 0,
             "ticks": ""
            },
            "colorscale": [
             [
              0,
              "#0d0887"
             ],
             [
              0.1111111111111111,
              "#46039f"
             ],
             [
              0.2222222222222222,
              "#7201a8"
             ],
             [
              0.3333333333333333,
              "#9c179e"
             ],
             [
              0.4444444444444444,
              "#bd3786"
             ],
             [
              0.5555555555555556,
              "#d8576b"
             ],
             [
              0.6666666666666666,
              "#ed7953"
             ],
             [
              0.7777777777777778,
              "#fb9f3a"
             ],
             [
              0.8888888888888888,
              "#fdca26"
             ],
             [
              1,
              "#f0f921"
             ]
            ],
            "type": "heatmapgl"
           }
          ],
          "histogram": [
           {
            "marker": {
             "colorbar": {
              "outlinewidth": 0,
              "ticks": ""
             }
            },
            "type": "histogram"
           }
          ],
          "histogram2d": [
           {
            "colorbar": {
             "outlinewidth": 0,
             "ticks": ""
            },
            "colorscale": [
             [
              0,
              "#0d0887"
             ],
             [
              0.1111111111111111,
              "#46039f"
             ],
             [
              0.2222222222222222,
              "#7201a8"
             ],
             [
              0.3333333333333333,
              "#9c179e"
             ],
             [
              0.4444444444444444,
              "#bd3786"
             ],
             [
              0.5555555555555556,
              "#d8576b"
             ],
             [
              0.6666666666666666,
              "#ed7953"
             ],
             [
              0.7777777777777778,
              "#fb9f3a"
             ],
             [
              0.8888888888888888,
              "#fdca26"
             ],
             [
              1,
              "#f0f921"
             ]
            ],
            "type": "histogram2d"
           }
          ],
          "histogram2dcontour": [
           {
            "colorbar": {
             "outlinewidth": 0,
             "ticks": ""
            },
            "colorscale": [
             [
              0,
              "#0d0887"
             ],
             [
              0.1111111111111111,
              "#46039f"
             ],
             [
              0.2222222222222222,
              "#7201a8"
             ],
             [
              0.3333333333333333,
              "#9c179e"
             ],
             [
              0.4444444444444444,
              "#bd3786"
             ],
             [
              0.5555555555555556,
              "#d8576b"
             ],
             [
              0.6666666666666666,
              "#ed7953"
             ],
             [
              0.7777777777777778,
              "#fb9f3a"
             ],
             [
              0.8888888888888888,
              "#fdca26"
             ],
             [
              1,
              "#f0f921"
             ]
            ],
            "type": "histogram2dcontour"
           }
          ],
          "mesh3d": [
           {
            "colorbar": {
             "outlinewidth": 0,
             "ticks": ""
            },
            "type": "mesh3d"
           }
          ],
          "parcoords": [
           {
            "line": {
             "colorbar": {
              "outlinewidth": 0,
              "ticks": ""
             }
            },
            "type": "parcoords"
           }
          ],
          "pie": [
           {
            "automargin": true,
            "type": "pie"
           }
          ],
          "scatter": [
           {
            "marker": {
             "colorbar": {
              "outlinewidth": 0,
              "ticks": ""
             }
            },
            "type": "scatter"
           }
          ],
          "scatter3d": [
           {
            "line": {
             "colorbar": {
              "outlinewidth": 0,
              "ticks": ""
             }
            },
            "marker": {
             "colorbar": {
              "outlinewidth": 0,
              "ticks": ""
             }
            },
            "type": "scatter3d"
           }
          ],
          "scattercarpet": [
           {
            "marker": {
             "colorbar": {
              "outlinewidth": 0,
              "ticks": ""
             }
            },
            "type": "scattercarpet"
           }
          ],
          "scattergeo": [
           {
            "marker": {
             "colorbar": {
              "outlinewidth": 0,
              "ticks": ""
             }
            },
            "type": "scattergeo"
           }
          ],
          "scattergl": [
           {
            "marker": {
             "colorbar": {
              "outlinewidth": 0,
              "ticks": ""
             }
            },
            "type": "scattergl"
           }
          ],
          "scattermapbox": [
           {
            "marker": {
             "colorbar": {
              "outlinewidth": 0,
              "ticks": ""
             }
            },
            "type": "scattermapbox"
           }
          ],
          "scatterpolar": [
           {
            "marker": {
             "colorbar": {
              "outlinewidth": 0,
              "ticks": ""
             }
            },
            "type": "scatterpolar"
           }
          ],
          "scatterpolargl": [
           {
            "marker": {
             "colorbar": {
              "outlinewidth": 0,
              "ticks": ""
             }
            },
            "type": "scatterpolargl"
           }
          ],
          "scatterternary": [
           {
            "marker": {
             "colorbar": {
              "outlinewidth": 0,
              "ticks": ""
             }
            },
            "type": "scatterternary"
           }
          ],
          "surface": [
           {
            "colorbar": {
             "outlinewidth": 0,
             "ticks": ""
            },
            "colorscale": [
             [
              0,
              "#0d0887"
             ],
             [
              0.1111111111111111,
              "#46039f"
             ],
             [
              0.2222222222222222,
              "#7201a8"
             ],
             [
              0.3333333333333333,
              "#9c179e"
             ],
             [
              0.4444444444444444,
              "#bd3786"
             ],
             [
              0.5555555555555556,
              "#d8576b"
             ],
             [
              0.6666666666666666,
              "#ed7953"
             ],
             [
              0.7777777777777778,
              "#fb9f3a"
             ],
             [
              0.8888888888888888,
              "#fdca26"
             ],
             [
              1,
              "#f0f921"
             ]
            ],
            "type": "surface"
           }
          ],
          "table": [
           {
            "cells": {
             "fill": {
              "color": "#EBF0F8"
             },
             "line": {
              "color": "white"
             }
            },
            "header": {
             "fill": {
              "color": "#C8D4E3"
             },
             "line": {
              "color": "white"
             }
            },
            "type": "table"
           }
          ]
         },
         "layout": {
          "annotationdefaults": {
           "arrowcolor": "#2a3f5f",
           "arrowhead": 0,
           "arrowwidth": 1
          },
          "coloraxis": {
           "colorbar": {
            "outlinewidth": 0,
            "ticks": ""
           }
          },
          "colorscale": {
           "diverging": [
            [
             0,
             "#8e0152"
            ],
            [
             0.1,
             "#c51b7d"
            ],
            [
             0.2,
             "#de77ae"
            ],
            [
             0.3,
             "#f1b6da"
            ],
            [
             0.4,
             "#fde0ef"
            ],
            [
             0.5,
             "#f7f7f7"
            ],
            [
             0.6,
             "#e6f5d0"
            ],
            [
             0.7,
             "#b8e186"
            ],
            [
             0.8,
             "#7fbc41"
            ],
            [
             0.9,
             "#4d9221"
            ],
            [
             1,
             "#276419"
            ]
           ],
           "sequential": [
            [
             0,
             "#0d0887"
            ],
            [
             0.1111111111111111,
             "#46039f"
            ],
            [
             0.2222222222222222,
             "#7201a8"
            ],
            [
             0.3333333333333333,
             "#9c179e"
            ],
            [
             0.4444444444444444,
             "#bd3786"
            ],
            [
             0.5555555555555556,
             "#d8576b"
            ],
            [
             0.6666666666666666,
             "#ed7953"
            ],
            [
             0.7777777777777778,
             "#fb9f3a"
            ],
            [
             0.8888888888888888,
             "#fdca26"
            ],
            [
             1,
             "#f0f921"
            ]
           ],
           "sequentialminus": [
            [
             0,
             "#0d0887"
            ],
            [
             0.1111111111111111,
             "#46039f"
            ],
            [
             0.2222222222222222,
             "#7201a8"
            ],
            [
             0.3333333333333333,
             "#9c179e"
            ],
            [
             0.4444444444444444,
             "#bd3786"
            ],
            [
             0.5555555555555556,
             "#d8576b"
            ],
            [
             0.6666666666666666,
             "#ed7953"
            ],
            [
             0.7777777777777778,
             "#fb9f3a"
            ],
            [
             0.8888888888888888,
             "#fdca26"
            ],
            [
             1,
             "#f0f921"
            ]
           ]
          },
          "colorway": [
           "#636efa",
           "#EF553B",
           "#00cc96",
           "#ab63fa",
           "#FFA15A",
           "#19d3f3",
           "#FF6692",
           "#B6E880",
           "#FF97FF",
           "#FECB52"
          ],
          "font": {
           "color": "#2a3f5f"
          },
          "geo": {
           "bgcolor": "white",
           "lakecolor": "white",
           "landcolor": "#E5ECF6",
           "showlakes": true,
           "showland": true,
           "subunitcolor": "white"
          },
          "hoverlabel": {
           "align": "left"
          },
          "hovermode": "closest",
          "mapbox": {
           "style": "light"
          },
          "paper_bgcolor": "white",
          "plot_bgcolor": "#E5ECF6",
          "polar": {
           "angularaxis": {
            "gridcolor": "white",
            "linecolor": "white",
            "ticks": ""
           },
           "bgcolor": "#E5ECF6",
           "radialaxis": {
            "gridcolor": "white",
            "linecolor": "white",
            "ticks": ""
           }
          },
          "scene": {
           "xaxis": {
            "backgroundcolor": "#E5ECF6",
            "gridcolor": "white",
            "gridwidth": 2,
            "linecolor": "white",
            "showbackground": true,
            "ticks": "",
            "zerolinecolor": "white"
           },
           "yaxis": {
            "backgroundcolor": "#E5ECF6",
            "gridcolor": "white",
            "gridwidth": 2,
            "linecolor": "white",
            "showbackground": true,
            "ticks": "",
            "zerolinecolor": "white"
           },
           "zaxis": {
            "backgroundcolor": "#E5ECF6",
            "gridcolor": "white",
            "gridwidth": 2,
            "linecolor": "white",
            "showbackground": true,
            "ticks": "",
            "zerolinecolor": "white"
           }
          },
          "shapedefaults": {
           "line": {
            "color": "#2a3f5f"
           }
          },
          "ternary": {
           "aaxis": {
            "gridcolor": "white",
            "linecolor": "white",
            "ticks": ""
           },
           "baxis": {
            "gridcolor": "white",
            "linecolor": "white",
            "ticks": ""
           },
           "bgcolor": "#E5ECF6",
           "caxis": {
            "gridcolor": "white",
            "linecolor": "white",
            "ticks": ""
           }
          },
          "title": {
           "x": 0.05
          },
          "xaxis": {
           "automargin": true,
           "gridcolor": "white",
           "linecolor": "white",
           "ticks": "",
           "title": {
            "standoff": 15
           },
           "zerolinecolor": "white",
           "zerolinewidth": 2
          },
          "yaxis": {
           "automargin": true,
           "gridcolor": "white",
           "linecolor": "white",
           "ticks": "",
           "title": {
            "standoff": 15
           },
           "zerolinecolor": "white",
           "zerolinewidth": 2
          }
         }
        },
        "title": {
         "font": {
          "color": "#4D5663"
         }
        },
        "xaxis": {
         "anchor": "y",
         "domain": [
          0,
          0.2125
         ],
         "gridcolor": "#E1E5ED",
         "showgrid": false,
         "tickfont": {
          "color": "#4D5663"
         },
         "title": {
          "font": {
           "color": "#4D5663"
          },
          "text": ""
         },
         "zerolinecolor": "#E1E5ED"
        },
        "xaxis10": {
         "anchor": "y10",
         "domain": [
          0.2625,
          0.475
         ],
         "gridcolor": "#E1E5ED",
         "showgrid": false,
         "tickfont": {
          "color": "#4D5663"
         },
         "title": {
          "font": {
           "color": "#4D5663"
          },
          "text": ""
         },
         "zerolinecolor": "#E1E5ED"
        },
        "xaxis11": {
         "anchor": "y11",
         "domain": [
          0.525,
          0.7375
         ],
         "gridcolor": "#E1E5ED",
         "showgrid": false,
         "tickfont": {
          "color": "#4D5663"
         },
         "title": {
          "font": {
           "color": "#4D5663"
          },
          "text": ""
         },
         "zerolinecolor": "#E1E5ED"
        },
        "xaxis12": {
         "anchor": "y12",
         "domain": [
          0.7875,
          1
         ],
         "gridcolor": "#E1E5ED",
         "showgrid": false,
         "tickfont": {
          "color": "#4D5663"
         },
         "title": {
          "font": {
           "color": "#4D5663"
          },
          "text": ""
         },
         "zerolinecolor": "#E1E5ED"
        },
        "xaxis13": {
         "anchor": "y13",
         "domain": [
          0,
          0.2125
         ],
         "gridcolor": "#E1E5ED",
         "showgrid": false,
         "tickfont": {
          "color": "#4D5663"
         },
         "title": {
          "font": {
           "color": "#4D5663"
          },
          "text": ""
         },
         "zerolinecolor": "#E1E5ED"
        },
        "xaxis14": {
         "anchor": "y14",
         "domain": [
          0.2625,
          0.475
         ],
         "gridcolor": "#E1E5ED",
         "showgrid": false,
         "tickfont": {
          "color": "#4D5663"
         },
         "title": {
          "font": {
           "color": "#4D5663"
          },
          "text": ""
         },
         "zerolinecolor": "#E1E5ED"
        },
        "xaxis15": {
         "anchor": "y15",
         "domain": [
          0.525,
          0.7375
         ],
         "gridcolor": "#E1E5ED",
         "showgrid": false,
         "tickfont": {
          "color": "#4D5663"
         },
         "title": {
          "font": {
           "color": "#4D5663"
          },
          "text": ""
         },
         "zerolinecolor": "#E1E5ED"
        },
        "xaxis16": {
         "anchor": "y16",
         "domain": [
          0.7875,
          1
         ],
         "gridcolor": "#E1E5ED",
         "showgrid": false,
         "tickfont": {
          "color": "#4D5663"
         },
         "title": {
          "font": {
           "color": "#4D5663"
          },
          "text": ""
         },
         "zerolinecolor": "#E1E5ED"
        },
        "xaxis2": {
         "anchor": "y2",
         "domain": [
          0.2625,
          0.475
         ],
         "gridcolor": "#E1E5ED",
         "showgrid": false,
         "tickfont": {
          "color": "#4D5663"
         },
         "title": {
          "font": {
           "color": "#4D5663"
          },
          "text": ""
         },
         "zerolinecolor": "#E1E5ED"
        },
        "xaxis3": {
         "anchor": "y3",
         "domain": [
          0.525,
          0.7375
         ],
         "gridcolor": "#E1E5ED",
         "showgrid": false,
         "tickfont": {
          "color": "#4D5663"
         },
         "title": {
          "font": {
           "color": "#4D5663"
          },
          "text": ""
         },
         "zerolinecolor": "#E1E5ED"
        },
        "xaxis4": {
         "anchor": "y4",
         "domain": [
          0.7875,
          1
         ],
         "gridcolor": "#E1E5ED",
         "showgrid": false,
         "tickfont": {
          "color": "#4D5663"
         },
         "title": {
          "font": {
           "color": "#4D5663"
          },
          "text": ""
         },
         "zerolinecolor": "#E1E5ED"
        },
        "xaxis5": {
         "anchor": "y5",
         "domain": [
          0,
          0.2125
         ],
         "gridcolor": "#E1E5ED",
         "showgrid": false,
         "tickfont": {
          "color": "#4D5663"
         },
         "title": {
          "font": {
           "color": "#4D5663"
          },
          "text": ""
         },
         "zerolinecolor": "#E1E5ED"
        },
        "xaxis6": {
         "anchor": "y6",
         "domain": [
          0.2625,
          0.475
         ],
         "gridcolor": "#E1E5ED",
         "showgrid": false,
         "tickfont": {
          "color": "#4D5663"
         },
         "title": {
          "font": {
           "color": "#4D5663"
          },
          "text": ""
         },
         "zerolinecolor": "#E1E5ED"
        },
        "xaxis7": {
         "anchor": "y7",
         "domain": [
          0.525,
          0.7375
         ],
         "gridcolor": "#E1E5ED",
         "showgrid": false,
         "tickfont": {
          "color": "#4D5663"
         },
         "title": {
          "font": {
           "color": "#4D5663"
          },
          "text": ""
         },
         "zerolinecolor": "#E1E5ED"
        },
        "xaxis8": {
         "anchor": "y8",
         "domain": [
          0.7875,
          1
         ],
         "gridcolor": "#E1E5ED",
         "showgrid": false,
         "tickfont": {
          "color": "#4D5663"
         },
         "title": {
          "font": {
           "color": "#4D5663"
          },
          "text": ""
         },
         "zerolinecolor": "#E1E5ED"
        },
        "xaxis9": {
         "anchor": "y9",
         "domain": [
          0,
          0.2125
         ],
         "gridcolor": "#E1E5ED",
         "showgrid": false,
         "tickfont": {
          "color": "#4D5663"
         },
         "title": {
          "font": {
           "color": "#4D5663"
          },
          "text": ""
         },
         "zerolinecolor": "#E1E5ED"
        },
        "yaxis": {
         "anchor": "x",
         "domain": [
          0.8025,
          1
         ],
         "gridcolor": "#E1E5ED",
         "showgrid": false,
         "tickfont": {
          "color": "#4D5663"
         },
         "title": {
          "font": {
           "color": "#4D5663"
          },
          "text": ""
         },
         "zerolinecolor": "#E1E5ED"
        },
        "yaxis10": {
         "anchor": "x10",
         "domain": [
          0.2675,
          0.465
         ],
         "gridcolor": "#E1E5ED",
         "showgrid": false,
         "tickfont": {
          "color": "#4D5663"
         },
         "title": {
          "font": {
           "color": "#4D5663"
          },
          "text": ""
         },
         "zerolinecolor": "#E1E5ED"
        },
        "yaxis11": {
         "anchor": "x11",
         "domain": [
          0.2675,
          0.465
         ],
         "gridcolor": "#E1E5ED",
         "showgrid": false,
         "tickfont": {
          "color": "#4D5663"
         },
         "title": {
          "font": {
           "color": "#4D5663"
          },
          "text": ""
         },
         "zerolinecolor": "#E1E5ED"
        },
        "yaxis12": {
         "anchor": "x12",
         "domain": [
          0.2675,
          0.465
         ],
         "gridcolor": "#E1E5ED",
         "showgrid": false,
         "tickfont": {
          "color": "#4D5663"
         },
         "title": {
          "font": {
           "color": "#4D5663"
          },
          "text": ""
         },
         "zerolinecolor": "#E1E5ED"
        },
        "yaxis13": {
         "anchor": "x13",
         "domain": [
          0,
          0.1975
         ],
         "gridcolor": "#E1E5ED",
         "showgrid": false,
         "tickfont": {
          "color": "#4D5663"
         },
         "title": {
          "font": {
           "color": "#4D5663"
          },
          "text": ""
         },
         "zerolinecolor": "#E1E5ED"
        },
        "yaxis14": {
         "anchor": "x14",
         "domain": [
          0,
          0.1975
         ],
         "gridcolor": "#E1E5ED",
         "showgrid": false,
         "tickfont": {
          "color": "#4D5663"
         },
         "title": {
          "font": {
           "color": "#4D5663"
          },
          "text": ""
         },
         "zerolinecolor": "#E1E5ED"
        },
        "yaxis15": {
         "anchor": "x15",
         "domain": [
          0,
          0.1975
         ],
         "gridcolor": "#E1E5ED",
         "showgrid": false,
         "tickfont": {
          "color": "#4D5663"
         },
         "title": {
          "font": {
           "color": "#4D5663"
          },
          "text": ""
         },
         "zerolinecolor": "#E1E5ED"
        },
        "yaxis16": {
         "anchor": "x16",
         "domain": [
          0,
          0.1975
         ],
         "gridcolor": "#E1E5ED",
         "showgrid": false,
         "tickfont": {
          "color": "#4D5663"
         },
         "title": {
          "font": {
           "color": "#4D5663"
          },
          "text": ""
         },
         "zerolinecolor": "#E1E5ED"
        },
        "yaxis2": {
         "anchor": "x2",
         "domain": [
          0.8025,
          1
         ],
         "gridcolor": "#E1E5ED",
         "showgrid": false,
         "tickfont": {
          "color": "#4D5663"
         },
         "title": {
          "font": {
           "color": "#4D5663"
          },
          "text": ""
         },
         "zerolinecolor": "#E1E5ED"
        },
        "yaxis3": {
         "anchor": "x3",
         "domain": [
          0.8025,
          1
         ],
         "gridcolor": "#E1E5ED",
         "showgrid": false,
         "tickfont": {
          "color": "#4D5663"
         },
         "title": {
          "font": {
           "color": "#4D5663"
          },
          "text": ""
         },
         "zerolinecolor": "#E1E5ED"
        },
        "yaxis4": {
         "anchor": "x4",
         "domain": [
          0.8025,
          1
         ],
         "gridcolor": "#E1E5ED",
         "showgrid": false,
         "tickfont": {
          "color": "#4D5663"
         },
         "title": {
          "font": {
           "color": "#4D5663"
          },
          "text": ""
         },
         "zerolinecolor": "#E1E5ED"
        },
        "yaxis5": {
         "anchor": "x5",
         "domain": [
          0.535,
          0.7325
         ],
         "gridcolor": "#E1E5ED",
         "showgrid": false,
         "tickfont": {
          "color": "#4D5663"
         },
         "title": {
          "font": {
           "color": "#4D5663"
          },
          "text": ""
         },
         "zerolinecolor": "#E1E5ED"
        },
        "yaxis6": {
         "anchor": "x6",
         "domain": [
          0.535,
          0.7325
         ],
         "gridcolor": "#E1E5ED",
         "showgrid": false,
         "tickfont": {
          "color": "#4D5663"
         },
         "title": {
          "font": {
           "color": "#4D5663"
          },
          "text": ""
         },
         "zerolinecolor": "#E1E5ED"
        },
        "yaxis7": {
         "anchor": "x7",
         "domain": [
          0.535,
          0.7325
         ],
         "gridcolor": "#E1E5ED",
         "showgrid": false,
         "tickfont": {
          "color": "#4D5663"
         },
         "title": {
          "font": {
           "color": "#4D5663"
          },
          "text": ""
         },
         "zerolinecolor": "#E1E5ED"
        },
        "yaxis8": {
         "anchor": "x8",
         "domain": [
          0.535,
          0.7325
         ],
         "gridcolor": "#E1E5ED",
         "showgrid": false,
         "tickfont": {
          "color": "#4D5663"
         },
         "title": {
          "font": {
           "color": "#4D5663"
          },
          "text": ""
         },
         "zerolinecolor": "#E1E5ED"
        },
        "yaxis9": {
         "anchor": "x9",
         "domain": [
          0.2675,
          0.465
         ],
         "gridcolor": "#E1E5ED",
         "showgrid": false,
         "tickfont": {
          "color": "#4D5663"
         },
         "title": {
          "font": {
           "color": "#4D5663"
          },
          "text": ""
         },
         "zerolinecolor": "#E1E5ED"
        }
       }
      },
      "text/html": [
       "<div>\n",
       "        \n",
       "        \n",
       "            <div id=\"85547605-18a6-41cf-aebf-6ec9d160ef01\" class=\"plotly-graph-div\" style=\"height:525px; width:100%;\"></div>\n",
       "            <script type=\"text/javascript\">\n",
       "                require([\"plotly\"], function(Plotly) {\n",
       "                    window.PLOTLYENV=window.PLOTLYENV || {};\n",
       "                    window.PLOTLYENV.BASE_URL='https://plot.ly';\n",
       "                    \n",
       "                if (document.getElementById(\"85547605-18a6-41cf-aebf-6ec9d160ef01\")) {\n",
       "                    Plotly.newPlot(\n",
       "                        '85547605-18a6-41cf-aebf-6ec9d160ef01',\n",
       "                        [{\"histfunc\": \"count\", \"histnorm\": \"\", \"marker\": {\"color\": \"rgba(255, 153, 51, 1.0)\", \"line\": {\"color\": \"#4D5663\", \"width\": 1.3}}, \"name\": \"A\", \"nbinsx\": 10, \"opacity\": 0.8, \"orientation\": \"v\", \"type\": \"histogram\", \"x\": [0.9863925971035367, -0.551507821584642, 1.2104910088148675, -0.3630595285051773, 0.46873763546514047, 0.26593957464707885, -0.5937216939189025, -1.364244266971046, -0.2540693709928275, -1.2830587933734412, 1.281390741792193, -0.3343680481188946, -0.3825594509405097, 0.021087443582469643, 0.6471309447546121, -1.4147694856733755, 1.339202836038361, 0.3390041601557001, 0.10485762693215445, 0.5152538280419234, -0.9369459989184609, -2.175788440576683, -1.1362774454491336, 1.3527148275259664, 1.4702499643356384, 1.4124870558300326, -0.9878582741905485, 0.1127751813840683, -0.5126472661761328, 0.4067609905375987, 0.6071808563561845, -0.37915216043306865, -2.876721926137452, -0.33918228700985903, 0.10504300019166042, -0.5774186612820098, -0.4388265947198578, -0.055176976254413895, -0.36616500182468037, -0.2929114866068684, 0.7014228110844198, 0.1306964615045626, 0.6596028015175316, -1.1429942684320047, 0.47568171728166164, 1.2962465194153023, 0.8460892263421502, 0.42102746077643927, 0.866184163058826, -0.08087723804487756, 0.06907309802472945, -0.3200834042314787, 0.7939731228226196, -0.26558550941047, -0.29524694386838995, 0.27060817727113556, 0.36561627515557454, -0.5599247565685864, 0.7441531233347232, -0.6814710370963094, 1.8221454972624809, 0.4019139577863046, 0.25839538612264057, -1.1980916669750947, 0.34449618768897405, -1.021139797801242, 0.6537320811984445, -0.7314199792059191, 2.1826040042648733, -0.9563736641559415, -0.6783338604068041, -0.6702093617726054, 0.33912561228172344, 0.13988069172984913, 1.1750087445530144, 0.23062024779877058, 0.019329480186717436, -0.6342151389972552, -0.714518709757769, -1.3770377775555394, 0.7226762173743683, 0.5347943858978389, -1.625074933335793, -1.103365996026399, -1.8484187247942057, -0.2933657169598747, -1.0379228872326074, -1.687486818385531, 0.15763302190875925, -0.9917526514489864, -1.401998191292997, 1.1685273716607132, -1.0924765499868767, 1.1004984383673553, 0.3024430062455109, -0.6451062450746639, 0.4270100442054658, 1.2814804808958185, 0.4071866322407583, 1.3737594623042046], \"xaxis\": \"x\", \"yaxis\": \"y\"}, {\"line\": {\"color\": \"rgba(128, 128, 128, 1.0)\", \"dash\": \"solid\", \"shape\": \"linear\", \"width\": 1.3}, \"marker\": {\"size\": 2, \"symbol\": \"circle\"}, \"mode\": \"markers\", \"name\": \"A\", \"text\": \"\", \"type\": \"scatter\", \"x\": [-1.491962523268668, -0.9863979319163781, -1.3706498912781242, -0.7283635054127434, -0.9556433947549499, -1.3776178280637075, -1.3282354767457958, 0.4160855389008612, 0.8245390833958657, -0.9386012985882881, -1.417146166990188, -0.2364962639674241, 0.9555674388527511, 0.32733012189391536, -0.844901615660728, 0.5292929788219688, 0.3696349580137423, -2.1581092479697417, 1.1308247542325691, 0.27079868876702035, -1.3700993932378516, 1.822386519008439, 1.2739493109373479, 1.6860005870956005, 1.0437955602263596, 0.052187775820577716, -0.5129959686672352, -0.23642446542680795, 2.0259746549928086, -0.6274963571844351, -0.20405423953078541, -1.4551299158129842, 3.0083803245440226, -0.18200247569988784, -0.09655369744753517, 0.5396269998034693, 1.3526844847337924, 0.5479447363690005, 0.5003806017756498, 0.38092478986333167, -0.6987050732978389, 0.728950705242152, -0.07099017268241205, -0.17718643626418312, -1.2329612788960118, 1.098371360403441, 0.9228538361483437, -0.08551957529581292, -0.4380008002662748, 0.19342006507323398, 0.032302851769381594, 1.0745637263936598, -0.34905775053086974, -0.38387650619720814, 1.008613308424497, -1.1197072632192004, 1.682262651833673, -0.6460412773663219, 0.9117982447939869, 0.06286202422433096, -0.6160075662848656, 0.26695888931062, -0.15823583458025905, 0.6707760460041554, 1.782480813946048, -0.41806235648299156, 0.9920882878881456, 0.35393270682555716, -0.2821919585487452, -0.14034262729735977, -0.12211237075763812, -0.5409052719458001, -1.3106360584065184, -2.38683273001778, 0.8329521217275093, 0.1894540858494092, -0.5828241905753845, -1.4000380259065652, -1.5524571025879703, 0.4128822340825146, -0.011762531518228102, -1.2652525410519582, 1.455953610317138, 0.9623467225545896, 1.0607117432751054, -1.9516748560022805, -2.7387496811679237, 0.028105306029023693, -0.6562471399526576, -0.236204261305822, 1.1557779022072985, -0.727744455299941, 0.4782040528002768, -0.6197213069086959, 1.775528183886076, -1.4722901211034423, 0.5089895879395171, 1.1362057227381976, 0.2163217689984764, 1.0544547503433614], \"xaxis\": \"x2\", \"y\": [0.9863925971035367, -0.551507821584642, 1.2104910088148675, -0.3630595285051773, 0.46873763546514047, 0.26593957464707885, -0.5937216939189025, -1.364244266971046, -0.2540693709928275, -1.2830587933734412, 1.281390741792193, -0.3343680481188946, -0.3825594509405097, 0.021087443582469643, 0.6471309447546121, -1.4147694856733755, 1.339202836038361, 0.3390041601557001, 0.10485762693215445, 0.5152538280419234, -0.9369459989184609, -2.175788440576683, -1.1362774454491336, 1.3527148275259664, 1.4702499643356384, 1.4124870558300326, -0.9878582741905485, 0.1127751813840683, -0.5126472661761328, 0.4067609905375987, 0.6071808563561845, -0.37915216043306865, -2.876721926137452, -0.33918228700985903, 0.10504300019166042, -0.5774186612820098, -0.4388265947198578, -0.055176976254413895, -0.36616500182468037, -0.2929114866068684, 0.7014228110844198, 0.1306964615045626, 0.6596028015175316, -1.1429942684320047, 0.47568171728166164, 1.2962465194153023, 0.8460892263421502, 0.42102746077643927, 0.866184163058826, -0.08087723804487756, 0.06907309802472945, -0.3200834042314787, 0.7939731228226196, -0.26558550941047, -0.29524694386838995, 0.27060817727113556, 0.36561627515557454, -0.5599247565685864, 0.7441531233347232, -0.6814710370963094, 1.8221454972624809, 0.4019139577863046, 0.25839538612264057, -1.1980916669750947, 0.34449618768897405, -1.021139797801242, 0.6537320811984445, -0.7314199792059191, 2.1826040042648733, -0.9563736641559415, -0.6783338604068041, -0.6702093617726054, 0.33912561228172344, 0.13988069172984913, 1.1750087445530144, 0.23062024779877058, 0.019329480186717436, -0.6342151389972552, -0.714518709757769, -1.3770377775555394, 0.7226762173743683, 0.5347943858978389, -1.625074933335793, -1.103365996026399, -1.8484187247942057, -0.2933657169598747, -1.0379228872326074, -1.687486818385531, 0.15763302190875925, -0.9917526514489864, -1.401998191292997, 1.1685273716607132, -1.0924765499868767, 1.1004984383673553, 0.3024430062455109, -0.6451062450746639, 0.4270100442054658, 1.2814804808958185, 0.4071866322407583, 1.3737594623042046], \"yaxis\": \"y2\"}, {\"line\": {\"color\": \"rgba(128, 128, 128, 1.0)\", \"dash\": \"solid\", \"shape\": \"linear\", \"width\": 1.3}, \"marker\": {\"size\": 2, \"symbol\": \"circle\"}, \"mode\": \"markers\", \"name\": \"A\", \"text\": \"\", \"type\": \"scatter\", \"x\": [0.16586369391649003, -1.4796747778385209, 1.353882782073457, 0.6690403840694343, -0.6731449945372039, -0.4639434412690871, 0.1398903478420584, -0.13616605538047377, 0.6008855469250013, -0.7848926486896209, 2.15448974818836, -1.1366303271967941, 1.3457170525043274, -0.17286241460450932, -1.4202640203018966, 1.1458920281969234, 0.11741579107613459, -0.5523446755785217, -0.385670831515714, -0.7343121510552004, 2.3058888471219787, -0.7082705812461266, 0.9606258074845863, 0.7620209809459613, 1.227596624389157, -0.9155110248770371, -0.8778999106664441, -0.4069692113801471, 0.8565509276228673, -0.31130826481789986, 0.7259647114785005, -0.943249004760023, 0.9557241135762701, -0.5109182780887803, 0.26588855415850327, 0.783729819177189, 0.4265288393112757, -1.5107072300787645, -1.3354543451684608, -1.4377624388533194, 1.9103934202625568, 0.410358862929227, -2.4145148099145244, -0.8724711402738758, -0.35684353384457884, 1.218752123974974, -0.4324084960153836, -0.5927012514360849, -0.26766167380186007, -0.11861077967913622, -1.247380732043506, -1.5472176119168095, 1.3630331808086191, -0.4844994600332298, 1.2593898933078833, -0.7826988086844159, -0.03468140174155823, -1.1591768122282675, 0.5913001829779262, 0.3235330540953591, 0.5285887391369402, 1.812636284002745, -0.049029982321186064, 1.8749045267829207, -0.7549923802291525, -0.9556902480565279, -0.3256232716002783, 1.1943814511903086, -0.3882965400705218, 1.5074383920020515, 2.7006353446390996, -0.8612312678732079, -0.6032001138009844, 1.8725063480729862, 0.19287376909810464, -0.5664278599519131, 2.3616410309692624, 1.2860262977429453, 0.8219404204393114, -1.0306443825972005, -0.0024666046284393963, -0.5399799308358226, 0.8112294386617203, -0.160056732285508, 0.394771619078201, 3.9326340854457666, 1.2756886712677278, -1.9340487988166735, -2.406610600058228, 0.30003171069719137, -0.44497554975654857, 0.6661756157717057, 0.6882925549413913, -0.4485516080963447, 0.6830258037128837, -0.0031320649349308705, -0.4129255593693611, 0.48142864938863755, 0.8124623685513269, 0.9649362875117578], \"xaxis\": \"x3\", \"y\": [0.9863925971035367, -0.551507821584642, 1.2104910088148675, -0.3630595285051773, 0.46873763546514047, 0.26593957464707885, -0.5937216939189025, -1.364244266971046, -0.2540693709928275, -1.2830587933734412, 1.281390741792193, -0.3343680481188946, -0.3825594509405097, 0.021087443582469643, 0.6471309447546121, -1.4147694856733755, 1.339202836038361, 0.3390041601557001, 0.10485762693215445, 0.5152538280419234, -0.9369459989184609, -2.175788440576683, -1.1362774454491336, 1.3527148275259664, 1.4702499643356384, 1.4124870558300326, -0.9878582741905485, 0.1127751813840683, -0.5126472661761328, 0.4067609905375987, 0.6071808563561845, -0.37915216043306865, -2.876721926137452, -0.33918228700985903, 0.10504300019166042, -0.5774186612820098, -0.4388265947198578, -0.055176976254413895, -0.36616500182468037, -0.2929114866068684, 0.7014228110844198, 0.1306964615045626, 0.6596028015175316, -1.1429942684320047, 0.47568171728166164, 1.2962465194153023, 0.8460892263421502, 0.42102746077643927, 0.866184163058826, -0.08087723804487756, 0.06907309802472945, -0.3200834042314787, 0.7939731228226196, -0.26558550941047, -0.29524694386838995, 0.27060817727113556, 0.36561627515557454, -0.5599247565685864, 0.7441531233347232, -0.6814710370963094, 1.8221454972624809, 0.4019139577863046, 0.25839538612264057, -1.1980916669750947, 0.34449618768897405, -1.021139797801242, 0.6537320811984445, -0.7314199792059191, 2.1826040042648733, -0.9563736641559415, -0.6783338604068041, -0.6702093617726054, 0.33912561228172344, 0.13988069172984913, 1.1750087445530144, 0.23062024779877058, 0.019329480186717436, -0.6342151389972552, -0.714518709757769, -1.3770377775555394, 0.7226762173743683, 0.5347943858978389, -1.625074933335793, -1.103365996026399, -1.8484187247942057, -0.2933657169598747, -1.0379228872326074, -1.687486818385531, 0.15763302190875925, -0.9917526514489864, -1.401998191292997, 1.1685273716607132, -1.0924765499868767, 1.1004984383673553, 0.3024430062455109, -0.6451062450746639, 0.4270100442054658, 1.2814804808958185, 0.4071866322407583, 1.3737594623042046], \"yaxis\": \"y3\"}, {\"line\": {\"color\": \"rgba(128, 128, 128, 1.0)\", \"dash\": \"solid\", \"shape\": \"linear\", \"width\": 1.3}, \"marker\": {\"size\": 2, \"symbol\": \"circle\"}, \"mode\": \"markers\", \"name\": \"A\", \"text\": \"\", \"type\": \"scatter\", \"x\": [-0.35436219083694637, -1.013502751723658, -0.7292327921577556, -0.09309262719026408, -0.41110593494748554, 0.16604532245315753, 1.3683655712813747, -1.9152725078309527, -0.05174789358429129, 0.7978993837338012, -0.6443201424120104, -1.0890863271658004, 0.26427310894034084, -0.5159754781043415, 0.30786041376620854, 1.2580435868082198, -0.6966927232858101, -0.1816704223642784, -0.7907444980741134, -0.1361072560161668, 0.8023623771509054, -0.2379939293736548, -0.5754603382638555, 1.0240444959561954, -0.4197568954883138, -0.15686405274195983, -1.2660068301862717, -0.09273245967387625, 0.4568936780540992, -0.0884321878162847, 0.010460874864243644, 1.2053006143375258, 1.6339618104383413, 0.35978236157848964, 2.0011516356730668, 1.6754156470124884, -0.4670887358142812, -0.7017165007032741, -2.2547796392880373, 1.6822190923119495, -1.6277178566711121, 0.40933097272574753, -0.9243939243758164, -0.6624527300289607, -1.1715105124687846, 0.01638491102218486, -0.7798877838013948, 0.28180342801408714, -0.05964861793842602, 1.8923923101530173, 1.3188096301772692, 0.5138137093164855, 0.02838961888974531, -1.4359842845062605, 1.2290916503858846, -0.13273213257976044, 0.3000577762986384, -1.3208068617245192, 1.0305256250013348, 0.7426248780172283, -0.7076716949888867, -1.6057738932860781, -2.213910587692275, -1.972353554772055, -1.7297879441601323, -0.006405186034625153, -0.4719625253825586, -0.10345908019707348, 0.044235648530631784, -0.13472042008963067, -1.830431490663404, -0.9483993040118233, -0.4534379484068572, -0.7958733138734924, 1.8808608130207245, -0.23234708424105013, -0.34671527906493904, -2.0596731181007795, 0.6460380085217425, -0.9133269759341058, -1.0774321294457374, 0.4392178119616056, -0.21981055867337426, -0.5462871825156912, -0.7319311560493941, -0.8676452114985064, -1.1966070728425546, 0.967844201788307, 0.3724414286449778, 0.9856881106901605, 0.9054258178782889, -0.07212885469978308, -0.6420501704057415, -0.837754823198033, -0.7315121223136304, -0.6999732681944199, 0.005325252401586591, 1.004014137896582, 0.6065922115413797, 0.6331805787419147], \"xaxis\": \"x4\", \"y\": [0.9863925971035367, -0.551507821584642, 1.2104910088148675, -0.3630595285051773, 0.46873763546514047, 0.26593957464707885, -0.5937216939189025, -1.364244266971046, -0.2540693709928275, -1.2830587933734412, 1.281390741792193, -0.3343680481188946, -0.3825594509405097, 0.021087443582469643, 0.6471309447546121, -1.4147694856733755, 1.339202836038361, 0.3390041601557001, 0.10485762693215445, 0.5152538280419234, -0.9369459989184609, -2.175788440576683, -1.1362774454491336, 1.3527148275259664, 1.4702499643356384, 1.4124870558300326, -0.9878582741905485, 0.1127751813840683, -0.5126472661761328, 0.4067609905375987, 0.6071808563561845, -0.37915216043306865, -2.876721926137452, -0.33918228700985903, 0.10504300019166042, -0.5774186612820098, -0.4388265947198578, -0.055176976254413895, -0.36616500182468037, -0.2929114866068684, 0.7014228110844198, 0.1306964615045626, 0.6596028015175316, -1.1429942684320047, 0.47568171728166164, 1.2962465194153023, 0.8460892263421502, 0.42102746077643927, 0.866184163058826, -0.08087723804487756, 0.06907309802472945, -0.3200834042314787, 0.7939731228226196, -0.26558550941047, -0.29524694386838995, 0.27060817727113556, 0.36561627515557454, -0.5599247565685864, 0.7441531233347232, -0.6814710370963094, 1.8221454972624809, 0.4019139577863046, 0.25839538612264057, -1.1980916669750947, 0.34449618768897405, -1.021139797801242, 0.6537320811984445, -0.7314199792059191, 2.1826040042648733, -0.9563736641559415, -0.6783338604068041, -0.6702093617726054, 0.33912561228172344, 0.13988069172984913, 1.1750087445530144, 0.23062024779877058, 0.019329480186717436, -0.6342151389972552, -0.714518709757769, -1.3770377775555394, 0.7226762173743683, 0.5347943858978389, -1.625074933335793, -1.103365996026399, -1.8484187247942057, -0.2933657169598747, -1.0379228872326074, -1.687486818385531, 0.15763302190875925, -0.9917526514489864, -1.401998191292997, 1.1685273716607132, -1.0924765499868767, 1.1004984383673553, 0.3024430062455109, -0.6451062450746639, 0.4270100442054658, 1.2814804808958185, 0.4071866322407583, 1.3737594623042046], \"yaxis\": \"y4\"}, {\"line\": {\"color\": \"rgba(128, 128, 128, 1.0)\", \"dash\": \"solid\", \"shape\": \"linear\", \"width\": 1.3}, \"marker\": {\"size\": 2, \"symbol\": \"circle\"}, \"mode\": \"markers\", \"name\": \"B\", \"text\": \"\", \"type\": \"scatter\", \"x\": [0.9863925971035367, -0.551507821584642, 1.2104910088148675, -0.3630595285051773, 0.46873763546514047, 0.26593957464707885, -0.5937216939189025, -1.364244266971046, -0.2540693709928275, -1.2830587933734412, 1.281390741792193, -0.3343680481188946, -0.3825594509405097, 0.021087443582469643, 0.6471309447546121, -1.4147694856733755, 1.339202836038361, 0.3390041601557001, 0.10485762693215445, 0.5152538280419234, -0.9369459989184609, -2.175788440576683, -1.1362774454491336, 1.3527148275259664, 1.4702499643356384, 1.4124870558300326, -0.9878582741905485, 0.1127751813840683, -0.5126472661761328, 0.4067609905375987, 0.6071808563561845, -0.37915216043306865, -2.876721926137452, -0.33918228700985903, 0.10504300019166042, -0.5774186612820098, -0.4388265947198578, -0.055176976254413895, -0.36616500182468037, -0.2929114866068684, 0.7014228110844198, 0.1306964615045626, 0.6596028015175316, -1.1429942684320047, 0.47568171728166164, 1.2962465194153023, 0.8460892263421502, 0.42102746077643927, 0.866184163058826, -0.08087723804487756, 0.06907309802472945, -0.3200834042314787, 0.7939731228226196, -0.26558550941047, -0.29524694386838995, 0.27060817727113556, 0.36561627515557454, -0.5599247565685864, 0.7441531233347232, -0.6814710370963094, 1.8221454972624809, 0.4019139577863046, 0.25839538612264057, -1.1980916669750947, 0.34449618768897405, -1.021139797801242, 0.6537320811984445, -0.7314199792059191, 2.1826040042648733, -0.9563736641559415, -0.6783338604068041, -0.6702093617726054, 0.33912561228172344, 0.13988069172984913, 1.1750087445530144, 0.23062024779877058, 0.019329480186717436, -0.6342151389972552, -0.714518709757769, -1.3770377775555394, 0.7226762173743683, 0.5347943858978389, -1.625074933335793, -1.103365996026399, -1.8484187247942057, -0.2933657169598747, -1.0379228872326074, -1.687486818385531, 0.15763302190875925, -0.9917526514489864, -1.401998191292997, 1.1685273716607132, -1.0924765499868767, 1.1004984383673553, 0.3024430062455109, -0.6451062450746639, 0.4270100442054658, 1.2814804808958185, 0.4071866322407583, 1.3737594623042046], \"xaxis\": \"x5\", \"y\": [-1.491962523268668, -0.9863979319163781, -1.3706498912781242, -0.7283635054127434, -0.9556433947549499, -1.3776178280637075, -1.3282354767457958, 0.4160855389008612, 0.8245390833958657, -0.9386012985882881, -1.417146166990188, -0.2364962639674241, 0.9555674388527511, 0.32733012189391536, -0.844901615660728, 0.5292929788219688, 0.3696349580137423, -2.1581092479697417, 1.1308247542325691, 0.27079868876702035, -1.3700993932378516, 1.822386519008439, 1.2739493109373479, 1.6860005870956005, 1.0437955602263596, 0.052187775820577716, -0.5129959686672352, -0.23642446542680795, 2.0259746549928086, -0.6274963571844351, -0.20405423953078541, -1.4551299158129842, 3.0083803245440226, -0.18200247569988784, -0.09655369744753517, 0.5396269998034693, 1.3526844847337924, 0.5479447363690005, 0.5003806017756498, 0.38092478986333167, -0.6987050732978389, 0.728950705242152, -0.07099017268241205, -0.17718643626418312, -1.2329612788960118, 1.098371360403441, 0.9228538361483437, -0.08551957529581292, -0.4380008002662748, 0.19342006507323398, 0.032302851769381594, 1.0745637263936598, -0.34905775053086974, -0.38387650619720814, 1.008613308424497, -1.1197072632192004, 1.682262651833673, -0.6460412773663219, 0.9117982447939869, 0.06286202422433096, -0.6160075662848656, 0.26695888931062, -0.15823583458025905, 0.6707760460041554, 1.782480813946048, -0.41806235648299156, 0.9920882878881456, 0.35393270682555716, -0.2821919585487452, -0.14034262729735977, -0.12211237075763812, -0.5409052719458001, -1.3106360584065184, -2.38683273001778, 0.8329521217275093, 0.1894540858494092, -0.5828241905753845, -1.4000380259065652, -1.5524571025879703, 0.4128822340825146, -0.011762531518228102, -1.2652525410519582, 1.455953610317138, 0.9623467225545896, 1.0607117432751054, -1.9516748560022805, -2.7387496811679237, 0.028105306029023693, -0.6562471399526576, -0.236204261305822, 1.1557779022072985, -0.727744455299941, 0.4782040528002768, -0.6197213069086959, 1.775528183886076, -1.4722901211034423, 0.5089895879395171, 1.1362057227381976, 0.2163217689984764, 1.0544547503433614], \"yaxis\": \"y5\"}, {\"histfunc\": \"count\", \"histnorm\": \"\", \"marker\": {\"color\": \"rgba(55, 128, 191, 1.0)\", \"line\": {\"color\": \"#4D5663\", \"width\": 1.3}}, \"name\": \"B\", \"nbinsx\": 10, \"opacity\": 0.8, \"orientation\": \"v\", \"type\": \"histogram\", \"x\": [-1.491962523268668, -0.9863979319163781, -1.3706498912781242, -0.7283635054127434, -0.9556433947549499, -1.3776178280637075, -1.3282354767457958, 0.4160855389008612, 0.8245390833958657, -0.9386012985882881, -1.417146166990188, -0.2364962639674241, 0.9555674388527511, 0.32733012189391536, -0.844901615660728, 0.5292929788219688, 0.3696349580137423, -2.1581092479697417, 1.1308247542325691, 0.27079868876702035, -1.3700993932378516, 1.822386519008439, 1.2739493109373479, 1.6860005870956005, 1.0437955602263596, 0.052187775820577716, -0.5129959686672352, -0.23642446542680795, 2.0259746549928086, -0.6274963571844351, -0.20405423953078541, -1.4551299158129842, 3.0083803245440226, -0.18200247569988784, -0.09655369744753517, 0.5396269998034693, 1.3526844847337924, 0.5479447363690005, 0.5003806017756498, 0.38092478986333167, -0.6987050732978389, 0.728950705242152, -0.07099017268241205, -0.17718643626418312, -1.2329612788960118, 1.098371360403441, 0.9228538361483437, -0.08551957529581292, -0.4380008002662748, 0.19342006507323398, 0.032302851769381594, 1.0745637263936598, -0.34905775053086974, -0.38387650619720814, 1.008613308424497, -1.1197072632192004, 1.682262651833673, -0.6460412773663219, 0.9117982447939869, 0.06286202422433096, -0.6160075662848656, 0.26695888931062, -0.15823583458025905, 0.6707760460041554, 1.782480813946048, -0.41806235648299156, 0.9920882878881456, 0.35393270682555716, -0.2821919585487452, -0.14034262729735977, -0.12211237075763812, -0.5409052719458001, -1.3106360584065184, -2.38683273001778, 0.8329521217275093, 0.1894540858494092, -0.5828241905753845, -1.4000380259065652, -1.5524571025879703, 0.4128822340825146, -0.011762531518228102, -1.2652525410519582, 1.455953610317138, 0.9623467225545896, 1.0607117432751054, -1.9516748560022805, -2.7387496811679237, 0.028105306029023693, -0.6562471399526576, -0.236204261305822, 1.1557779022072985, -0.727744455299941, 0.4782040528002768, -0.6197213069086959, 1.775528183886076, -1.4722901211034423, 0.5089895879395171, 1.1362057227381976, 0.2163217689984764, 1.0544547503433614], \"xaxis\": \"x6\", \"yaxis\": \"y6\"}, {\"line\": {\"color\": \"rgba(128, 128, 128, 1.0)\", \"dash\": \"solid\", \"shape\": \"linear\", \"width\": 1.3}, \"marker\": {\"size\": 2, \"symbol\": \"circle\"}, \"mode\": \"markers\", \"name\": \"B\", \"text\": \"\", \"type\": \"scatter\", \"x\": [0.16586369391649003, -1.4796747778385209, 1.353882782073457, 0.6690403840694343, -0.6731449945372039, -0.4639434412690871, 0.1398903478420584, -0.13616605538047377, 0.6008855469250013, -0.7848926486896209, 2.15448974818836, -1.1366303271967941, 1.3457170525043274, -0.17286241460450932, -1.4202640203018966, 1.1458920281969234, 0.11741579107613459, -0.5523446755785217, -0.385670831515714, -0.7343121510552004, 2.3058888471219787, -0.7082705812461266, 0.9606258074845863, 0.7620209809459613, 1.227596624389157, -0.9155110248770371, -0.8778999106664441, -0.4069692113801471, 0.8565509276228673, -0.31130826481789986, 0.7259647114785005, -0.943249004760023, 0.9557241135762701, -0.5109182780887803, 0.26588855415850327, 0.783729819177189, 0.4265288393112757, -1.5107072300787645, -1.3354543451684608, -1.4377624388533194, 1.9103934202625568, 0.410358862929227, -2.4145148099145244, -0.8724711402738758, -0.35684353384457884, 1.218752123974974, -0.4324084960153836, -0.5927012514360849, -0.26766167380186007, -0.11861077967913622, -1.247380732043506, -1.5472176119168095, 1.3630331808086191, -0.4844994600332298, 1.2593898933078833, -0.7826988086844159, -0.03468140174155823, -1.1591768122282675, 0.5913001829779262, 0.3235330540953591, 0.5285887391369402, 1.812636284002745, -0.049029982321186064, 1.8749045267829207, -0.7549923802291525, -0.9556902480565279, -0.3256232716002783, 1.1943814511903086, -0.3882965400705218, 1.5074383920020515, 2.7006353446390996, -0.8612312678732079, -0.6032001138009844, 1.8725063480729862, 0.19287376909810464, -0.5664278599519131, 2.3616410309692624, 1.2860262977429453, 0.8219404204393114, -1.0306443825972005, -0.0024666046284393963, -0.5399799308358226, 0.8112294386617203, -0.160056732285508, 0.394771619078201, 3.9326340854457666, 1.2756886712677278, -1.9340487988166735, -2.406610600058228, 0.30003171069719137, -0.44497554975654857, 0.6661756157717057, 0.6882925549413913, -0.4485516080963447, 0.6830258037128837, -0.0031320649349308705, -0.4129255593693611, 0.48142864938863755, 0.8124623685513269, 0.9649362875117578], \"xaxis\": \"x7\", \"y\": [-1.491962523268668, -0.9863979319163781, -1.3706498912781242, -0.7283635054127434, -0.9556433947549499, -1.3776178280637075, -1.3282354767457958, 0.4160855389008612, 0.8245390833958657, -0.9386012985882881, -1.417146166990188, -0.2364962639674241, 0.9555674388527511, 0.32733012189391536, -0.844901615660728, 0.5292929788219688, 0.3696349580137423, -2.1581092479697417, 1.1308247542325691, 0.27079868876702035, -1.3700993932378516, 1.822386519008439, 1.2739493109373479, 1.6860005870956005, 1.0437955602263596, 0.052187775820577716, -0.5129959686672352, -0.23642446542680795, 2.0259746549928086, -0.6274963571844351, -0.20405423953078541, -1.4551299158129842, 3.0083803245440226, -0.18200247569988784, -0.09655369744753517, 0.5396269998034693, 1.3526844847337924, 0.5479447363690005, 0.5003806017756498, 0.38092478986333167, -0.6987050732978389, 0.728950705242152, -0.07099017268241205, -0.17718643626418312, -1.2329612788960118, 1.098371360403441, 0.9228538361483437, -0.08551957529581292, -0.4380008002662748, 0.19342006507323398, 0.032302851769381594, 1.0745637263936598, -0.34905775053086974, -0.38387650619720814, 1.008613308424497, -1.1197072632192004, 1.682262651833673, -0.6460412773663219, 0.9117982447939869, 0.06286202422433096, -0.6160075662848656, 0.26695888931062, -0.15823583458025905, 0.6707760460041554, 1.782480813946048, -0.41806235648299156, 0.9920882878881456, 0.35393270682555716, -0.2821919585487452, -0.14034262729735977, -0.12211237075763812, -0.5409052719458001, -1.3106360584065184, -2.38683273001778, 0.8329521217275093, 0.1894540858494092, -0.5828241905753845, -1.4000380259065652, -1.5524571025879703, 0.4128822340825146, -0.011762531518228102, -1.2652525410519582, 1.455953610317138, 0.9623467225545896, 1.0607117432751054, -1.9516748560022805, -2.7387496811679237, 0.028105306029023693, -0.6562471399526576, -0.236204261305822, 1.1557779022072985, -0.727744455299941, 0.4782040528002768, -0.6197213069086959, 1.775528183886076, -1.4722901211034423, 0.5089895879395171, 1.1362057227381976, 0.2163217689984764, 1.0544547503433614], \"yaxis\": \"y7\"}, {\"line\": {\"color\": \"rgba(128, 128, 128, 1.0)\", \"dash\": \"solid\", \"shape\": \"linear\", \"width\": 1.3}, \"marker\": {\"size\": 2, \"symbol\": \"circle\"}, \"mode\": \"markers\", \"name\": \"B\", \"text\": \"\", \"type\": \"scatter\", \"x\": [-0.35436219083694637, -1.013502751723658, -0.7292327921577556, -0.09309262719026408, -0.41110593494748554, 0.16604532245315753, 1.3683655712813747, -1.9152725078309527, -0.05174789358429129, 0.7978993837338012, -0.6443201424120104, -1.0890863271658004, 0.26427310894034084, -0.5159754781043415, 0.30786041376620854, 1.2580435868082198, -0.6966927232858101, -0.1816704223642784, -0.7907444980741134, -0.1361072560161668, 0.8023623771509054, -0.2379939293736548, -0.5754603382638555, 1.0240444959561954, -0.4197568954883138, -0.15686405274195983, -1.2660068301862717, -0.09273245967387625, 0.4568936780540992, -0.0884321878162847, 0.010460874864243644, 1.2053006143375258, 1.6339618104383413, 0.35978236157848964, 2.0011516356730668, 1.6754156470124884, -0.4670887358142812, -0.7017165007032741, -2.2547796392880373, 1.6822190923119495, -1.6277178566711121, 0.40933097272574753, -0.9243939243758164, -0.6624527300289607, -1.1715105124687846, 0.01638491102218486, -0.7798877838013948, 0.28180342801408714, -0.05964861793842602, 1.8923923101530173, 1.3188096301772692, 0.5138137093164855, 0.02838961888974531, -1.4359842845062605, 1.2290916503858846, -0.13273213257976044, 0.3000577762986384, -1.3208068617245192, 1.0305256250013348, 0.7426248780172283, -0.7076716949888867, -1.6057738932860781, -2.213910587692275, -1.972353554772055, -1.7297879441601323, -0.006405186034625153, -0.4719625253825586, -0.10345908019707348, 0.044235648530631784, -0.13472042008963067, -1.830431490663404, -0.9483993040118233, -0.4534379484068572, -0.7958733138734924, 1.8808608130207245, -0.23234708424105013, -0.34671527906493904, -2.0596731181007795, 0.6460380085217425, -0.9133269759341058, -1.0774321294457374, 0.4392178119616056, -0.21981055867337426, -0.5462871825156912, -0.7319311560493941, -0.8676452114985064, -1.1966070728425546, 0.967844201788307, 0.3724414286449778, 0.9856881106901605, 0.9054258178782889, -0.07212885469978308, -0.6420501704057415, -0.837754823198033, -0.7315121223136304, -0.6999732681944199, 0.005325252401586591, 1.004014137896582, 0.6065922115413797, 0.6331805787419147], \"xaxis\": \"x8\", \"y\": [-1.491962523268668, -0.9863979319163781, -1.3706498912781242, -0.7283635054127434, -0.9556433947549499, -1.3776178280637075, -1.3282354767457958, 0.4160855389008612, 0.8245390833958657, -0.9386012985882881, -1.417146166990188, -0.2364962639674241, 0.9555674388527511, 0.32733012189391536, -0.844901615660728, 0.5292929788219688, 0.3696349580137423, -2.1581092479697417, 1.1308247542325691, 0.27079868876702035, -1.3700993932378516, 1.822386519008439, 1.2739493109373479, 1.6860005870956005, 1.0437955602263596, 0.052187775820577716, -0.5129959686672352, -0.23642446542680795, 2.0259746549928086, -0.6274963571844351, -0.20405423953078541, -1.4551299158129842, 3.0083803245440226, -0.18200247569988784, -0.09655369744753517, 0.5396269998034693, 1.3526844847337924, 0.5479447363690005, 0.5003806017756498, 0.38092478986333167, -0.6987050732978389, 0.728950705242152, -0.07099017268241205, -0.17718643626418312, -1.2329612788960118, 1.098371360403441, 0.9228538361483437, -0.08551957529581292, -0.4380008002662748, 0.19342006507323398, 0.032302851769381594, 1.0745637263936598, -0.34905775053086974, -0.38387650619720814, 1.008613308424497, -1.1197072632192004, 1.682262651833673, -0.6460412773663219, 0.9117982447939869, 0.06286202422433096, -0.6160075662848656, 0.26695888931062, -0.15823583458025905, 0.6707760460041554, 1.782480813946048, -0.41806235648299156, 0.9920882878881456, 0.35393270682555716, -0.2821919585487452, -0.14034262729735977, -0.12211237075763812, -0.5409052719458001, -1.3106360584065184, -2.38683273001778, 0.8329521217275093, 0.1894540858494092, -0.5828241905753845, -1.4000380259065652, -1.5524571025879703, 0.4128822340825146, -0.011762531518228102, -1.2652525410519582, 1.455953610317138, 0.9623467225545896, 1.0607117432751054, -1.9516748560022805, -2.7387496811679237, 0.028105306029023693, -0.6562471399526576, -0.236204261305822, 1.1557779022072985, -0.727744455299941, 0.4782040528002768, -0.6197213069086959, 1.775528183886076, -1.4722901211034423, 0.5089895879395171, 1.1362057227381976, 0.2163217689984764, 1.0544547503433614], \"yaxis\": \"y8\"}, {\"line\": {\"color\": \"rgba(128, 128, 128, 1.0)\", \"dash\": \"solid\", \"shape\": \"linear\", \"width\": 1.3}, \"marker\": {\"size\": 2, \"symbol\": \"circle\"}, \"mode\": \"markers\", \"name\": \"C\", \"text\": \"\", \"type\": \"scatter\", \"x\": [0.9863925971035367, -0.551507821584642, 1.2104910088148675, -0.3630595285051773, 0.46873763546514047, 0.26593957464707885, -0.5937216939189025, -1.364244266971046, -0.2540693709928275, -1.2830587933734412, 1.281390741792193, -0.3343680481188946, -0.3825594509405097, 0.021087443582469643, 0.6471309447546121, -1.4147694856733755, 1.339202836038361, 0.3390041601557001, 0.10485762693215445, 0.5152538280419234, -0.9369459989184609, -2.175788440576683, -1.1362774454491336, 1.3527148275259664, 1.4702499643356384, 1.4124870558300326, -0.9878582741905485, 0.1127751813840683, -0.5126472661761328, 0.4067609905375987, 0.6071808563561845, -0.37915216043306865, -2.876721926137452, -0.33918228700985903, 0.10504300019166042, -0.5774186612820098, -0.4388265947198578, -0.055176976254413895, -0.36616500182468037, -0.2929114866068684, 0.7014228110844198, 0.1306964615045626, 0.6596028015175316, -1.1429942684320047, 0.47568171728166164, 1.2962465194153023, 0.8460892263421502, 0.42102746077643927, 0.866184163058826, -0.08087723804487756, 0.06907309802472945, -0.3200834042314787, 0.7939731228226196, -0.26558550941047, -0.29524694386838995, 0.27060817727113556, 0.36561627515557454, -0.5599247565685864, 0.7441531233347232, -0.6814710370963094, 1.8221454972624809, 0.4019139577863046, 0.25839538612264057, -1.1980916669750947, 0.34449618768897405, -1.021139797801242, 0.6537320811984445, -0.7314199792059191, 2.1826040042648733, -0.9563736641559415, -0.6783338604068041, -0.6702093617726054, 0.33912561228172344, 0.13988069172984913, 1.1750087445530144, 0.23062024779877058, 0.019329480186717436, -0.6342151389972552, -0.714518709757769, -1.3770377775555394, 0.7226762173743683, 0.5347943858978389, -1.625074933335793, -1.103365996026399, -1.8484187247942057, -0.2933657169598747, -1.0379228872326074, -1.687486818385531, 0.15763302190875925, -0.9917526514489864, -1.401998191292997, 1.1685273716607132, -1.0924765499868767, 1.1004984383673553, 0.3024430062455109, -0.6451062450746639, 0.4270100442054658, 1.2814804808958185, 0.4071866322407583, 1.3737594623042046], \"xaxis\": \"x9\", \"y\": [0.16586369391649003, -1.4796747778385209, 1.353882782073457, 0.6690403840694343, -0.6731449945372039, -0.4639434412690871, 0.1398903478420584, -0.13616605538047377, 0.6008855469250013, -0.7848926486896209, 2.15448974818836, -1.1366303271967941, 1.3457170525043274, -0.17286241460450932, -1.4202640203018966, 1.1458920281969234, 0.11741579107613459, -0.5523446755785217, -0.385670831515714, -0.7343121510552004, 2.3058888471219787, -0.7082705812461266, 0.9606258074845863, 0.7620209809459613, 1.227596624389157, -0.9155110248770371, -0.8778999106664441, -0.4069692113801471, 0.8565509276228673, -0.31130826481789986, 0.7259647114785005, -0.943249004760023, 0.9557241135762701, -0.5109182780887803, 0.26588855415850327, 0.783729819177189, 0.4265288393112757, -1.5107072300787645, -1.3354543451684608, -1.4377624388533194, 1.9103934202625568, 0.410358862929227, -2.4145148099145244, -0.8724711402738758, -0.35684353384457884, 1.218752123974974, -0.4324084960153836, -0.5927012514360849, -0.26766167380186007, -0.11861077967913622, -1.247380732043506, -1.5472176119168095, 1.3630331808086191, -0.4844994600332298, 1.2593898933078833, -0.7826988086844159, -0.03468140174155823, -1.1591768122282675, 0.5913001829779262, 0.3235330540953591, 0.5285887391369402, 1.812636284002745, -0.049029982321186064, 1.8749045267829207, -0.7549923802291525, -0.9556902480565279, -0.3256232716002783, 1.1943814511903086, -0.3882965400705218, 1.5074383920020515, 2.7006353446390996, -0.8612312678732079, -0.6032001138009844, 1.8725063480729862, 0.19287376909810464, -0.5664278599519131, 2.3616410309692624, 1.2860262977429453, 0.8219404204393114, -1.0306443825972005, -0.0024666046284393963, -0.5399799308358226, 0.8112294386617203, -0.160056732285508, 0.394771619078201, 3.9326340854457666, 1.2756886712677278, -1.9340487988166735, -2.406610600058228, 0.30003171069719137, -0.44497554975654857, 0.6661756157717057, 0.6882925549413913, -0.4485516080963447, 0.6830258037128837, -0.0031320649349308705, -0.4129255593693611, 0.48142864938863755, 0.8124623685513269, 0.9649362875117578], \"yaxis\": \"y9\"}, {\"line\": {\"color\": \"rgba(128, 128, 128, 1.0)\", \"dash\": \"solid\", \"shape\": \"linear\", \"width\": 1.3}, \"marker\": {\"size\": 2, \"symbol\": \"circle\"}, \"mode\": \"markers\", \"name\": \"C\", \"text\": \"\", \"type\": \"scatter\", \"x\": [-1.491962523268668, -0.9863979319163781, -1.3706498912781242, -0.7283635054127434, -0.9556433947549499, -1.3776178280637075, -1.3282354767457958, 0.4160855389008612, 0.8245390833958657, -0.9386012985882881, -1.417146166990188, -0.2364962639674241, 0.9555674388527511, 0.32733012189391536, -0.844901615660728, 0.5292929788219688, 0.3696349580137423, -2.1581092479697417, 1.1308247542325691, 0.27079868876702035, -1.3700993932378516, 1.822386519008439, 1.2739493109373479, 1.6860005870956005, 1.0437955602263596, 0.052187775820577716, -0.5129959686672352, -0.23642446542680795, 2.0259746549928086, -0.6274963571844351, -0.20405423953078541, -1.4551299158129842, 3.0083803245440226, -0.18200247569988784, -0.09655369744753517, 0.5396269998034693, 1.3526844847337924, 0.5479447363690005, 0.5003806017756498, 0.38092478986333167, -0.6987050732978389, 0.728950705242152, -0.07099017268241205, -0.17718643626418312, -1.2329612788960118, 1.098371360403441, 0.9228538361483437, -0.08551957529581292, -0.4380008002662748, 0.19342006507323398, 0.032302851769381594, 1.0745637263936598, -0.34905775053086974, -0.38387650619720814, 1.008613308424497, -1.1197072632192004, 1.682262651833673, -0.6460412773663219, 0.9117982447939869, 0.06286202422433096, -0.6160075662848656, 0.26695888931062, -0.15823583458025905, 0.6707760460041554, 1.782480813946048, -0.41806235648299156, 0.9920882878881456, 0.35393270682555716, -0.2821919585487452, -0.14034262729735977, -0.12211237075763812, -0.5409052719458001, -1.3106360584065184, -2.38683273001778, 0.8329521217275093, 0.1894540858494092, -0.5828241905753845, -1.4000380259065652, -1.5524571025879703, 0.4128822340825146, -0.011762531518228102, -1.2652525410519582, 1.455953610317138, 0.9623467225545896, 1.0607117432751054, -1.9516748560022805, -2.7387496811679237, 0.028105306029023693, -0.6562471399526576, -0.236204261305822, 1.1557779022072985, -0.727744455299941, 0.4782040528002768, -0.6197213069086959, 1.775528183886076, -1.4722901211034423, 0.5089895879395171, 1.1362057227381976, 0.2163217689984764, 1.0544547503433614], \"xaxis\": \"x10\", \"y\": [0.16586369391649003, -1.4796747778385209, 1.353882782073457, 0.6690403840694343, -0.6731449945372039, -0.4639434412690871, 0.1398903478420584, -0.13616605538047377, 0.6008855469250013, -0.7848926486896209, 2.15448974818836, -1.1366303271967941, 1.3457170525043274, -0.17286241460450932, -1.4202640203018966, 1.1458920281969234, 0.11741579107613459, -0.5523446755785217, -0.385670831515714, -0.7343121510552004, 2.3058888471219787, -0.7082705812461266, 0.9606258074845863, 0.7620209809459613, 1.227596624389157, -0.9155110248770371, -0.8778999106664441, -0.4069692113801471, 0.8565509276228673, -0.31130826481789986, 0.7259647114785005, -0.943249004760023, 0.9557241135762701, -0.5109182780887803, 0.26588855415850327, 0.783729819177189, 0.4265288393112757, -1.5107072300787645, -1.3354543451684608, -1.4377624388533194, 1.9103934202625568, 0.410358862929227, -2.4145148099145244, -0.8724711402738758, -0.35684353384457884, 1.218752123974974, -0.4324084960153836, -0.5927012514360849, -0.26766167380186007, -0.11861077967913622, -1.247380732043506, -1.5472176119168095, 1.3630331808086191, -0.4844994600332298, 1.2593898933078833, -0.7826988086844159, -0.03468140174155823, -1.1591768122282675, 0.5913001829779262, 0.3235330540953591, 0.5285887391369402, 1.812636284002745, -0.049029982321186064, 1.8749045267829207, -0.7549923802291525, -0.9556902480565279, -0.3256232716002783, 1.1943814511903086, -0.3882965400705218, 1.5074383920020515, 2.7006353446390996, -0.8612312678732079, -0.6032001138009844, 1.8725063480729862, 0.19287376909810464, -0.5664278599519131, 2.3616410309692624, 1.2860262977429453, 0.8219404204393114, -1.0306443825972005, -0.0024666046284393963, -0.5399799308358226, 0.8112294386617203, -0.160056732285508, 0.394771619078201, 3.9326340854457666, 1.2756886712677278, -1.9340487988166735, -2.406610600058228, 0.30003171069719137, -0.44497554975654857, 0.6661756157717057, 0.6882925549413913, -0.4485516080963447, 0.6830258037128837, -0.0031320649349308705, -0.4129255593693611, 0.48142864938863755, 0.8124623685513269, 0.9649362875117578], \"yaxis\": \"y10\"}, {\"histfunc\": \"count\", \"histnorm\": \"\", \"marker\": {\"color\": \"rgba(50, 171, 96, 1.0)\", \"line\": {\"color\": \"#4D5663\", \"width\": 1.3}}, \"name\": \"C\", \"nbinsx\": 10, \"opacity\": 0.8, \"orientation\": \"v\", \"type\": \"histogram\", \"x\": [0.16586369391649003, -1.4796747778385209, 1.353882782073457, 0.6690403840694343, -0.6731449945372039, -0.4639434412690871, 0.1398903478420584, -0.13616605538047377, 0.6008855469250013, -0.7848926486896209, 2.15448974818836, -1.1366303271967941, 1.3457170525043274, -0.17286241460450932, -1.4202640203018966, 1.1458920281969234, 0.11741579107613459, -0.5523446755785217, -0.385670831515714, -0.7343121510552004, 2.3058888471219787, -0.7082705812461266, 0.9606258074845863, 0.7620209809459613, 1.227596624389157, -0.9155110248770371, -0.8778999106664441, -0.4069692113801471, 0.8565509276228673, -0.31130826481789986, 0.7259647114785005, -0.943249004760023, 0.9557241135762701, -0.5109182780887803, 0.26588855415850327, 0.783729819177189, 0.4265288393112757, -1.5107072300787645, -1.3354543451684608, -1.4377624388533194, 1.9103934202625568, 0.410358862929227, -2.4145148099145244, -0.8724711402738758, -0.35684353384457884, 1.218752123974974, -0.4324084960153836, -0.5927012514360849, -0.26766167380186007, -0.11861077967913622, -1.247380732043506, -1.5472176119168095, 1.3630331808086191, -0.4844994600332298, 1.2593898933078833, -0.7826988086844159, -0.03468140174155823, -1.1591768122282675, 0.5913001829779262, 0.3235330540953591, 0.5285887391369402, 1.812636284002745, -0.049029982321186064, 1.8749045267829207, -0.7549923802291525, -0.9556902480565279, -0.3256232716002783, 1.1943814511903086, -0.3882965400705218, 1.5074383920020515, 2.7006353446390996, -0.8612312678732079, -0.6032001138009844, 1.8725063480729862, 0.19287376909810464, -0.5664278599519131, 2.3616410309692624, 1.2860262977429453, 0.8219404204393114, -1.0306443825972005, -0.0024666046284393963, -0.5399799308358226, 0.8112294386617203, -0.160056732285508, 0.394771619078201, 3.9326340854457666, 1.2756886712677278, -1.9340487988166735, -2.406610600058228, 0.30003171069719137, -0.44497554975654857, 0.6661756157717057, 0.6882925549413913, -0.4485516080963447, 0.6830258037128837, -0.0031320649349308705, -0.4129255593693611, 0.48142864938863755, 0.8124623685513269, 0.9649362875117578], \"xaxis\": \"x11\", \"yaxis\": \"y11\"}, {\"line\": {\"color\": \"rgba(128, 128, 128, 1.0)\", \"dash\": \"solid\", \"shape\": \"linear\", \"width\": 1.3}, \"marker\": {\"size\": 2, \"symbol\": \"circle\"}, \"mode\": \"markers\", \"name\": \"C\", \"text\": \"\", \"type\": \"scatter\", \"x\": [-0.35436219083694637, -1.013502751723658, -0.7292327921577556, -0.09309262719026408, -0.41110593494748554, 0.16604532245315753, 1.3683655712813747, -1.9152725078309527, -0.05174789358429129, 0.7978993837338012, -0.6443201424120104, -1.0890863271658004, 0.26427310894034084, -0.5159754781043415, 0.30786041376620854, 1.2580435868082198, -0.6966927232858101, -0.1816704223642784, -0.7907444980741134, -0.1361072560161668, 0.8023623771509054, -0.2379939293736548, -0.5754603382638555, 1.0240444959561954, -0.4197568954883138, -0.15686405274195983, -1.2660068301862717, -0.09273245967387625, 0.4568936780540992, -0.0884321878162847, 0.010460874864243644, 1.2053006143375258, 1.6339618104383413, 0.35978236157848964, 2.0011516356730668, 1.6754156470124884, -0.4670887358142812, -0.7017165007032741, -2.2547796392880373, 1.6822190923119495, -1.6277178566711121, 0.40933097272574753, -0.9243939243758164, -0.6624527300289607, -1.1715105124687846, 0.01638491102218486, -0.7798877838013948, 0.28180342801408714, -0.05964861793842602, 1.8923923101530173, 1.3188096301772692, 0.5138137093164855, 0.02838961888974531, -1.4359842845062605, 1.2290916503858846, -0.13273213257976044, 0.3000577762986384, -1.3208068617245192, 1.0305256250013348, 0.7426248780172283, -0.7076716949888867, -1.6057738932860781, -2.213910587692275, -1.972353554772055, -1.7297879441601323, -0.006405186034625153, -0.4719625253825586, -0.10345908019707348, 0.044235648530631784, -0.13472042008963067, -1.830431490663404, -0.9483993040118233, -0.4534379484068572, -0.7958733138734924, 1.8808608130207245, -0.23234708424105013, -0.34671527906493904, -2.0596731181007795, 0.6460380085217425, -0.9133269759341058, -1.0774321294457374, 0.4392178119616056, -0.21981055867337426, -0.5462871825156912, -0.7319311560493941, -0.8676452114985064, -1.1966070728425546, 0.967844201788307, 0.3724414286449778, 0.9856881106901605, 0.9054258178782889, -0.07212885469978308, -0.6420501704057415, -0.837754823198033, -0.7315121223136304, -0.6999732681944199, 0.005325252401586591, 1.004014137896582, 0.6065922115413797, 0.6331805787419147], \"xaxis\": \"x12\", \"y\": [0.16586369391649003, -1.4796747778385209, 1.353882782073457, 0.6690403840694343, -0.6731449945372039, -0.4639434412690871, 0.1398903478420584, -0.13616605538047377, 0.6008855469250013, -0.7848926486896209, 2.15448974818836, -1.1366303271967941, 1.3457170525043274, -0.17286241460450932, -1.4202640203018966, 1.1458920281969234, 0.11741579107613459, -0.5523446755785217, -0.385670831515714, -0.7343121510552004, 2.3058888471219787, -0.7082705812461266, 0.9606258074845863, 0.7620209809459613, 1.227596624389157, -0.9155110248770371, -0.8778999106664441, -0.4069692113801471, 0.8565509276228673, -0.31130826481789986, 0.7259647114785005, -0.943249004760023, 0.9557241135762701, -0.5109182780887803, 0.26588855415850327, 0.783729819177189, 0.4265288393112757, -1.5107072300787645, -1.3354543451684608, -1.4377624388533194, 1.9103934202625568, 0.410358862929227, -2.4145148099145244, -0.8724711402738758, -0.35684353384457884, 1.218752123974974, -0.4324084960153836, -0.5927012514360849, -0.26766167380186007, -0.11861077967913622, -1.247380732043506, -1.5472176119168095, 1.3630331808086191, -0.4844994600332298, 1.2593898933078833, -0.7826988086844159, -0.03468140174155823, -1.1591768122282675, 0.5913001829779262, 0.3235330540953591, 0.5285887391369402, 1.812636284002745, -0.049029982321186064, 1.8749045267829207, -0.7549923802291525, -0.9556902480565279, -0.3256232716002783, 1.1943814511903086, -0.3882965400705218, 1.5074383920020515, 2.7006353446390996, -0.8612312678732079, -0.6032001138009844, 1.8725063480729862, 0.19287376909810464, -0.5664278599519131, 2.3616410309692624, 1.2860262977429453, 0.8219404204393114, -1.0306443825972005, -0.0024666046284393963, -0.5399799308358226, 0.8112294386617203, -0.160056732285508, 0.394771619078201, 3.9326340854457666, 1.2756886712677278, -1.9340487988166735, -2.406610600058228, 0.30003171069719137, -0.44497554975654857, 0.6661756157717057, 0.6882925549413913, -0.4485516080963447, 0.6830258037128837, -0.0031320649349308705, -0.4129255593693611, 0.48142864938863755, 0.8124623685513269, 0.9649362875117578], \"yaxis\": \"y12\"}, {\"line\": {\"color\": \"rgba(128, 128, 128, 1.0)\", \"dash\": \"solid\", \"shape\": \"linear\", \"width\": 1.3}, \"marker\": {\"size\": 2, \"symbol\": \"circle\"}, \"mode\": \"markers\", \"name\": \"D\", \"text\": \"\", \"type\": \"scatter\", \"x\": [0.9863925971035367, -0.551507821584642, 1.2104910088148675, -0.3630595285051773, 0.46873763546514047, 0.26593957464707885, -0.5937216939189025, -1.364244266971046, -0.2540693709928275, -1.2830587933734412, 1.281390741792193, -0.3343680481188946, -0.3825594509405097, 0.021087443582469643, 0.6471309447546121, -1.4147694856733755, 1.339202836038361, 0.3390041601557001, 0.10485762693215445, 0.5152538280419234, -0.9369459989184609, -2.175788440576683, -1.1362774454491336, 1.3527148275259664, 1.4702499643356384, 1.4124870558300326, -0.9878582741905485, 0.1127751813840683, -0.5126472661761328, 0.4067609905375987, 0.6071808563561845, -0.37915216043306865, -2.876721926137452, -0.33918228700985903, 0.10504300019166042, -0.5774186612820098, -0.4388265947198578, -0.055176976254413895, -0.36616500182468037, -0.2929114866068684, 0.7014228110844198, 0.1306964615045626, 0.6596028015175316, -1.1429942684320047, 0.47568171728166164, 1.2962465194153023, 0.8460892263421502, 0.42102746077643927, 0.866184163058826, -0.08087723804487756, 0.06907309802472945, -0.3200834042314787, 0.7939731228226196, -0.26558550941047, -0.29524694386838995, 0.27060817727113556, 0.36561627515557454, -0.5599247565685864, 0.7441531233347232, -0.6814710370963094, 1.8221454972624809, 0.4019139577863046, 0.25839538612264057, -1.1980916669750947, 0.34449618768897405, -1.021139797801242, 0.6537320811984445, -0.7314199792059191, 2.1826040042648733, -0.9563736641559415, -0.6783338604068041, -0.6702093617726054, 0.33912561228172344, 0.13988069172984913, 1.1750087445530144, 0.23062024779877058, 0.019329480186717436, -0.6342151389972552, -0.714518709757769, -1.3770377775555394, 0.7226762173743683, 0.5347943858978389, -1.625074933335793, -1.103365996026399, -1.8484187247942057, -0.2933657169598747, -1.0379228872326074, -1.687486818385531, 0.15763302190875925, -0.9917526514489864, -1.401998191292997, 1.1685273716607132, -1.0924765499868767, 1.1004984383673553, 0.3024430062455109, -0.6451062450746639, 0.4270100442054658, 1.2814804808958185, 0.4071866322407583, 1.3737594623042046], \"xaxis\": \"x13\", \"y\": [-0.35436219083694637, -1.013502751723658, -0.7292327921577556, -0.09309262719026408, -0.41110593494748554, 0.16604532245315753, 1.3683655712813747, -1.9152725078309527, -0.05174789358429129, 0.7978993837338012, -0.6443201424120104, -1.0890863271658004, 0.26427310894034084, -0.5159754781043415, 0.30786041376620854, 1.2580435868082198, -0.6966927232858101, -0.1816704223642784, -0.7907444980741134, -0.1361072560161668, 0.8023623771509054, -0.2379939293736548, -0.5754603382638555, 1.0240444959561954, -0.4197568954883138, -0.15686405274195983, -1.2660068301862717, -0.09273245967387625, 0.4568936780540992, -0.0884321878162847, 0.010460874864243644, 1.2053006143375258, 1.6339618104383413, 0.35978236157848964, 2.0011516356730668, 1.6754156470124884, -0.4670887358142812, -0.7017165007032741, -2.2547796392880373, 1.6822190923119495, -1.6277178566711121, 0.40933097272574753, -0.9243939243758164, -0.6624527300289607, -1.1715105124687846, 0.01638491102218486, -0.7798877838013948, 0.28180342801408714, -0.05964861793842602, 1.8923923101530173, 1.3188096301772692, 0.5138137093164855, 0.02838961888974531, -1.4359842845062605, 1.2290916503858846, -0.13273213257976044, 0.3000577762986384, -1.3208068617245192, 1.0305256250013348, 0.7426248780172283, -0.7076716949888867, -1.6057738932860781, -2.213910587692275, -1.972353554772055, -1.7297879441601323, -0.006405186034625153, -0.4719625253825586, -0.10345908019707348, 0.044235648530631784, -0.13472042008963067, -1.830431490663404, -0.9483993040118233, -0.4534379484068572, -0.7958733138734924, 1.8808608130207245, -0.23234708424105013, -0.34671527906493904, -2.0596731181007795, 0.6460380085217425, -0.9133269759341058, -1.0774321294457374, 0.4392178119616056, -0.21981055867337426, -0.5462871825156912, -0.7319311560493941, -0.8676452114985064, -1.1966070728425546, 0.967844201788307, 0.3724414286449778, 0.9856881106901605, 0.9054258178782889, -0.07212885469978308, -0.6420501704057415, -0.837754823198033, -0.7315121223136304, -0.6999732681944199, 0.005325252401586591, 1.004014137896582, 0.6065922115413797, 0.6331805787419147], \"yaxis\": \"y13\"}, {\"line\": {\"color\": \"rgba(128, 128, 128, 1.0)\", \"dash\": \"solid\", \"shape\": \"linear\", \"width\": 1.3}, \"marker\": {\"size\": 2, \"symbol\": \"circle\"}, \"mode\": \"markers\", \"name\": \"D\", \"text\": \"\", \"type\": \"scatter\", \"x\": [-1.491962523268668, -0.9863979319163781, -1.3706498912781242, -0.7283635054127434, -0.9556433947549499, -1.3776178280637075, -1.3282354767457958, 0.4160855389008612, 0.8245390833958657, -0.9386012985882881, -1.417146166990188, -0.2364962639674241, 0.9555674388527511, 0.32733012189391536, -0.844901615660728, 0.5292929788219688, 0.3696349580137423, -2.1581092479697417, 1.1308247542325691, 0.27079868876702035, -1.3700993932378516, 1.822386519008439, 1.2739493109373479, 1.6860005870956005, 1.0437955602263596, 0.052187775820577716, -0.5129959686672352, -0.23642446542680795, 2.0259746549928086, -0.6274963571844351, -0.20405423953078541, -1.4551299158129842, 3.0083803245440226, -0.18200247569988784, -0.09655369744753517, 0.5396269998034693, 1.3526844847337924, 0.5479447363690005, 0.5003806017756498, 0.38092478986333167, -0.6987050732978389, 0.728950705242152, -0.07099017268241205, -0.17718643626418312, -1.2329612788960118, 1.098371360403441, 0.9228538361483437, -0.08551957529581292, -0.4380008002662748, 0.19342006507323398, 0.032302851769381594, 1.0745637263936598, -0.34905775053086974, -0.38387650619720814, 1.008613308424497, -1.1197072632192004, 1.682262651833673, -0.6460412773663219, 0.9117982447939869, 0.06286202422433096, -0.6160075662848656, 0.26695888931062, -0.15823583458025905, 0.6707760460041554, 1.782480813946048, -0.41806235648299156, 0.9920882878881456, 0.35393270682555716, -0.2821919585487452, -0.14034262729735977, -0.12211237075763812, -0.5409052719458001, -1.3106360584065184, -2.38683273001778, 0.8329521217275093, 0.1894540858494092, -0.5828241905753845, -1.4000380259065652, -1.5524571025879703, 0.4128822340825146, -0.011762531518228102, -1.2652525410519582, 1.455953610317138, 0.9623467225545896, 1.0607117432751054, -1.9516748560022805, -2.7387496811679237, 0.028105306029023693, -0.6562471399526576, -0.236204261305822, 1.1557779022072985, -0.727744455299941, 0.4782040528002768, -0.6197213069086959, 1.775528183886076, -1.4722901211034423, 0.5089895879395171, 1.1362057227381976, 0.2163217689984764, 1.0544547503433614], \"xaxis\": \"x14\", \"y\": [-0.35436219083694637, -1.013502751723658, -0.7292327921577556, -0.09309262719026408, -0.41110593494748554, 0.16604532245315753, 1.3683655712813747, -1.9152725078309527, -0.05174789358429129, 0.7978993837338012, -0.6443201424120104, -1.0890863271658004, 0.26427310894034084, -0.5159754781043415, 0.30786041376620854, 1.2580435868082198, -0.6966927232858101, -0.1816704223642784, -0.7907444980741134, -0.1361072560161668, 0.8023623771509054, -0.2379939293736548, -0.5754603382638555, 1.0240444959561954, -0.4197568954883138, -0.15686405274195983, -1.2660068301862717, -0.09273245967387625, 0.4568936780540992, -0.0884321878162847, 0.010460874864243644, 1.2053006143375258, 1.6339618104383413, 0.35978236157848964, 2.0011516356730668, 1.6754156470124884, -0.4670887358142812, -0.7017165007032741, -2.2547796392880373, 1.6822190923119495, -1.6277178566711121, 0.40933097272574753, -0.9243939243758164, -0.6624527300289607, -1.1715105124687846, 0.01638491102218486, -0.7798877838013948, 0.28180342801408714, -0.05964861793842602, 1.8923923101530173, 1.3188096301772692, 0.5138137093164855, 0.02838961888974531, -1.4359842845062605, 1.2290916503858846, -0.13273213257976044, 0.3000577762986384, -1.3208068617245192, 1.0305256250013348, 0.7426248780172283, -0.7076716949888867, -1.6057738932860781, -2.213910587692275, -1.972353554772055, -1.7297879441601323, -0.006405186034625153, -0.4719625253825586, -0.10345908019707348, 0.044235648530631784, -0.13472042008963067, -1.830431490663404, -0.9483993040118233, -0.4534379484068572, -0.7958733138734924, 1.8808608130207245, -0.23234708424105013, -0.34671527906493904, -2.0596731181007795, 0.6460380085217425, -0.9133269759341058, -1.0774321294457374, 0.4392178119616056, -0.21981055867337426, -0.5462871825156912, -0.7319311560493941, -0.8676452114985064, -1.1966070728425546, 0.967844201788307, 0.3724414286449778, 0.9856881106901605, 0.9054258178782889, -0.07212885469978308, -0.6420501704057415, -0.837754823198033, -0.7315121223136304, -0.6999732681944199, 0.005325252401586591, 1.004014137896582, 0.6065922115413797, 0.6331805787419147], \"yaxis\": \"y14\"}, {\"line\": {\"color\": \"rgba(128, 128, 128, 1.0)\", \"dash\": \"solid\", \"shape\": \"linear\", \"width\": 1.3}, \"marker\": {\"size\": 2, \"symbol\": \"circle\"}, \"mode\": \"markers\", \"name\": \"D\", \"text\": \"\", \"type\": \"scatter\", \"x\": [0.16586369391649003, -1.4796747778385209, 1.353882782073457, 0.6690403840694343, -0.6731449945372039, -0.4639434412690871, 0.1398903478420584, -0.13616605538047377, 0.6008855469250013, -0.7848926486896209, 2.15448974818836, -1.1366303271967941, 1.3457170525043274, -0.17286241460450932, -1.4202640203018966, 1.1458920281969234, 0.11741579107613459, -0.5523446755785217, -0.385670831515714, -0.7343121510552004, 2.3058888471219787, -0.7082705812461266, 0.9606258074845863, 0.7620209809459613, 1.227596624389157, -0.9155110248770371, -0.8778999106664441, -0.4069692113801471, 0.8565509276228673, -0.31130826481789986, 0.7259647114785005, -0.943249004760023, 0.9557241135762701, -0.5109182780887803, 0.26588855415850327, 0.783729819177189, 0.4265288393112757, -1.5107072300787645, -1.3354543451684608, -1.4377624388533194, 1.9103934202625568, 0.410358862929227, -2.4145148099145244, -0.8724711402738758, -0.35684353384457884, 1.218752123974974, -0.4324084960153836, -0.5927012514360849, -0.26766167380186007, -0.11861077967913622, -1.247380732043506, -1.5472176119168095, 1.3630331808086191, -0.4844994600332298, 1.2593898933078833, -0.7826988086844159, -0.03468140174155823, -1.1591768122282675, 0.5913001829779262, 0.3235330540953591, 0.5285887391369402, 1.812636284002745, -0.049029982321186064, 1.8749045267829207, -0.7549923802291525, -0.9556902480565279, -0.3256232716002783, 1.1943814511903086, -0.3882965400705218, 1.5074383920020515, 2.7006353446390996, -0.8612312678732079, -0.6032001138009844, 1.8725063480729862, 0.19287376909810464, -0.5664278599519131, 2.3616410309692624, 1.2860262977429453, 0.8219404204393114, -1.0306443825972005, -0.0024666046284393963, -0.5399799308358226, 0.8112294386617203, -0.160056732285508, 0.394771619078201, 3.9326340854457666, 1.2756886712677278, -1.9340487988166735, -2.406610600058228, 0.30003171069719137, -0.44497554975654857, 0.6661756157717057, 0.6882925549413913, -0.4485516080963447, 0.6830258037128837, -0.0031320649349308705, -0.4129255593693611, 0.48142864938863755, 0.8124623685513269, 0.9649362875117578], \"xaxis\": \"x15\", \"y\": [-0.35436219083694637, -1.013502751723658, -0.7292327921577556, -0.09309262719026408, -0.41110593494748554, 0.16604532245315753, 1.3683655712813747, -1.9152725078309527, -0.05174789358429129, 0.7978993837338012, -0.6443201424120104, -1.0890863271658004, 0.26427310894034084, -0.5159754781043415, 0.30786041376620854, 1.2580435868082198, -0.6966927232858101, -0.1816704223642784, -0.7907444980741134, -0.1361072560161668, 0.8023623771509054, -0.2379939293736548, -0.5754603382638555, 1.0240444959561954, -0.4197568954883138, -0.15686405274195983, -1.2660068301862717, -0.09273245967387625, 0.4568936780540992, -0.0884321878162847, 0.010460874864243644, 1.2053006143375258, 1.6339618104383413, 0.35978236157848964, 2.0011516356730668, 1.6754156470124884, -0.4670887358142812, -0.7017165007032741, -2.2547796392880373, 1.6822190923119495, -1.6277178566711121, 0.40933097272574753, -0.9243939243758164, -0.6624527300289607, -1.1715105124687846, 0.01638491102218486, -0.7798877838013948, 0.28180342801408714, -0.05964861793842602, 1.8923923101530173, 1.3188096301772692, 0.5138137093164855, 0.02838961888974531, -1.4359842845062605, 1.2290916503858846, -0.13273213257976044, 0.3000577762986384, -1.3208068617245192, 1.0305256250013348, 0.7426248780172283, -0.7076716949888867, -1.6057738932860781, -2.213910587692275, -1.972353554772055, -1.7297879441601323, -0.006405186034625153, -0.4719625253825586, -0.10345908019707348, 0.044235648530631784, -0.13472042008963067, -1.830431490663404, -0.9483993040118233, -0.4534379484068572, -0.7958733138734924, 1.8808608130207245, -0.23234708424105013, -0.34671527906493904, -2.0596731181007795, 0.6460380085217425, -0.9133269759341058, -1.0774321294457374, 0.4392178119616056, -0.21981055867337426, -0.5462871825156912, -0.7319311560493941, -0.8676452114985064, -1.1966070728425546, 0.967844201788307, 0.3724414286449778, 0.9856881106901605, 0.9054258178782889, -0.07212885469978308, -0.6420501704057415, -0.837754823198033, -0.7315121223136304, -0.6999732681944199, 0.005325252401586591, 1.004014137896582, 0.6065922115413797, 0.6331805787419147], \"yaxis\": \"y15\"}, {\"histfunc\": \"count\", \"histnorm\": \"\", \"marker\": {\"color\": \"rgba(128, 0, 128, 1.0)\", \"line\": {\"color\": \"#4D5663\", \"width\": 1.3}}, \"name\": \"D\", \"nbinsx\": 10, \"opacity\": 0.8, \"orientation\": \"v\", \"type\": \"histogram\", \"x\": [-0.35436219083694637, -1.013502751723658, -0.7292327921577556, -0.09309262719026408, -0.41110593494748554, 0.16604532245315753, 1.3683655712813747, -1.9152725078309527, -0.05174789358429129, 0.7978993837338012, -0.6443201424120104, -1.0890863271658004, 0.26427310894034084, -0.5159754781043415, 0.30786041376620854, 1.2580435868082198, -0.6966927232858101, -0.1816704223642784, -0.7907444980741134, -0.1361072560161668, 0.8023623771509054, -0.2379939293736548, -0.5754603382638555, 1.0240444959561954, -0.4197568954883138, -0.15686405274195983, -1.2660068301862717, -0.09273245967387625, 0.4568936780540992, -0.0884321878162847, 0.010460874864243644, 1.2053006143375258, 1.6339618104383413, 0.35978236157848964, 2.0011516356730668, 1.6754156470124884, -0.4670887358142812, -0.7017165007032741, -2.2547796392880373, 1.6822190923119495, -1.6277178566711121, 0.40933097272574753, -0.9243939243758164, -0.6624527300289607, -1.1715105124687846, 0.01638491102218486, -0.7798877838013948, 0.28180342801408714, -0.05964861793842602, 1.8923923101530173, 1.3188096301772692, 0.5138137093164855, 0.02838961888974531, -1.4359842845062605, 1.2290916503858846, -0.13273213257976044, 0.3000577762986384, -1.3208068617245192, 1.0305256250013348, 0.7426248780172283, -0.7076716949888867, -1.6057738932860781, -2.213910587692275, -1.972353554772055, -1.7297879441601323, -0.006405186034625153, -0.4719625253825586, -0.10345908019707348, 0.044235648530631784, -0.13472042008963067, -1.830431490663404, -0.9483993040118233, -0.4534379484068572, -0.7958733138734924, 1.8808608130207245, -0.23234708424105013, -0.34671527906493904, -2.0596731181007795, 0.6460380085217425, -0.9133269759341058, -1.0774321294457374, 0.4392178119616056, -0.21981055867337426, -0.5462871825156912, -0.7319311560493941, -0.8676452114985064, -1.1966070728425546, 0.967844201788307, 0.3724414286449778, 0.9856881106901605, 0.9054258178782889, -0.07212885469978308, -0.6420501704057415, -0.837754823198033, -0.7315121223136304, -0.6999732681944199, 0.005325252401586591, 1.004014137896582, 0.6065922115413797, 0.6331805787419147], \"xaxis\": \"x16\", \"yaxis\": \"y16\"}],\n",
       "                        {\"bargap\": 0.02, \"legend\": {\"bgcolor\": \"#F5F6F9\", \"font\": {\"color\": \"#4D5663\"}}, \"paper_bgcolor\": \"#F5F6F9\", \"plot_bgcolor\": \"#F5F6F9\", \"showlegend\": false, \"template\": {\"data\": {\"bar\": [{\"error_x\": {\"color\": \"#2a3f5f\"}, \"error_y\": {\"color\": \"#2a3f5f\"}, \"marker\": {\"line\": {\"color\": \"#E5ECF6\", \"width\": 0.5}}, \"type\": \"bar\"}], \"barpolar\": [{\"marker\": {\"line\": {\"color\": \"#E5ECF6\", \"width\": 0.5}}, \"type\": \"barpolar\"}], \"carpet\": [{\"aaxis\": {\"endlinecolor\": \"#2a3f5f\", \"gridcolor\": \"white\", \"linecolor\": \"white\", \"minorgridcolor\": \"white\", \"startlinecolor\": \"#2a3f5f\"}, \"baxis\": {\"endlinecolor\": \"#2a3f5f\", \"gridcolor\": \"white\", \"linecolor\": \"white\", \"minorgridcolor\": \"white\", \"startlinecolor\": \"#2a3f5f\"}, \"type\": \"carpet\"}], \"choropleth\": [{\"colorbar\": {\"outlinewidth\": 0, \"ticks\": \"\"}, \"type\": \"choropleth\"}], \"contour\": [{\"colorbar\": {\"outlinewidth\": 0, \"ticks\": \"\"}, \"colorscale\": [[0.0, \"#0d0887\"], [0.1111111111111111, \"#46039f\"], [0.2222222222222222, \"#7201a8\"], [0.3333333333333333, \"#9c179e\"], [0.4444444444444444, \"#bd3786\"], [0.5555555555555556, \"#d8576b\"], [0.6666666666666666, \"#ed7953\"], [0.7777777777777778, \"#fb9f3a\"], [0.8888888888888888, \"#fdca26\"], [1.0, \"#f0f921\"]], \"type\": \"contour\"}], \"contourcarpet\": [{\"colorbar\": {\"outlinewidth\": 0, \"ticks\": \"\"}, \"type\": \"contourcarpet\"}], \"heatmap\": [{\"colorbar\": {\"outlinewidth\": 0, \"ticks\": \"\"}, \"colorscale\": [[0.0, \"#0d0887\"], [0.1111111111111111, \"#46039f\"], [0.2222222222222222, \"#7201a8\"], [0.3333333333333333, \"#9c179e\"], [0.4444444444444444, \"#bd3786\"], [0.5555555555555556, \"#d8576b\"], [0.6666666666666666, \"#ed7953\"], [0.7777777777777778, \"#fb9f3a\"], [0.8888888888888888, \"#fdca26\"], [1.0, \"#f0f921\"]], \"type\": \"heatmap\"}], \"heatmapgl\": [{\"colorbar\": {\"outlinewidth\": 0, \"ticks\": \"\"}, \"colorscale\": [[0.0, \"#0d0887\"], [0.1111111111111111, \"#46039f\"], [0.2222222222222222, \"#7201a8\"], [0.3333333333333333, \"#9c179e\"], [0.4444444444444444, \"#bd3786\"], [0.5555555555555556, \"#d8576b\"], [0.6666666666666666, \"#ed7953\"], [0.7777777777777778, \"#fb9f3a\"], [0.8888888888888888, \"#fdca26\"], [1.0, \"#f0f921\"]], \"type\": \"heatmapgl\"}], \"histogram\": [{\"marker\": {\"colorbar\": {\"outlinewidth\": 0, \"ticks\": \"\"}}, \"type\": \"histogram\"}], \"histogram2d\": [{\"colorbar\": {\"outlinewidth\": 0, \"ticks\": \"\"}, \"colorscale\": [[0.0, \"#0d0887\"], [0.1111111111111111, \"#46039f\"], [0.2222222222222222, \"#7201a8\"], [0.3333333333333333, \"#9c179e\"], [0.4444444444444444, \"#bd3786\"], [0.5555555555555556, \"#d8576b\"], [0.6666666666666666, \"#ed7953\"], [0.7777777777777778, \"#fb9f3a\"], [0.8888888888888888, \"#fdca26\"], [1.0, \"#f0f921\"]], \"type\": \"histogram2d\"}], \"histogram2dcontour\": [{\"colorbar\": {\"outlinewidth\": 0, \"ticks\": \"\"}, \"colorscale\": [[0.0, \"#0d0887\"], [0.1111111111111111, \"#46039f\"], [0.2222222222222222, \"#7201a8\"], [0.3333333333333333, \"#9c179e\"], [0.4444444444444444, \"#bd3786\"], [0.5555555555555556, \"#d8576b\"], [0.6666666666666666, \"#ed7953\"], [0.7777777777777778, \"#fb9f3a\"], [0.8888888888888888, \"#fdca26\"], [1.0, \"#f0f921\"]], \"type\": \"histogram2dcontour\"}], \"mesh3d\": [{\"colorbar\": {\"outlinewidth\": 0, \"ticks\": \"\"}, \"type\": \"mesh3d\"}], \"parcoords\": [{\"line\": {\"colorbar\": {\"outlinewidth\": 0, \"ticks\": \"\"}}, \"type\": \"parcoords\"}], \"pie\": [{\"automargin\": true, \"type\": \"pie\"}], \"scatter\": [{\"marker\": {\"colorbar\": {\"outlinewidth\": 0, \"ticks\": \"\"}}, \"type\": \"scatter\"}], \"scatter3d\": [{\"line\": {\"colorbar\": {\"outlinewidth\": 0, \"ticks\": \"\"}}, \"marker\": {\"colorbar\": {\"outlinewidth\": 0, \"ticks\": \"\"}}, \"type\": \"scatter3d\"}], \"scattercarpet\": [{\"marker\": {\"colorbar\": {\"outlinewidth\": 0, \"ticks\": \"\"}}, \"type\": \"scattercarpet\"}], \"scattergeo\": [{\"marker\": {\"colorbar\": {\"outlinewidth\": 0, \"ticks\": \"\"}}, \"type\": \"scattergeo\"}], \"scattergl\": [{\"marker\": {\"colorbar\": {\"outlinewidth\": 0, \"ticks\": \"\"}}, \"type\": \"scattergl\"}], \"scattermapbox\": [{\"marker\": {\"colorbar\": {\"outlinewidth\": 0, \"ticks\": \"\"}}, \"type\": \"scattermapbox\"}], \"scatterpolar\": [{\"marker\": {\"colorbar\": {\"outlinewidth\": 0, \"ticks\": \"\"}}, \"type\": \"scatterpolar\"}], \"scatterpolargl\": [{\"marker\": {\"colorbar\": {\"outlinewidth\": 0, \"ticks\": \"\"}}, \"type\": \"scatterpolargl\"}], \"scatterternary\": [{\"marker\": {\"colorbar\": {\"outlinewidth\": 0, \"ticks\": \"\"}}, \"type\": \"scatterternary\"}], \"surface\": [{\"colorbar\": {\"outlinewidth\": 0, \"ticks\": \"\"}, \"colorscale\": [[0.0, \"#0d0887\"], [0.1111111111111111, \"#46039f\"], [0.2222222222222222, \"#7201a8\"], [0.3333333333333333, \"#9c179e\"], [0.4444444444444444, \"#bd3786\"], [0.5555555555555556, \"#d8576b\"], [0.6666666666666666, \"#ed7953\"], [0.7777777777777778, \"#fb9f3a\"], [0.8888888888888888, \"#fdca26\"], [1.0, \"#f0f921\"]], \"type\": \"surface\"}], \"table\": [{\"cells\": {\"fill\": {\"color\": \"#EBF0F8\"}, \"line\": {\"color\": \"white\"}}, \"header\": {\"fill\": {\"color\": \"#C8D4E3\"}, \"line\": {\"color\": \"white\"}}, \"type\": \"table\"}]}, \"layout\": {\"annotationdefaults\": {\"arrowcolor\": \"#2a3f5f\", \"arrowhead\": 0, \"arrowwidth\": 1}, \"coloraxis\": {\"colorbar\": {\"outlinewidth\": 0, \"ticks\": \"\"}}, \"colorscale\": {\"diverging\": [[0, \"#8e0152\"], [0.1, \"#c51b7d\"], [0.2, \"#de77ae\"], [0.3, \"#f1b6da\"], [0.4, \"#fde0ef\"], [0.5, \"#f7f7f7\"], [0.6, \"#e6f5d0\"], [0.7, \"#b8e186\"], [0.8, \"#7fbc41\"], [0.9, \"#4d9221\"], [1, \"#276419\"]], \"sequential\": [[0.0, \"#0d0887\"], [0.1111111111111111, \"#46039f\"], [0.2222222222222222, \"#7201a8\"], [0.3333333333333333, \"#9c179e\"], [0.4444444444444444, \"#bd3786\"], [0.5555555555555556, \"#d8576b\"], [0.6666666666666666, \"#ed7953\"], [0.7777777777777778, \"#fb9f3a\"], [0.8888888888888888, \"#fdca26\"], [1.0, \"#f0f921\"]], \"sequentialminus\": [[0.0, \"#0d0887\"], [0.1111111111111111, \"#46039f\"], [0.2222222222222222, \"#7201a8\"], [0.3333333333333333, \"#9c179e\"], [0.4444444444444444, \"#bd3786\"], [0.5555555555555556, \"#d8576b\"], [0.6666666666666666, \"#ed7953\"], [0.7777777777777778, \"#fb9f3a\"], [0.8888888888888888, \"#fdca26\"], [1.0, \"#f0f921\"]]}, \"colorway\": [\"#636efa\", \"#EF553B\", \"#00cc96\", \"#ab63fa\", \"#FFA15A\", \"#19d3f3\", \"#FF6692\", \"#B6E880\", \"#FF97FF\", \"#FECB52\"], \"font\": {\"color\": \"#2a3f5f\"}, \"geo\": {\"bgcolor\": \"white\", \"lakecolor\": \"white\", \"landcolor\": \"#E5ECF6\", \"showlakes\": true, \"showland\": true, \"subunitcolor\": \"white\"}, \"hoverlabel\": {\"align\": \"left\"}, \"hovermode\": \"closest\", \"mapbox\": {\"style\": \"light\"}, \"paper_bgcolor\": \"white\", \"plot_bgcolor\": \"#E5ECF6\", \"polar\": {\"angularaxis\": {\"gridcolor\": \"white\", \"linecolor\": \"white\", \"ticks\": \"\"}, \"bgcolor\": \"#E5ECF6\", \"radialaxis\": {\"gridcolor\": \"white\", \"linecolor\": \"white\", \"ticks\": \"\"}}, \"scene\": {\"xaxis\": {\"backgroundcolor\": \"#E5ECF6\", \"gridcolor\": \"white\", \"gridwidth\": 2, \"linecolor\": \"white\", \"showbackground\": true, \"ticks\": \"\", \"zerolinecolor\": \"white\"}, \"yaxis\": {\"backgroundcolor\": \"#E5ECF6\", \"gridcolor\": \"white\", \"gridwidth\": 2, \"linecolor\": \"white\", \"showbackground\": true, \"ticks\": \"\", \"zerolinecolor\": \"white\"}, \"zaxis\": {\"backgroundcolor\": \"#E5ECF6\", \"gridcolor\": \"white\", \"gridwidth\": 2, \"linecolor\": \"white\", \"showbackground\": true, \"ticks\": \"\", \"zerolinecolor\": \"white\"}}, \"shapedefaults\": {\"line\": {\"color\": \"#2a3f5f\"}}, \"ternary\": {\"aaxis\": {\"gridcolor\": \"white\", \"linecolor\": \"white\", \"ticks\": \"\"}, \"baxis\": {\"gridcolor\": \"white\", \"linecolor\": \"white\", \"ticks\": \"\"}, \"bgcolor\": \"#E5ECF6\", \"caxis\": {\"gridcolor\": \"white\", \"linecolor\": \"white\", \"ticks\": \"\"}}, \"title\": {\"x\": 0.05}, \"xaxis\": {\"automargin\": true, \"gridcolor\": \"white\", \"linecolor\": \"white\", \"ticks\": \"\", \"title\": {\"standoff\": 15}, \"zerolinecolor\": \"white\", \"zerolinewidth\": 2}, \"yaxis\": {\"automargin\": true, \"gridcolor\": \"white\", \"linecolor\": \"white\", \"ticks\": \"\", \"title\": {\"standoff\": 15}, \"zerolinecolor\": \"white\", \"zerolinewidth\": 2}}}, \"title\": {\"font\": {\"color\": \"#4D5663\"}}, \"xaxis\": {\"anchor\": \"y\", \"domain\": [0.0, 0.2125], \"gridcolor\": \"#E1E5ED\", \"showgrid\": false, \"tickfont\": {\"color\": \"#4D5663\"}, \"title\": {\"font\": {\"color\": \"#4D5663\"}, \"text\": \"\"}, \"zerolinecolor\": \"#E1E5ED\"}, \"xaxis10\": {\"anchor\": \"y10\", \"domain\": [0.2625, 0.475], \"gridcolor\": \"#E1E5ED\", \"showgrid\": false, \"tickfont\": {\"color\": \"#4D5663\"}, \"title\": {\"font\": {\"color\": \"#4D5663\"}, \"text\": \"\"}, \"zerolinecolor\": \"#E1E5ED\"}, \"xaxis11\": {\"anchor\": \"y11\", \"domain\": [0.525, 0.7375], \"gridcolor\": \"#E1E5ED\", \"showgrid\": false, \"tickfont\": {\"color\": \"#4D5663\"}, \"title\": {\"font\": {\"color\": \"#4D5663\"}, \"text\": \"\"}, \"zerolinecolor\": \"#E1E5ED\"}, \"xaxis12\": {\"anchor\": \"y12\", \"domain\": [0.7875, 1.0], \"gridcolor\": \"#E1E5ED\", \"showgrid\": false, \"tickfont\": {\"color\": \"#4D5663\"}, \"title\": {\"font\": {\"color\": \"#4D5663\"}, \"text\": \"\"}, \"zerolinecolor\": \"#E1E5ED\"}, \"xaxis13\": {\"anchor\": \"y13\", \"domain\": [0.0, 0.2125], \"gridcolor\": \"#E1E5ED\", \"showgrid\": false, \"tickfont\": {\"color\": \"#4D5663\"}, \"title\": {\"font\": {\"color\": \"#4D5663\"}, \"text\": \"\"}, \"zerolinecolor\": \"#E1E5ED\"}, \"xaxis14\": {\"anchor\": \"y14\", \"domain\": [0.2625, 0.475], \"gridcolor\": \"#E1E5ED\", \"showgrid\": false, \"tickfont\": {\"color\": \"#4D5663\"}, \"title\": {\"font\": {\"color\": \"#4D5663\"}, \"text\": \"\"}, \"zerolinecolor\": \"#E1E5ED\"}, \"xaxis15\": {\"anchor\": \"y15\", \"domain\": [0.525, 0.7375], \"gridcolor\": \"#E1E5ED\", \"showgrid\": false, \"tickfont\": {\"color\": \"#4D5663\"}, \"title\": {\"font\": {\"color\": \"#4D5663\"}, \"text\": \"\"}, \"zerolinecolor\": \"#E1E5ED\"}, \"xaxis16\": {\"anchor\": \"y16\", \"domain\": [0.7875, 1.0], \"gridcolor\": \"#E1E5ED\", \"showgrid\": false, \"tickfont\": {\"color\": \"#4D5663\"}, \"title\": {\"font\": {\"color\": \"#4D5663\"}, \"text\": \"\"}, \"zerolinecolor\": \"#E1E5ED\"}, \"xaxis2\": {\"anchor\": \"y2\", \"domain\": [0.2625, 0.475], \"gridcolor\": \"#E1E5ED\", \"showgrid\": false, \"tickfont\": {\"color\": \"#4D5663\"}, \"title\": {\"font\": {\"color\": \"#4D5663\"}, \"text\": \"\"}, \"zerolinecolor\": \"#E1E5ED\"}, \"xaxis3\": {\"anchor\": \"y3\", \"domain\": [0.525, 0.7375], \"gridcolor\": \"#E1E5ED\", \"showgrid\": false, \"tickfont\": {\"color\": \"#4D5663\"}, \"title\": {\"font\": {\"color\": \"#4D5663\"}, \"text\": \"\"}, \"zerolinecolor\": \"#E1E5ED\"}, \"xaxis4\": {\"anchor\": \"y4\", \"domain\": [0.7875, 1.0], \"gridcolor\": \"#E1E5ED\", \"showgrid\": false, \"tickfont\": {\"color\": \"#4D5663\"}, \"title\": {\"font\": {\"color\": \"#4D5663\"}, \"text\": \"\"}, \"zerolinecolor\": \"#E1E5ED\"}, \"xaxis5\": {\"anchor\": \"y5\", \"domain\": [0.0, 0.2125], \"gridcolor\": \"#E1E5ED\", \"showgrid\": false, \"tickfont\": {\"color\": \"#4D5663\"}, \"title\": {\"font\": {\"color\": \"#4D5663\"}, \"text\": \"\"}, \"zerolinecolor\": \"#E1E5ED\"}, \"xaxis6\": {\"anchor\": \"y6\", \"domain\": [0.2625, 0.475], \"gridcolor\": \"#E1E5ED\", \"showgrid\": false, \"tickfont\": {\"color\": \"#4D5663\"}, \"title\": {\"font\": {\"color\": \"#4D5663\"}, \"text\": \"\"}, \"zerolinecolor\": \"#E1E5ED\"}, \"xaxis7\": {\"anchor\": \"y7\", \"domain\": [0.525, 0.7375], \"gridcolor\": \"#E1E5ED\", \"showgrid\": false, \"tickfont\": {\"color\": \"#4D5663\"}, \"title\": {\"font\": {\"color\": \"#4D5663\"}, \"text\": \"\"}, \"zerolinecolor\": \"#E1E5ED\"}, \"xaxis8\": {\"anchor\": \"y8\", \"domain\": [0.7875, 1.0], \"gridcolor\": \"#E1E5ED\", \"showgrid\": false, \"tickfont\": {\"color\": \"#4D5663\"}, \"title\": {\"font\": {\"color\": \"#4D5663\"}, \"text\": \"\"}, \"zerolinecolor\": \"#E1E5ED\"}, \"xaxis9\": {\"anchor\": \"y9\", \"domain\": [0.0, 0.2125], \"gridcolor\": \"#E1E5ED\", \"showgrid\": false, \"tickfont\": {\"color\": \"#4D5663\"}, \"title\": {\"font\": {\"color\": \"#4D5663\"}, \"text\": \"\"}, \"zerolinecolor\": \"#E1E5ED\"}, \"yaxis\": {\"anchor\": \"x\", \"domain\": [0.8025, 1.0], \"gridcolor\": \"#E1E5ED\", \"showgrid\": false, \"tickfont\": {\"color\": \"#4D5663\"}, \"title\": {\"font\": {\"color\": \"#4D5663\"}, \"text\": \"\"}, \"zerolinecolor\": \"#E1E5ED\"}, \"yaxis10\": {\"anchor\": \"x10\", \"domain\": [0.2675, 0.465], \"gridcolor\": \"#E1E5ED\", \"showgrid\": false, \"tickfont\": {\"color\": \"#4D5663\"}, \"title\": {\"font\": {\"color\": \"#4D5663\"}, \"text\": \"\"}, \"zerolinecolor\": \"#E1E5ED\"}, \"yaxis11\": {\"anchor\": \"x11\", \"domain\": [0.2675, 0.465], \"gridcolor\": \"#E1E5ED\", \"showgrid\": false, \"tickfont\": {\"color\": \"#4D5663\"}, \"title\": {\"font\": {\"color\": \"#4D5663\"}, \"text\": \"\"}, \"zerolinecolor\": \"#E1E5ED\"}, \"yaxis12\": {\"anchor\": \"x12\", \"domain\": [0.2675, 0.465], \"gridcolor\": \"#E1E5ED\", \"showgrid\": false, \"tickfont\": {\"color\": \"#4D5663\"}, \"title\": {\"font\": {\"color\": \"#4D5663\"}, \"text\": \"\"}, \"zerolinecolor\": \"#E1E5ED\"}, \"yaxis13\": {\"anchor\": \"x13\", \"domain\": [0.0, 0.1975], \"gridcolor\": \"#E1E5ED\", \"showgrid\": false, \"tickfont\": {\"color\": \"#4D5663\"}, \"title\": {\"font\": {\"color\": \"#4D5663\"}, \"text\": \"\"}, \"zerolinecolor\": \"#E1E5ED\"}, \"yaxis14\": {\"anchor\": \"x14\", \"domain\": [0.0, 0.1975], \"gridcolor\": \"#E1E5ED\", \"showgrid\": false, \"tickfont\": {\"color\": \"#4D5663\"}, \"title\": {\"font\": {\"color\": \"#4D5663\"}, \"text\": \"\"}, \"zerolinecolor\": \"#E1E5ED\"}, \"yaxis15\": {\"anchor\": \"x15\", \"domain\": [0.0, 0.1975], \"gridcolor\": \"#E1E5ED\", \"showgrid\": false, \"tickfont\": {\"color\": \"#4D5663\"}, \"title\": {\"font\": {\"color\": \"#4D5663\"}, \"text\": \"\"}, \"zerolinecolor\": \"#E1E5ED\"}, \"yaxis16\": {\"anchor\": \"x16\", \"domain\": [0.0, 0.1975], \"gridcolor\": \"#E1E5ED\", \"showgrid\": false, \"tickfont\": {\"color\": \"#4D5663\"}, \"title\": {\"font\": {\"color\": \"#4D5663\"}, \"text\": \"\"}, \"zerolinecolor\": \"#E1E5ED\"}, \"yaxis2\": {\"anchor\": \"x2\", \"domain\": [0.8025, 1.0], \"gridcolor\": \"#E1E5ED\", \"showgrid\": false, \"tickfont\": {\"color\": \"#4D5663\"}, \"title\": {\"font\": {\"color\": \"#4D5663\"}, \"text\": \"\"}, \"zerolinecolor\": \"#E1E5ED\"}, \"yaxis3\": {\"anchor\": \"x3\", \"domain\": [0.8025, 1.0], \"gridcolor\": \"#E1E5ED\", \"showgrid\": false, \"tickfont\": {\"color\": \"#4D5663\"}, \"title\": {\"font\": {\"color\": \"#4D5663\"}, \"text\": \"\"}, \"zerolinecolor\": \"#E1E5ED\"}, \"yaxis4\": {\"anchor\": \"x4\", \"domain\": [0.8025, 1.0], \"gridcolor\": \"#E1E5ED\", \"showgrid\": false, \"tickfont\": {\"color\": \"#4D5663\"}, \"title\": {\"font\": {\"color\": \"#4D5663\"}, \"text\": \"\"}, \"zerolinecolor\": \"#E1E5ED\"}, \"yaxis5\": {\"anchor\": \"x5\", \"domain\": [0.535, 0.7325], \"gridcolor\": \"#E1E5ED\", \"showgrid\": false, \"tickfont\": {\"color\": \"#4D5663\"}, \"title\": {\"font\": {\"color\": \"#4D5663\"}, \"text\": \"\"}, \"zerolinecolor\": \"#E1E5ED\"}, \"yaxis6\": {\"anchor\": \"x6\", \"domain\": [0.535, 0.7325], \"gridcolor\": \"#E1E5ED\", \"showgrid\": false, \"tickfont\": {\"color\": \"#4D5663\"}, \"title\": {\"font\": {\"color\": \"#4D5663\"}, \"text\": \"\"}, \"zerolinecolor\": \"#E1E5ED\"}, \"yaxis7\": {\"anchor\": \"x7\", \"domain\": [0.535, 0.7325], \"gridcolor\": \"#E1E5ED\", \"showgrid\": false, \"tickfont\": {\"color\": \"#4D5663\"}, \"title\": {\"font\": {\"color\": \"#4D5663\"}, \"text\": \"\"}, \"zerolinecolor\": \"#E1E5ED\"}, \"yaxis8\": {\"anchor\": \"x8\", \"domain\": [0.535, 0.7325], \"gridcolor\": \"#E1E5ED\", \"showgrid\": false, \"tickfont\": {\"color\": \"#4D5663\"}, \"title\": {\"font\": {\"color\": \"#4D5663\"}, \"text\": \"\"}, \"zerolinecolor\": \"#E1E5ED\"}, \"yaxis9\": {\"anchor\": \"x9\", \"domain\": [0.2675, 0.465], \"gridcolor\": \"#E1E5ED\", \"showgrid\": false, \"tickfont\": {\"color\": \"#4D5663\"}, \"title\": {\"font\": {\"color\": \"#4D5663\"}, \"text\": \"\"}, \"zerolinecolor\": \"#E1E5ED\"}},\n",
       "                        {\"showLink\": true, \"linkText\": \"Export to plot.ly\", \"plotlyServerURL\": \"https://plot.ly\", \"responsive\": true}\n",
       "                    ).then(function(){\n",
       "                            \n",
       "var gd = document.getElementById('85547605-18a6-41cf-aebf-6ec9d160ef01');\n",
       "var x = new MutationObserver(function (mutations, observer) {{\n",
       "        var display = window.getComputedStyle(gd).display;\n",
       "        if (!display || display === 'none') {{\n",
       "            console.log([gd, 'removed!']);\n",
       "            Plotly.purge(gd);\n",
       "            observer.disconnect();\n",
       "        }}\n",
       "}});\n",
       "\n",
       "// Listen for the removal of the full notebook cells\n",
       "var notebookContainer = gd.closest('#notebook-container');\n",
       "if (notebookContainer) {{\n",
       "    x.observe(notebookContainer, {childList: true});\n",
       "}}\n",
       "\n",
       "// Listen for the clearing of the current output cell\n",
       "var outputEl = gd.closest('.output');\n",
       "if (outputEl) {{\n",
       "    x.observe(outputEl, {childList: true});\n",
       "}}\n",
       "\n",
       "                        })\n",
       "                };\n",
       "                });\n",
       "            </script>\n",
       "        </div>"
      ]
     },
     "metadata": {},
     "output_type": "display_data"
    }
   ],
   "source": [
    "df.scatter_matrix()"
   ]
  },
  {
   "cell_type": "markdown",
   "metadata": {
    "collapsed": true
   },
   "source": [
    "# Great Job!"
   ]
  }
 ],
 "metadata": {
  "kernelspec": {
   "display_name": "Python 3",
   "language": "python",
   "name": "python3"
  },
  "language_info": {
   "codemirror_mode": {
    "name": "ipython",
    "version": 3
   },
   "file_extension": ".py",
   "mimetype": "text/x-python",
   "name": "python",
   "nbconvert_exporter": "python",
   "pygments_lexer": "ipython3",
   "version": "3.7.6"
  }
 },
 "nbformat": 4,
 "nbformat_minor": 1
}
